{
  "nbformat": 4,
  "nbformat_minor": 0,
  "metadata": {
    "colab": {
      "provenance": [],
      "gpuType": "T4",
      "authorship_tag": "ABX9TyNuiWzJq4MysPWcNxNBS0h1"
    },
    "kernelspec": {
      "name": "python3",
      "display_name": "Python 3"
    },
    "language_info": {
      "name": "python"
    },
    "accelerator": "GPU",
    "gpuClass": "standard"
  },
  "cells": [
    {
      "cell_type": "code",
      "execution_count": 1,
      "metadata": {
        "id": "NqJk8bxwSiwm"
      },
      "outputs": [],
      "source": [
        "# Imports\n",
        "from random import randint, sample, uniform, choice, choices\n",
        "from operator import attrgetter\n",
        "from copy import deepcopy\n",
        "from tqdm import tqdm # Python library that produces a progress bar\n",
        "import random\n",
        "\n",
        "import numpy as np\n",
        "from tensorflow.keras import Sequential, layers\n",
        "import os\n",
        "import csv\n",
        "\n",
        "random.seed(1234)  # Ensuring reproducibility of the results\n",
        "\n",
        "# Defining parameters for Image Classification problem\n",
        "INPUT_SIZE = 28 * 28\n",
        "HIDDEN_SIZE = 512\n",
        "OUTPUT_SIZE = 10\n",
        "ACTIVATION_1 = \"relu\"\n",
        "ACTIVATION_2 = \"softmax\"\n",
        "ACCURACY = 'categorical_accuracy'"
      ]
    },
    {
      "cell_type": "code",
      "source": [
        "from tensorflow.keras.datasets import mnist\n",
        "\n",
        "# Load MNIST image datasets and labels\n",
        "(train_images, train_labels), (test_images, test_labels) = mnist.load_data()\n",
        "\n",
        "# Reshape and normalize the input images\n",
        "train_images = train_images.reshape(-1, 784) / 255.0\n",
        "test_images = test_images.reshape(-1, 784) / 255.0"
      ],
      "metadata": {
        "id": "zV7UbxQGSr8X"
      },
      "execution_count": 2,
      "outputs": []
    },
    {
      "cell_type": "code",
      "source": [
        "#######################################\n",
        "## Individual and Population Classes ##\n",
        "#######################################\n",
        "\n",
        "class Individual: # Class defining an individual for the Genetic Algorithm\n",
        "    # Each individual is characterized by a set of weights (representing a neural network's weights),\n",
        "    # the number of input/hidden/output neurons (the neural network has 1 hidden layer)\n",
        "    # and has a fitness score which is intended to be determined by the external function in mnist.py (get_fitness)\n",
        "    def __init__( # Constructor method that gets called upon creation of a new instance of the class\n",
        "            self,\n",
        "            representation=None,\n",
        "            input=None,\n",
        "            hidden=None,\n",
        "            output=None,\n",
        "            valid_range=[]\n",
        "    ):\n",
        "        if representation is None: # If no representation is provided, generate random weights in the given valid_range\n",
        "            size = input * hidden + hidden + hidden * output + output\n",
        "            random_weights = [random.uniform(valid_range[0], valid_range[1]) for _ in range(size)]\n",
        "            self.representation = {\n",
        "                \"weights\": random_weights,\n",
        "                \"input\": input,\n",
        "                \"hidden\": hidden,\n",
        "                \"output\": output\n",
        "            }\n",
        "        else: # If representation is provided, assign it directly\n",
        "            self.representation = representation\n",
        "        self.fitness = self.get_fitness()\n",
        "        self.test_fitness = self.get_test_fitness()\n",
        "        \n",
        "\n",
        "    def get_fitness(self): # Fitness function evaluates the quality or performance of an individual solution\n",
        "        \"\"\"Method to calculate Fitness for MNIST image classification problem.\n",
        "\n",
        "        Note:\n",
        "            This function is intended to be monkey patched as the 'get_fitness' method into Individual class.\n",
        "        Returns:\n",
        "            float: Accuracy computed for a given instance of Individual class.\n",
        "            In case of MNIST image classification, this function returns categorical_accuracy\n",
        "            calculated on the training dataset (60,000 handwritten digits).\n",
        "        \"\"\"\n",
        "        input = self.representation[\"input\"]\n",
        "        hidden = self.representation[\"hidden\"]\n",
        "        output = self.representation[\"output\"]\n",
        "\n",
        "        # Defining the architecture of a neural network\n",
        "        nn = Sequential([\n",
        "            layers.Dense(hidden, activation=ACTIVATION_1, input_shape=(input,)),\n",
        "            layers.Dense(output, activation=ACTIVATION_2)\n",
        "        ])\n",
        "\n",
        "        current_weights = np.array(self.representation[\"weights\"])\n",
        "        weights_1 = current_weights[:input * hidden].reshape(input, hidden)\n",
        "        biases_1 = current_weights[input * hidden:input * hidden + hidden].reshape(hidden, )\n",
        "        weights_2 = current_weights[input * hidden + hidden:input * hidden + hidden + hidden * output].reshape(hidden, output)\n",
        "        biases_2 = current_weights[input * hidden + hidden + hidden * output:].reshape(output, )\n",
        "\n",
        "        # Setting the weights of the model\n",
        "        nn.set_weights([weights_1, biases_1, weights_2, biases_2])\n",
        "\n",
        "        # Compiling the model\n",
        "        nn.compile(metrics=[ACCURACY])\n",
        "\n",
        "        # Evaluating the model on training dataset\n",
        "        train_loss, train_acc = nn.evaluate(train_images, train_labels, verbose=0)\n",
        "        return train_acc\n",
        "\n",
        "    def get_test_fitness(self): # Fitness function evaluates the quality or performance of an individual solution\n",
        "        \"\"\"Method to calculate Fitness for MNIST image classification problem.\n",
        "\n",
        "        Note:\n",
        "            This function is intended to be monkey patched as the 'get_fitness' method into Individual class.\n",
        "        Returns:\n",
        "            float: Accuracy computed for a given instance of Individual class.\n",
        "            In case of MNIST image classification, this function returns categorical_accuracy\n",
        "            calculated on the training dataset (60,000 handwritten digits).\n",
        "        \"\"\"\n",
        "        input = self.representation[\"input\"]\n",
        "        hidden = self.representation[\"hidden\"]\n",
        "        output = self.representation[\"output\"]\n",
        "\n",
        "        # Defining the architecture of a neural network\n",
        "        nn = Sequential([\n",
        "            layers.Dense(hidden, activation=ACTIVATION_1, input_shape=(input,)),\n",
        "            layers.Dense(output, activation=ACTIVATION_2)\n",
        "        ])\n",
        "\n",
        "        current_weights = np.array(self.representation[\"weights\"])\n",
        "        weights_1 = current_weights[:input * hidden].reshape(input, hidden)\n",
        "        biases_1 = current_weights[input * hidden:input * hidden + hidden].reshape(hidden, )\n",
        "        weights_2 = current_weights[input * hidden + hidden:input * hidden + hidden + hidden * output].reshape(hidden, output)\n",
        "        biases_2 = current_weights[input * hidden + hidden + hidden * output:].reshape(output, )\n",
        "\n",
        "        # Setting the weights of the model\n",
        "        nn.set_weights([weights_1, biases_1, weights_2, biases_2])\n",
        "\n",
        "        # Compiling the model\n",
        "        nn.compile(metrics=[ACCURACY])\n",
        "\n",
        "        # Evaluating the model on training dataset\n",
        "        test_loss, test_acc = nn.evaluate(test_images, test_labels, verbose=0)\n",
        "        return test_acc\n",
        "\n",
        "\n",
        "    def index(self, value): # Returns the index of the provided value in the weights of the representation\n",
        "        return self.representation[\"weights\"].index(value)\n",
        "\n",
        "    def __len__(self): # Returns the length of the weights in the representation\n",
        "        return len(self.representation[\"weights\"])\n",
        "\n",
        "    def __getitem__(self, position): # Returns the value of the weight at the specified position\n",
        "        return self.representation[\"weights\"][position]\n",
        "\n",
        "    def __setitem__(self, position, value): # Sets the weight at the specified position to the provided value\n",
        "        self.representation[\"weights\"][position] = value\n",
        "\n",
        "    def __repr__(self): # Returns a string representation of the object, called whenever the object is printed\n",
        "        # In this case, the returned string contains details about the individual and its fitness\n",
        "        representation_print = str(self.representation[\"input\"])+\", \" + str(self.representation[\"hidden\"])+\", \" + str(self.representation[\"output\"])\n",
        "        return f\"\\nIndividual: {representation_print}; Fitness: {self.fitness}; Test_fitness: {self.test_fitness};\"\n",
        "\n",
        "\n",
        "\n",
        "class Population: # Class defining Population of individuals in Genetic Algorithm\n",
        "    def __init__(self, size, optim, **kwargs):\n",
        "        print(\"Generating initial population...\")\n",
        "        self.individuals = []\n",
        "        self.size = size # initial population size is determined by the parameter size\n",
        "        self.optim = optim # parameter to determine whether an optimization problem is maximization or minimization\n",
        "        for _ in tqdm(range(size)):\n",
        "            self.individuals.append(\n",
        "                Individual( # **kwargs is used to pass the parameters to the Individual class to initialize each individual\n",
        "                    input=kwargs[\"sol_input\"],\n",
        "                    hidden=kwargs[\"sol_hidden\"],\n",
        "                    output=kwargs[\"sol_output\"],\n",
        "                    valid_range=kwargs[\"valid_range\"],\n",
        "                )\n",
        "            )\n",
        "\n",
        "    def evolve(self, gens, select, crossover, mutate, xo_prob, mut_prob, elitism, **kwargs):\n",
        "        \"\"\"\n",
        "        Method to evolve the population for a given number of generations,\n",
        "        with a given selection method, crossover, mutation, and elitism.\n",
        "\n",
        "        Args:\n",
        "            gens (int): The number of generations to evolve the population for\n",
        "            select (func): The selection method to use\n",
        "            crossover (func): The crossover method to use\n",
        "            mutate (func): The mutation method to use\n",
        "            xo_prob (float): Crossover probability\n",
        "            mut_prob (float): Mutation probability\n",
        "            elitism (bool): Whether to use elitism\n",
        "            **kwargs: Optionally, may contain 'tourn_size' (int), when selection is 'tournament_sel'.\n",
        "\n",
        "        Returns:\n",
        "            (list): The list of the best fitness values got for each generation during evolution.\n",
        "            The length of the list is equal to 'gens' - number of generations.\n",
        "        \"\"\"\n",
        "\n",
        "        best_fitness_lst = []  # list to store the best fitness for each generation\n",
        "        test_fitness_lst = []\n",
        "\n",
        "        for i in tqdm(range(gens)):\n",
        "            # Printing out the current generation number each time a new generation starts\n",
        "            print(\"Starting Generation \", i + 1, \"...\")\n",
        "            new_pop = [] # at the beginning of each generation, new population is empty\n",
        "\n",
        "            if elitism:\n",
        "                if self.optim == \"max\":\n",
        "                    elite = deepcopy(max(self.individuals, key=attrgetter(\"fitness\")))\n",
        "                elif self.optim == \"min\":\n",
        "                    elite = deepcopy(min(self.individuals, key=attrgetter(\"fitness\")))\n",
        "\n",
        "            while len(new_pop) < self.size: # generate new individuals until the population size is reached\n",
        "                # Selection\n",
        "                if (select.__name__ == 'tournament_sel') and ('tourn_size' in kwargs):\n",
        "                    parent1, parent2 = select(self, kwargs['tourn_size']), select(self, kwargs['tourn_size'])\n",
        "                else:\n",
        "                    parent1, parent2 = select(self), select(self)\n",
        "\n",
        "                # Crossover\n",
        "                if random.random() < xo_prob:\n",
        "                    offspring1, offspring2 = crossover(parent1, parent2)\n",
        "                else:\n",
        "                    offspring1, offspring2 = parent1, parent2\n",
        "\n",
        "                # Mutation\n",
        "                if random.random() < mut_prob:\n",
        "                    offspring1 = mutate(offspring1)\n",
        "                if random.random() < mut_prob:\n",
        "                    offspring2 = mutate(offspring2)\n",
        "\n",
        "                # The new individuals are of the same architecture (input, hidden, and output) as their parents\n",
        "                new_pop.append(Individual(representation={\n",
        "                    \"weights\": offspring1,\n",
        "                    \"input\": parent1.representation[\"input\"],\n",
        "                    \"hidden\": parent1.representation[\"hidden\"],\n",
        "                    \"output\": parent1.representation[\"output\"],\n",
        "                }))\n",
        "                if len(new_pop) < self.size:\n",
        "                    new_pop.append(Individual(representation={\n",
        "                        \"weights\": offspring2,\n",
        "                        \"input\": parent1.representation[\"input\"],\n",
        "                        \"hidden\": parent1.representation[\"hidden\"],\n",
        "                        \"output\": parent1.representation[\"output\"],\n",
        "                    }))\n",
        "\n",
        "            # If elitism is enabled, the worst individual in the new population is replaced with\n",
        "            # the elite individual from the old population.\n",
        "            # This ensures that the best solution is not lost during evolution.\n",
        "            if elitism:\n",
        "                if self.optim == \"max\":\n",
        "                    worst = min(new_pop, key=attrgetter(\"fitness\"))\n",
        "                    if elite.fitness > worst.fitness:\n",
        "                        new_pop.pop(new_pop.index(worst))\n",
        "                        new_pop.append(elite)\n",
        "\n",
        "                elif self.optim == \"min\":\n",
        "                    worst = max(new_pop, key=attrgetter(\"fitness\"))\n",
        "                    if elite.fitness < worst.fitness:\n",
        "                        new_pop.pop(new_pop.index(worst))\n",
        "                        new_pop.append(elite)\n",
        "\n",
        "            # Replacing the population with the new one - completing the transition to the next generation\n",
        "            self.individuals = new_pop\n",
        "\n",
        "            # Finding the best individual in generation\n",
        "            if self.optim == \"max\":\n",
        "                best_individual = max(self, key=attrgetter(\"fitness\"))\n",
        "            elif self.optim == \"min\":\n",
        "                best_individual = min(self, key=attrgetter(\"fitness\"))\n",
        "\n",
        "            # Printing out information about the best individual\n",
        "            print(f'Best Individual in Generation {i + 1}: {best_individual}')\n",
        "\n",
        "            # Appending the list of the best fitness values that will be returned once evolution ends\n",
        "            best_fitness_lst.append(best_individual.fitness)\n",
        "            test_fitness_lst.append(best_individual.fitness)\n",
        "\n",
        "        return best_fitness_lst\n",
        "\n",
        "    def __len__(self): # Returns the number of individuals in the population\n",
        "        return len(self.individuals)\n",
        "\n",
        "    def __getitem__(self, position): # Returns an individual at the given position in the population\n",
        "        return self.individuals[position]\n"
      ],
      "metadata": {
        "id": "Rmv7iAwqSyRQ"
      },
      "execution_count": 3,
      "outputs": []
    },
    {
      "cell_type": "code",
      "source": [
        "###############\n",
        "## Selection ##\n",
        "###############\n",
        "def tournament_sel(population, tourn_size=4):\n",
        "    \"\"\"Tournament selection implementation.\n",
        "\n",
        "    Args:\n",
        "        population (Population): The population we want to select from.\n",
        "        tourn_size (int): Size of the tournament.\n",
        "\n",
        "    Returns:\n",
        "        Individual: The best individual in the tournament.\n",
        "    \"\"\"\n",
        "    # Select individuals based on tournament size\n",
        "    # with choice, there is a possibility of repetition in the choices,\n",
        "    # so every individual has a chance of getting selected\n",
        "    tournament = [choice(population.individuals) for _ in range(tourn_size)]\n",
        "\n",
        "    # with sample, there is no repetition of choices\n",
        "    # tournament = sample(population.individuals, size)\n",
        "    if population.optim == \"max\":\n",
        "        return max(tournament, key=attrgetter(\"fitness\"))\n",
        "    if population.optim == \"min\":\n",
        "        return min(tournament, key=attrgetter(\"fitness\"))\n"
      ],
      "metadata": {
        "id": "wNg-lYu6S6qc"
      },
      "execution_count": 4,
      "outputs": []
    },
    {
      "cell_type": "code",
      "source": [
        "###############\n",
        "## Crossover ##\n",
        "###############\n",
        "def uniform_xo(p1, p2):\n",
        "    \"\"\" Implementation of uniform crossover.\n",
        "    Each gene in the parent, by random choice, decides if it will be swapped.\n",
        "    This is done by generating a random binary mask of 1s and 0s, where a 1 indicates the gene will be swapped and a 0 - will not.\n",
        "    Therefore, it is necessary to iterate over every gene and decide whether to swap it.\n",
        "\n",
        "    Args:\n",
        "        p1 (Individual): First parent for crossover.\n",
        "        p2 (Individual): Second parent for crossover.\n",
        "\n",
        "    Returns:\n",
        "        Individuals: Two offspring, resulting from the crossover.\n",
        "    \"\"\"\n",
        "    mask = choices([0, 1], k=len(p1))  # random binary mask\n",
        "    offspring1, offspring2 = p1[:], p2[:]  # copies of parents\n",
        "    for i in range(len(p1)):\n",
        "        if mask[i] == 1:  # if the mask at position i is 1, swap the genes at position i\n",
        "            offspring1[i], offspring2[i] = offspring2[i], offspring1[i]\n",
        "    return offspring1, offspring2\n"
      ],
      "metadata": {
        "id": "IbwbSRTATExw"
      },
      "execution_count": 5,
      "outputs": []
    },
    {
      "cell_type": "code",
      "source": [
        "##############\n",
        "## Mutation ##\n",
        "##############\n",
        "def arithmetic_mutation(individual, lower_bound=-0.1, upper_bound=0.1):\n",
        "    \"\"\"Arithmetic mutation for a GA individual. Each gene is altered by a random value.\n",
        "\n",
        "    Args:\n",
        "        individual (Individual): A GA individual\n",
        "        lower_bound (float): The lower bound for the random value\n",
        "        upper_bound (float): The upper bound for the random value\n",
        "\n",
        "    Returns:\n",
        "        Individual: Mutated Individual\n",
        "    \"\"\"\n",
        "    for i in range(len(individual)):\n",
        "        # Generating and adding a random value to the gene\n",
        "        mutation_value = random.uniform(lower_bound, upper_bound)\n",
        "        individual[i] += mutation_value\n",
        "\n",
        "        # Ensure the gene is within the desired range\n",
        "        individual[i] = max(min(individual[i], 1.0), -1.0)\n",
        "\n",
        "    return individual\n"
      ],
      "metadata": {
        "id": "w2KuTBEPTHcW"
      },
      "execution_count": 6,
      "outputs": []
    },
    {
      "cell_type": "code",
      "source": [
        "def run_evolution(runs, pop_size, gens, select, crossover, mutate, xo_prob, mut_prob, elitism, output_file, **kwargs):\n",
        "    \"\"\"\n",
        "    Function to perform a certain number of runs for the evolution algorithm of specific configuration.\n",
        "    During the function execution, details about the best fitness values for each generation are printed out\n",
        "    and progress bars are shown to track iterations.\n",
        "    Upon each run completion, the results are appended into 'output_file'.\n",
        "\n",
        "    Args:\n",
        "        runs (int): Number of runs to perform evolution algorithm with the specified parameters\n",
        "        pop_size (int): Population size\n",
        "        gens (int): The number of generations to evolve the population for\n",
        "        select (func): The selection method to use\n",
        "        crossover (func): The crossover method to use\n",
        "        mutate (func): The mutation method to use\n",
        "        xo_prob (float): Crossover probability\n",
        "        mut_prob (float): Mutation probability\n",
        "        elitism (bool): Whether to use elitism\n",
        "        output_file (str): File name to store the output results\n",
        "        **kwargs: Optionally, may contain 'tourn_size' (int), when selection is 'tournament_sel'\n",
        "\n",
        "    \"\"\"\n",
        "\n",
        "    for r in range(runs):\n",
        "        print(f\"RUN #{r + 1}\")\n",
        "\n",
        "        # Generating Initial Population\n",
        "        pop = Population(\n",
        "            size=pop_size,\n",
        "            sol_input=INPUT_SIZE,\n",
        "            sol_hidden=HIDDEN_SIZE,\n",
        "            sol_output=OUTPUT_SIZE,\n",
        "            valid_range=[-1, 1],\n",
        "            optim=\"max\")\n",
        "        print(pop.individuals)\n",
        "\n",
        "        # Running evolution iterations\n",
        "        print('Evolving...')\n",
        "        best_fitness_lst = pop.evolve(gens=gens,\n",
        "                                      select=select, crossover=crossover, mutate= mutate,\n",
        "                                      xo_prob=xo_prob, mut_prob=mut_prob,\n",
        "                                      elitism=elitism, **kwargs)\n",
        "\n",
        "        print(best_fitness_lst)\n",
        "\n",
        "        # Merging configuration and results of the current run into the 'output_row' array\n",
        "        output_row = [r+1, runs, pop_size, gens, select.__name__, crossover.__name__, mutate.__name__, xo_prob, mut_prob]\n",
        "        if (select.__name__ == 'tournament_sel') and ('tourn_size' in kwargs):\n",
        "            output_row.append(kwargs['tourn_size'])\n",
        "        elif (select.__name__ == 'tournament_sel') and ('tourn_size' not in kwargs):\n",
        "            output_row.append(4)\n",
        "        else:\n",
        "            output_row.append(\"\")\n",
        "        output_row.append(best_fitness_lst)\n",
        "\n",
        "        # Storing results of the current run into the 'output_file'\n",
        "        if not os.path.exists(output_file):  # File does not exist, create it and write headers\n",
        "            with open(output_file, 'w', newline='') as file:\n",
        "                writer = csv.writer(file)\n",
        "                writer.writerow([\"run_number\", \"total_runs\", \"pop_size\", \"gens\", \"select\", \"crossover\", \"mutate\",\n",
        "                                 \"xo_prob\", \"mut_prob\", \"tourn_size\", \"best_fitness_lst\"])\n",
        "        # Append new row of data to the 'output_file'\n",
        "        with open(output_file, 'a', newline='') as file:\n",
        "            writer = csv.writer(file)\n",
        "            writer.writerow(output_row)"
      ],
      "metadata": {
        "id": "tQRD0XPKTMLv"
      },
      "execution_count": 7,
      "outputs": []
    },
    {
      "cell_type": "code",
      "source": [
        "run_evolution(runs=1, pop_size=20, gens=20,\n",
        "              select=tournament_sel,\n",
        "              crossover=uniform_xo,\n",
        "              mutate=arithmetic_mutation,\n",
        "              xo_prob=0.9, mut_prob=0.3, elitism=True,\n",
        "              output_file='testing.csv',\n",
        "              tourn_size=2)"
      ],
      "metadata": {
        "colab": {
          "base_uri": "https://localhost:8080/"
        },
        "id": "TeL0Jni5TTF6",
        "outputId": "7a655214-4666-45a0-bc54-aeb0d7b132b4"
      },
      "execution_count": 8,
      "outputs": [
        {
          "metadata": {
            "tags": null
          },
          "name": "stdout",
          "output_type": "stream",
          "text": [
            "RUN #1\n",
            "Generating initial population...\n"
          ]
        },
        {
          "metadata": {
            "tags": null
          },
          "name": "stderr",
          "output_type": "stream",
          "text": [
            "100%|██████████| 20/20 [01:40<00:00,  5.05s/it]\n"
          ]
        },
        {
          "metadata": {
            "tags": null
          },
          "name": "stdout",
          "output_type": "stream",
          "text": [
            "[\n",
            "Individual: 784, 512, 10; Fitness: 0.6577500104904175; Test_fitness: 0.6553999781608582;, \n",
            "Individual: 784, 512, 10; Fitness: 0.01068333350121975; Test_fitness: 0.009499999694526196;, \n",
            "Individual: 784, 512, 10; Fitness: 0.06091666594147682; Test_fitness: 0.05420000106096268;, \n",
            "Individual: 784, 512, 10; Fitness: 0.2095833271741867; Test_fitness: 0.1932000070810318;, \n",
            "Individual: 784, 512, 10; Fitness: 0.002166666556149721; Test_fitness: 0.002300000051036477;, \n",
            "Individual: 784, 512, 10; Fitness: 0.07453333586454391; Test_fitness: 0.07900000363588333;, \n",
            "Individual: 784, 512, 10; Fitness: 0.00019999999494757503; Test_fitness: 0.0003000000142492354;, \n",
            "Individual: 784, 512, 10; Fitness: 0.04111666604876518; Test_fitness: 0.04089999943971634;, \n",
            "Individual: 784, 512, 10; Fitness: 0.020283333957195282; Test_fitness: 0.017899999395012856;, \n",
            "Individual: 784, 512, 10; Fitness: 0.4204833209514618; Test_fitness: 0.4374000132083893;, \n",
            "Individual: 784, 512, 10; Fitness: 0.04026666656136513; Test_fitness: 0.035599999129772186;, \n",
            "Individual: 784, 512, 10; Fitness: 0.30855000019073486; Test_fitness: 0.29580000042915344;, \n",
            "Individual: 784, 512, 10; Fitness: 0.089116670191288; Test_fitness: 0.07989999651908875;, \n",
            "Individual: 784, 512, 10; Fitness: 0.15746666491031647; Test_fitness: 0.16259999573230743;, \n",
            "Individual: 784, 512, 10; Fitness: 0.052283331751823425; Test_fitness: 0.052400000393390656;, \n",
            "Individual: 784, 512, 10; Fitness: 0.26128333806991577; Test_fitness: 0.2718999981880188;, \n",
            "Individual: 784, 512, 10; Fitness: 0.017550000920891762; Test_fitness: 0.015200000256299973;, \n",
            "Individual: 784, 512, 10; Fitness: 0.7611666917800903; Test_fitness: 0.7682999968528748;, \n",
            "Individual: 784, 512, 10; Fitness: 0.03831666707992554; Test_fitness: 0.04050000011920929;, \n",
            "Individual: 784, 512, 10; Fitness: 0.017000000923871994; Test_fitness: 0.01679999940097332;]\n",
            "Evolving...\n"
          ]
        },
        {
          "metadata": {
            "tags": null
          },
          "name": "stderr",
          "output_type": "stream",
          "text": [
            "\r  0%|          | 0/20 [00:00<?, ?it/s]"
          ]
        },
        {
          "metadata": {
            "tags": null
          },
          "name": "stdout",
          "output_type": "stream",
          "text": [
            "Starting Generation  1 ...\n"
          ]
        },
        {
          "metadata": {
            "tags": null
          },
          "name": "stderr",
          "output_type": "stream",
          "text": [
            "\r  5%|▌         | 1/20 [01:51<35:19, 111.53s/it]"
          ]
        },
        {
          "metadata": {
            "tags": null
          },
          "name": "stdout",
          "output_type": "stream",
          "text": [
            "Best Individual in Generation 1: \n",
            "Individual: 784, 512, 10; Fitness: 0.7801166772842407; Test_fitness: 0.772599995136261;\n",
            "Starting Generation  2 ...\n"
          ]
        },
        {
          "metadata": {
            "tags": null
          },
          "name": "stderr",
          "output_type": "stream",
          "text": [
            "\r 10%|█         | 2/20 [03:46<34:03, 113.52s/it]"
          ]
        },
        {
          "metadata": {
            "tags": null
          },
          "name": "stdout",
          "output_type": "stream",
          "text": [
            "Best Individual in Generation 2: \n",
            "Individual: 784, 512, 10; Fitness: 0.7801166772842407; Test_fitness: 0.772599995136261;\n",
            "Starting Generation  3 ...\n"
          ]
        },
        {
          "metadata": {
            "tags": null
          },
          "name": "stderr",
          "output_type": "stream",
          "text": [
            "\r 15%|█▌        | 3/20 [05:30<30:58, 109.30s/it]"
          ]
        },
        {
          "metadata": {
            "tags": null
          },
          "name": "stdout",
          "output_type": "stream",
          "text": [
            "Best Individual in Generation 3: \n",
            "Individual: 784, 512, 10; Fitness: 0.7801166772842407; Test_fitness: 0.772599995136261;\n",
            "Starting Generation  4 ...\n"
          ]
        },
        {
          "output_type": "stream",
          "name": "stderr",
          "text": [
            "\r 20%|██        | 4/20 [07:18<28:58, 108.64s/it]"
          ]
        },
        {
          "output_type": "stream",
          "name": "stdout",
          "text": [
            "Best Individual in Generation 4: \n",
            "Individual: 784, 512, 10; Fitness: 0.9191833138465881; Test_fitness: 0.9194999933242798;\n",
            "Starting Generation  5 ...\n"
          ]
        },
        {
          "output_type": "stream",
          "name": "stderr",
          "text": [
            "\r 25%|██▌       | 5/20 [08:56<26:14, 104.94s/it]"
          ]
        },
        {
          "output_type": "stream",
          "name": "stdout",
          "text": [
            "Best Individual in Generation 5: \n",
            "Individual: 784, 512, 10; Fitness: 0.9749166369438171; Test_fitness: 0.9775999784469604;\n",
            "Starting Generation  6 ...\n"
          ]
        },
        {
          "output_type": "stream",
          "name": "stderr",
          "text": [
            "\r 30%|███       | 6/20 [10:43<24:39, 105.66s/it]"
          ]
        },
        {
          "output_type": "stream",
          "name": "stdout",
          "text": [
            "Best Individual in Generation 6: \n",
            "Individual: 784, 512, 10; Fitness: 0.9749166369438171; Test_fitness: 0.9775999784469604;\n",
            "Starting Generation  7 ...\n"
          ]
        },
        {
          "output_type": "stream",
          "name": "stderr",
          "text": [
            "\r 35%|███▌      | 7/20 [12:23<22:28, 103.76s/it]"
          ]
        },
        {
          "output_type": "stream",
          "name": "stdout",
          "text": [
            "Best Individual in Generation 7: \n",
            "Individual: 784, 512, 10; Fitness: 0.9909999966621399; Test_fitness: 0.9926999807357788;\n",
            "Starting Generation  8 ...\n"
          ]
        },
        {
          "output_type": "stream",
          "name": "stderr",
          "text": [
            "\r 40%|████      | 8/20 [14:09<20:54, 104.51s/it]"
          ]
        },
        {
          "output_type": "stream",
          "name": "stdout",
          "text": [
            "Best Individual in Generation 8: \n",
            "Individual: 784, 512, 10; Fitness: 0.9909999966621399; Test_fitness: 0.9926999807357788;\n",
            "Starting Generation  9 ...\n"
          ]
        },
        {
          "output_type": "stream",
          "name": "stderr",
          "text": [
            "\r 45%|████▌     | 9/20 [15:57<19:21, 105.63s/it]"
          ]
        },
        {
          "output_type": "stream",
          "name": "stdout",
          "text": [
            "Best Individual in Generation 9: \n",
            "Individual: 784, 512, 10; Fitness: 0.9986666440963745; Test_fitness: 0.9991000294685364;\n",
            "Starting Generation  10 ...\n"
          ]
        },
        {
          "output_type": "stream",
          "name": "stderr",
          "text": [
            "\r 50%|█████     | 10/20 [17:36<17:15, 103.57s/it]"
          ]
        },
        {
          "output_type": "stream",
          "name": "stdout",
          "text": [
            "Best Individual in Generation 10: \n",
            "Individual: 784, 512, 10; Fitness: 0.9987000226974487; Test_fitness: 0.9987999796867371;\n",
            "Starting Generation  11 ...\n"
          ]
        },
        {
          "output_type": "stream",
          "name": "stderr",
          "text": [
            "\r 55%|█████▌    | 11/20 [19:19<15:30, 103.37s/it]"
          ]
        },
        {
          "output_type": "stream",
          "name": "stdout",
          "text": [
            "Best Individual in Generation 11: \n",
            "Individual: 784, 512, 10; Fitness: 0.9997333288192749; Test_fitness: 0.9995999932289124;\n",
            "Starting Generation  12 ...\n"
          ]
        },
        {
          "output_type": "stream",
          "name": "stderr",
          "text": [
            "\r 60%|██████    | 12/20 [21:02<13:45, 103.20s/it]"
          ]
        },
        {
          "output_type": "stream",
          "name": "stdout",
          "text": [
            "Best Individual in Generation 12: \n",
            "Individual: 784, 512, 10; Fitness: 0.9997333288192749; Test_fitness: 0.9995999932289124;\n",
            "Starting Generation  13 ...\n"
          ]
        },
        {
          "output_type": "stream",
          "name": "stderr",
          "text": [
            "\r 65%|██████▌   | 13/20 [22:42<11:54, 102.14s/it]"
          ]
        },
        {
          "output_type": "stream",
          "name": "stdout",
          "text": [
            "Best Individual in Generation 13: \n",
            "Individual: 784, 512, 10; Fitness: 0.9998499751091003; Test_fitness: 1.0;\n",
            "Starting Generation  14 ...\n"
          ]
        },
        {
          "output_type": "stream",
          "name": "stderr",
          "text": [
            "\r 70%|███████   | 14/20 [24:25<10:15, 102.61s/it]"
          ]
        },
        {
          "output_type": "stream",
          "name": "stdout",
          "text": [
            "Best Individual in Generation 14: \n",
            "Individual: 784, 512, 10; Fitness: 0.9999833106994629; Test_fitness: 1.0;\n",
            "Starting Generation  15 ...\n"
          ]
        },
        {
          "output_type": "stream",
          "name": "stderr",
          "text": [
            "\r 75%|███████▌  | 15/20 [26:12<08:39, 103.84s/it]"
          ]
        },
        {
          "output_type": "stream",
          "name": "stdout",
          "text": [
            "Best Individual in Generation 15: \n",
            "Individual: 784, 512, 10; Fitness: 0.9999833106994629; Test_fitness: 1.0;\n",
            "Starting Generation  16 ...\n"
          ]
        },
        {
          "output_type": "stream",
          "name": "stderr",
          "text": [
            "\r 80%|████████  | 16/20 [27:52<06:50, 102.57s/it]"
          ]
        },
        {
          "output_type": "stream",
          "name": "stdout",
          "text": [
            "Best Individual in Generation 16: \n",
            "Individual: 784, 512, 10; Fitness: 1.0; Test_fitness: 1.0;\n",
            "Starting Generation  17 ...\n"
          ]
        },
        {
          "output_type": "stream",
          "name": "stderr",
          "text": [
            "\r 85%|████████▌ | 17/20 [29:29<05:03, 101.03s/it]"
          ]
        },
        {
          "output_type": "stream",
          "name": "stdout",
          "text": [
            "Best Individual in Generation 17: \n",
            "Individual: 784, 512, 10; Fitness: 1.0; Test_fitness: 1.0;\n",
            "Starting Generation  18 ...\n"
          ]
        },
        {
          "output_type": "stream",
          "name": "stderr",
          "text": [
            "\r 90%|█████████ | 18/20 [31:08<03:20, 100.48s/it]"
          ]
        },
        {
          "output_type": "stream",
          "name": "stdout",
          "text": [
            "Best Individual in Generation 18: \n",
            "Individual: 784, 512, 10; Fitness: 1.0; Test_fitness: 0.9998999834060669;\n",
            "Starting Generation  19 ...\n"
          ]
        },
        {
          "output_type": "stream",
          "name": "stderr",
          "text": [
            "\r 95%|█████████▌| 19/20 [32:44<01:39, 99.06s/it] "
          ]
        },
        {
          "output_type": "stream",
          "name": "stdout",
          "text": [
            "Best Individual in Generation 19: \n",
            "Individual: 784, 512, 10; Fitness: 1.0; Test_fitness: 0.9998999834060669;\n",
            "Starting Generation  20 ...\n"
          ]
        },
        {
          "output_type": "stream",
          "name": "stderr",
          "text": [
            "100%|██████████| 20/20 [34:27<00:00, 103.39s/it]"
          ]
        },
        {
          "output_type": "stream",
          "name": "stdout",
          "text": [
            "Best Individual in Generation 20: \n",
            "Individual: 784, 512, 10; Fitness: 1.0; Test_fitness: 1.0;\n",
            "[0.7801166772842407, 0.7801166772842407, 0.7801166772842407, 0.9191833138465881, 0.9749166369438171, 0.9749166369438171, 0.9909999966621399, 0.9909999966621399, 0.9986666440963745, 0.9987000226974487, 0.9997333288192749, 0.9997333288192749, 0.9998499751091003, 0.9999833106994629, 0.9999833106994629, 1.0, 1.0, 1.0, 1.0, 1.0]\n"
          ]
        },
        {
          "output_type": "stream",
          "name": "stderr",
          "text": [
            "\n"
          ]
        }
      ]
    }
  ]
}