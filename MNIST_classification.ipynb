{
  "cells": [
    {
      "cell_type": "markdown",
      "id": "8b0cb6fd-1bb3-4839-86d6-cc048bf42ecb",
      "metadata": {
        "id": "8b0cb6fd-1bb3-4839-86d6-cc048bf42ecb"
      },
      "source": [
        "## Loading MNIST dataset\n",
        "The MNIST dataset (a classic in the Machine Learning community) has been around almost as long as the field itself and has been intensively studied. \n",
        "\n",
        "It’s a set of 60,000 training images, plus 10,000 test images, assembled by the National Institute of Standards and Technology (the NIST in MNIST) in the 1980s. \n"
      ]
    },
    {
      "cell_type": "code",
      "execution_count": 1,
      "id": "e35f565f-f068-4adb-8101-c971c15e5164",
      "metadata": {
        "id": "e35f565f-f068-4adb-8101-c971c15e5164"
      },
      "outputs": [],
      "source": [
        "# Loading the MNIST dataset in Keras\n",
        "from tensorflow.keras.datasets import mnist\n",
        "\n",
        "(train_images, train_labels), (test_images, test_labels) = mnist.load_data()"
      ]
    },
    {
      "cell_type": "code",
      "source": [
        "# Having a look at Training Data\n",
        "print(train_images.shape)\n",
        "print(len(train_labels))\n",
        "print(train_labels)"
      ],
      "metadata": {
        "id": "9i-6_PyymPZD",
        "outputId": "b22cbb73-8872-4266-cf51-8cb6f4611f16",
        "colab": {
          "base_uri": "https://localhost:8080/"
        }
      },
      "id": "9i-6_PyymPZD",
      "execution_count": 2,
      "outputs": [
        {
          "output_type": "stream",
          "name": "stdout",
          "text": [
            "(60000, 28, 28)\n",
            "60000\n",
            "[5 0 4 ... 5 6 8]\n"
          ]
        }
      ]
    },
    {
      "cell_type": "code",
      "source": [
        "# Having a look at Test Data\n",
        "print(test_images.shape)\n",
        "print(len(test_labels))\n",
        "print(test_labels)"
      ],
      "metadata": {
        "colab": {
          "base_uri": "https://localhost:8080/"
        },
        "id": "bSje3XfnkU3i",
        "outputId": "320d754a-143c-4da5-97de-eaa115303eed"
      },
      "id": "bSje3XfnkU3i",
      "execution_count": 3,
      "outputs": [
        {
          "output_type": "stream",
          "name": "stdout",
          "text": [
            "(10000, 28, 28)\n",
            "10000\n",
            "[7 2 1 ... 4 5 6]\n"
          ]
        }
      ]
    },
    {
      "cell_type": "code",
      "source": [
        "# Exemining one specific image\n",
        "train_images[0]"
      ],
      "metadata": {
        "colab": {
          "base_uri": "https://localhost:8080/"
        },
        "id": "e2UTk4TknPyG",
        "outputId": "086e7bbc-f86b-44df-c1fb-0f5c9cfc313d"
      },
      "id": "e2UTk4TknPyG",
      "execution_count": 4,
      "outputs": [
        {
          "output_type": "execute_result",
          "data": {
            "text/plain": [
              "array([[  0,   0,   0,   0,   0,   0,   0,   0,   0,   0,   0,   0,   0,\n",
              "          0,   0,   0,   0,   0,   0,   0,   0,   0,   0,   0,   0,   0,\n",
              "          0,   0],\n",
              "       [  0,   0,   0,   0,   0,   0,   0,   0,   0,   0,   0,   0,   0,\n",
              "          0,   0,   0,   0,   0,   0,   0,   0,   0,   0,   0,   0,   0,\n",
              "          0,   0],\n",
              "       [  0,   0,   0,   0,   0,   0,   0,   0,   0,   0,   0,   0,   0,\n",
              "          0,   0,   0,   0,   0,   0,   0,   0,   0,   0,   0,   0,   0,\n",
              "          0,   0],\n",
              "       [  0,   0,   0,   0,   0,   0,   0,   0,   0,   0,   0,   0,   0,\n",
              "          0,   0,   0,   0,   0,   0,   0,   0,   0,   0,   0,   0,   0,\n",
              "          0,   0],\n",
              "       [  0,   0,   0,   0,   0,   0,   0,   0,   0,   0,   0,   0,   0,\n",
              "          0,   0,   0,   0,   0,   0,   0,   0,   0,   0,   0,   0,   0,\n",
              "          0,   0],\n",
              "       [  0,   0,   0,   0,   0,   0,   0,   0,   0,   0,   0,   0,   3,\n",
              "         18,  18,  18, 126, 136, 175,  26, 166, 255, 247, 127,   0,   0,\n",
              "          0,   0],\n",
              "       [  0,   0,   0,   0,   0,   0,   0,   0,  30,  36,  94, 154, 170,\n",
              "        253, 253, 253, 253, 253, 225, 172, 253, 242, 195,  64,   0,   0,\n",
              "          0,   0],\n",
              "       [  0,   0,   0,   0,   0,   0,   0,  49, 238, 253, 253, 253, 253,\n",
              "        253, 253, 253, 253, 251,  93,  82,  82,  56,  39,   0,   0,   0,\n",
              "          0,   0],\n",
              "       [  0,   0,   0,   0,   0,   0,   0,  18, 219, 253, 253, 253, 253,\n",
              "        253, 198, 182, 247, 241,   0,   0,   0,   0,   0,   0,   0,   0,\n",
              "          0,   0],\n",
              "       [  0,   0,   0,   0,   0,   0,   0,   0,  80, 156, 107, 253, 253,\n",
              "        205,  11,   0,  43, 154,   0,   0,   0,   0,   0,   0,   0,   0,\n",
              "          0,   0],\n",
              "       [  0,   0,   0,   0,   0,   0,   0,   0,   0,  14,   1, 154, 253,\n",
              "         90,   0,   0,   0,   0,   0,   0,   0,   0,   0,   0,   0,   0,\n",
              "          0,   0],\n",
              "       [  0,   0,   0,   0,   0,   0,   0,   0,   0,   0,   0, 139, 253,\n",
              "        190,   2,   0,   0,   0,   0,   0,   0,   0,   0,   0,   0,   0,\n",
              "          0,   0],\n",
              "       [  0,   0,   0,   0,   0,   0,   0,   0,   0,   0,   0,  11, 190,\n",
              "        253,  70,   0,   0,   0,   0,   0,   0,   0,   0,   0,   0,   0,\n",
              "          0,   0],\n",
              "       [  0,   0,   0,   0,   0,   0,   0,   0,   0,   0,   0,   0,  35,\n",
              "        241, 225, 160, 108,   1,   0,   0,   0,   0,   0,   0,   0,   0,\n",
              "          0,   0],\n",
              "       [  0,   0,   0,   0,   0,   0,   0,   0,   0,   0,   0,   0,   0,\n",
              "         81, 240, 253, 253, 119,  25,   0,   0,   0,   0,   0,   0,   0,\n",
              "          0,   0],\n",
              "       [  0,   0,   0,   0,   0,   0,   0,   0,   0,   0,   0,   0,   0,\n",
              "          0,  45, 186, 253, 253, 150,  27,   0,   0,   0,   0,   0,   0,\n",
              "          0,   0],\n",
              "       [  0,   0,   0,   0,   0,   0,   0,   0,   0,   0,   0,   0,   0,\n",
              "          0,   0,  16,  93, 252, 253, 187,   0,   0,   0,   0,   0,   0,\n",
              "          0,   0],\n",
              "       [  0,   0,   0,   0,   0,   0,   0,   0,   0,   0,   0,   0,   0,\n",
              "          0,   0,   0,   0, 249, 253, 249,  64,   0,   0,   0,   0,   0,\n",
              "          0,   0],\n",
              "       [  0,   0,   0,   0,   0,   0,   0,   0,   0,   0,   0,   0,   0,\n",
              "          0,  46, 130, 183, 253, 253, 207,   2,   0,   0,   0,   0,   0,\n",
              "          0,   0],\n",
              "       [  0,   0,   0,   0,   0,   0,   0,   0,   0,   0,   0,   0,  39,\n",
              "        148, 229, 253, 253, 253, 250, 182,   0,   0,   0,   0,   0,   0,\n",
              "          0,   0],\n",
              "       [  0,   0,   0,   0,   0,   0,   0,   0,   0,   0,  24, 114, 221,\n",
              "        253, 253, 253, 253, 201,  78,   0,   0,   0,   0,   0,   0,   0,\n",
              "          0,   0],\n",
              "       [  0,   0,   0,   0,   0,   0,   0,   0,  23,  66, 213, 253, 253,\n",
              "        253, 253, 198,  81,   2,   0,   0,   0,   0,   0,   0,   0,   0,\n",
              "          0,   0],\n",
              "       [  0,   0,   0,   0,   0,   0,  18, 171, 219, 253, 253, 253, 253,\n",
              "        195,  80,   9,   0,   0,   0,   0,   0,   0,   0,   0,   0,   0,\n",
              "          0,   0],\n",
              "       [  0,   0,   0,   0,  55, 172, 226, 253, 253, 253, 253, 244, 133,\n",
              "         11,   0,   0,   0,   0,   0,   0,   0,   0,   0,   0,   0,   0,\n",
              "          0,   0],\n",
              "       [  0,   0,   0,   0, 136, 253, 253, 253, 212, 135, 132,  16,   0,\n",
              "          0,   0,   0,   0,   0,   0,   0,   0,   0,   0,   0,   0,   0,\n",
              "          0,   0],\n",
              "       [  0,   0,   0,   0,   0,   0,   0,   0,   0,   0,   0,   0,   0,\n",
              "          0,   0,   0,   0,   0,   0,   0,   0,   0,   0,   0,   0,   0,\n",
              "          0,   0],\n",
              "       [  0,   0,   0,   0,   0,   0,   0,   0,   0,   0,   0,   0,   0,\n",
              "          0,   0,   0,   0,   0,   0,   0,   0,   0,   0,   0,   0,   0,\n",
              "          0,   0],\n",
              "       [  0,   0,   0,   0,   0,   0,   0,   0,   0,   0,   0,   0,   0,\n",
              "          0,   0,   0,   0,   0,   0,   0,   0,   0,   0,   0,   0,   0,\n",
              "          0,   0]], dtype=uint8)"
            ]
          },
          "metadata": {},
          "execution_count": 4
        }
      ]
    },
    {
      "cell_type": "code",
      "source": [
        "# Displaying the item from the training dataset\n",
        "import matplotlib.pyplot as plt\n",
        "\n",
        "digit = train_images[0]\n",
        "plt.imshow(digit, cmap=plt.cm.binary)\n",
        "plt.show()"
      ],
      "metadata": {
        "colab": {
          "base_uri": "https://localhost:8080/",
          "height": 430
        },
        "id": "UWw3Z2sWl2MB",
        "outputId": "a600675e-f48b-43f2-e674-84cebe909829"
      },
      "id": "UWw3Z2sWl2MB",
      "execution_count": 5,
      "outputs": [
        {
          "output_type": "display_data",
          "data": {
            "text/plain": [
              "<Figure size 640x480 with 1 Axes>"
            ],
            "image/png": "[encoded data removed]"
          },
          "metadata": {}
        }
      ]
    },
    {
      "cell_type": "code",
      "source": [
        "type(train_images[0])"
      ],
      "metadata": {
        "id": "fxP3unEQldMz",
        "outputId": "0fe8a11b-98d0-42a1-aa59-7197d17bde71",
        "colab": {
          "base_uri": "https://localhost:8080/"
        }
      },
      "id": "fxP3unEQldMz",
      "execution_count": 6,
      "outputs": [
        {
          "output_type": "execute_result",
          "data": {
            "text/plain": [
              "numpy.ndarray"
            ]
          },
          "metadata": {},
          "execution_count": 6
        }
      ]
    },
    {
      "cell_type": "code",
      "source": [
        "train_images[0].shape"
      ],
      "metadata": {
        "id": "QJH1gsWslgNy",
        "outputId": "605b0621-df61-40b5-d8e6-77411e901449",
        "colab": {
          "base_uri": "https://localhost:8080/"
        }
      },
      "id": "QJH1gsWslgNy",
      "execution_count": 7,
      "outputs": [
        {
          "output_type": "execute_result",
          "data": {
            "text/plain": [
              "(28, 28)"
            ]
          },
          "metadata": {},
          "execution_count": 7
        }
      ]
    },
    {
      "cell_type": "markdown",
      "source": [
        "## 1. Densely connected NN"
      ],
      "metadata": {
        "id": "BLhb5MI9gBzN"
      },
      "id": "BLhb5MI9gBzN"
    },
    {
      "cell_type": "code",
      "source": [
        "# NN Architecture\n",
        "from tensorflow import keras\n",
        "from tensorflow.keras import layers\n",
        "\n",
        "model = keras.Sequential([\n",
        " layers.Dense(512, activation=\"relu\"),\n",
        " layers.Dense(10, activation=\"softmax\")\n",
        "])"
      ],
      "metadata": {
        "id": "lDefjhGxkczw"
      },
      "id": "lDefjhGxkczw",
      "execution_count": 8,
      "outputs": []
    },
    {
      "cell_type": "code",
      "source": [
        "# Compilation step\n",
        "model.compile(optimizer=\"rmsprop\",\n",
        " loss=\"sparse_categorical_crossentropy\",\n",
        " metrics=[\"accuracy\"])"
      ],
      "metadata": {
        "id": "COmOUcsHknfA"
      },
      "id": "COmOUcsHknfA",
      "execution_count": 9,
      "outputs": []
    },
    {
      "cell_type": "code",
      "source": [
        "# Preparing the image data\n",
        "train_images = train_images.reshape((60000, 28 * 28))\n",
        "train_images = train_images.astype(\"float32\") / 255\n",
        "\n",
        "test_images = test_images.reshape((10000, 28 * 28))\n",
        "test_images = test_images.astype(\"float32\") / 255"
      ],
      "metadata": {
        "id": "Y0_SOV7WkzUX"
      },
      "id": "Y0_SOV7WkzUX",
      "execution_count": 10,
      "outputs": []
    },
    {
      "cell_type": "code",
      "source": [
        "# Fitting the model\n",
        "model.fit(train_images, train_labels, epochs=5, batch_size=128)"
      ],
      "metadata": {
        "colab": {
          "base_uri": "https://localhost:8080/"
        },
        "id": "Vt-VKpAKk498",
        "outputId": "654239ad-07af-41dc-bce5-9b4bebdee1da"
      },
      "id": "Vt-VKpAKk498",
      "execution_count": 11,
      "outputs": [
        {
          "output_type": "stream",
          "name": "stdout",
          "text": [
            "Epoch 1/5\n",
            "469/469 [==============================] - 7s 4ms/step - loss: 0.2660 - accuracy: 0.9224\n",
            "Epoch 2/5\n",
            "469/469 [==============================] - 1s 3ms/step - loss: 0.1083 - accuracy: 0.9684\n",
            "Epoch 3/5\n",
            "469/469 [==============================] - 1s 3ms/step - loss: 0.0709 - accuracy: 0.9786\n",
            "Epoch 4/5\n",
            "469/469 [==============================] - 1s 3ms/step - loss: 0.0511 - accuracy: 0.9842\n",
            "Epoch 5/5\n",
            "469/469 [==============================] - 1s 3ms/step - loss: 0.0387 - accuracy: 0.9882\n"
          ]
        },
        {
          "output_type": "execute_result",
          "data": {
            "text/plain": [
              "<keras.callbacks.History at 0x7f1dd9081990>"
            ]
          },
          "metadata": {},
          "execution_count": 11
        }
      ]
    },
    {
      "cell_type": "code",
      "source": [
        "model.summary()"
      ],
      "metadata": {
        "id": "v_QE57d9nT3q",
        "outputId": "2e873754-b05d-4db9-d86b-3ba77babf71e",
        "colab": {
          "base_uri": "https://localhost:8080/"
        }
      },
      "id": "v_QE57d9nT3q",
      "execution_count": 12,
      "outputs": [
        {
          "output_type": "stream",
          "name": "stdout",
          "text": [
            "Model: \"sequential\"\n",
            "_________________________________________________________________\n",
            " Layer (type)                Output Shape              Param #   \n",
            "=================================================================\n",
            " dense (Dense)               (None, 512)               401920    \n",
            "                                                                 \n",
            " dense_1 (Dense)             (None, 10)                5130      \n",
            "                                                                 \n",
            "=================================================================\n",
            "Total params: 407,050\n",
            "Trainable params: 407,050\n",
            "Non-trainable params: 0\n",
            "_________________________________________________________________\n"
          ]
        }
      ]
    },
    {
      "cell_type": "code",
      "source": [
        "# Using the model to make predictions\n",
        "test_digits = test_images[0:10]\n",
        "predictions = model.predict(test_digits)\n",
        "predictions[0]"
      ],
      "metadata": {
        "colab": {
          "base_uri": "https://localhost:8080/"
        },
        "id": "p2-svjNjk9uF",
        "outputId": "edfebe20-d52f-475d-c3c4-a9665c927bba"
      },
      "id": "p2-svjNjk9uF",
      "execution_count": 13,
      "outputs": [
        {
          "output_type": "stream",
          "name": "stdout",
          "text": [
            "1/1 [==============================] - 0s 117ms/step\n"
          ]
        },
        {
          "output_type": "execute_result",
          "data": {
            "text/plain": [
              "array([1.2292465e-08, 2.8159086e-09, 8.1241029e-07, 1.1121714e-04,\n",
              "       3.1175284e-12, 5.4512020e-07, 5.7238578e-13, 9.9988723e-01,\n",
              "       1.0728777e-08, 1.3684279e-07], dtype=float32)"
            ]
          },
          "metadata": {},
          "execution_count": 13
        }
      ]
    },
    {
      "cell_type": "code",
      "source": [
        "predictions[0].argmax() "
      ],
      "metadata": {
        "colab": {
          "base_uri": "https://localhost:8080/"
        },
        "id": "GPolDeXflN3R",
        "outputId": "e52edf23-73f3-40f4-99ed-36b4e38557c2"
      },
      "id": "GPolDeXflN3R",
      "execution_count": 14,
      "outputs": [
        {
          "output_type": "execute_result",
          "data": {
            "text/plain": [
              "7"
            ]
          },
          "metadata": {},
          "execution_count": 14
        }
      ]
    },
    {
      "cell_type": "code",
      "source": [
        "predictions[0][7] "
      ],
      "metadata": {
        "colab": {
          "base_uri": "https://localhost:8080/"
        },
        "id": "9I0cK6oylSiD",
        "outputId": "5e3936b4-1643-4dc7-eb5d-82f6ba7ac432"
      },
      "id": "9I0cK6oylSiD",
      "execution_count": 15,
      "outputs": [
        {
          "output_type": "execute_result",
          "data": {
            "text/plain": [
              "0.9998872"
            ]
          },
          "metadata": {},
          "execution_count": 15
        }
      ]
    },
    {
      "cell_type": "code",
      "source": [
        "test_labels[0] "
      ],
      "metadata": {
        "colab": {
          "base_uri": "https://localhost:8080/"
        },
        "id": "un2I8ERJlV_p",
        "outputId": "0ab79e26-99b2-4f45-9b05-adbf0ea7fe7c"
      },
      "id": "un2I8ERJlV_p",
      "execution_count": 16,
      "outputs": [
        {
          "output_type": "execute_result",
          "data": {
            "text/plain": [
              "7"
            ]
          },
          "metadata": {},
          "execution_count": 16
        }
      ]
    },
    {
      "cell_type": "code",
      "source": [
        "# Evaluating the model on new data\n",
        "test_loss, test_acc = model.evaluate(test_images, test_labels)\n",
        "print(f\"test_acc: {test_acc}\")"
      ],
      "metadata": {
        "colab": {
          "base_uri": "https://localhost:8080/"
        },
        "id": "Si6ZyYSzla_b",
        "outputId": "a4b52770-1976-4d10-bac0-0ecc81a296f2"
      },
      "id": "Si6ZyYSzla_b",
      "execution_count": 17,
      "outputs": [
        {
          "output_type": "stream",
          "name": "stdout",
          "text": [
            "313/313 [==============================] - 1s 3ms/step - loss: 0.0672 - accuracy: 0.9802\n",
            "test_acc: 0.9801999926567078\n"
          ]
        }
      ]
    },
    {
      "cell_type": "code",
      "source": [
        "# To see the weights of a trained model, let's use the get_weights() method:\n",
        "weights = model.get_weights()\n",
        "\n",
        "# 'weights' is a list containing weight tensors\n",
        "for layer_weights in weights:\n",
        "    print(layer_weights)"
      ],
      "metadata": {
        "id": "sd-ZtRgYoX14",
        "outputId": "26fc428f-5296-437e-b962-913346ef7fe7",
        "colab": {
          "base_uri": "https://localhost:8080/"
        }
      },
      "id": "sd-ZtRgYoX14",
      "execution_count": 18,
      "outputs": [
        {
          "output_type": "stream",
          "name": "stdout",
          "text": [
            "[[ 0.03679921 -0.00789531 -0.02256847 ... -0.04634014 -0.06720697\n",
            "   0.05196348]\n",
            " [-0.06610186  0.02799819 -0.02855833 ... -0.06683563  0.05852701\n",
            "   0.01012752]\n",
            " [-0.00673397  0.02924541 -0.04386239 ... -0.04081884 -0.01147378\n",
            "   0.00655305]\n",
            " ...\n",
            " [-0.02423524 -0.01260245  0.02502007 ...  0.03788756  0.04285967\n",
            "  -0.02574914]\n",
            " [-0.00101351 -0.06365587 -0.0460047  ... -0.00656167  0.0011986\n",
            "   0.04141879]\n",
            " [-0.01393579 -0.05877126  0.00439227 ... -0.05816384 -0.06724453\n",
            "  -0.02673821]]\n",
            "[-0.0037715  -0.00364757 -0.0446607   0.01762941  0.01058629  0.00671839\n",
            " -0.00523048  0.03934785 -0.04816275  0.12910672  0.02250418 -0.02022538\n",
            "  0.0937533  -0.03332166  0.00203681  0.07908489  0.05108502  0.00925265\n",
            "  0.04460231  0.00071596  0.02861059 -0.01109354  0.01744151  0.02736165\n",
            "  0.01306708 -0.03812174  0.04018967  0.05522989  0.00571441 -0.03918235\n",
            "  0.04275898 -0.00629586  0.02457766  0.03878896 -0.00628581  0.05308643\n",
            "  0.00459092  0.04072545  0.06094897  0.02092604  0.03471648  0.0145751\n",
            "  0.01399468 -0.03709654  0.02711341  0.00897835  0.02462829 -0.00541998\n",
            " -0.00262124 -0.03705453  0.00891558 -0.03604284 -0.02122926 -0.00591928\n",
            " -0.01620183 -0.0403962   0.03888031  0.01041011  0.00833395 -0.04568455\n",
            " -0.03586145 -0.02515264  0.0071108   0.01667852  0.00421408  0.08301093\n",
            "  0.04103003  0.01246141 -0.00178843  0.0192021   0.03843867 -0.01645961\n",
            " -0.04060608 -0.00412165 -0.04270796  0.02573208 -0.00107903  0.00870437\n",
            " -0.02787842  0.01308107  0.01848679  0.01835223 -0.01582941  0.01119308\n",
            " -0.01984579  0.0790099   0.08619793 -0.07366626 -0.03852635 -0.01459623\n",
            " -0.00609638  0.02526162  0.00886029 -0.04903012  0.00491046 -0.00426687\n",
            "  0.03796924 -0.05410858 -0.02993353  0.04624697  0.00488651 -0.03411486\n",
            "  0.06202768  0.0167472   0.0372168   0.01751381  0.02386176 -0.02564083\n",
            "  0.0575677  -0.00387826 -0.04032945 -0.03093096  0.00033231 -0.04496596\n",
            " -0.02844466  0.00868909 -0.01916173  0.04755355  0.00797985  0.01475468\n",
            " -0.01267683 -0.01369875 -0.02639188 -0.02390279  0.02460023  0.03798777\n",
            " -0.00851697 -0.01173924  0.01114618  0.00878043 -0.04277582 -0.02736524\n",
            "  0.04346517 -0.0023192   0.04249979  0.0207327  -0.0339604  -0.01980087\n",
            " -0.0294121  -0.02410953 -0.00570647 -0.03837617 -0.02469232 -0.05733902\n",
            " -0.01180545 -0.01115409  0.01711333  0.0022741  -0.00648204 -0.04454938\n",
            "  0.00934714 -0.02209095  0.00896205 -0.02827133  0.06511578  0.02279809\n",
            "  0.02522473  0.00135604 -0.03982286  0.04113468  0.02893069 -0.06165398\n",
            " -0.02819009 -0.08316308 -0.0187531   0.01618046  0.02690528 -0.0306908\n",
            "  0.02041747  0.02056902  0.09735923  0.07159213 -0.01099031  0.02444968\n",
            " -0.03569445  0.00411517  0.01474256 -0.01865662 -0.00929927 -0.00372448\n",
            "  0.02733022 -0.01145992  0.05181154 -0.0241061  -0.06737942  0.00153862\n",
            "  0.01688525  0.07647216 -0.0652954  -0.01237638  0.02556248  0.0203724\n",
            " -0.04619715  0.0234925  -0.05933593 -0.01945407  0.00848651 -0.03920144\n",
            "  0.0151372   0.02000226 -0.00964408  0.01543404  0.05713892 -0.01987801\n",
            " -0.08787223 -0.01908509  0.07330079 -0.05955513 -0.01462919  0.01388675\n",
            "  0.00198581  0.02740594  0.02834918  0.03875574  0.00752737  0.06051847\n",
            "  0.00196601 -0.01202035 -0.03248682  0.02597087  0.04061545  0.04183267\n",
            "  0.02439272  0.06735787  0.00385415  0.04143916  0.01796998  0.06838809\n",
            " -0.06716989  0.06078515  0.02275942 -0.01054572  0.00441393  0.01402853\n",
            " -0.00550273 -0.02397118 -0.06392549  0.05658204  0.00957409 -0.01070863\n",
            "  0.01579013 -0.02667861  0.05831649  0.01587247  0.00984324 -0.0110612\n",
            "  0.04709227 -0.00029092  0.04550407 -0.0289855   0.00386856 -0.01004362\n",
            " -0.00543706 -0.05520492 -0.00924656  0.02290808 -0.02842382  0.01234427\n",
            "  0.00589263 -0.03001559  0.06923027 -0.01938018 -0.0073421  -0.02705332\n",
            " -0.01651922  0.01740381  0.03472561 -0.00803708 -0.01809882  0.02874024\n",
            "  0.00694802  0.0264333  -0.00596472  0.00468526 -0.00509458 -0.01003727\n",
            " -0.0162293   0.06132082 -0.01312515  0.00123489  0.04652231 -0.00170191\n",
            "  0.02343355  0.09570777 -0.03370472 -0.01882217  0.05603075 -0.01663418\n",
            "  0.06145834 -0.0186319   0.05779566  0.00270407  0.03688302  0.04002388\n",
            " -0.01262707 -0.01096284 -0.00347223 -0.05716355  0.03687806  0.01260377\n",
            " -0.01818703  0.06325191  0.05935992  0.0480843   0.01525926  0.02031908\n",
            "  0.00037103 -0.00795765 -0.03042034 -0.01452916  0.00461857 -0.02460384\n",
            "  0.04690899 -0.03440676  0.01263753 -0.04025451  0.05344499  0.04508222\n",
            "  0.00013015  0.07948688 -0.01099698 -0.01438714  0.0258593  -0.01126202\n",
            "  0.01384326  0.00856421  0.01981086 -0.02572094 -0.02263474  0.01398741\n",
            " -0.00641753  0.06074923 -0.03665663 -0.00456733  0.04732561 -0.0375046\n",
            "  0.01112061  0.07651772  0.0224976   0.04607308 -0.01849506 -0.02386358\n",
            "  0.01090844 -0.03449804 -0.02245639  0.00708579 -0.00517743  0.03014314\n",
            " -0.05566571  0.02941089  0.02506912  0.01168026 -0.0628246  -0.02125135\n",
            " -0.04240646 -0.06581929 -0.02265209  0.01876723  0.01749472  0.00254584\n",
            " -0.02773979  0.01102024 -0.04772701 -0.00538749 -0.01048619  0.02334614\n",
            " -0.01731883  0.00187597 -0.00898994  0.0036683  -0.00220272  0.05423516\n",
            "  0.02442012  0.06135149  0.0539555  -0.01470384  0.05416002 -0.02516925\n",
            "  0.0164338   0.00457209  0.00402096 -0.06645039  0.03326732  0.01166383\n",
            " -0.04044725  0.06655443  0.06210102 -0.02193184 -0.00951274 -0.01619015\n",
            "  0.00656926 -0.03665019  0.00692839 -0.03859813 -0.02367773  0.00046018\n",
            "  0.05488449 -0.01284932  0.00404149  0.00900187  0.06375861  0.03241478\n",
            "  0.03426262 -0.03011971  0.01333392  0.0028181   0.02739386  0.01122005\n",
            " -0.03478356  0.11444438  0.04161438  0.02559401  0.02670166 -0.02200292\n",
            " -0.00912462 -0.00150289 -0.01630656  0.00856546 -0.03100537 -0.03633783\n",
            " -0.03736692  0.02879086  0.01238689  0.0225872   0.0191702   0.00652894\n",
            " -0.01783101  0.03934339  0.02831126 -0.01145879  0.00328622 -0.02181705\n",
            "  0.0203196   0.0340711   0.08209727  0.02639733  0.02424295  0.01756605\n",
            " -0.04027256  0.08637933 -0.03944881  0.05412929 -0.00121089 -0.0059893\n",
            "  0.03588035 -0.04309528 -0.0548486   0.11617025 -0.01543518 -0.04865929\n",
            " -0.03117906 -0.01784188  0.00109384  0.0202276  -0.01930423  0.02084826\n",
            " -0.01397824 -0.05421283 -0.04072196  0.04824029  0.01086789 -0.01695125\n",
            " -0.00595041  0.00099441  0.04490301 -0.04362607  0.01087847  0.00492569\n",
            "  0.04478449  0.00074071 -0.02747923  0.02010698  0.01474562  0.06108368\n",
            "  0.0009978  -0.05549024  0.00357314  0.05501836 -0.04813984 -0.00957305\n",
            "  0.08174703 -0.037336   -0.06951778  0.04287088  0.04564146  0.01850906\n",
            "  0.04084649  0.03281166 -0.01158036 -0.04856097  0.04478669 -0.02611756\n",
            " -0.01156253  0.0053966  -0.05470495  0.04908945  0.02443068  0.02696922\n",
            "  0.00848064 -0.03056655  0.04211443  0.05937678 -0.02857816 -0.0045897\n",
            "  0.0529872   0.02496177  0.02461554  0.09621874 -0.00279763  0.01814774\n",
            " -0.00191863  0.07254376]\n",
            "[[-0.0624643  -0.23652168 -0.00794267 ...  0.05978446  0.03371831\n",
            "  -0.1169457 ]\n",
            " [-0.09186465 -0.29204732 -0.23216097 ...  0.14642526  0.03364833\n",
            "   0.05193653]\n",
            " [ 0.01411735 -0.12616932  0.02799719 ... -0.12300684  0.09468732\n",
            "   0.15037812]\n",
            " ...\n",
            " [-0.024475   -0.09735552 -0.01165923 ...  0.10740982  0.05727838\n",
            "  -0.26746482]\n",
            " [-0.14604186  0.15273187  0.02350285 ... -0.12986065 -0.22813685\n",
            "  -0.49472675]\n",
            " [ 0.07000186  0.08784895 -0.39928642 ... -0.03330791 -0.15879913\n",
            "  -0.01316051]]\n",
            "[-0.03224274 -0.04124873 -0.00105233 -0.02614241  0.01427298  0.04415703\n",
            " -0.018325   -0.01001393  0.0522891  -0.01032715]\n"
          ]
        }
      ]
    },
    {
      "cell_type": "code",
      "source": [
        "len(weights)"
      ],
      "metadata": {
        "id": "E7W7L8oXpud8",
        "outputId": "65c7cac7-41f5-4027-ac8e-b27d7ebf40ee",
        "colab": {
          "base_uri": "https://localhost:8080/"
        }
      },
      "id": "E7W7L8oXpud8",
      "execution_count": 19,
      "outputs": [
        {
          "output_type": "execute_result",
          "data": {
            "text/plain": [
              "4"
            ]
          },
          "metadata": {},
          "execution_count": 19
        }
      ]
    },
    {
      "cell_type": "code",
      "source": [
        "for layer_weights in weights:\n",
        "    print(layer_weights.shape)"
      ],
      "metadata": {
        "id": "hbR7WTN9oj_g",
        "outputId": "0099938e-cebd-4ccb-ea1f-aaae5c98065d",
        "colab": {
          "base_uri": "https://localhost:8080/"
        }
      },
      "id": "hbR7WTN9oj_g",
      "execution_count": 20,
      "outputs": [
        {
          "output_type": "stream",
          "name": "stdout",
          "text": [
            "(784, 512)\n",
            "(512,)\n",
            "(512, 10)\n",
            "(10,)\n"
          ]
        }
      ]
    },
    {
      "cell_type": "markdown",
      "source": [
        "## 2. Small ConvNet"
      ],
      "metadata": {
        "id": "Vu6-gjIemXpb"
      },
      "id": "Vu6-gjIemXpb"
    },
    {
      "cell_type": "code",
      "source": [
        "from tensorflow import keras\n",
        "from tensorflow.keras import layers\n",
        "\n",
        "# Instantiating a small ConvNet \n",
        "inputs = keras.Input(shape=(28, 28, 1))   # input tensors shape: (image_height, image_width, image_channels)\n",
        "                                          # image_channels = depth = 1 in this case (levels of gray)\n",
        "x = layers.Conv2D(filters=32, kernel_size=3, activation=\"relu\")(inputs)\n",
        "x = layers.MaxPooling2D(pool_size=2)(x)\n",
        "x = layers.Conv2D(filters=64, kernel_size=3, activation=\"relu\")(x)\n",
        "x = layers.MaxPooling2D(pool_size=2)(x)\n",
        "x = layers.Conv2D(filters=128, kernel_size=3, activation=\"relu\")(x)\n",
        "x = layers.Flatten()(x)      #  flatten the 3D outputs to 1D with a Flatten layer before adding the Dense layers\n",
        "outputs = layers.Dense(10, activation=\"softmax\")(x)     # the last layer has 10 outputs and a softmax activation.\n",
        "\n",
        "model = keras.Model(inputs=inputs, outputs=outputs)"
      ],
      "metadata": {
        "id": "-WavDfLcmO5Z"
      },
      "id": "-WavDfLcmO5Z",
      "execution_count": 21,
      "outputs": []
    },
    {
      "cell_type": "code",
      "source": [
        "# Displaying the model’s summary\n",
        "model.summary()"
      ],
      "metadata": {
        "colab": {
          "base_uri": "https://localhost:8080/"
        },
        "id": "_ohbNVv1mwTm",
        "outputId": "7be3bd8e-a334-497d-c211-ee1b06b16c08"
      },
      "id": "_ohbNVv1mwTm",
      "execution_count": 22,
      "outputs": [
        {
          "output_type": "stream",
          "name": "stdout",
          "text": [
            "Model: \"model\"\n",
            "_________________________________________________________________\n",
            " Layer (type)                Output Shape              Param #   \n",
            "=================================================================\n",
            " input_1 (InputLayer)        [(None, 28, 28, 1)]       0         \n",
            "                                                                 \n",
            " conv2d (Conv2D)             (None, 26, 26, 32)        320       \n",
            "                                                                 \n",
            " max_pooling2d (MaxPooling2D  (None, 13, 13, 32)       0         \n",
            " )                                                               \n",
            "                                                                 \n",
            " conv2d_1 (Conv2D)           (None, 11, 11, 64)        18496     \n",
            "                                                                 \n",
            " max_pooling2d_1 (MaxPooling  (None, 5, 5, 64)         0         \n",
            " 2D)                                                             \n",
            "                                                                 \n",
            " conv2d_2 (Conv2D)           (None, 3, 3, 128)         73856     \n",
            "                                                                 \n",
            " flatten (Flatten)           (None, 1152)              0         \n",
            "                                                                 \n",
            " dense_2 (Dense)             (None, 10)                11530     \n",
            "                                                                 \n",
            "=================================================================\n",
            "Total params: 104,202\n",
            "Trainable params: 104,202\n",
            "Non-trainable params: 0\n",
            "_________________________________________________________________\n"
          ]
        }
      ]
    },
    {
      "cell_type": "markdown",
      "source": [
        "The output of every Conv2D and MaxPooling2D layer is a rank-3 tensor of shape (height, width, channels). The width and height dimensions tend to shrink as you go deeper in the model. \n",
        "\n",
        "The number of channels is controlled by the first argument passed to the Conv2D layers (32, 64, or 128)."
      ],
      "metadata": {
        "id": "jEka0ycSne3p"
      },
      "id": "jEka0ycSne3p"
    },
    {
      "cell_type": "code",
      "source": [
        "# Training the convnet on MNIST images\n",
        "from tensorflow.keras.datasets import mnist\n",
        "\n",
        "(train_images, train_labels), (test_images, test_labels) = mnist.load_data()\n",
        " \n",
        "# Preparing the image data the same way as above\n",
        "train_images = train_images.reshape((60000, 28, 28, 1))\n",
        "train_images = train_images.astype(\"float32\") / 255\n",
        "test_images = test_images.reshape((10000, 28, 28, 1))\n",
        "test_images = test_images.astype(\"float32\") / 255\n",
        "\n",
        "model.compile(optimizer=\"rmsprop\",\n",
        "              loss=\"sparse_categorical_crossentropy\",\n",
        "              metrics=[\"accuracy\"])\n",
        "model.fit(train_images, train_labels, epochs=5, batch_size=64)"
      ],
      "metadata": {
        "colab": {
          "base_uri": "https://localhost:8080/"
        },
        "id": "aFFC6nhknjKn",
        "outputId": "fd23f57e-cc3a-47a9-cd66-6d2de664e8aa"
      },
      "id": "aFFC6nhknjKn",
      "execution_count": 23,
      "outputs": [
        {
          "output_type": "stream",
          "name": "stdout",
          "text": [
            "Epoch 1/5\n",
            "938/938 [==============================] - 6s 4ms/step - loss: 0.1596 - accuracy: 0.9512\n",
            "Epoch 2/5\n",
            "938/938 [==============================] - 4s 4ms/step - loss: 0.0436 - accuracy: 0.9871\n",
            "Epoch 3/5\n",
            "938/938 [==============================] - 4s 4ms/step - loss: 0.0310 - accuracy: 0.9903\n",
            "Epoch 4/5\n",
            "938/938 [==============================] - 4s 4ms/step - loss: 0.0226 - accuracy: 0.9932\n",
            "Epoch 5/5\n",
            "938/938 [==============================] - 4s 4ms/step - loss: 0.0175 - accuracy: 0.9947\n"
          ]
        },
        {
          "output_type": "execute_result",
          "data": {
            "text/plain": [
              "<keras.callbacks.History at 0x7f1dd8dae8f0>"
            ]
          },
          "metadata": {},
          "execution_count": 23
        }
      ]
    },
    {
      "cell_type": "code",
      "source": [
        "# Evaluating the convnet\n",
        "test_loss, test_acc = model.evaluate(test_images, test_labels) \n",
        "print(f\"Test accuracy: {test_acc:.3f}\")"
      ],
      "metadata": {
        "colab": {
          "base_uri": "https://localhost:8080/"
        },
        "id": "VTOvGeq_onWL",
        "outputId": "9ca43745-4935-4b33-aecf-88f323c398d0"
      },
      "id": "VTOvGeq_onWL",
      "execution_count": 24,
      "outputs": [
        {
          "output_type": "stream",
          "name": "stdout",
          "text": [
            "313/313 [==============================] - 1s 3ms/step - loss: 0.0289 - accuracy: 0.9913\n",
            "Test accuracy: 0.991\n"
          ]
        }
      ]
    },
    {
      "cell_type": "code",
      "source": [],
      "metadata": {
        "id": "moqz9yPTUj6N"
      },
      "id": "moqz9yPTUj6N",
      "execution_count": 24,
      "outputs": []
    }
  ],
  "metadata": {
    "kernelspec": {
      "display_name": "Python 3 (ipykernel)",
      "language": "python",
      "name": "python3"
    },
    "language_info": {
      "codemirror_mode": {
        "name": "ipython",
        "version": 3
      },
      "file_extension": ".py",
      "mimetype": "text/x-python",
      "name": "python",
      "nbconvert_exporter": "python",
      "pygments_lexer": "ipython3",
      "version": "3.9.13"
    },
    "colab": {
      "provenance": []
    },
    "accelerator": "GPU",
    "gpuClass": "standard"
  },
  "nbformat": 4,
  "nbformat_minor": 5
}