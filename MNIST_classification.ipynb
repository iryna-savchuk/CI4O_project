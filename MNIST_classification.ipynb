{
  "cells": [
    {
      "cell_type": "markdown",
      "id": "8b0cb6fd-1bb3-4839-86d6-cc048bf42ecb",
      "metadata": {
        "id": "8b0cb6fd-1bb3-4839-86d6-cc048bf42ecb"
      },
      "source": [
        "## Loading MNIST dataset\n",
        "The MNIST dataset (a classic in the Machine Learning community) has been around almost as long as the field itself and has been intensively studied. \n",
        "\n",
        "It’s a set of 60,000 training images, plus 10,000 test images, assembled by the National Institute of Standards and Technology (the NIST in MNIST) in the 1980s. \n"
      ]
    },
    {
      "cell_type": "code",
      "execution_count": 1,
      "id": "e35f565f-f068-4adb-8101-c971c15e5164",
      "metadata": {
        "id": "e35f565f-f068-4adb-8101-c971c15e5164"
      },
      "outputs": [],
      "source": [
        "# Loading the MNIST dataset in Keras\n",
        "from tensorflow.keras.datasets import mnist\n",
        "\n",
        "(train_images, train_labels), (test_images, test_labels) = mnist.load_data()"
      ]
    },
    {
      "cell_type": "code",
      "source": [
        "# Having a look at Training Data\n",
        "print(train_images.shape)\n",
        "print(len(train_labels))\n",
        "print(train_labels)"
      ],
      "metadata": {
        "colab": {
          "base_uri": "https://localhost:8080/"
        },
        "id": "9i-6_PyymPZD",
        "outputId": "36939809-cf83-4864-aa8b-051da6d51e69"
      },
      "id": "9i-6_PyymPZD",
      "execution_count": 2,
      "outputs": [
        {
          "output_type": "stream",
          "name": "stdout",
          "text": [
            "(60000, 28, 28)\n",
            "60000\n",
            "[5 0 4 ... 5 6 8]\n"
          ]
        }
      ]
    },
    {
      "cell_type": "code",
      "source": [
        "# Having a look at Test Data\n",
        "print(test_images.shape)\n",
        "print(len(test_labels))\n",
        "print(test_labels)"
      ],
      "metadata": {
        "colab": {
          "base_uri": "https://localhost:8080/"
        },
        "id": "bSje3XfnkU3i",
        "outputId": "c5f195f9-42fd-489c-9342-1f4e15774639"
      },
      "id": "bSje3XfnkU3i",
      "execution_count": 3,
      "outputs": [
        {
          "output_type": "stream",
          "name": "stdout",
          "text": [
            "(10000, 28, 28)\n",
            "10000\n",
            "[7 2 1 ... 4 5 6]\n"
          ]
        }
      ]
    },
    {
      "cell_type": "code",
      "source": [
        "# Exemining one specific image\n",
        "train_images[0]"
      ],
      "metadata": {
        "colab": {
          "base_uri": "https://localhost:8080/"
        },
        "id": "e2UTk4TknPyG",
        "outputId": "0a8ce961-7e63-4f3d-e5ba-576b068f5905"
      },
      "id": "e2UTk4TknPyG",
      "execution_count": 4,
      "outputs": [
        {
          "output_type": "execute_result",
          "data": {
            "text/plain": [
              "array([[  0,   0,   0,   0,   0,   0,   0,   0,   0,   0,   0,   0,   0,\n",
              "          0,   0,   0,   0,   0,   0,   0,   0,   0,   0,   0,   0,   0,\n",
              "          0,   0],\n",
              "       [  0,   0,   0,   0,   0,   0,   0,   0,   0,   0,   0,   0,   0,\n",
              "          0,   0,   0,   0,   0,   0,   0,   0,   0,   0,   0,   0,   0,\n",
              "          0,   0],\n",
              "       [  0,   0,   0,   0,   0,   0,   0,   0,   0,   0,   0,   0,   0,\n",
              "          0,   0,   0,   0,   0,   0,   0,   0,   0,   0,   0,   0,   0,\n",
              "          0,   0],\n",
              "       [  0,   0,   0,   0,   0,   0,   0,   0,   0,   0,   0,   0,   0,\n",
              "          0,   0,   0,   0,   0,   0,   0,   0,   0,   0,   0,   0,   0,\n",
              "          0,   0],\n",
              "       [  0,   0,   0,   0,   0,   0,   0,   0,   0,   0,   0,   0,   0,\n",
              "          0,   0,   0,   0,   0,   0,   0,   0,   0,   0,   0,   0,   0,\n",
              "          0,   0],\n",
              "       [  0,   0,   0,   0,   0,   0,   0,   0,   0,   0,   0,   0,   3,\n",
              "         18,  18,  18, 126, 136, 175,  26, 166, 255, 247, 127,   0,   0,\n",
              "          0,   0],\n",
              "       [  0,   0,   0,   0,   0,   0,   0,   0,  30,  36,  94, 154, 170,\n",
              "        253, 253, 253, 253, 253, 225, 172, 253, 242, 195,  64,   0,   0,\n",
              "          0,   0],\n",
              "       [  0,   0,   0,   0,   0,   0,   0,  49, 238, 253, 253, 253, 253,\n",
              "        253, 253, 253, 253, 251,  93,  82,  82,  56,  39,   0,   0,   0,\n",
              "          0,   0],\n",
              "       [  0,   0,   0,   0,   0,   0,   0,  18, 219, 253, 253, 253, 253,\n",
              "        253, 198, 182, 247, 241,   0,   0,   0,   0,   0,   0,   0,   0,\n",
              "          0,   0],\n",
              "       [  0,   0,   0,   0,   0,   0,   0,   0,  80, 156, 107, 253, 253,\n",
              "        205,  11,   0,  43, 154,   0,   0,   0,   0,   0,   0,   0,   0,\n",
              "          0,   0],\n",
              "       [  0,   0,   0,   0,   0,   0,   0,   0,   0,  14,   1, 154, 253,\n",
              "         90,   0,   0,   0,   0,   0,   0,   0,   0,   0,   0,   0,   0,\n",
              "          0,   0],\n",
              "       [  0,   0,   0,   0,   0,   0,   0,   0,   0,   0,   0, 139, 253,\n",
              "        190,   2,   0,   0,   0,   0,   0,   0,   0,   0,   0,   0,   0,\n",
              "          0,   0],\n",
              "       [  0,   0,   0,   0,   0,   0,   0,   0,   0,   0,   0,  11, 190,\n",
              "        253,  70,   0,   0,   0,   0,   0,   0,   0,   0,   0,   0,   0,\n",
              "          0,   0],\n",
              "       [  0,   0,   0,   0,   0,   0,   0,   0,   0,   0,   0,   0,  35,\n",
              "        241, 225, 160, 108,   1,   0,   0,   0,   0,   0,   0,   0,   0,\n",
              "          0,   0],\n",
              "       [  0,   0,   0,   0,   0,   0,   0,   0,   0,   0,   0,   0,   0,\n",
              "         81, 240, 253, 253, 119,  25,   0,   0,   0,   0,   0,   0,   0,\n",
              "          0,   0],\n",
              "       [  0,   0,   0,   0,   0,   0,   0,   0,   0,   0,   0,   0,   0,\n",
              "          0,  45, 186, 253, 253, 150,  27,   0,   0,   0,   0,   0,   0,\n",
              "          0,   0],\n",
              "       [  0,   0,   0,   0,   0,   0,   0,   0,   0,   0,   0,   0,   0,\n",
              "          0,   0,  16,  93, 252, 253, 187,   0,   0,   0,   0,   0,   0,\n",
              "          0,   0],\n",
              "       [  0,   0,   0,   0,   0,   0,   0,   0,   0,   0,   0,   0,   0,\n",
              "          0,   0,   0,   0, 249, 253, 249,  64,   0,   0,   0,   0,   0,\n",
              "          0,   0],\n",
              "       [  0,   0,   0,   0,   0,   0,   0,   0,   0,   0,   0,   0,   0,\n",
              "          0,  46, 130, 183, 253, 253, 207,   2,   0,   0,   0,   0,   0,\n",
              "          0,   0],\n",
              "       [  0,   0,   0,   0,   0,   0,   0,   0,   0,   0,   0,   0,  39,\n",
              "        148, 229, 253, 253, 253, 250, 182,   0,   0,   0,   0,   0,   0,\n",
              "          0,   0],\n",
              "       [  0,   0,   0,   0,   0,   0,   0,   0,   0,   0,  24, 114, 221,\n",
              "        253, 253, 253, 253, 201,  78,   0,   0,   0,   0,   0,   0,   0,\n",
              "          0,   0],\n",
              "       [  0,   0,   0,   0,   0,   0,   0,   0,  23,  66, 213, 253, 253,\n",
              "        253, 253, 198,  81,   2,   0,   0,   0,   0,   0,   0,   0,   0,\n",
              "          0,   0],\n",
              "       [  0,   0,   0,   0,   0,   0,  18, 171, 219, 253, 253, 253, 253,\n",
              "        195,  80,   9,   0,   0,   0,   0,   0,   0,   0,   0,   0,   0,\n",
              "          0,   0],\n",
              "       [  0,   0,   0,   0,  55, 172, 226, 253, 253, 253, 253, 244, 133,\n",
              "         11,   0,   0,   0,   0,   0,   0,   0,   0,   0,   0,   0,   0,\n",
              "          0,   0],\n",
              "       [  0,   0,   0,   0, 136, 253, 253, 253, 212, 135, 132,  16,   0,\n",
              "          0,   0,   0,   0,   0,   0,   0,   0,   0,   0,   0,   0,   0,\n",
              "          0,   0],\n",
              "       [  0,   0,   0,   0,   0,   0,   0,   0,   0,   0,   0,   0,   0,\n",
              "          0,   0,   0,   0,   0,   0,   0,   0,   0,   0,   0,   0,   0,\n",
              "          0,   0],\n",
              "       [  0,   0,   0,   0,   0,   0,   0,   0,   0,   0,   0,   0,   0,\n",
              "          0,   0,   0,   0,   0,   0,   0,   0,   0,   0,   0,   0,   0,\n",
              "          0,   0],\n",
              "       [  0,   0,   0,   0,   0,   0,   0,   0,   0,   0,   0,   0,   0,\n",
              "          0,   0,   0,   0,   0,   0,   0,   0,   0,   0,   0,   0,   0,\n",
              "          0,   0]], dtype=uint8)"
            ]
          },
          "metadata": {},
          "execution_count": 4
        }
      ]
    },
    {
      "cell_type": "code",
      "source": [
        "# Displaying the item from the training dataset\n",
        "import matplotlib.pyplot as plt\n",
        "\n",
        "digit = train_images[0]\n",
        "plt.imshow(digit, cmap=plt.cm.binary)\n",
        "plt.show()"
      ],
      "metadata": {
        "colab": {
          "base_uri": "https://localhost:8080/",
          "height": 430
        },
        "id": "UWw3Z2sWl2MB",
        "outputId": "cd5442bd-7705-48ff-9320-306b2e7d43e2"
      },
      "id": "UWw3Z2sWl2MB",
      "execution_count": 5,
      "outputs": [
        {
          "output_type": "display_data",
          "data": {
            "text/plain": [
              "<Figure size 640x480 with 1 Axes>"
            ],
            "image/png": "[encoded data removed]"
          },
          "metadata": {}
        }
      ]
    },
    {
      "cell_type": "code",
      "source": [
        "type(train_images[0])"
      ],
      "metadata": {
        "colab": {
          "base_uri": "https://localhost:8080/"
        },
        "id": "fxP3unEQldMz",
        "outputId": "38c436a1-36fc-42e7-90a1-d9761062200e"
      },
      "id": "fxP3unEQldMz",
      "execution_count": 6,
      "outputs": [
        {
          "output_type": "execute_result",
          "data": {
            "text/plain": [
              "numpy.ndarray"
            ]
          },
          "metadata": {},
          "execution_count": 6
        }
      ]
    },
    {
      "cell_type": "code",
      "source": [
        "train_images[0].shape"
      ],
      "metadata": {
        "colab": {
          "base_uri": "https://localhost:8080/"
        },
        "id": "QJH1gsWslgNy",
        "outputId": "794f3196-4a37-44c1-d1bd-a79bb608d44f"
      },
      "id": "QJH1gsWslgNy",
      "execution_count": 7,
      "outputs": [
        {
          "output_type": "execute_result",
          "data": {
            "text/plain": [
              "(28, 28)"
            ]
          },
          "metadata": {},
          "execution_count": 7
        }
      ]
    },
    {
      "cell_type": "markdown",
      "source": [
        "## Simple densely connected NN"
      ],
      "metadata": {
        "id": "BLhb5MI9gBzN"
      },
      "id": "BLhb5MI9gBzN"
    },
    {
      "cell_type": "code",
      "source": [
        "# NN Architecture\n",
        "from tensorflow import keras\n",
        "from tensorflow.keras import layers\n",
        "\n",
        "model = keras.Sequential([\n",
        " layers.Dense(512, activation=\"relu\"),\n",
        " layers.Dense(10, activation=\"softmax\")\n",
        "])"
      ],
      "metadata": {
        "id": "lDefjhGxkczw"
      },
      "id": "lDefjhGxkczw",
      "execution_count": 8,
      "outputs": []
    },
    {
      "cell_type": "code",
      "source": [
        "# Compilation step\n",
        "model.compile(optimizer=\"rmsprop\",\n",
        " loss=\"sparse_categorical_crossentropy\",\n",
        " metrics=[\"accuracy\"])"
      ],
      "metadata": {
        "id": "COmOUcsHknfA"
      },
      "id": "COmOUcsHknfA",
      "execution_count": 9,
      "outputs": []
    },
    {
      "cell_type": "code",
      "source": [
        "# Preparing the image data\n",
        "train_images = train_images.reshape((60000, 28 * 28))\n",
        "train_images = train_images.astype(\"float32\") / 255\n",
        "\n",
        "test_images = test_images.reshape((10000, 28 * 28))\n",
        "test_images = test_images.astype(\"float32\") / 255"
      ],
      "metadata": {
        "id": "Y0_SOV7WkzUX"
      },
      "id": "Y0_SOV7WkzUX",
      "execution_count": 10,
      "outputs": []
    },
    {
      "cell_type": "code",
      "source": [
        "# Fitting the model\n",
        "model.fit(train_images, train_labels, epochs=5, batch_size=128)"
      ],
      "metadata": {
        "colab": {
          "base_uri": "https://localhost:8080/"
        },
        "id": "Vt-VKpAKk498",
        "outputId": "687ddf2b-9709-4a7b-e740-a25c1262d397"
      },
      "id": "Vt-VKpAKk498",
      "execution_count": 11,
      "outputs": [
        {
          "output_type": "stream",
          "name": "stdout",
          "text": [
            "Epoch 1/5\n",
            "469/469 [==============================] - 4s 4ms/step - loss: 0.2675 - accuracy: 0.9221\n",
            "Epoch 2/5\n",
            "469/469 [==============================] - 3s 6ms/step - loss: 0.1072 - accuracy: 0.9682\n",
            "Epoch 3/5\n",
            "469/469 [==============================] - 2s 5ms/step - loss: 0.0713 - accuracy: 0.9791\n",
            "Epoch 4/5\n",
            "469/469 [==============================] - 3s 6ms/step - loss: 0.0509 - accuracy: 0.9845\n",
            "Epoch 5/5\n",
            "469/469 [==============================] - 3s 6ms/step - loss: 0.0382 - accuracy: 0.9891\n"
          ]
        },
        {
          "output_type": "execute_result",
          "data": {
            "text/plain": [
              "<keras.callbacks.History at 0x7f471c05bf70>"
            ]
          },
          "metadata": {},
          "execution_count": 11
        }
      ]
    },
    {
      "cell_type": "code",
      "source": [
        "model.summary()"
      ],
      "metadata": {
        "colab": {
          "base_uri": "https://localhost:8080/"
        },
        "id": "v_QE57d9nT3q",
        "outputId": "04756805-216d-45ec-d102-4c9753a0082f"
      },
      "id": "v_QE57d9nT3q",
      "execution_count": 12,
      "outputs": [
        {
          "output_type": "stream",
          "name": "stdout",
          "text": [
            "Model: \"sequential\"\n",
            "_________________________________________________________________\n",
            " Layer (type)                Output Shape              Param #   \n",
            "=================================================================\n",
            " dense (Dense)               (None, 512)               401920    \n",
            "                                                                 \n",
            " dense_1 (Dense)             (None, 10)                5130      \n",
            "                                                                 \n",
            "=================================================================\n",
            "Total params: 407,050\n",
            "Trainable params: 407,050\n",
            "Non-trainable params: 0\n",
            "_________________________________________________________________\n"
          ]
        }
      ]
    },
    {
      "cell_type": "code",
      "source": [
        "# Using the model to make predictions\n",
        "test_digits = test_images[0:10]\n",
        "predictions = model.predict(test_digits)\n",
        "predictions[0]"
      ],
      "metadata": {
        "colab": {
          "base_uri": "https://localhost:8080/"
        },
        "id": "p2-svjNjk9uF",
        "outputId": "14f64ea0-ec63-428a-e931-ba5bbcc1a568"
      },
      "id": "p2-svjNjk9uF",
      "execution_count": 13,
      "outputs": [
        {
          "output_type": "stream",
          "name": "stdout",
          "text": [
            "1/1 [==============================] - 0s 361ms/step\n"
          ]
        },
        {
          "output_type": "execute_result",
          "data": {
            "text/plain": [
              "array([2.1328370e-07, 1.2400448e-08, 5.7685105e-05, 1.2591596e-04,\n",
              "       2.0625070e-10, 1.6846073e-08, 7.7361529e-12, 9.9981195e-01,\n",
              "       8.8938023e-08, 4.1463618e-06], dtype=float32)"
            ]
          },
          "metadata": {},
          "execution_count": 13
        }
      ]
    },
    {
      "cell_type": "code",
      "source": [
        "predictions[0].argmax() "
      ],
      "metadata": {
        "colab": {
          "base_uri": "https://localhost:8080/"
        },
        "id": "GPolDeXflN3R",
        "outputId": "d1818c99-0348-430a-eefc-c9c82086fad7"
      },
      "id": "GPolDeXflN3R",
      "execution_count": 14,
      "outputs": [
        {
          "output_type": "execute_result",
          "data": {
            "text/plain": [
              "7"
            ]
          },
          "metadata": {},
          "execution_count": 14
        }
      ]
    },
    {
      "cell_type": "code",
      "source": [
        "predictions[0][7] "
      ],
      "metadata": {
        "colab": {
          "base_uri": "https://localhost:8080/"
        },
        "id": "9I0cK6oylSiD",
        "outputId": "020fb0d4-99a4-4526-85ff-a2af54df2089"
      },
      "id": "9I0cK6oylSiD",
      "execution_count": 15,
      "outputs": [
        {
          "output_type": "execute_result",
          "data": {
            "text/plain": [
              "0.99981195"
            ]
          },
          "metadata": {},
          "execution_count": 15
        }
      ]
    },
    {
      "cell_type": "code",
      "source": [
        "test_labels[0] "
      ],
      "metadata": {
        "colab": {
          "base_uri": "https://localhost:8080/"
        },
        "id": "un2I8ERJlV_p",
        "outputId": "365593bf-45fe-4d06-a0e3-0a24212a797d"
      },
      "id": "un2I8ERJlV_p",
      "execution_count": 16,
      "outputs": [
        {
          "output_type": "execute_result",
          "data": {
            "text/plain": [
              "7"
            ]
          },
          "metadata": {},
          "execution_count": 16
        }
      ]
    },
    {
      "cell_type": "code",
      "source": [
        "# Evaluating the model on new (test) data\n",
        "test_loss, test_acc = model.evaluate(test_images, test_labels)\n",
        "print(f\"test_acc: {test_acc}\")"
      ],
      "metadata": {
        "colab": {
          "base_uri": "https://localhost:8080/"
        },
        "id": "Si6ZyYSzla_b",
        "outputId": "b9bcf8d4-55aa-4fd2-f09b-16c74b689f89"
      },
      "id": "Si6ZyYSzla_b",
      "execution_count": 17,
      "outputs": [
        {
          "output_type": "stream",
          "name": "stdout",
          "text": [
            "313/313 [==============================] - 2s 6ms/step - loss: 0.0643 - accuracy: 0.9805\n",
            "test_acc: 0.9804999828338623\n"
          ]
        }
      ]
    },
    {
      "cell_type": "code",
      "source": [
        "# To see the weights of a trained model, let's use the get_weights() method:\n",
        "weights = model.get_weights()\n",
        "\n",
        "# 'weights' is a list containing weight tensors\n",
        "for layer_weights in weights:\n",
        "    print(layer_weights)"
      ],
      "metadata": {
        "colab": {
          "base_uri": "https://localhost:8080/"
        },
        "id": "sd-ZtRgYoX14",
        "outputId": "217b1a0b-aaec-493e-e7f6-bfde3f5b9e26"
      },
      "id": "sd-ZtRgYoX14",
      "execution_count": 18,
      "outputs": [
        {
          "output_type": "stream",
          "name": "stdout",
          "text": [
            "[[-0.06763242  0.0526904   0.03603534 ... -0.05636118  0.06493108\n",
            "   0.03957584]\n",
            " [ 0.04334639 -0.04525555 -0.06539775 ...  0.0438985   0.00935454\n",
            "  -0.03087872]\n",
            " [-0.06380425  0.0379213  -0.00535713 ... -0.02421734  0.06361093\n",
            "  -0.0417529 ]\n",
            " ...\n",
            " [ 0.03275394 -0.0478764  -0.020176   ...  0.0574317  -0.01276574\n",
            "   0.01965071]\n",
            " [ 0.01492725 -0.01971659 -0.02033167 ...  0.046092   -0.03917704\n",
            "  -0.0177963 ]\n",
            " [-0.02983022  0.00189253 -0.01090201 ... -0.05801511  0.01919405\n",
            "  -0.00839086]]\n",
            "[ 1.29439048e-02  4.50743549e-02 -8.38274485e-04  2.16187760e-02\n",
            "  3.30999233e-02  5.79254180e-02  1.40648754e-03  8.62453580e-02\n",
            "  2.63565294e-02  4.81463328e-04  5.76809980e-02  6.12516375e-03\n",
            " -5.45692630e-04 -4.56890650e-02  1.50027173e-02  4.46915366e-02\n",
            " -6.20708615e-02 -9.27757006e-03  1.84745360e-02  8.45212303e-03\n",
            "  1.01701962e-02 -1.83059182e-02  8.13683420e-02  1.80063825e-02\n",
            " -3.29876132e-02 -2.05178978e-03  4.09530811e-02 -2.95591820e-02\n",
            " -3.05262730e-02  6.83049411e-02  3.22802141e-02 -2.24506948e-02\n",
            "  2.94630546e-02  3.64726260e-02  2.65312511e-02 -8.85209292e-02\n",
            " -4.37039956e-02  1.85561217e-02  3.65162827e-02 -3.97843421e-02\n",
            "  2.70836409e-02  2.94098686e-02 -7.52793532e-03 -2.90253516e-02\n",
            " -3.10430322e-02 -6.30847514e-02 -1.01013752e-02 -4.87913154e-02\n",
            " -1.62970964e-02 -4.79418114e-02  9.68227070e-03 -1.07947912e-04\n",
            "  8.65369216e-02  1.67076886e-02  1.83786191e-02 -2.24084761e-02\n",
            "  3.01504079e-02 -6.51018023e-02  1.19541036e-02  1.38017088e-02\n",
            "  1.02386214e-02 -2.35023946e-02  6.85231388e-02 -3.83818336e-02\n",
            " -3.28002609e-02 -1.17787682e-02 -7.59173930e-03 -9.46992170e-03\n",
            "  7.48387575e-02  3.66517492e-02 -2.44907066e-02 -1.56583972e-02\n",
            " -1.57937538e-04  2.70303153e-02  3.36852297e-02 -4.41028364e-03\n",
            "  2.85318047e-02  5.01950197e-02  5.38654858e-03  2.01857500e-02\n",
            " -7.92003062e-04 -2.15376001e-02  5.81143871e-02 -3.46801579e-02\n",
            "  5.64704766e-04  6.94236066e-03  9.91101190e-03  8.51118565e-02\n",
            "  9.22133774e-03 -2.33259555e-02  1.33920386e-02  3.52234617e-02\n",
            "  5.21066152e-02 -1.55351544e-02 -2.04453431e-02  1.95615459e-02\n",
            " -1.96443424e-02 -5.85990818e-03  1.07156672e-01  6.91645173e-03\n",
            " -3.81195508e-02  5.62762916e-02 -3.04007418e-02 -2.12040469e-02\n",
            "  1.16197579e-02 -2.70123668e-02  7.75576755e-02 -6.78217411e-02\n",
            "  1.13376714e-02 -2.35090572e-02 -1.76991709e-02  5.17160520e-02\n",
            " -3.68452352e-03 -1.89852882e-02 -2.07370128e-02  1.23663554e-02\n",
            "  1.15081277e-02 -3.54167186e-02 -1.03218444e-02 -4.23548110e-02\n",
            "  2.52025258e-02 -2.19966788e-02 -7.59619009e-03 -1.68327615e-02\n",
            "  8.12421665e-02 -1.40291196e-03  2.83720829e-02  7.88730290e-03\n",
            "  8.01240802e-02  1.32988039e-02  8.88533518e-03 -4.59664911e-02\n",
            "  3.02323420e-02 -3.49859498e-03 -3.03395018e-02  1.20027717e-02\n",
            "  6.62143156e-02  6.59878254e-02 -6.75697485e-03  3.16219125e-03\n",
            "  3.77435535e-02  9.74333670e-05 -4.24079224e-02  4.02969159e-02\n",
            " -3.99710201e-02  6.87183365e-02  2.20999997e-02 -1.28325718e-02\n",
            " -2.26882584e-02 -4.65495605e-03 -6.44770339e-02 -5.85131906e-02\n",
            "  1.04626901e-02  3.82137783e-02  1.30433170e-02  4.32674810e-02\n",
            " -8.81971605e-03  5.66151179e-02 -5.04707024e-02 -1.01080090e-02\n",
            " -4.53352556e-02 -1.41413528e-02 -3.53336311e-03  1.80138405e-02\n",
            "  3.67515981e-02  3.23590748e-02 -1.40496269e-02 -1.68382507e-02\n",
            "  2.76137795e-02  2.14868635e-02  1.52649940e-04 -1.36486236e-02\n",
            " -1.35369571e-02 -1.06592281e-02 -3.82001605e-03  6.98401928e-02\n",
            "  2.47640125e-02  2.08530221e-02  4.92445342e-02 -5.94117679e-04\n",
            " -1.80305131e-02 -5.07600605e-04 -6.61967620e-02 -8.75721034e-03\n",
            " -2.71480586e-02 -2.18635462e-02 -9.16392077e-03  2.14241929e-02\n",
            "  5.70275076e-02  2.30589490e-02 -1.89237669e-03  2.03647171e-04\n",
            " -1.26394602e-02  1.50027196e-03  5.12156263e-03 -7.10535562e-04\n",
            "  1.21846125e-02  2.43203416e-02  3.29135582e-02 -1.18085612e-02\n",
            " -3.65932696e-02 -4.43225773e-03 -6.63488582e-02  1.08850971e-02\n",
            "  1.93881243e-02  1.09741194e-02  3.07638720e-02 -1.66284963e-02\n",
            "  9.33461916e-03 -4.09856476e-02 -3.27734882e-03 -2.94573810e-02\n",
            " -8.37272964e-04  3.81344445e-02 -4.54512686e-02  5.04763797e-02\n",
            "  1.72170624e-02 -3.59504744e-02  8.97639152e-03 -2.05800254e-02\n",
            "  2.63972208e-02  1.86337456e-02 -2.39280723e-02  4.60360050e-02\n",
            " -2.34700516e-02  2.12135799e-02  1.40901422e-02  3.45358476e-02\n",
            " -9.13374312e-03  1.19408183e-02  3.18378471e-02 -4.01537642e-02\n",
            " -4.83172834e-02  2.39232816e-02 -1.24453176e-02  2.41610929e-02\n",
            " -5.97030260e-02 -1.74070410e-02  2.48982515e-02 -1.75468139e-02\n",
            " -3.22152339e-02 -8.52868520e-03  4.90813404e-02 -3.10256239e-02\n",
            "  2.63022259e-02 -2.08771899e-02  2.81053386e-03 -1.04134064e-02\n",
            "  3.70395035e-02  3.35771590e-02  2.17612982e-02  9.40770493e-04\n",
            " -5.44768944e-02  1.88528132e-02  7.82667473e-02  5.43125905e-02\n",
            " -5.55771543e-03 -5.46404868e-02 -3.46351787e-02 -4.13187928e-02\n",
            "  9.20354202e-03  2.09578089e-02  8.24550763e-02  8.82936269e-02\n",
            "  9.82933678e-03 -1.68297123e-02 -7.36204721e-03  1.81783848e-02\n",
            "  8.14493969e-02 -6.32347306e-03  3.55302617e-02 -2.13293582e-02\n",
            " -2.91297194e-02 -5.41902753e-03 -3.41169089e-02  5.15095964e-02\n",
            "  1.34099098e-02  1.37606659e-03 -1.23466831e-02  1.84594421e-03\n",
            " -5.96696846e-02 -2.57793609e-02  4.88069355e-02 -2.91730072e-02\n",
            "  1.76049564e-02  1.56072844e-02  1.03728417e-02  1.60943028e-02\n",
            " -2.30039023e-02 -1.52812628e-02  1.04679450e-01 -1.59750432e-02\n",
            " -8.00362900e-02 -5.32048345e-02  5.87654598e-02 -3.10100033e-03\n",
            " -2.95989448e-03 -7.11520668e-03  7.51345456e-02 -3.56356725e-02\n",
            " -1.39730545e-02  2.82969745e-03  2.76638921e-02 -4.20183428e-02\n",
            " -1.31020248e-02  1.42442901e-02 -2.10473109e-02  2.43100934e-02\n",
            "  4.86178286e-02 -5.08473516e-02  9.69924964e-03 -2.32104231e-02\n",
            " -1.77628659e-02 -1.53722987e-02  5.08963764e-02 -2.50260178e-02\n",
            " -6.74345195e-02 -1.13865295e-02  6.44723186e-03  5.02966903e-03\n",
            " -3.60893756e-02 -1.62093583e-02 -1.73284300e-02  4.31852788e-02\n",
            " -3.88257727e-02  3.63516323e-02 -4.91937548e-02 -2.68928939e-03\n",
            "  1.33147025e-02  8.19290709e-03  6.92831874e-02  1.45442355e-02\n",
            " -3.73900458e-02 -1.72801446e-02 -8.95010903e-02  2.62331730e-03\n",
            "  1.25966175e-02  1.15290750e-04 -7.53431814e-03 -4.69192746e-04\n",
            "  4.35821246e-03  5.12288697e-02 -5.64879458e-03 -4.02695313e-02\n",
            " -6.26191497e-02 -1.26977721e-02  2.42905300e-02 -3.70906182e-02\n",
            " -2.61444673e-02  9.87316854e-03  3.14268693e-02  1.60588715e-02\n",
            "  1.30625325e-03  4.03753333e-02  4.89544570e-02  1.98481269e-02\n",
            "  9.55623388e-03  5.37600070e-02  7.07026571e-02  5.22247283e-03\n",
            " -5.98671706e-03 -1.75224915e-02  7.47475633e-03  3.75288539e-03\n",
            "  8.74712039e-03  2.50446852e-02  5.76805621e-02  1.78238638e-02\n",
            "  3.43093537e-02  2.92981323e-02  5.06031252e-02 -2.43459456e-02\n",
            " -2.24687159e-02  3.80740985e-02  4.90965210e-02  4.40247469e-02\n",
            " -3.99893038e-02 -1.87850948e-02 -2.83213537e-02 -6.12291321e-03\n",
            "  1.49117382e-02  1.45311933e-02  2.97284666e-02  1.12747578e-02\n",
            " -2.63451133e-02 -6.87257499e-02 -2.75288522e-02 -5.08972723e-03\n",
            " -7.22540095e-02 -8.62828568e-02  4.74650636e-02 -3.65419798e-02\n",
            " -1.21543016e-02  7.34389052e-02  1.88441947e-02  3.31385620e-02\n",
            " -5.65200783e-02 -3.10122911e-02 -9.62048769e-03 -3.16358395e-02\n",
            "  1.79352518e-02  4.17642891e-02 -3.00346967e-02 -4.24203537e-02\n",
            "  1.85706522e-02  5.49442023e-02  6.67999312e-02  1.02610238e-01\n",
            " -1.81571022e-02  1.65918488e-02 -3.57892364e-02  4.26788293e-02\n",
            "  1.77078471e-02  4.90847556e-03  2.46660933e-02  6.48457333e-02\n",
            "  2.22141948e-03  2.05528438e-02  6.38432652e-02  8.19747685e-04\n",
            " -7.00535551e-02  1.65598467e-02 -4.92889155e-03 -6.75116014e-03\n",
            " -1.96695719e-02 -4.88684997e-02  2.05906704e-02 -2.71822046e-02\n",
            "  3.23559158e-02  6.55716583e-02  1.35678770e-02 -3.50020863e-02\n",
            "  2.50719786e-02  2.00731624e-02  5.44009358e-02  9.42030642e-03\n",
            "  2.72696503e-02  2.94438433e-02 -2.30386993e-03  8.73465557e-03\n",
            " -6.99341623e-03 -2.37478386e-03 -2.98138801e-02  1.12589542e-02\n",
            " -2.80700382e-02 -1.92438737e-02  3.82979587e-02  4.52725850e-02\n",
            "  8.36997293e-03  6.58775354e-03 -2.20409152e-03 -1.35929007e-02\n",
            "  3.40002291e-02  6.40401468e-02  3.47265461e-03  2.93083880e-02\n",
            "  1.82788689e-02  3.67240165e-03 -1.77182034e-02  3.39303911e-02\n",
            " -2.00988706e-02  1.78335086e-02  2.29088496e-02  3.13508622e-02\n",
            " -1.95131004e-02  1.15494579e-02 -1.41530689e-02 -4.90401760e-02\n",
            "  9.66830999e-02  8.20851177e-02 -7.01283757e-03  3.39708775e-02\n",
            "  2.78059039e-02 -3.83350775e-02 -2.14699991e-02 -1.64713394e-02\n",
            "  1.10341776e-02  2.40181461e-02  4.78917696e-02  2.45895274e-02\n",
            " -1.76952220e-02  3.29640768e-02 -2.95649841e-03  1.16940187e-02\n",
            "  1.93063300e-02 -3.40571478e-02  1.22582866e-02 -6.90296246e-03\n",
            " -1.45333298e-02  3.91738191e-02 -3.55747119e-02  5.86538278e-02\n",
            "  1.27654728e-02  4.33941744e-02 -6.39958158e-02 -3.76738608e-02\n",
            " -3.58403511e-02  2.52819639e-02  1.04483590e-01 -3.01385559e-02\n",
            "  7.05962814e-03  5.49555756e-02 -1.28517020e-03 -8.20985530e-03\n",
            "  3.36339138e-02  7.44117424e-04 -2.02927440e-02  3.31360102e-02\n",
            "  3.87737490e-02 -3.03451344e-02  1.12561518e-02  1.71987154e-02]\n",
            "[[-0.04333722 -0.27207634  0.16945764 ...  0.02447038  0.05148696\n",
            "   0.01509907]\n",
            " [-0.02960665 -0.1451093  -0.01937482 ...  0.07945593 -0.35331154\n",
            "   0.01511365]\n",
            " [-0.10407396 -0.08402663  0.11782412 ...  0.18279135  0.03550621\n",
            "  -0.10508616]\n",
            " ...\n",
            " [-0.17398424  0.16290838 -0.06598837 ...  0.14570266  0.01270705\n",
            "  -0.4803067 ]\n",
            " [-0.01696452  0.07714625  0.04735271 ...  0.05732051  0.02725538\n",
            "   0.02749268]\n",
            " [ 0.01321169 -0.02990054  0.09837879 ... -0.08402044  0.00257736\n",
            "   0.01389521]]\n",
            "[-0.07057334 -0.01744194  0.00766897 -0.02657616  0.01679193  0.03103428\n",
            " -0.01619814 -0.02740676  0.05658143 -0.01157883]\n"
          ]
        }
      ]
    },
    {
      "cell_type": "code",
      "source": [
        "len(weights)"
      ],
      "metadata": {
        "colab": {
          "base_uri": "https://localhost:8080/"
        },
        "id": "E7W7L8oXpud8",
        "outputId": "bdf591fa-7bd2-4e61-c82d-a549a6a5a9a1"
      },
      "id": "E7W7L8oXpud8",
      "execution_count": 19,
      "outputs": [
        {
          "output_type": "execute_result",
          "data": {
            "text/plain": [
              "4"
            ]
          },
          "metadata": {},
          "execution_count": 19
        }
      ]
    },
    {
      "cell_type": "code",
      "source": [
        "for layer_weights in weights:\n",
        "    print(layer_weights.shape)"
      ],
      "metadata": {
        "colab": {
          "base_uri": "https://localhost:8080/"
        },
        "id": "hbR7WTN9oj_g",
        "outputId": "989a34ed-7e6f-4bc3-e3b0-a91d210aa77b"
      },
      "id": "hbR7WTN9oj_g",
      "execution_count": 20,
      "outputs": [
        {
          "output_type": "stream",
          "name": "stdout",
          "text": [
            "(784, 512)\n",
            "(512,)\n",
            "(512, 10)\n",
            "(10,)\n"
          ]
        }
      ]
    },
    {
      "cell_type": "markdown",
      "source": [
        "## Initializing random weights and creating NN with those weights"
      ],
      "metadata": {
        "id": "eVTKFFrRte34"
      },
      "id": "eVTKFFrRte34"
    },
    {
      "cell_type": "code",
      "source": [
        "import numpy as np\n",
        "\n",
        "# Set the random seed for reproducibility\n",
        "np.random.seed(42)\n",
        "\n",
        "input = 28*28\n",
        "hidden = 512\n",
        "output = 10\n",
        "\n",
        "weights_1 = np.random.rand(input*hidden).reshape(input, hidden)\n",
        "biases_1 = np.random.rand(hidden).reshape(hidden,)\n",
        "weights_2 = np.random.rand(hidden*output).reshape(hidden, output)\n",
        "biases_2 = np.random.rand(output).reshape(output,)\n",
        "\n",
        "# Assuming you have a list of four lists, each representing a weight array\n",
        "weights_list = [weights_1, biases_1, weights_2, biases_2]\n",
        "\n",
        "# Print the shapes of the weight arrays (optional)\n",
        "for weights in weights_list:\n",
        "    print(weights.shape)"
      ],
      "metadata": {
        "id": "B900l2DaGruR",
        "outputId": "40427ff7-2fe2-4236-d918-a75acc899f34",
        "colab": {
          "base_uri": "https://localhost:8080/"
        }
      },
      "id": "B900l2DaGruR",
      "execution_count": 21,
      "outputs": [
        {
          "output_type": "stream",
          "name": "stdout",
          "text": [
            "(784, 512)\n",
            "(512,)\n",
            "(512, 10)\n",
            "(10,)\n"
          ]
        }
      ]
    },
    {
      "cell_type": "code",
      "source": [
        "# Defining the architecture of a neural network (individual)\n",
        "individual = keras.Sequential([\n",
        " layers.Dense(512, activation=\"relu\", input_shape=(784,)),\n",
        " layers.Dense(10, activation=\"softmax\")\n",
        "])\n",
        "\n",
        "# Setting the weights of the model \n",
        "individual.set_weights(weights_list)\n",
        "\n",
        "# Compiling the model \n",
        "individual.compile(optimizer=\"rmsprop\",\n",
        "                   loss=\"sparse_categorical_crossentropy\",\n",
        "                   metrics=[\"accuracy\"])"
      ],
      "metadata": {
        "id": "e-Ikiv7eyziS"
      },
      "id": "e-Ikiv7eyziS",
      "execution_count": 22,
      "outputs": []
    },
    {
      "cell_type": "code",
      "source": [
        "individual.summary()"
      ],
      "metadata": {
        "colab": {
          "base_uri": "https://localhost:8080/"
        },
        "id": "MJf6pDd318ie",
        "outputId": "0ef43bcc-172a-456d-ba77-2122dbb0566d"
      },
      "id": "MJf6pDd318ie",
      "execution_count": 23,
      "outputs": [
        {
          "output_type": "stream",
          "name": "stdout",
          "text": [
            "Model: \"sequential_1\"\n",
            "_________________________________________________________________\n",
            " Layer (type)                Output Shape              Param #   \n",
            "=================================================================\n",
            " dense_2 (Dense)             (None, 512)               401920    \n",
            "                                                                 \n",
            " dense_3 (Dense)             (None, 10)                5130      \n",
            "                                                                 \n",
            "=================================================================\n",
            "Total params: 407,050\n",
            "Trainable params: 407,050\n",
            "Non-trainable params: 0\n",
            "_________________________________________________________________\n"
          ]
        }
      ]
    },
    {
      "cell_type": "code",
      "source": [
        "# Evaluating the model on train data\n",
        "test_loss, test_acc = individual.evaluate(train_images, train_labels)"
      ],
      "metadata": {
        "colab": {
          "base_uri": "https://localhost:8080/"
        },
        "id": "j150y3J77e54",
        "outputId": "ff407ee2-e35b-4038-f0a3-979067ce0e4c"
      },
      "id": "j150y3J77e54",
      "execution_count": 24,
      "outputs": [
        {
          "output_type": "stream",
          "name": "stdout",
          "text": [
            "1875/1875 [==============================] - 4s 2ms/step - loss: 795.9622 - accuracy: 0.0904\n"
          ]
        }
      ]
    },
    {
      "cell_type": "code",
      "source": [
        "# Evaluating the model on new (test) data\n",
        "test_loss, test_acc = individual.evaluate(test_images, test_labels)\n",
        "print(f\"test_acc: {test_acc}\")"
      ],
      "metadata": {
        "colab": {
          "base_uri": "https://localhost:8080/"
        },
        "id": "3UJH-D8K7Rjj",
        "outputId": "185e6b7d-eee4-47db-db7c-3d64f9755db7"
      },
      "id": "3UJH-D8K7Rjj",
      "execution_count": 25,
      "outputs": [
        {
          "output_type": "stream",
          "name": "stdout",
          "text": [
            "313/313 [==============================] - 1s 2ms/step - loss: 805.0311 - accuracy: 0.0892\n",
            "test_acc: 0.08919999748468399\n"
          ]
        }
      ]
    }
  ],
  "metadata": {
    "kernelspec": {
      "display_name": "Python 3 (ipykernel)",
      "language": "python",
      "name": "python3"
    },
    "language_info": {
      "codemirror_mode": {
        "name": "ipython",
        "version": 3
      },
      "file_extension": ".py",
      "mimetype": "text/x-python",
      "name": "python",
      "nbconvert_exporter": "python",
      "pygments_lexer": "ipython3",
      "version": "3.9.13"
    },
    "colab": {
      "provenance": []
    },
    "accelerator": "GPU",
    "gpuClass": "standard"
  },
  "nbformat": 4,
  "nbformat_minor": 5
}