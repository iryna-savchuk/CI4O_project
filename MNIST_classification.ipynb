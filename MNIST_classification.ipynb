{
  "cells": [
    {
      "cell_type": "markdown",
      "id": "8b0cb6fd-1bb3-4839-86d6-cc048bf42ecb",
      "metadata": {
        "id": "8b0cb6fd-1bb3-4839-86d6-cc048bf42ecb"
      },
      "source": [
        "## Loading MNIST dataset\n",
        "The MNIST dataset (a classic in the Machine Learning community) has been around almost as long as the field itself and has been intensively studied. \n",
        "\n",
        "It’s a set of 60,000 training images, plus 10,000 test images, assembled by the National Institute of Standards and Technology (the NIST in MNIST) in the 1980s. \n"
      ]
    },
    {
      "cell_type": "code",
      "execution_count": 1,
      "id": "e35f565f-f068-4adb-8101-c971c15e5164",
      "metadata": {
        "id": "e35f565f-f068-4adb-8101-c971c15e5164"
      },
      "outputs": [],
      "source": [
        "# Loading the MNIST dataset in Keras\n",
        "from tensorflow.keras.datasets import mnist\n",
        "\n",
        "(train_images, train_labels), (test_images, test_labels) = mnist.load_data()"
      ]
    },
    {
      "cell_type": "code",
      "source": [
        "# Having a look at Training Data\n",
        "print(train_images.shape)\n",
        "print(len(train_labels))\n",
        "print(train_labels)"
      ],
      "metadata": {
        "colab": {
          "base_uri": "https://localhost:8080/"
        },
        "id": "9i-6_PyymPZD",
        "outputId": "3ec057bd-d24d-473d-b732-5c84acede84d"
      },
      "id": "9i-6_PyymPZD",
      "execution_count": 2,
      "outputs": [
        {
          "output_type": "stream",
          "name": "stdout",
          "text": [
            "(60000, 28, 28)\n",
            "60000\n",
            "[5 0 4 ... 5 6 8]\n"
          ]
        }
      ]
    },
    {
      "cell_type": "code",
      "source": [
        "# Having a look at Test Data\n",
        "print(test_images.shape)\n",
        "print(len(test_labels))\n",
        "print(test_labels)"
      ],
      "metadata": {
        "colab": {
          "base_uri": "https://localhost:8080/"
        },
        "id": "bSje3XfnkU3i",
        "outputId": "8515a981-805a-49ae-d893-35c21a35bdec"
      },
      "id": "bSje3XfnkU3i",
      "execution_count": 3,
      "outputs": [
        {
          "output_type": "stream",
          "name": "stdout",
          "text": [
            "(10000, 28, 28)\n",
            "10000\n",
            "[7 2 1 ... 4 5 6]\n"
          ]
        }
      ]
    },
    {
      "cell_type": "code",
      "source": [
        "# Exemining one specific image\n",
        "train_images[0]"
      ],
      "metadata": {
        "colab": {
          "base_uri": "https://localhost:8080/"
        },
        "id": "e2UTk4TknPyG",
        "outputId": "80e2b06a-f8ab-4522-e01a-5004b833bc22"
      },
      "id": "e2UTk4TknPyG",
      "execution_count": 4,
      "outputs": [
        {
          "output_type": "execute_result",
          "data": {
            "text/plain": [
              "array([[  0,   0,   0,   0,   0,   0,   0,   0,   0,   0,   0,   0,   0,\n",
              "          0,   0,   0,   0,   0,   0,   0,   0,   0,   0,   0,   0,   0,\n",
              "          0,   0],\n",
              "       [  0,   0,   0,   0,   0,   0,   0,   0,   0,   0,   0,   0,   0,\n",
              "          0,   0,   0,   0,   0,   0,   0,   0,   0,   0,   0,   0,   0,\n",
              "          0,   0],\n",
              "       [  0,   0,   0,   0,   0,   0,   0,   0,   0,   0,   0,   0,   0,\n",
              "          0,   0,   0,   0,   0,   0,   0,   0,   0,   0,   0,   0,   0,\n",
              "          0,   0],\n",
              "       [  0,   0,   0,   0,   0,   0,   0,   0,   0,   0,   0,   0,   0,\n",
              "          0,   0,   0,   0,   0,   0,   0,   0,   0,   0,   0,   0,   0,\n",
              "          0,   0],\n",
              "       [  0,   0,   0,   0,   0,   0,   0,   0,   0,   0,   0,   0,   0,\n",
              "          0,   0,   0,   0,   0,   0,   0,   0,   0,   0,   0,   0,   0,\n",
              "          0,   0],\n",
              "       [  0,   0,   0,   0,   0,   0,   0,   0,   0,   0,   0,   0,   3,\n",
              "         18,  18,  18, 126, 136, 175,  26, 166, 255, 247, 127,   0,   0,\n",
              "          0,   0],\n",
              "       [  0,   0,   0,   0,   0,   0,   0,   0,  30,  36,  94, 154, 170,\n",
              "        253, 253, 253, 253, 253, 225, 172, 253, 242, 195,  64,   0,   0,\n",
              "          0,   0],\n",
              "       [  0,   0,   0,   0,   0,   0,   0,  49, 238, 253, 253, 253, 253,\n",
              "        253, 253, 253, 253, 251,  93,  82,  82,  56,  39,   0,   0,   0,\n",
              "          0,   0],\n",
              "       [  0,   0,   0,   0,   0,   0,   0,  18, 219, 253, 253, 253, 253,\n",
              "        253, 198, 182, 247, 241,   0,   0,   0,   0,   0,   0,   0,   0,\n",
              "          0,   0],\n",
              "       [  0,   0,   0,   0,   0,   0,   0,   0,  80, 156, 107, 253, 253,\n",
              "        205,  11,   0,  43, 154,   0,   0,   0,   0,   0,   0,   0,   0,\n",
              "          0,   0],\n",
              "       [  0,   0,   0,   0,   0,   0,   0,   0,   0,  14,   1, 154, 253,\n",
              "         90,   0,   0,   0,   0,   0,   0,   0,   0,   0,   0,   0,   0,\n",
              "          0,   0],\n",
              "       [  0,   0,   0,   0,   0,   0,   0,   0,   0,   0,   0, 139, 253,\n",
              "        190,   2,   0,   0,   0,   0,   0,   0,   0,   0,   0,   0,   0,\n",
              "          0,   0],\n",
              "       [  0,   0,   0,   0,   0,   0,   0,   0,   0,   0,   0,  11, 190,\n",
              "        253,  70,   0,   0,   0,   0,   0,   0,   0,   0,   0,   0,   0,\n",
              "          0,   0],\n",
              "       [  0,   0,   0,   0,   0,   0,   0,   0,   0,   0,   0,   0,  35,\n",
              "        241, 225, 160, 108,   1,   0,   0,   0,   0,   0,   0,   0,   0,\n",
              "          0,   0],\n",
              "       [  0,   0,   0,   0,   0,   0,   0,   0,   0,   0,   0,   0,   0,\n",
              "         81, 240, 253, 253, 119,  25,   0,   0,   0,   0,   0,   0,   0,\n",
              "          0,   0],\n",
              "       [  0,   0,   0,   0,   0,   0,   0,   0,   0,   0,   0,   0,   0,\n",
              "          0,  45, 186, 253, 253, 150,  27,   0,   0,   0,   0,   0,   0,\n",
              "          0,   0],\n",
              "       [  0,   0,   0,   0,   0,   0,   0,   0,   0,   0,   0,   0,   0,\n",
              "          0,   0,  16,  93, 252, 253, 187,   0,   0,   0,   0,   0,   0,\n",
              "          0,   0],\n",
              "       [  0,   0,   0,   0,   0,   0,   0,   0,   0,   0,   0,   0,   0,\n",
              "          0,   0,   0,   0, 249, 253, 249,  64,   0,   0,   0,   0,   0,\n",
              "          0,   0],\n",
              "       [  0,   0,   0,   0,   0,   0,   0,   0,   0,   0,   0,   0,   0,\n",
              "          0,  46, 130, 183, 253, 253, 207,   2,   0,   0,   0,   0,   0,\n",
              "          0,   0],\n",
              "       [  0,   0,   0,   0,   0,   0,   0,   0,   0,   0,   0,   0,  39,\n",
              "        148, 229, 253, 253, 253, 250, 182,   0,   0,   0,   0,   0,   0,\n",
              "          0,   0],\n",
              "       [  0,   0,   0,   0,   0,   0,   0,   0,   0,   0,  24, 114, 221,\n",
              "        253, 253, 253, 253, 201,  78,   0,   0,   0,   0,   0,   0,   0,\n",
              "          0,   0],\n",
              "       [  0,   0,   0,   0,   0,   0,   0,   0,  23,  66, 213, 253, 253,\n",
              "        253, 253, 198,  81,   2,   0,   0,   0,   0,   0,   0,   0,   0,\n",
              "          0,   0],\n",
              "       [  0,   0,   0,   0,   0,   0,  18, 171, 219, 253, 253, 253, 253,\n",
              "        195,  80,   9,   0,   0,   0,   0,   0,   0,   0,   0,   0,   0,\n",
              "          0,   0],\n",
              "       [  0,   0,   0,   0,  55, 172, 226, 253, 253, 253, 253, 244, 133,\n",
              "         11,   0,   0,   0,   0,   0,   0,   0,   0,   0,   0,   0,   0,\n",
              "          0,   0],\n",
              "       [  0,   0,   0,   0, 136, 253, 253, 253, 212, 135, 132,  16,   0,\n",
              "          0,   0,   0,   0,   0,   0,   0,   0,   0,   0,   0,   0,   0,\n",
              "          0,   0],\n",
              "       [  0,   0,   0,   0,   0,   0,   0,   0,   0,   0,   0,   0,   0,\n",
              "          0,   0,   0,   0,   0,   0,   0,   0,   0,   0,   0,   0,   0,\n",
              "          0,   0],\n",
              "       [  0,   0,   0,   0,   0,   0,   0,   0,   0,   0,   0,   0,   0,\n",
              "          0,   0,   0,   0,   0,   0,   0,   0,   0,   0,   0,   0,   0,\n",
              "          0,   0],\n",
              "       [  0,   0,   0,   0,   0,   0,   0,   0,   0,   0,   0,   0,   0,\n",
              "          0,   0,   0,   0,   0,   0,   0,   0,   0,   0,   0,   0,   0,\n",
              "          0,   0]], dtype=uint8)"
            ]
          },
          "metadata": {},
          "execution_count": 4
        }
      ]
    },
    {
      "cell_type": "code",
      "source": [
        "# Displaying the item from the training dataset\n",
        "import matplotlib.pyplot as plt\n",
        "\n",
        "digit = train_images[0]\n",
        "plt.imshow(digit, cmap=plt.cm.binary)\n",
        "plt.show()"
      ],
      "metadata": {
        "colab": {
          "base_uri": "https://localhost:8080/",
          "height": 430
        },
        "id": "UWw3Z2sWl2MB",
        "outputId": "3a28d424-e3af-4aa7-a4af-60ced705aeb9"
      },
      "id": "UWw3Z2sWl2MB",
      "execution_count": 5,
      "outputs": [
        {
          "output_type": "display_data",
          "data": {
            "text/plain": [
              "<Figure size 640x480 with 1 Axes>"
            ],
            "image/png": "[encoded data removed]"
          },
          "metadata": {}
        }
      ]
    },
    {
      "cell_type": "code",
      "source": [
        "type(train_images[0])"
      ],
      "metadata": {
        "colab": {
          "base_uri": "https://localhost:8080/"
        },
        "id": "fxP3unEQldMz",
        "outputId": "3e4c231a-114f-4f57-a6c2-bd03850ee627"
      },
      "id": "fxP3unEQldMz",
      "execution_count": 6,
      "outputs": [
        {
          "output_type": "execute_result",
          "data": {
            "text/plain": [
              "numpy.ndarray"
            ]
          },
          "metadata": {},
          "execution_count": 6
        }
      ]
    },
    {
      "cell_type": "code",
      "source": [
        "train_images[0].shape"
      ],
      "metadata": {
        "colab": {
          "base_uri": "https://localhost:8080/"
        },
        "id": "QJH1gsWslgNy",
        "outputId": "72658f3a-16fb-4457-f715-3a7187695b18"
      },
      "id": "QJH1gsWslgNy",
      "execution_count": 7,
      "outputs": [
        {
          "output_type": "execute_result",
          "data": {
            "text/plain": [
              "(28, 28)"
            ]
          },
          "metadata": {},
          "execution_count": 7
        }
      ]
    },
    {
      "cell_type": "markdown",
      "source": [
        "## Simple densely connected NN"
      ],
      "metadata": {
        "id": "BLhb5MI9gBzN"
      },
      "id": "BLhb5MI9gBzN"
    },
    {
      "cell_type": "code",
      "source": [
        "# NN Architecture\n",
        "from tensorflow import keras\n",
        "from tensorflow.keras import layers\n",
        "\n",
        "model = keras.Sequential([\n",
        " layers.Dense(512, activation=\"relu\"),\n",
        " layers.Dense(10, activation=\"softmax\")\n",
        "])"
      ],
      "metadata": {
        "id": "lDefjhGxkczw"
      },
      "id": "lDefjhGxkczw",
      "execution_count": 8,
      "outputs": []
    },
    {
      "cell_type": "code",
      "source": [
        "# Compilation step\n",
        "model.compile(optimizer=\"rmsprop\",\n",
        " loss=\"sparse_categorical_crossentropy\",\n",
        " metrics=[\"accuracy\"])"
      ],
      "metadata": {
        "id": "COmOUcsHknfA"
      },
      "id": "COmOUcsHknfA",
      "execution_count": 9,
      "outputs": []
    },
    {
      "cell_type": "code",
      "source": [
        "# Preparing the image data\n",
        "train_images = train_images.reshape((60000, 28 * 28))\n",
        "train_images = train_images.astype(\"float32\") / 255\n",
        "\n",
        "test_images = test_images.reshape((10000, 28 * 28))\n",
        "test_images = test_images.astype(\"float32\") / 255"
      ],
      "metadata": {
        "id": "Y0_SOV7WkzUX"
      },
      "id": "Y0_SOV7WkzUX",
      "execution_count": 10,
      "outputs": []
    },
    {
      "cell_type": "code",
      "source": [
        "# Fitting the model\n",
        "model.fit(train_images, train_labels, epochs=5, batch_size=128)"
      ],
      "metadata": {
        "colab": {
          "base_uri": "https://localhost:8080/"
        },
        "id": "Vt-VKpAKk498",
        "outputId": "9c85ac2f-d615-4c6f-aa7b-c8556d8dd9e1"
      },
      "id": "Vt-VKpAKk498",
      "execution_count": 11,
      "outputs": [
        {
          "output_type": "stream",
          "name": "stdout",
          "text": [
            "Epoch 1/5\n",
            "469/469 [==============================] - 4s 3ms/step - loss: 0.2639 - accuracy: 0.9239\n",
            "Epoch 2/5\n",
            "469/469 [==============================] - 2s 4ms/step - loss: 0.1071 - accuracy: 0.9688\n",
            "Epoch 3/5\n",
            "469/469 [==============================] - 3s 5ms/step - loss: 0.0706 - accuracy: 0.9786\n",
            "Epoch 4/5\n",
            "469/469 [==============================] - 3s 5ms/step - loss: 0.0513 - accuracy: 0.9847\n",
            "Epoch 5/5\n",
            "469/469 [==============================] - 3s 7ms/step - loss: 0.0377 - accuracy: 0.9884\n"
          ]
        },
        {
          "output_type": "execute_result",
          "data": {
            "text/plain": [
              "<keras.callbacks.History at 0x7f5f3c03e290>"
            ]
          },
          "metadata": {},
          "execution_count": 11
        }
      ]
    },
    {
      "cell_type": "code",
      "source": [
        "model.summary()"
      ],
      "metadata": {
        "colab": {
          "base_uri": "https://localhost:8080/"
        },
        "id": "v_QE57d9nT3q",
        "outputId": "2866cf00-f13d-4caf-f61c-1207706940e8"
      },
      "id": "v_QE57d9nT3q",
      "execution_count": 12,
      "outputs": [
        {
          "output_type": "stream",
          "name": "stdout",
          "text": [
            "Model: \"sequential\"\n",
            "_________________________________________________________________\n",
            " Layer (type)                Output Shape              Param #   \n",
            "=================================================================\n",
            " dense (Dense)               (None, 512)               401920    \n",
            "                                                                 \n",
            " dense_1 (Dense)             (None, 10)                5130      \n",
            "                                                                 \n",
            "=================================================================\n",
            "Total params: 407,050\n",
            "Trainable params: 407,050\n",
            "Non-trainable params: 0\n",
            "_________________________________________________________________\n"
          ]
        }
      ]
    },
    {
      "cell_type": "code",
      "source": [
        "# Using the model to make predictions\n",
        "test_digits = test_images[0:10]\n",
        "predictions = model.predict(test_digits)\n",
        "predictions[0]"
      ],
      "metadata": {
        "colab": {
          "base_uri": "https://localhost:8080/"
        },
        "id": "p2-svjNjk9uF",
        "outputId": "b7e0af13-02bc-4d9b-b92a-9cabc903a289"
      },
      "id": "p2-svjNjk9uF",
      "execution_count": 13,
      "outputs": [
        {
          "output_type": "stream",
          "name": "stdout",
          "text": [
            "1/1 [==============================] - 0s 72ms/step\n"
          ]
        },
        {
          "output_type": "execute_result",
          "data": {
            "text/plain": [
              "array([5.30632285e-08, 1.02628075e-08, 7.06993387e-06, 1.68599145e-04,\n",
              "       7.04474395e-11, 6.79134473e-08, 3.48398892e-12, 9.99803364e-01,\n",
              "       7.15669017e-08, 2.07602407e-05], dtype=float32)"
            ]
          },
          "metadata": {},
          "execution_count": 13
        }
      ]
    },
    {
      "cell_type": "code",
      "source": [
        "predictions[0].argmax() "
      ],
      "metadata": {
        "colab": {
          "base_uri": "https://localhost:8080/"
        },
        "id": "GPolDeXflN3R",
        "outputId": "f9878313-986f-4c6e-ff7f-1ec8eacaba34"
      },
      "id": "GPolDeXflN3R",
      "execution_count": 14,
      "outputs": [
        {
          "output_type": "execute_result",
          "data": {
            "text/plain": [
              "7"
            ]
          },
          "metadata": {},
          "execution_count": 14
        }
      ]
    },
    {
      "cell_type": "code",
      "source": [
        "predictions[0][7] "
      ],
      "metadata": {
        "colab": {
          "base_uri": "https://localhost:8080/"
        },
        "id": "9I0cK6oylSiD",
        "outputId": "5cee5af6-6760-493f-9df3-4f4e7c2d80c0"
      },
      "id": "9I0cK6oylSiD",
      "execution_count": 15,
      "outputs": [
        {
          "output_type": "execute_result",
          "data": {
            "text/plain": [
              "0.99980336"
            ]
          },
          "metadata": {},
          "execution_count": 15
        }
      ]
    },
    {
      "cell_type": "code",
      "source": [
        "test_labels[0] "
      ],
      "metadata": {
        "colab": {
          "base_uri": "https://localhost:8080/"
        },
        "id": "un2I8ERJlV_p",
        "outputId": "af53776b-6689-4999-a6f6-6f83996bee0b"
      },
      "id": "un2I8ERJlV_p",
      "execution_count": 16,
      "outputs": [
        {
          "output_type": "execute_result",
          "data": {
            "text/plain": [
              "7"
            ]
          },
          "metadata": {},
          "execution_count": 16
        }
      ]
    },
    {
      "cell_type": "code",
      "source": [
        "# Evaluating the model on new (test) data\n",
        "test_loss, test_acc = model.evaluate(test_images, test_labels)\n",
        "print(f\"test_acc: {test_acc}\")"
      ],
      "metadata": {
        "colab": {
          "base_uri": "https://localhost:8080/"
        },
        "id": "Si6ZyYSzla_b",
        "outputId": "2f248372-79f1-4a4f-b904-4a6c11f0bd18"
      },
      "id": "Si6ZyYSzla_b",
      "execution_count": 17,
      "outputs": [
        {
          "output_type": "stream",
          "name": "stdout",
          "text": [
            "313/313 [==============================] - 1s 3ms/step - loss: 0.0718 - accuracy: 0.9768\n",
            "test_acc: 0.9768000245094299\n"
          ]
        }
      ]
    },
    {
      "cell_type": "code",
      "source": [
        "# To see the weights of a trained model, let's use the get_weights() method:\n",
        "weights = model.get_weights()\n",
        "\n",
        "# 'weights' is a list containing weight tensors\n",
        "for layer_weights in weights:\n",
        "    print(layer_weights)"
      ],
      "metadata": {
        "colab": {
          "base_uri": "https://localhost:8080/"
        },
        "id": "sd-ZtRgYoX14",
        "outputId": "988adb6e-7b2e-40b4-81d7-e8d7842fac6f"
      },
      "id": "sd-ZtRgYoX14",
      "execution_count": 18,
      "outputs": [
        {
          "output_type": "stream",
          "name": "stdout",
          "text": [
            "[[ 0.03753673 -0.0088299   0.06452774 ...  0.03971457 -0.02805002\n",
            "  -0.01582826]\n",
            " [-0.06238831 -0.05637626 -0.01413833 ...  0.01529978 -0.0342121\n",
            "   0.0126633 ]\n",
            " [ 0.04360494 -0.04884163 -0.02022194 ... -0.04309906 -0.02087988\n",
            "  -0.04462364]\n",
            " ...\n",
            " [ 0.05170282  0.02736858 -0.05226298 ...  0.03989232  0.05302822\n",
            "   0.06137109]\n",
            " [ 0.00784708 -0.03951211 -0.02597876 ...  0.03035514  0.01284397\n",
            "  -0.04288993]\n",
            " [ 0.03271173  0.02799875 -0.01251637 ... -0.00925476  0.0174012\n",
            "  -0.00941001]]\n",
            "[-8.17375258e-03  2.94042733e-02 -3.48440297e-02  9.33821779e-03\n",
            "  4.68740612e-03  5.63526191e-02 -1.92742255e-02  4.57152314e-02\n",
            "  4.09476273e-02 -2.47359904e-03  1.48737486e-02  4.52757441e-03\n",
            "  1.22533776e-02  1.31796096e-02 -7.30976928e-04  4.74977419e-02\n",
            "  4.67478950e-03 -7.36768299e-04  8.56867656e-02 -4.45314758e-02\n",
            "  6.01563836e-03  5.58149479e-02 -1.93201993e-02 -1.04996013e-02\n",
            " -8.36118683e-03  5.34282112e-03  3.44192609e-02  3.61161307e-02\n",
            " -3.78482342e-02  5.59975244e-02 -4.45003323e-02  2.55728383e-02\n",
            "  2.57316809e-02 -1.06407795e-02 -5.11550196e-02  3.91450711e-02\n",
            "  2.94022430e-02  4.44433764e-02 -2.21346989e-02 -1.02110114e-02\n",
            "  3.73486802e-02  1.97760351e-02  2.68469146e-03 -5.52149639e-02\n",
            " -1.16946865e-02  2.58868188e-02 -3.20481285e-02 -4.44722809e-02\n",
            " -1.56760344e-03 -2.28379341e-03 -2.15081982e-02  1.31877810e-02\n",
            "  5.66482656e-02  6.77665230e-03  1.15334559e-02  3.76079381e-02\n",
            "  2.60676574e-02  7.77185783e-02  5.73055036e-02  2.63388865e-02\n",
            "  7.61167519e-03  3.68122105e-03 -3.65752690e-02 -2.33069118e-02\n",
            " -2.64859982e-02  3.76529768e-02 -3.10178045e-02  1.16563151e-02\n",
            "  3.44715193e-02  2.78242119e-02  3.97166004e-04 -1.06631173e-02\n",
            "  4.75467481e-02 -4.49704416e-02 -4.01451951e-04  3.23721729e-02\n",
            " -4.04491555e-03 -1.30523769e-02 -3.12658795e-03  9.87986252e-02\n",
            "  4.49013151e-02 -1.03841312e-02  1.42927421e-02 -4.79021259e-02\n",
            " -1.90446023e-02  3.33914012e-02 -5.74635044e-02 -3.06966919e-02\n",
            " -5.93285859e-02 -8.69427342e-03 -1.09841302e-02 -2.19131671e-02\n",
            "  1.58364605e-02 -8.50688200e-03  2.77233310e-02 -1.80207789e-02\n",
            " -3.29004601e-02  6.06735311e-02 -3.27484682e-02 -2.91567054e-02\n",
            "  2.33396012e-02  2.14189272e-02 -2.23751534e-02  9.58578959e-02\n",
            " -9.53455176e-03 -5.08988202e-02 -2.22415905e-02 -9.26346797e-03\n",
            "  5.57307787e-02 -4.36070934e-03  2.83172261e-03 -3.40871885e-02\n",
            " -1.99756287e-02  8.52027163e-03 -2.37422287e-02  6.90007629e-03\n",
            " -4.58521303e-03  6.17528893e-02 -1.89761966e-02  4.20176908e-02\n",
            "  3.28703783e-02 -6.18575364e-02  1.37649206e-02  6.74292073e-02\n",
            " -2.62046903e-02 -5.75605147e-02 -1.42324027e-02  4.54892963e-02\n",
            "  2.61770487e-02 -5.37596159e-02 -1.87644437e-02 -2.08742507e-02\n",
            " -2.60669384e-02  1.11768410e-01 -6.13006763e-03 -2.23271511e-02\n",
            "  6.39135614e-02 -3.01489271e-02 -6.24646479e-03 -1.95949338e-02\n",
            "  2.85677891e-02 -2.14345381e-03  1.15053551e-02 -4.49945666e-02\n",
            "  6.72281487e-04  3.78587730e-02 -6.21633884e-03  1.39814743e-04\n",
            " -2.44012158e-02  2.42890418e-02  5.37714846e-02  4.40601148e-02\n",
            " -2.59327162e-02 -6.90272227e-02 -2.50546075e-02 -1.01699652e-02\n",
            "  4.63180318e-02  1.05364742e-02  8.42423216e-02  3.30019332e-02\n",
            "  8.28955695e-02 -4.90954444e-02  2.66280938e-02 -2.96827406e-02\n",
            " -4.25128127e-03 -1.79932788e-02  3.27305384e-02  5.04178926e-02\n",
            "  1.29942987e-02 -3.13003995e-02  4.84619178e-02  3.20997536e-02\n",
            " -2.26656981e-02  1.60194952e-02 -8.94294307e-03  1.12047768e-03\n",
            " -9.31979623e-03 -6.75751269e-02 -6.92454865e-03 -3.96106541e-02\n",
            " -4.77417074e-02 -2.67148558e-02 -1.97414570e-02  3.38652357e-02\n",
            "  1.28746396e-02  3.29081807e-03  2.27873381e-02  5.87604195e-03\n",
            "  5.13413828e-03  2.92533226e-02 -1.12700975e-02  1.25035653e-02\n",
            "  3.27788992e-03  3.45106721e-02 -4.86694984e-02  8.15534312e-03\n",
            " -5.55531830e-02  2.56363302e-02  6.36932179e-02  5.94992973e-02\n",
            "  4.33671474e-02 -1.61778391e-03  3.27382796e-02  6.63452956e-05\n",
            " -4.42539975e-02  8.08579624e-02  4.04329598e-02 -3.20785195e-02\n",
            "  4.98642549e-02 -2.63417680e-02 -7.05326647e-02 -3.13615100e-03\n",
            " -7.95073865e-04  6.97865617e-03  2.43825689e-02  6.33067079e-03\n",
            " -2.94321775e-03 -3.54352116e-04  1.54131725e-02 -1.00674517e-02\n",
            "  3.53515595e-02  3.09239309e-02 -1.73045043e-02  1.15716131e-02\n",
            " -1.39736589e-02  2.01518908e-02  4.94808666e-02  7.70388395e-02\n",
            "  1.17015745e-02 -1.59958773e-03  1.20867218e-03 -3.00976709e-02\n",
            " -2.37556994e-02  3.13669294e-02 -4.21573259e-02  2.78722290e-02\n",
            " -2.86874920e-02  5.09707164e-03 -3.08058858e-02  1.46973822e-02\n",
            " -4.27333377e-02  7.38137029e-03 -1.44962436e-02  5.18758316e-03\n",
            "  4.83487919e-02 -6.42273482e-03  2.99226008e-02  2.02080645e-02\n",
            " -3.62422429e-02  9.95704606e-02 -5.85725857e-03 -6.38729334e-02\n",
            "  6.66348115e-02  3.61845940e-02  2.76566036e-02 -6.87539810e-03\n",
            "  2.28966624e-02 -1.48637302e-03  9.31954943e-03  3.00232098e-02\n",
            "  6.59495592e-03  4.12117019e-02 -8.76819994e-03  1.66106336e-02\n",
            "  2.00174022e-02  1.38982004e-02  5.55591248e-02 -1.77825354e-02\n",
            "  9.79788229e-03 -4.42987494e-02  4.74603251e-02  9.03752260e-03\n",
            " -2.70760767e-02 -4.72899415e-02  5.33050783e-02  1.18632689e-02\n",
            "  1.28098791e-02  1.87966973e-02  2.34053191e-02  3.01242676e-02\n",
            "  4.17606235e-02  1.40177470e-03  8.16433318e-03  6.55103549e-02\n",
            " -2.98844688e-02 -5.53165525e-02 -1.20023238e-02 -8.37402884e-03\n",
            " -2.54838001e-02 -9.97707900e-03  1.16514880e-02  8.99088942e-03\n",
            "  9.52232853e-02  8.84034634e-02 -1.04192868e-02 -1.65963229e-02\n",
            "  1.05741946e-02 -1.01684621e-02  4.01506387e-02  9.97348572e-04\n",
            " -6.63689803e-03  1.05890535e-01  3.22329849e-02  2.71012709e-02\n",
            " -2.91096680e-02  2.36562472e-02  3.42164040e-02 -4.33288775e-02\n",
            " -5.78501076e-03 -3.77981812e-02  3.22215334e-02  1.89712062e-03\n",
            "  1.32484278e-02 -3.30138616e-02  1.85862556e-02 -9.94027313e-03\n",
            "  4.46884930e-02  7.46735930e-03  4.72455397e-02 -9.18197539e-03\n",
            "  2.48337165e-03 -2.65060272e-02  1.22057674e-02  2.14668084e-02\n",
            "  2.87741027e-03 -2.01111496e-03 -4.48645046e-03 -1.16478540e-02\n",
            "  2.49026669e-03  2.37023570e-02  1.63395423e-02 -2.51405947e-02\n",
            " -3.25112045e-02  4.23817486e-02  2.37092990e-02  3.60985585e-02\n",
            " -3.31133455e-02  7.53387529e-03 -1.30504873e-02  2.35071592e-02\n",
            " -1.39093334e-02 -4.71486226e-02  1.36605371e-02  3.71988602e-02\n",
            "  1.07633015e-02  2.61438470e-02  1.23839988e-03  2.65001431e-02\n",
            "  1.91480890e-02  6.38747066e-02  4.39034663e-02 -2.78008953e-02\n",
            " -4.29254025e-02 -3.32253017e-02  3.76220755e-02 -1.65263400e-03\n",
            " -7.19679892e-02 -2.52304804e-02  6.92765266e-02 -5.90612777e-02\n",
            "  2.07211524e-02  1.99643383e-03  4.65304703e-02  5.59003837e-02\n",
            "  3.54579352e-02 -3.93289141e-02 -2.80906670e-02 -4.60943580e-02\n",
            " -1.45227658e-02 -2.71179657e-02  2.51576528e-02  2.95202490e-02\n",
            "  4.60234173e-02  1.56972054e-02 -1.96801312e-02  4.92826626e-02\n",
            " -1.18943676e-02 -1.92503575e-02  3.29776853e-02 -1.87802259e-02\n",
            " -2.35021785e-02  8.07788223e-03 -2.59538572e-02  4.03542891e-02\n",
            "  4.70516309e-02  3.00228447e-02  3.36948745e-02  1.33201862e-02\n",
            " -1.95697434e-02  1.47299906e-02  5.83435409e-02 -1.77372694e-02\n",
            " -4.15367857e-02  3.78144905e-02 -2.86930706e-02  4.76904847e-02\n",
            " -2.54429341e-03  5.43583483e-02  4.72146552e-04  1.13926232e-02\n",
            " -2.94950195e-02  1.54483411e-02 -1.24149015e-02 -2.63964143e-02\n",
            "  1.43461190e-02 -7.31273205e-04  4.51412760e-02 -2.21648738e-02\n",
            "  6.59636632e-02 -4.08582948e-03  2.93569565e-02 -1.63707789e-02\n",
            " -6.08722493e-03  6.25806227e-02  9.93021298e-03 -1.36330239e-02\n",
            " -4.09711851e-04  1.51320910e-02  1.42317861e-02 -3.35056260e-02\n",
            "  4.93418500e-02 -1.48692960e-03  4.39377911e-02  4.80021164e-02\n",
            "  7.77456015e-02  3.23639959e-02 -3.83620746e-02  6.65167486e-03\n",
            "  6.18131086e-02  6.29867837e-02 -4.46631536e-02 -4.05656882e-02\n",
            "  1.94370793e-03  4.91342228e-03 -3.43316272e-02  1.94984314e-03\n",
            "  3.00859623e-02 -1.36934372e-03 -4.33340482e-03  2.37183105e-02\n",
            "  5.82814850e-02  5.14686666e-02 -7.42137106e-03 -2.45922040e-02\n",
            "  2.89661977e-02  2.68005487e-02  1.36216562e-02  3.05511570e-03\n",
            " -8.19021557e-03  3.36846635e-02  1.37994513e-01 -2.01014522e-03\n",
            "  1.44884475e-02 -2.36094669e-02  1.02474578e-01 -6.72730207e-02\n",
            " -2.77408026e-02  1.61029976e-02  5.71124330e-02 -3.53800915e-02\n",
            "  7.72261247e-02 -5.33916950e-02  1.61439907e-02  1.82134751e-02\n",
            "  3.20918262e-02  1.38420882e-02  5.76305017e-03  8.54537115e-02\n",
            "  9.70829336e-04  7.38373725e-03  7.71069806e-03 -1.53658204e-02\n",
            " -3.60618643e-02 -1.34700704e-02 -1.23544037e-02 -1.26241930e-02\n",
            " -3.55650708e-02  1.26855625e-02 -1.02235219e-02 -1.14759253e-02\n",
            " -2.87332432e-03  5.30055072e-03 -4.72641215e-02  6.70776367e-02\n",
            " -1.12557886e-02 -8.53328966e-03 -5.79487812e-03 -1.58168077e-02\n",
            "  1.03691509e-02 -3.33165354e-03 -3.95119488e-02 -2.55367458e-02\n",
            "  3.10981479e-02 -2.95941327e-02 -1.76929608e-02 -6.56328024e-03\n",
            "  5.83268190e-03 -1.29627567e-02 -2.95481700e-02 -2.36187801e-02\n",
            " -1.11121433e-02 -3.68470931e-03  3.88588198e-02  2.68082507e-02\n",
            " -4.66030575e-02 -2.67043691e-02 -1.13672493e-02  1.81136839e-02\n",
            " -8.82758386e-03  1.89684108e-02  4.07581180e-02 -2.15043258e-02]\n",
            "[[ 0.02119981 -0.09447607 -0.07738062 ... -0.22366218  0.02732659\n",
            "   0.0341633 ]\n",
            " [-0.24409522 -0.09784076  0.00510699 ... -0.01740638  0.08890246\n",
            "  -0.1911901 ]\n",
            " [-0.1280843   0.01309904  0.08291105 ... -0.2071397  -0.01431949\n",
            "  -0.27424228]\n",
            " ...\n",
            " [ 0.02723472 -0.03804668  0.04999262 ...  0.0937307  -0.06695463\n",
            "  -0.21745121]\n",
            " [ 0.05715264 -0.09469784  0.06308551 ...  0.11289018 -0.29147595\n",
            "  -0.0242009 ]\n",
            " [ 0.01154741 -0.09257255 -0.11095876 ... -0.01882709  0.12573129\n",
            "   0.10049886]]\n",
            "[-0.07699493 -0.03028613 -0.00653467 -0.02952113  0.00327042  0.05878435\n",
            " -0.01471026 -0.02754128  0.05945121  0.00123971]\n"
          ]
        }
      ]
    },
    {
      "cell_type": "code",
      "source": [
        "len(weights)"
      ],
      "metadata": {
        "colab": {
          "base_uri": "https://localhost:8080/"
        },
        "id": "E7W7L8oXpud8",
        "outputId": "58833b5b-5ee0-4ae2-809d-aa93931724ba"
      },
      "id": "E7W7L8oXpud8",
      "execution_count": 19,
      "outputs": [
        {
          "output_type": "execute_result",
          "data": {
            "text/plain": [
              "4"
            ]
          },
          "metadata": {},
          "execution_count": 19
        }
      ]
    },
    {
      "cell_type": "code",
      "source": [
        "for layer_weights in weights:\n",
        "    print(layer_weights.shape)"
      ],
      "metadata": {
        "colab": {
          "base_uri": "https://localhost:8080/"
        },
        "id": "hbR7WTN9oj_g",
        "outputId": "3fc5c70e-77ce-4746-9a4c-946ded8f06f1"
      },
      "id": "hbR7WTN9oj_g",
      "execution_count": 20,
      "outputs": [
        {
          "output_type": "stream",
          "name": "stdout",
          "text": [
            "(784, 512)\n",
            "(512,)\n",
            "(512, 10)\n",
            "(10,)\n"
          ]
        }
      ]
    },
    {
      "cell_type": "markdown",
      "source": [
        "## Initializing random weights and creating NN with those weights"
      ],
      "metadata": {
        "id": "eVTKFFrRte34"
      },
      "id": "eVTKFFrRte34"
    },
    {
      "cell_type": "code",
      "source": [
        "import numpy as np\n",
        "\n",
        "# Set the random seed for reproducibility\n",
        "np.random.seed(42)\n",
        "\n",
        "input = 28*28\n",
        "hidden = 512\n",
        "output = 10\n",
        "\n",
        "weights_1 = np.random.rand(input*hidden).reshape(input, hidden)\n",
        "biases_1 = np.random.rand(hidden).reshape(hidden,)\n",
        "weights_2 = np.random.rand(hidden*output).reshape(hidden, output)\n",
        "biases_2 = np.random.rand(output).reshape(output,)\n",
        "\n",
        "weights_list = [weights_1, biases_1, weights_2, biases_2]\n",
        "\n",
        "# Print the shapes of the weight arrays\n",
        "for weights in weights_list:\n",
        "    print(weights.shape)"
      ],
      "metadata": {
        "colab": {
          "base_uri": "https://localhost:8080/"
        },
        "id": "B900l2DaGruR",
        "outputId": "a6c21892-6ade-471a-cb36-ecda4b349397"
      },
      "id": "B900l2DaGruR",
      "execution_count": 21,
      "outputs": [
        {
          "output_type": "stream",
          "name": "stdout",
          "text": [
            "(784, 512)\n",
            "(512,)\n",
            "(512, 10)\n",
            "(10,)\n"
          ]
        }
      ]
    },
    {
      "cell_type": "code",
      "source": [
        "# Defining the architecture of a neural network\n",
        "nn = keras.Sequential([\n",
        " layers.Dense(512, activation=\"relu\", input_shape=(784,)),\n",
        " layers.Dense(10, activation=\"softmax\")\n",
        "])"
      ],
      "metadata": {
        "id": "e-Ikiv7eyziS"
      },
      "id": "e-Ikiv7eyziS",
      "execution_count": 22,
      "outputs": []
    },
    {
      "cell_type": "code",
      "source": [
        "# Setting the weights of the model \n",
        "nn.set_weights(weights_list)\n",
        "\n",
        "# Compiling the model \n",
        "nn.compile(optimizer=\"rmsprop\",\n",
        "                   loss=\"sparse_categorical_crossentropy\",\n",
        "                   metrics=[\"accuracy\"])"
      ],
      "metadata": {
        "id": "_-IGua0jKjOY"
      },
      "id": "_-IGua0jKjOY",
      "execution_count": 23,
      "outputs": []
    },
    {
      "cell_type": "code",
      "source": [
        "nn.summary()"
      ],
      "metadata": {
        "colab": {
          "base_uri": "https://localhost:8080/"
        },
        "id": "MJf6pDd318ie",
        "outputId": "954ec78b-0e09-46db-f54c-8e3d826f008c"
      },
      "id": "MJf6pDd318ie",
      "execution_count": 24,
      "outputs": [
        {
          "output_type": "stream",
          "name": "stdout",
          "text": [
            "Model: \"sequential_1\"\n",
            "_________________________________________________________________\n",
            " Layer (type)                Output Shape              Param #   \n",
            "=================================================================\n",
            " dense_2 (Dense)             (None, 512)               401920    \n",
            "                                                                 \n",
            " dense_3 (Dense)             (None, 10)                5130      \n",
            "                                                                 \n",
            "=================================================================\n",
            "Total params: 407,050\n",
            "Trainable params: 407,050\n",
            "Non-trainable params: 0\n",
            "_________________________________________________________________\n"
          ]
        }
      ]
    },
    {
      "cell_type": "code",
      "source": [
        "# Evaluating the model on train data\n",
        "test_loss, test_acc = nn.evaluate(train_images, train_labels)"
      ],
      "metadata": {
        "colab": {
          "base_uri": "https://localhost:8080/"
        },
        "id": "j150y3J77e54",
        "outputId": "d9ec509b-e198-4cf2-8a8f-02d94e607078"
      },
      "id": "j150y3J77e54",
      "execution_count": 25,
      "outputs": [
        {
          "output_type": "stream",
          "name": "stdout",
          "text": [
            "1875/1875 [==============================] - 5s 2ms/step - loss: 795.9622 - accuracy: 0.0904\n"
          ]
        }
      ]
    },
    {
      "cell_type": "code",
      "source": [
        "# Evaluating the model on new (test) data\n",
        "test_loss, test_acc = nn.evaluate(test_images, test_labels)\n",
        "print(f\"test_acc: {test_acc}\")"
      ],
      "metadata": {
        "colab": {
          "base_uri": "https://localhost:8080/"
        },
        "id": "3UJH-D8K7Rjj",
        "outputId": "373dc119-178b-4f95-89a1-692718bc6d32"
      },
      "id": "3UJH-D8K7Rjj",
      "execution_count": 26,
      "outputs": [
        {
          "output_type": "stream",
          "name": "stdout",
          "text": [
            "313/313 [==============================] - 1s 2ms/step - loss: 805.0311 - accuracy: 0.0892\n",
            "test_acc: 0.08919999748468399\n"
          ]
        }
      ]
    }
  ],
  "metadata": {
    "kernelspec": {
      "display_name": "Python 3 (ipykernel)",
      "language": "python",
      "name": "python3"
    },
    "language_info": {
      "codemirror_mode": {
        "name": "ipython",
        "version": 3
      },
      "file_extension": ".py",
      "mimetype": "text/x-python",
      "name": "python",
      "nbconvert_exporter": "python",
      "pygments_lexer": "ipython3",
      "version": "3.9.13"
    },
    "colab": {
      "provenance": []
    },
    "accelerator": "GPU",
    "gpuClass": "standard"
  },
  "nbformat": 4,
  "nbformat_minor": 5
}