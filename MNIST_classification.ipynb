{
  "cells": [
    {
      "cell_type": "markdown",
      "id": "8b0cb6fd-1bb3-4839-86d6-cc048bf42ecb",
      "metadata": {
        "id": "8b0cb6fd-1bb3-4839-86d6-cc048bf42ecb"
      },
      "source": [
        "## Loading MNIST dataset\n",
        "The MNIST dataset (a classic in the Machine Learning community) has been around almost as long as the field itself and has been intensively studied. It’s a set of 60,000 training images, plus 10,000 test images, assembled by the National Institute of Standards and Technology (the NIST in MNIST) in the 1980s. \n"
      ]
    },
    {
      "cell_type": "code",
      "execution_count": 1,
      "id": "e35f565f-f068-4adb-8101-c971c15e5164",
      "metadata": {
        "id": "e35f565f-f068-4adb-8101-c971c15e5164"
      },
      "outputs": [],
      "source": [
        "# Loading the MNIST dataset in Keras\n",
        "from tensorflow.keras.datasets import mnist\n",
        "\n",
        "(train_images, train_labels), (test_images, test_labels) = mnist.load_data()"
      ]
    },
    {
      "cell_type": "code",
      "source": [
        "# Having a look at Training Data\n",
        "print(train_images.shape)\n",
        "print(len(train_labels))\n",
        "print(train_labels)"
      ],
      "metadata": {
        "colab": {
          "base_uri": "https://localhost:8080/"
        },
        "id": "9i-6_PyymPZD",
        "outputId": "f7fecdc3-1b08-4531-86d3-feb5ab912e43"
      },
      "id": "9i-6_PyymPZD",
      "execution_count": 2,
      "outputs": [
        {
          "output_type": "stream",
          "name": "stdout",
          "text": [
            "(60000, 28, 28)\n",
            "60000\n",
            "[5 0 4 ... 5 6 8]\n"
          ]
        }
      ]
    },
    {
      "cell_type": "code",
      "source": [
        "# Having a look at Test Data\n",
        "print(test_images.shape)\n",
        "print(len(test_labels))\n",
        "print(test_labels)"
      ],
      "metadata": {
        "colab": {
          "base_uri": "https://localhost:8080/"
        },
        "id": "bSje3XfnkU3i",
        "outputId": "4c65e7e0-66c9-4d6e-f363-3ca7d81f4a56"
      },
      "id": "bSje3XfnkU3i",
      "execution_count": 3,
      "outputs": [
        {
          "output_type": "stream",
          "name": "stdout",
          "text": [
            "(10000, 28, 28)\n",
            "10000\n",
            "[7 2 1 ... 4 5 6]\n"
          ]
        }
      ]
    },
    {
      "cell_type": "code",
      "source": [
        "# Exemining one specific image\n",
        "train_images[0]"
      ],
      "metadata": {
        "colab": {
          "base_uri": "https://localhost:8080/"
        },
        "id": "e2UTk4TknPyG",
        "outputId": "933b4a59-0781-462b-c0b6-68ea80d0ab69"
      },
      "id": "e2UTk4TknPyG",
      "execution_count": 4,
      "outputs": [
        {
          "output_type": "execute_result",
          "data": {
            "text/plain": [
              "array([[  0,   0,   0,   0,   0,   0,   0,   0,   0,   0,   0,   0,   0,\n",
              "          0,   0,   0,   0,   0,   0,   0,   0,   0,   0,   0,   0,   0,\n",
              "          0,   0],\n",
              "       [  0,   0,   0,   0,   0,   0,   0,   0,   0,   0,   0,   0,   0,\n",
              "          0,   0,   0,   0,   0,   0,   0,   0,   0,   0,   0,   0,   0,\n",
              "          0,   0],\n",
              "       [  0,   0,   0,   0,   0,   0,   0,   0,   0,   0,   0,   0,   0,\n",
              "          0,   0,   0,   0,   0,   0,   0,   0,   0,   0,   0,   0,   0,\n",
              "          0,   0],\n",
              "       [  0,   0,   0,   0,   0,   0,   0,   0,   0,   0,   0,   0,   0,\n",
              "          0,   0,   0,   0,   0,   0,   0,   0,   0,   0,   0,   0,   0,\n",
              "          0,   0],\n",
              "       [  0,   0,   0,   0,   0,   0,   0,   0,   0,   0,   0,   0,   0,\n",
              "          0,   0,   0,   0,   0,   0,   0,   0,   0,   0,   0,   0,   0,\n",
              "          0,   0],\n",
              "       [  0,   0,   0,   0,   0,   0,   0,   0,   0,   0,   0,   0,   3,\n",
              "         18,  18,  18, 126, 136, 175,  26, 166, 255, 247, 127,   0,   0,\n",
              "          0,   0],\n",
              "       [  0,   0,   0,   0,   0,   0,   0,   0,  30,  36,  94, 154, 170,\n",
              "        253, 253, 253, 253, 253, 225, 172, 253, 242, 195,  64,   0,   0,\n",
              "          0,   0],\n",
              "       [  0,   0,   0,   0,   0,   0,   0,  49, 238, 253, 253, 253, 253,\n",
              "        253, 253, 253, 253, 251,  93,  82,  82,  56,  39,   0,   0,   0,\n",
              "          0,   0],\n",
              "       [  0,   0,   0,   0,   0,   0,   0,  18, 219, 253, 253, 253, 253,\n",
              "        253, 198, 182, 247, 241,   0,   0,   0,   0,   0,   0,   0,   0,\n",
              "          0,   0],\n",
              "       [  0,   0,   0,   0,   0,   0,   0,   0,  80, 156, 107, 253, 253,\n",
              "        205,  11,   0,  43, 154,   0,   0,   0,   0,   0,   0,   0,   0,\n",
              "          0,   0],\n",
              "       [  0,   0,   0,   0,   0,   0,   0,   0,   0,  14,   1, 154, 253,\n",
              "         90,   0,   0,   0,   0,   0,   0,   0,   0,   0,   0,   0,   0,\n",
              "          0,   0],\n",
              "       [  0,   0,   0,   0,   0,   0,   0,   0,   0,   0,   0, 139, 253,\n",
              "        190,   2,   0,   0,   0,   0,   0,   0,   0,   0,   0,   0,   0,\n",
              "          0,   0],\n",
              "       [  0,   0,   0,   0,   0,   0,   0,   0,   0,   0,   0,  11, 190,\n",
              "        253,  70,   0,   0,   0,   0,   0,   0,   0,   0,   0,   0,   0,\n",
              "          0,   0],\n",
              "       [  0,   0,   0,   0,   0,   0,   0,   0,   0,   0,   0,   0,  35,\n",
              "        241, 225, 160, 108,   1,   0,   0,   0,   0,   0,   0,   0,   0,\n",
              "          0,   0],\n",
              "       [  0,   0,   0,   0,   0,   0,   0,   0,   0,   0,   0,   0,   0,\n",
              "         81, 240, 253, 253, 119,  25,   0,   0,   0,   0,   0,   0,   0,\n",
              "          0,   0],\n",
              "       [  0,   0,   0,   0,   0,   0,   0,   0,   0,   0,   0,   0,   0,\n",
              "          0,  45, 186, 253, 253, 150,  27,   0,   0,   0,   0,   0,   0,\n",
              "          0,   0],\n",
              "       [  0,   0,   0,   0,   0,   0,   0,   0,   0,   0,   0,   0,   0,\n",
              "          0,   0,  16,  93, 252, 253, 187,   0,   0,   0,   0,   0,   0,\n",
              "          0,   0],\n",
              "       [  0,   0,   0,   0,   0,   0,   0,   0,   0,   0,   0,   0,   0,\n",
              "          0,   0,   0,   0, 249, 253, 249,  64,   0,   0,   0,   0,   0,\n",
              "          0,   0],\n",
              "       [  0,   0,   0,   0,   0,   0,   0,   0,   0,   0,   0,   0,   0,\n",
              "          0,  46, 130, 183, 253, 253, 207,   2,   0,   0,   0,   0,   0,\n",
              "          0,   0],\n",
              "       [  0,   0,   0,   0,   0,   0,   0,   0,   0,   0,   0,   0,  39,\n",
              "        148, 229, 253, 253, 253, 250, 182,   0,   0,   0,   0,   0,   0,\n",
              "          0,   0],\n",
              "       [  0,   0,   0,   0,   0,   0,   0,   0,   0,   0,  24, 114, 221,\n",
              "        253, 253, 253, 253, 201,  78,   0,   0,   0,   0,   0,   0,   0,\n",
              "          0,   0],\n",
              "       [  0,   0,   0,   0,   0,   0,   0,   0,  23,  66, 213, 253, 253,\n",
              "        253, 253, 198,  81,   2,   0,   0,   0,   0,   0,   0,   0,   0,\n",
              "          0,   0],\n",
              "       [  0,   0,   0,   0,   0,   0,  18, 171, 219, 253, 253, 253, 253,\n",
              "        195,  80,   9,   0,   0,   0,   0,   0,   0,   0,   0,   0,   0,\n",
              "          0,   0],\n",
              "       [  0,   0,   0,   0,  55, 172, 226, 253, 253, 253, 253, 244, 133,\n",
              "         11,   0,   0,   0,   0,   0,   0,   0,   0,   0,   0,   0,   0,\n",
              "          0,   0],\n",
              "       [  0,   0,   0,   0, 136, 253, 253, 253, 212, 135, 132,  16,   0,\n",
              "          0,   0,   0,   0,   0,   0,   0,   0,   0,   0,   0,   0,   0,\n",
              "          0,   0],\n",
              "       [  0,   0,   0,   0,   0,   0,   0,   0,   0,   0,   0,   0,   0,\n",
              "          0,   0,   0,   0,   0,   0,   0,   0,   0,   0,   0,   0,   0,\n",
              "          0,   0],\n",
              "       [  0,   0,   0,   0,   0,   0,   0,   0,   0,   0,   0,   0,   0,\n",
              "          0,   0,   0,   0,   0,   0,   0,   0,   0,   0,   0,   0,   0,\n",
              "          0,   0],\n",
              "       [  0,   0,   0,   0,   0,   0,   0,   0,   0,   0,   0,   0,   0,\n",
              "          0,   0,   0,   0,   0,   0,   0,   0,   0,   0,   0,   0,   0,\n",
              "          0,   0]], dtype=uint8)"
            ]
          },
          "metadata": {},
          "execution_count": 4
        }
      ]
    },
    {
      "cell_type": "code",
      "source": [
        "# Displaying the item from the training dataset\n",
        "import matplotlib.pyplot as plt\n",
        "\n",
        "digit = train_images[0]\n",
        "plt.imshow(digit, cmap=plt.cm.binary)\n",
        "plt.show()"
      ],
      "metadata": {
        "colab": {
          "base_uri": "https://localhost:8080/",
          "height": 430
        },
        "id": "UWw3Z2sWl2MB",
        "outputId": "7e220566-08e2-4f1d-a570-c269378b4a80"
      },
      "id": "UWw3Z2sWl2MB",
      "execution_count": 5,
      "outputs": [
        {
          "output_type": "display_data",
          "data": {
            "text/plain": [
              "<Figure size 640x480 with 1 Axes>"
            ],
            "image/png": "[encoded data removed]"
          },
          "metadata": {}
        }
      ]
    },
    {
      "cell_type": "code",
      "source": [
        "type(train_images[0])"
      ],
      "metadata": {
        "colab": {
          "base_uri": "https://localhost:8080/"
        },
        "id": "fxP3unEQldMz",
        "outputId": "40033417-23d9-41dd-d3af-e5d69d63a04f"
      },
      "id": "fxP3unEQldMz",
      "execution_count": 6,
      "outputs": [
        {
          "output_type": "execute_result",
          "data": {
            "text/plain": [
              "numpy.ndarray"
            ]
          },
          "metadata": {},
          "execution_count": 6
        }
      ]
    },
    {
      "cell_type": "code",
      "source": [
        "train_images[0].shape"
      ],
      "metadata": {
        "colab": {
          "base_uri": "https://localhost:8080/"
        },
        "id": "QJH1gsWslgNy",
        "outputId": "e5315b93-a96f-455e-b472-f76a47b61016"
      },
      "id": "QJH1gsWslgNy",
      "execution_count": 7,
      "outputs": [
        {
          "output_type": "execute_result",
          "data": {
            "text/plain": [
              "(28, 28)"
            ]
          },
          "metadata": {},
          "execution_count": 7
        }
      ]
    },
    {
      "cell_type": "markdown",
      "source": [
        "## Simple densely connected NN"
      ],
      "metadata": {
        "id": "BLhb5MI9gBzN"
      },
      "id": "BLhb5MI9gBzN"
    },
    {
      "cell_type": "code",
      "source": [
        "# NN Architecture\n",
        "from tensorflow import keras\n",
        "from tensorflow.keras import layers\n",
        "\n",
        "model = keras.Sequential([\n",
        " layers.Dense(512, activation=\"relu\"),\n",
        " layers.Dense(10, activation=\"softmax\")\n",
        "])"
      ],
      "metadata": {
        "id": "lDefjhGxkczw"
      },
      "id": "lDefjhGxkczw",
      "execution_count": 8,
      "outputs": []
    },
    {
      "cell_type": "code",
      "source": [
        "# Compilation step\n",
        "model.compile(optimizer=\"rmsprop\", loss=\"sparse_categorical_crossentropy\", metrics=[\"accuracy\"])"
      ],
      "metadata": {
        "id": "COmOUcsHknfA"
      },
      "id": "COmOUcsHknfA",
      "execution_count": 9,
      "outputs": []
    },
    {
      "cell_type": "code",
      "source": [
        "# Preparing the image data\n",
        "train_images = train_images.reshape((60000, 28 * 28))\n",
        "train_images = train_images.astype(\"float32\") / 255\n",
        "\n",
        "test_images = test_images.reshape((10000, 28 * 28))\n",
        "test_images = test_images.astype(\"float32\") / 255"
      ],
      "metadata": {
        "id": "Y0_SOV7WkzUX"
      },
      "id": "Y0_SOV7WkzUX",
      "execution_count": 10,
      "outputs": []
    },
    {
      "cell_type": "code",
      "source": [
        "# Fitting the model\n",
        "model.fit(train_images, train_labels, epochs=5, batch_size=128)"
      ],
      "metadata": {
        "colab": {
          "base_uri": "https://localhost:8080/"
        },
        "id": "Vt-VKpAKk498",
        "outputId": "82fc81b2-e14a-4b67-c7e4-95d4a4092c8c"
      },
      "id": "Vt-VKpAKk498",
      "execution_count": 11,
      "outputs": [
        {
          "output_type": "stream",
          "name": "stdout",
          "text": [
            "Epoch 1/5\n",
            "469/469 [==============================] - 6s 6ms/step - loss: 0.2657 - accuracy: 0.9238\n",
            "Epoch 2/5\n",
            "469/469 [==============================] - 3s 5ms/step - loss: 0.1064 - accuracy: 0.9689\n",
            "Epoch 3/5\n",
            "469/469 [==============================] - 2s 3ms/step - loss: 0.0702 - accuracy: 0.9792\n",
            "Epoch 4/5\n",
            "469/469 [==============================] - 1s 3ms/step - loss: 0.0510 - accuracy: 0.9845\n",
            "Epoch 5/5\n",
            "469/469 [==============================] - 1s 3ms/step - loss: 0.0389 - accuracy: 0.9886\n"
          ]
        },
        {
          "output_type": "execute_result",
          "data": {
            "text/plain": [
              "<keras.callbacks.History at 0x7fe931c33e50>"
            ]
          },
          "metadata": {},
          "execution_count": 11
        }
      ]
    },
    {
      "cell_type": "code",
      "source": [
        "model.summary()"
      ],
      "metadata": {
        "colab": {
          "base_uri": "https://localhost:8080/"
        },
        "id": "v_QE57d9nT3q",
        "outputId": "fef9c317-326e-448c-d135-2450fbee8010"
      },
      "id": "v_QE57d9nT3q",
      "execution_count": 12,
      "outputs": [
        {
          "output_type": "stream",
          "name": "stdout",
          "text": [
            "Model: \"sequential\"\n",
            "_________________________________________________________________\n",
            " Layer (type)                Output Shape              Param #   \n",
            "=================================================================\n",
            " dense (Dense)               (None, 512)               401920    \n",
            "                                                                 \n",
            " dense_1 (Dense)             (None, 10)                5130      \n",
            "                                                                 \n",
            "=================================================================\n",
            "Total params: 407,050\n",
            "Trainable params: 407,050\n",
            "Non-trainable params: 0\n",
            "_________________________________________________________________\n"
          ]
        }
      ]
    },
    {
      "cell_type": "code",
      "source": [
        "# Using the model to make predictions\n",
        "test_digits = test_images[0:10]\n",
        "predictions = model.predict(test_digits)\n",
        "predictions[0]"
      ],
      "metadata": {
        "colab": {
          "base_uri": "https://localhost:8080/"
        },
        "id": "p2-svjNjk9uF",
        "outputId": "2a384691-206b-4d30-98b3-fbef0682ccee"
      },
      "id": "p2-svjNjk9uF",
      "execution_count": 13,
      "outputs": [
        {
          "output_type": "stream",
          "name": "stdout",
          "text": [
            "1/1 [==============================] - 0s 67ms/step\n"
          ]
        },
        {
          "output_type": "execute_result",
          "data": {
            "text/plain": [
              "array([7.1648114e-09, 6.1657808e-08, 1.5525344e-05, 3.5330420e-05,\n",
              "       5.3540443e-11, 6.1070340e-09, 2.9306283e-13, 9.9994802e-01,\n",
              "       4.0886228e-08, 1.0785536e-06], dtype=float32)"
            ]
          },
          "metadata": {},
          "execution_count": 13
        }
      ]
    },
    {
      "cell_type": "code",
      "source": [
        "predictions[0].argmax() "
      ],
      "metadata": {
        "colab": {
          "base_uri": "https://localhost:8080/"
        },
        "id": "GPolDeXflN3R",
        "outputId": "ba2597ec-75c2-42d8-9b71-3ae0104108af"
      },
      "id": "GPolDeXflN3R",
      "execution_count": 14,
      "outputs": [
        {
          "output_type": "execute_result",
          "data": {
            "text/plain": [
              "7"
            ]
          },
          "metadata": {},
          "execution_count": 14
        }
      ]
    },
    {
      "cell_type": "code",
      "source": [
        "predictions[0][7] "
      ],
      "metadata": {
        "colab": {
          "base_uri": "https://localhost:8080/"
        },
        "id": "9I0cK6oylSiD",
        "outputId": "0e957d7c-8c1a-459d-8069-1e2de73eeb3d"
      },
      "id": "9I0cK6oylSiD",
      "execution_count": 15,
      "outputs": [
        {
          "output_type": "execute_result",
          "data": {
            "text/plain": [
              "0.999948"
            ]
          },
          "metadata": {},
          "execution_count": 15
        }
      ]
    },
    {
      "cell_type": "code",
      "source": [
        "test_labels[0] "
      ],
      "metadata": {
        "colab": {
          "base_uri": "https://localhost:8080/"
        },
        "id": "un2I8ERJlV_p",
        "outputId": "8d2c1b6c-efe7-46bd-9e11-9e79a568cd0b"
      },
      "id": "un2I8ERJlV_p",
      "execution_count": 16,
      "outputs": [
        {
          "output_type": "execute_result",
          "data": {
            "text/plain": [
              "7"
            ]
          },
          "metadata": {},
          "execution_count": 16
        }
      ]
    },
    {
      "cell_type": "code",
      "source": [
        "# Evaluating the model on new (test) data\n",
        "test_loss, test_acc = model.evaluate(test_images, test_labels)\n",
        "print(f\"test_acc: {test_acc}\")"
      ],
      "metadata": {
        "colab": {
          "base_uri": "https://localhost:8080/"
        },
        "id": "Si6ZyYSzla_b",
        "outputId": "febcdeab-e78a-447c-c293-7dc55590792d"
      },
      "id": "Si6ZyYSzla_b",
      "execution_count": 17,
      "outputs": [
        {
          "output_type": "stream",
          "name": "stdout",
          "text": [
            "313/313 [==============================] - 1s 2ms/step - loss: 0.0614 - accuracy: 0.9815\n",
            "test_acc: 0.9815000295639038\n"
          ]
        }
      ]
    },
    {
      "cell_type": "code",
      "source": [
        "# To see the weights of a trained model, let's use the get_weights() method:\n",
        "weights = model.get_weights()\n",
        "\n",
        "# 'weights' is a list containing weight tensors\n",
        "for layer_weights in weights:\n",
        "    print(layer_weights)"
      ],
      "metadata": {
        "colab": {
          "base_uri": "https://localhost:8080/"
        },
        "id": "sd-ZtRgYoX14",
        "outputId": "85715106-22d9-4afb-d12b-4fbff8f06e74"
      },
      "id": "sd-ZtRgYoX14",
      "execution_count": 18,
      "outputs": [
        {
          "output_type": "stream",
          "name": "stdout",
          "text": [
            "[[ 0.00157039 -0.01733812 -0.03473929 ... -0.00715619  0.04700591\n",
            "   0.05974409]\n",
            " [ 0.06074499  0.05307575  0.04190505 ...  0.04652034 -0.02587642\n",
            "   0.03393011]\n",
            " [ 0.03138145  0.03270746 -0.02150586 ... -0.06537941 -0.02759036\n",
            "   0.05270448]\n",
            " ...\n",
            " [-0.02732549  0.01162165 -0.05610806 ... -0.02643742  0.00170431\n",
            "  -0.0045673 ]\n",
            " [ 0.02956289 -0.05389144 -0.02799624 ... -0.03217169 -0.03961577\n",
            "  -0.04894858]\n",
            " [-0.03624351  0.0169719  -0.00027599 ... -0.03937705 -0.04902107\n",
            "  -0.05690415]]\n",
            "[ 6.00034744e-02  3.18754353e-02  9.46640745e-02 -3.51471943e-03\n",
            " -2.62921285e-02  1.93754602e-02  4.75926846e-02  2.92324424e-02\n",
            "  3.33586447e-02 -1.04276529e-02 -5.40025271e-02  4.01625372e-02\n",
            "  9.48050932e-04  4.35824022e-02  8.13338310e-02  4.25913967e-02\n",
            " -1.21582430e-02  1.55048342e-02 -1.87265836e-02 -1.81048159e-02\n",
            " -1.94323678e-02  3.05203944e-02  6.57678349e-03  1.25763603e-02\n",
            " -2.04154756e-02  1.00030685e-02  3.22442763e-02  8.64919499e-02\n",
            " -1.43418023e-02 -1.27593148e-02 -5.45710372e-03  4.95478623e-02\n",
            "  5.48981689e-03 -5.83413988e-03  1.20891273e-01  3.83886248e-02\n",
            "  1.67429894e-02  2.19952837e-02 -4.27243896e-02 -5.50025795e-03\n",
            " -6.79252902e-03 -3.78121957e-02  8.52311868e-03  1.10017255e-01\n",
            "  2.28861365e-02  6.93184137e-02  7.74101540e-02 -3.09479963e-02\n",
            "  1.37454374e-02 -1.71968360e-02  1.60914846e-02  6.60706908e-02\n",
            "  5.86644607e-03 -7.98563194e-03  3.34833339e-02 -2.15204079e-02\n",
            " -3.65986377e-02  1.71793625e-02 -5.11717014e-02 -4.46515307e-02\n",
            "  4.17132489e-02 -3.17861699e-02  2.95919310e-02  1.98753066e-02\n",
            "  2.06872188e-02  2.23273020e-02  4.91523789e-03  4.25232090e-02\n",
            " -1.87627245e-02  3.62437509e-04  9.24775261e-04 -2.73047499e-02\n",
            "  4.71211299e-02  7.01923016e-03  5.86218685e-02 -1.90916820e-04\n",
            "  3.38647589e-02 -3.83048994e-03 -1.75162274e-02 -2.90123019e-02\n",
            "  7.39895040e-03  1.32054044e-02 -6.95278868e-04  2.66988073e-02\n",
            " -2.52826288e-02 -3.19249369e-02 -1.52261145e-02  5.29322121e-03\n",
            "  7.15321396e-03  8.02139286e-03 -2.26616338e-02 -2.12529916e-02\n",
            "  3.68020535e-02  5.44068590e-03  3.83288693e-03  7.34558478e-02\n",
            " -3.79260369e-02  3.13125625e-02 -1.56685635e-02  2.47617476e-02\n",
            " -1.31407958e-02  3.82487960e-02  2.82911006e-02 -5.86110428e-02\n",
            "  1.09463865e-02  1.16849709e-02 -1.42660784e-02 -2.49389354e-02\n",
            "  1.11638373e-02  1.37817368e-01  1.05228219e-02 -2.96812374e-02\n",
            " -4.37854379e-02  1.14013935e-02  1.80047937e-02  3.28358337e-02\n",
            "  2.24987287e-02  1.99079188e-03 -1.26544787e-02  6.19094912e-03\n",
            "  2.41548866e-02  2.19562370e-03  6.03819713e-02 -9.81903076e-03\n",
            " -1.13711460e-02 -1.10436771e-02 -1.55275203e-02 -1.54673439e-02\n",
            " -2.30065156e-02 -9.40401340e-04 -4.62158918e-02 -2.87904777e-02\n",
            "  7.99521580e-02 -6.44681742e-04 -1.38540566e-02  3.51070873e-02\n",
            " -2.37633269e-02  2.72750258e-02  1.23962685e-02  4.09525633e-03\n",
            "  4.16291431e-02 -1.73539575e-02  3.86569947e-02  4.75651771e-03\n",
            "  4.97176871e-03 -6.24778271e-02 -1.65265903e-03 -9.42144450e-03\n",
            "  3.83146182e-02 -2.33639702e-02 -4.07774411e-02 -1.27836689e-02\n",
            " -1.05190417e-02 -3.16436663e-02  4.12522592e-02  2.02751495e-02\n",
            " -4.93293861e-04  2.44864356e-02  2.40014698e-02  2.16121916e-02\n",
            "  4.14211722e-03  1.33518167e-02  1.45255942e-02 -6.00676634e-04\n",
            " -2.63652783e-02  3.58827375e-02  3.27195064e-03  3.09615973e-02\n",
            " -3.99676412e-02  3.35505679e-02  2.53157448e-02  3.38457040e-02\n",
            " -1.66781116e-02  3.21573988e-02  1.56351309e-02 -2.00629346e-02\n",
            "  5.97288944e-02  3.54707129e-02 -1.85389258e-02  8.80746543e-03\n",
            "  3.92074212e-02  3.87879126e-02  9.06964531e-04  4.07439582e-02\n",
            "  5.79102971e-02 -3.40276472e-02 -3.01733427e-02  1.65725350e-02\n",
            "  5.43883219e-02  3.65002863e-02  6.31133318e-02 -1.34498877e-02\n",
            "  8.66431219e-06  1.59727840e-03 -1.34992115e-02  3.71054038e-02\n",
            " -1.62211098e-02  1.97810698e-02  2.60116253e-02  1.79776549e-02\n",
            " -3.95751148e-02  4.42201421e-02  8.74654390e-03 -3.55893970e-02\n",
            "  2.39199437e-02  4.35135923e-02  2.67006923e-02  5.67724295e-02\n",
            "  4.63336008e-03 -1.42053654e-02  3.54476199e-02  1.96134858e-03\n",
            " -4.32342812e-02  1.61094107e-02 -3.16543616e-02  5.30085936e-02\n",
            "  7.53631489e-03  3.54565792e-02 -3.11970897e-03  2.39261519e-02\n",
            " -6.15552813e-02  1.38324499e-02  3.56260315e-02 -1.98106896e-02\n",
            " -2.91515160e-02 -2.86274496e-02  4.46681194e-02  6.40306771e-02\n",
            "  3.47405002e-02  5.10747544e-03  4.47750129e-02 -2.05949266e-02\n",
            "  5.22606075e-02  2.02809554e-02 -1.94872450e-02  9.37968958e-04\n",
            " -4.98726172e-03  3.36258579e-03  9.40712690e-02 -1.42233372e-02\n",
            " -4.24502119e-02 -5.91605119e-02 -7.21494202e-03  7.57602900e-02\n",
            "  2.35734042e-02 -5.53646348e-02 -3.82958585e-03  2.24406645e-03\n",
            " -1.51065206e-02  6.25297567e-03 -1.14688817e-02 -1.26746641e-02\n",
            " -1.50352577e-03  4.51320447e-02 -6.45960867e-02  4.02637273e-02\n",
            " -3.42979133e-02  2.79060900e-02  6.37005493e-02  3.67212924e-03\n",
            " -4.78844307e-02 -6.59517664e-03  3.86401974e-02 -4.14224081e-02\n",
            "  4.80668359e-02  1.76091678e-02 -4.55368310e-02 -2.15819627e-02\n",
            " -1.57460617e-03  4.97966520e-02  6.41352087e-02 -2.81767081e-02\n",
            "  4.67872582e-02 -5.27682155e-02 -1.06854644e-02  1.63314585e-02\n",
            " -4.20504361e-02  1.92380082e-02  2.51074210e-02 -2.80154068e-02\n",
            " -1.64430006e-03  1.39751071e-02  1.32502904e-02 -1.01491259e-02\n",
            " -5.42547517e-02  1.35208678e-03 -1.75214447e-02 -7.20050484e-02\n",
            "  3.81359197e-02  8.09078850e-03  6.33646920e-02 -1.61886308e-02\n",
            " -3.33558321e-02 -2.21331865e-02 -2.61739474e-02 -5.30675575e-02\n",
            " -1.09966174e-02 -1.37921004e-02  4.13954705e-02 -1.76156766e-03\n",
            " -3.17000374e-02  4.46912367e-03  1.65939908e-02 -1.56580284e-02\n",
            "  1.34775918e-02  5.50898537e-03 -6.95340335e-03  9.01002809e-03\n",
            " -1.24308243e-02  1.48870591e-02 -1.78299807e-02 -1.89700183e-02\n",
            "  2.80346852e-02  1.81268640e-02  3.94533984e-02  9.42859333e-06\n",
            "  3.08379643e-02  5.97703233e-02  2.94585638e-02 -5.02390135e-03\n",
            "  5.23720831e-02 -1.39355948e-02 -7.79973064e-03 -3.33611446e-04\n",
            " -5.76366065e-03 -3.40942550e-03 -2.61108615e-02  2.44474318e-02\n",
            "  3.62081500e-03 -5.19911572e-02 -2.67065316e-02 -2.38590576e-02\n",
            "  1.37151964e-03  1.72467660e-02 -2.28287615e-02 -4.70595667e-03\n",
            " -2.94344537e-02  4.44817282e-02 -4.51491177e-02  1.81133598e-02\n",
            "  1.10729011e-02  2.81956736e-02  1.55982934e-02 -2.76426934e-02\n",
            " -8.30477197e-03  1.61889438e-02  1.77886952e-02  3.61656845e-02\n",
            "  2.05162168e-02  2.59174425e-02  6.30533323e-03 -1.35420840e-02\n",
            " -6.87541021e-03 -5.23948111e-03 -5.27314916e-02  7.88265020e-02\n",
            "  1.95280202e-02 -1.01118907e-02  2.16959566e-02 -2.11402196e-02\n",
            "  6.34210110e-02 -4.68234438e-03  4.66379477e-03  2.08282424e-03\n",
            "  6.71993345e-02  2.82754339e-02 -3.86677720e-02  4.19175178e-02\n",
            " -5.95355593e-03  4.01561707e-02 -1.71084758e-02 -3.51519883e-02\n",
            " -1.67830139e-02  1.80034153e-02  3.89259011e-02  5.88484760e-03\n",
            "  4.34807055e-02  2.53097322e-02  2.08687540e-02 -2.10782681e-02\n",
            " -4.50648777e-02  3.51648219e-02  6.01811409e-02  1.78016126e-02\n",
            "  2.02261191e-02 -3.75290625e-02  5.95906116e-02 -5.86954542e-02\n",
            " -5.35437546e-04 -1.59723442e-02 -6.35170713e-02 -6.00149902e-03\n",
            "  3.53374891e-02  6.92283222e-03 -2.36050133e-03  9.45145544e-03\n",
            " -3.87868122e-03 -3.04191653e-03  2.17316598e-02  2.08258014e-02\n",
            " -3.39308493e-02  6.11284561e-02  9.85126756e-03  2.95730643e-02\n",
            "  4.98282798e-02 -2.62196250e-02  6.07533976e-02 -1.77361034e-02\n",
            "  2.80630384e-02  5.44059724e-02  9.07597318e-03 -6.18137605e-03\n",
            "  4.89399135e-02  5.03109442e-03  6.19205087e-02  1.36939613e-02\n",
            "  3.45705599e-02  2.78890356e-02  1.07608587e-02 -3.45647931e-02\n",
            "  5.48192263e-02 -4.95799258e-02  2.31201295e-03  2.40499061e-02\n",
            " -1.63735952e-02  3.02420259e-02 -1.61241852e-02 -3.47799212e-02\n",
            "  1.81363169e-02  1.36579620e-04 -1.54669688e-03 -1.91948581e-02\n",
            " -2.43102014e-02  2.70664208e-02  2.10607406e-02 -1.86740048e-02\n",
            "  5.06807230e-02 -1.71504803e-02  3.69228758e-02  5.94772287e-02\n",
            "  5.07098846e-02 -1.84229296e-02  1.63827445e-02 -4.48975246e-03\n",
            "  6.35115206e-02  1.69424191e-02 -3.59845012e-02  6.74312934e-02\n",
            "  1.49488291e-02  2.66104788e-02 -1.25331851e-02  3.57070677e-02\n",
            "  1.39230648e-02  1.04483636e-02  6.54096231e-02 -2.25452017e-02\n",
            " -8.87600472e-04  1.01979794e-02  4.03449871e-02  6.01763558e-03\n",
            " -1.52206495e-02  2.73831747e-02 -2.77870130e-02 -2.95181219e-02\n",
            "  3.59665453e-02 -3.68571430e-02 -4.30551246e-02  8.10161699e-03\n",
            " -2.28618179e-02 -5.41768707e-02  3.48167643e-02 -3.43499109e-02\n",
            "  5.61340488e-02 -3.46306004e-02  1.43931955e-02 -6.27126964e-03\n",
            " -5.73051162e-03 -1.64343864e-02 -4.50841617e-03  1.65959317e-02\n",
            "  2.96607483e-02  4.13220301e-02 -6.08302606e-03  3.79995517e-02\n",
            "  6.57506064e-02  7.83192366e-03  2.21496075e-02  3.91607806e-02\n",
            "  1.04217567e-02  6.76289899e-03 -2.54539922e-02 -2.73454357e-02\n",
            " -3.19484174e-02 -1.26489727e-02  6.14364631e-02 -7.11425394e-03\n",
            " -5.79723082e-02 -3.15568671e-02  4.20483425e-02  4.83689457e-02\n",
            " -8.53454694e-04  2.88766026e-02 -2.29092296e-02 -7.61524290e-02\n",
            "  2.11154651e-02 -6.16061464e-02  2.04998367e-02  4.92950529e-02\n",
            " -1.91700459e-02  2.13629636e-03 -1.36058535e-02 -1.60143860e-02]\n",
            "[[ 0.01461658 -0.26247105  0.21711604 ... -0.21315384 -0.19621655\n",
            "  -0.14836851]\n",
            " [-0.13237134 -0.05143991 -0.36687663 ... -0.07620556 -0.03457178\n",
            "   0.01283923]\n",
            " [-0.15033136  0.10130528  0.00601083 ... -0.19419089 -0.00641938\n",
            "   0.14712115]\n",
            " ...\n",
            " [-0.06400953 -0.07516523  0.07923276 ... -0.10221781  0.09785387\n",
            "  -0.16817611]\n",
            " [-0.07451317  0.08950289  0.10305222 ... -0.15163514  0.03371627\n",
            "  -0.30834162]\n",
            " [-0.02063203  0.08074938  0.18093891 ... -0.1229581   0.04960991\n",
            "   0.1511177 ]]\n",
            "[-0.05190121 -0.01173383  0.01949498 -0.029777    0.00325977  0.03678468\n",
            " -0.03432912 -0.01851054  0.06758191 -0.00115954]\n"
          ]
        }
      ]
    },
    {
      "cell_type": "code",
      "source": [
        "len(weights)"
      ],
      "metadata": {
        "colab": {
          "base_uri": "https://localhost:8080/"
        },
        "id": "E7W7L8oXpud8",
        "outputId": "8d5e782c-c503-4fd1-aa32-c5440163ef38"
      },
      "id": "E7W7L8oXpud8",
      "execution_count": 19,
      "outputs": [
        {
          "output_type": "execute_result",
          "data": {
            "text/plain": [
              "4"
            ]
          },
          "metadata": {},
          "execution_count": 19
        }
      ]
    },
    {
      "cell_type": "code",
      "source": [
        "for layer_weights in weights:\n",
        "    print(layer_weights.shape)"
      ],
      "metadata": {
        "colab": {
          "base_uri": "https://localhost:8080/"
        },
        "id": "hbR7WTN9oj_g",
        "outputId": "d2fc4cd7-bb7c-4bb9-d527-d38f5269a482"
      },
      "id": "hbR7WTN9oj_g",
      "execution_count": 20,
      "outputs": [
        {
          "output_type": "stream",
          "name": "stdout",
          "text": [
            "(784, 512)\n",
            "(512,)\n",
            "(512, 10)\n",
            "(10,)\n"
          ]
        }
      ]
    },
    {
      "cell_type": "markdown",
      "source": [
        "## Initializing random weights and creating NN with those weights"
      ],
      "metadata": {
        "id": "eVTKFFrRte34"
      },
      "id": "eVTKFFrRte34"
    },
    {
      "cell_type": "code",
      "source": [
        "import numpy as np\n",
        "\n",
        "# Set the random seed for reproducibility\n",
        "np.random.seed(42)\n",
        "\n",
        "input = 28*28\n",
        "hidden = 512\n",
        "output = 10"
      ],
      "metadata": {
        "id": "Qy3Wzye_UOIV"
      },
      "id": "Qy3Wzye_UOIV",
      "execution_count": 21,
      "outputs": []
    },
    {
      "cell_type": "code",
      "source": [
        "size = input*hidden + hidden + hidden*output + output\n",
        "size"
      ],
      "metadata": {
        "id": "hauXqEBjURyr",
        "outputId": "347a7d33-d881-4840-faf0-7a4dffaddb6d",
        "colab": {
          "base_uri": "https://localhost:8080/"
        }
      },
      "id": "hauXqEBjURyr",
      "execution_count": 22,
      "outputs": [
        {
          "output_type": "execute_result",
          "data": {
            "text/plain": [
              "407050"
            ]
          },
          "metadata": {},
          "execution_count": 22
        }
      ]
    },
    {
      "cell_type": "code",
      "source": [
        "random_weights = np.random.rand(size)\n",
        "random_weights"
      ],
      "metadata": {
        "id": "zJSwBlG4VIKP",
        "outputId": "76f60e84-9c13-4b91-f8db-7eb99e4daeaa",
        "colab": {
          "base_uri": "https://localhost:8080/"
        }
      },
      "id": "zJSwBlG4VIKP",
      "execution_count": 23,
      "outputs": [
        {
          "output_type": "execute_result",
          "data": {
            "text/plain": [
              "array([0.37454012, 0.95071431, 0.73199394, ..., 0.83274859, 0.66486982,\n",
              "       0.5787854 ])"
            ]
          },
          "metadata": {},
          "execution_count": 23
        }
      ]
    },
    {
      "cell_type": "code",
      "source": [
        "weights_1 = random_weights[:input*hidden].reshape(input, hidden)\n",
        "biases_1 = random_weights[input*hidden:input*hidden+hidden].reshape(hidden,)\n",
        "weights_2 = random_weights[input*hidden+hidden:input*hidden+hidden+hidden*output].reshape(hidden, output)\n",
        "biases_2 = random_weights[input*hidden+hidden+hidden*output:].reshape(output,)\n",
        "\n",
        "weights_list = [weights_1, biases_1, weights_2, biases_2]\n",
        "\n",
        "# Print the shapes of the weight arrays\n",
        "for weights in weights_list:\n",
        "    print(weights.shape)"
      ],
      "metadata": {
        "id": "YnEUrh4kVXuF",
        "outputId": "910683af-b91a-465d-a8ca-dd9e9ac2756e",
        "colab": {
          "base_uri": "https://localhost:8080/"
        }
      },
      "id": "YnEUrh4kVXuF",
      "execution_count": 24,
      "outputs": [
        {
          "output_type": "stream",
          "name": "stdout",
          "text": [
            "(784, 512)\n",
            "(512,)\n",
            "(512, 10)\n",
            "(10,)\n"
          ]
        }
      ]
    },
    {
      "cell_type": "code",
      "source": [
        "# Defining the architecture of a neural network\n",
        "new_network = keras.Sequential([\n",
        "    layers.Dense(512, activation=\"relu\", input_shape=(784,)),\n",
        "    layers.Dense(10, activation=\"softmax\")\n",
        "])"
      ],
      "metadata": {
        "id": "e-Ikiv7eyziS"
      },
      "id": "e-Ikiv7eyziS",
      "execution_count": 25,
      "outputs": []
    },
    {
      "cell_type": "code",
      "source": [
        "# Setting the weights of the model \n",
        "new_network.set_weights(weights_list)\n",
        "\n",
        "# Compiling the model \n",
        "new_network.compile(optimizer=\"rmsprop\",\n",
        "                    loss=\"sparse_categorical_crossentropy\",\n",
        "                    metrics=[\"accuracy\"])"
      ],
      "metadata": {
        "id": "_-IGua0jKjOY"
      },
      "id": "_-IGua0jKjOY",
      "execution_count": 26,
      "outputs": []
    },
    {
      "cell_type": "code",
      "source": [
        "new_network.summary()"
      ],
      "metadata": {
        "colab": {
          "base_uri": "https://localhost:8080/"
        },
        "id": "MJf6pDd318ie",
        "outputId": "68417d26-c66f-4bde-8fb8-8c85bf74f438"
      },
      "id": "MJf6pDd318ie",
      "execution_count": 27,
      "outputs": [
        {
          "output_type": "stream",
          "name": "stdout",
          "text": [
            "Model: \"sequential_1\"\n",
            "_________________________________________________________________\n",
            " Layer (type)                Output Shape              Param #   \n",
            "=================================================================\n",
            " dense_2 (Dense)             (None, 512)               401920    \n",
            "                                                                 \n",
            " dense_3 (Dense)             (None, 10)                5130      \n",
            "                                                                 \n",
            "=================================================================\n",
            "Total params: 407,050\n",
            "Trainable params: 407,050\n",
            "Non-trainable params: 0\n",
            "_________________________________________________________________\n"
          ]
        }
      ]
    },
    {
      "cell_type": "code",
      "source": [
        "# Evaluating the model on train data\n",
        "train_loss, train_acc = new_network.evaluate(train_images, train_labels)"
      ],
      "metadata": {
        "colab": {
          "base_uri": "https://localhost:8080/"
        },
        "id": "j150y3J77e54",
        "outputId": "8cd73941-4fd8-47c2-8cb0-2410f7c976af"
      },
      "id": "j150y3J77e54",
      "execution_count": 28,
      "outputs": [
        {
          "output_type": "stream",
          "name": "stdout",
          "text": [
            "1875/1875 [==============================] - 4s 2ms/step - loss: 795.9622 - accuracy: 0.0904\n"
          ]
        }
      ]
    },
    {
      "cell_type": "code",
      "source": [
        "# Evaluating the model on new (test) data\n",
        "test_loss, test_acc = new_network.evaluate(test_images, test_labels)\n",
        "print(f\"test_acc: {test_acc}\")"
      ],
      "metadata": {
        "colab": {
          "base_uri": "https://localhost:8080/"
        },
        "id": "3UJH-D8K7Rjj",
        "outputId": "d139f1ba-0a02-4432-dc1c-942df5b85dbd"
      },
      "id": "3UJH-D8K7Rjj",
      "execution_count": 29,
      "outputs": [
        {
          "output_type": "stream",
          "name": "stdout",
          "text": [
            "313/313 [==============================] - 1s 2ms/step - loss: 805.0311 - accuracy: 0.0892\n",
            "test_acc: 0.08919999748468399\n"
          ]
        }
      ]
    }
  ],
  "metadata": {
    "kernelspec": {
      "display_name": "Python 3 (ipykernel)",
      "language": "python",
      "name": "python3"
    },
    "language_info": {
      "codemirror_mode": {
        "name": "ipython",
        "version": 3
      },
      "file_extension": ".py",
      "mimetype": "text/x-python",
      "name": "python",
      "nbconvert_exporter": "python",
      "pygments_lexer": "ipython3",
      "version": "3.9.13"
    },
    "colab": {
      "provenance": []
    },
    "accelerator": "GPU",
    "gpuClass": "standard"
  },
  "nbformat": 4,
  "nbformat_minor": 5
}