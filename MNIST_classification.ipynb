{
  "cells": [
    {
      "cell_type": "markdown",
      "id": "8b0cb6fd-1bb3-4839-86d6-cc048bf42ecb",
      "metadata": {
        "id": "8b0cb6fd-1bb3-4839-86d6-cc048bf42ecb"
      },
      "source": [
        "## Loading MNIST dataset\n",
        "The MNIST dataset (a classic in the Machine Learning community) has been around almost as long as the field itself and has been intensively studied. It’s a set of 60,000 training images, plus 10,000 test images, assembled by the National Institute of Standards and Technology (the NIST in MNIST) in the 1980s. \n"
      ]
    },
    {
      "cell_type": "code",
      "execution_count": 1,
      "id": "e35f565f-f068-4adb-8101-c971c15e5164",
      "metadata": {
        "id": "e35f565f-f068-4adb-8101-c971c15e5164",
        "outputId": "34b9e9d8-5799-42cb-a317-07c2979764e8",
        "colab": {
          "base_uri": "https://localhost:8080/"
        }
      },
      "outputs": [
        {
          "output_type": "stream",
          "name": "stdout",
          "text": [
            "Downloading data from https://storage.googleapis.com/tensorflow/tf-keras-datasets/mnist.npz\n",
            "11490434/11490434 [==============================] - 0s 0us/step\n"
          ]
        }
      ],
      "source": [
        "# Loading the MNIST dataset in Keras\n",
        "from tensorflow.keras.datasets import mnist\n",
        "\n",
        "(train_images, train_labels), (test_images, test_labels) = mnist.load_data()"
      ]
    },
    {
      "cell_type": "code",
      "source": [
        "# Having a look at Training Data\n",
        "print(train_images.shape)\n",
        "print(len(train_labels))\n",
        "print(train_labels)"
      ],
      "metadata": {
        "colab": {
          "base_uri": "https://localhost:8080/"
        },
        "id": "9i-6_PyymPZD",
        "outputId": "3b137e8b-4833-425a-ba4c-01d08362944f"
      },
      "id": "9i-6_PyymPZD",
      "execution_count": 2,
      "outputs": [
        {
          "output_type": "stream",
          "name": "stdout",
          "text": [
            "(60000, 28, 28)\n",
            "60000\n",
            "[5 0 4 ... 5 6 8]\n"
          ]
        }
      ]
    },
    {
      "cell_type": "code",
      "source": [
        "# Having a look at Test Data\n",
        "print(test_images.shape)\n",
        "print(len(test_labels))\n",
        "print(test_labels)"
      ],
      "metadata": {
        "colab": {
          "base_uri": "https://localhost:8080/"
        },
        "id": "bSje3XfnkU3i",
        "outputId": "556834e9-ed2c-4c81-a9a1-f47bb2c903b4"
      },
      "id": "bSje3XfnkU3i",
      "execution_count": 3,
      "outputs": [
        {
          "output_type": "stream",
          "name": "stdout",
          "text": [
            "(10000, 28, 28)\n",
            "10000\n",
            "[7 2 1 ... 4 5 6]\n"
          ]
        }
      ]
    },
    {
      "cell_type": "code",
      "source": [
        "# Exemining one specific image\n",
        "train_images[0]"
      ],
      "metadata": {
        "colab": {
          "base_uri": "https://localhost:8080/"
        },
        "id": "e2UTk4TknPyG",
        "outputId": "aac22199-a160-4802-81fb-3e774926a88f"
      },
      "id": "e2UTk4TknPyG",
      "execution_count": 4,
      "outputs": [
        {
          "output_type": "execute_result",
          "data": {
            "text/plain": [
              "array([[  0,   0,   0,   0,   0,   0,   0,   0,   0,   0,   0,   0,   0,\n",
              "          0,   0,   0,   0,   0,   0,   0,   0,   0,   0,   0,   0,   0,\n",
              "          0,   0],\n",
              "       [  0,   0,   0,   0,   0,   0,   0,   0,   0,   0,   0,   0,   0,\n",
              "          0,   0,   0,   0,   0,   0,   0,   0,   0,   0,   0,   0,   0,\n",
              "          0,   0],\n",
              "       [  0,   0,   0,   0,   0,   0,   0,   0,   0,   0,   0,   0,   0,\n",
              "          0,   0,   0,   0,   0,   0,   0,   0,   0,   0,   0,   0,   0,\n",
              "          0,   0],\n",
              "       [  0,   0,   0,   0,   0,   0,   0,   0,   0,   0,   0,   0,   0,\n",
              "          0,   0,   0,   0,   0,   0,   0,   0,   0,   0,   0,   0,   0,\n",
              "          0,   0],\n",
              "       [  0,   0,   0,   0,   0,   0,   0,   0,   0,   0,   0,   0,   0,\n",
              "          0,   0,   0,   0,   0,   0,   0,   0,   0,   0,   0,   0,   0,\n",
              "          0,   0],\n",
              "       [  0,   0,   0,   0,   0,   0,   0,   0,   0,   0,   0,   0,   3,\n",
              "         18,  18,  18, 126, 136, 175,  26, 166, 255, 247, 127,   0,   0,\n",
              "          0,   0],\n",
              "       [  0,   0,   0,   0,   0,   0,   0,   0,  30,  36,  94, 154, 170,\n",
              "        253, 253, 253, 253, 253, 225, 172, 253, 242, 195,  64,   0,   0,\n",
              "          0,   0],\n",
              "       [  0,   0,   0,   0,   0,   0,   0,  49, 238, 253, 253, 253, 253,\n",
              "        253, 253, 253, 253, 251,  93,  82,  82,  56,  39,   0,   0,   0,\n",
              "          0,   0],\n",
              "       [  0,   0,   0,   0,   0,   0,   0,  18, 219, 253, 253, 253, 253,\n",
              "        253, 198, 182, 247, 241,   0,   0,   0,   0,   0,   0,   0,   0,\n",
              "          0,   0],\n",
              "       [  0,   0,   0,   0,   0,   0,   0,   0,  80, 156, 107, 253, 253,\n",
              "        205,  11,   0,  43, 154,   0,   0,   0,   0,   0,   0,   0,   0,\n",
              "          0,   0],\n",
              "       [  0,   0,   0,   0,   0,   0,   0,   0,   0,  14,   1, 154, 253,\n",
              "         90,   0,   0,   0,   0,   0,   0,   0,   0,   0,   0,   0,   0,\n",
              "          0,   0],\n",
              "       [  0,   0,   0,   0,   0,   0,   0,   0,   0,   0,   0, 139, 253,\n",
              "        190,   2,   0,   0,   0,   0,   0,   0,   0,   0,   0,   0,   0,\n",
              "          0,   0],\n",
              "       [  0,   0,   0,   0,   0,   0,   0,   0,   0,   0,   0,  11, 190,\n",
              "        253,  70,   0,   0,   0,   0,   0,   0,   0,   0,   0,   0,   0,\n",
              "          0,   0],\n",
              "       [  0,   0,   0,   0,   0,   0,   0,   0,   0,   0,   0,   0,  35,\n",
              "        241, 225, 160, 108,   1,   0,   0,   0,   0,   0,   0,   0,   0,\n",
              "          0,   0],\n",
              "       [  0,   0,   0,   0,   0,   0,   0,   0,   0,   0,   0,   0,   0,\n",
              "         81, 240, 253, 253, 119,  25,   0,   0,   0,   0,   0,   0,   0,\n",
              "          0,   0],\n",
              "       [  0,   0,   0,   0,   0,   0,   0,   0,   0,   0,   0,   0,   0,\n",
              "          0,  45, 186, 253, 253, 150,  27,   0,   0,   0,   0,   0,   0,\n",
              "          0,   0],\n",
              "       [  0,   0,   0,   0,   0,   0,   0,   0,   0,   0,   0,   0,   0,\n",
              "          0,   0,  16,  93, 252, 253, 187,   0,   0,   0,   0,   0,   0,\n",
              "          0,   0],\n",
              "       [  0,   0,   0,   0,   0,   0,   0,   0,   0,   0,   0,   0,   0,\n",
              "          0,   0,   0,   0, 249, 253, 249,  64,   0,   0,   0,   0,   0,\n",
              "          0,   0],\n",
              "       [  0,   0,   0,   0,   0,   0,   0,   0,   0,   0,   0,   0,   0,\n",
              "          0,  46, 130, 183, 253, 253, 207,   2,   0,   0,   0,   0,   0,\n",
              "          0,   0],\n",
              "       [  0,   0,   0,   0,   0,   0,   0,   0,   0,   0,   0,   0,  39,\n",
              "        148, 229, 253, 253, 253, 250, 182,   0,   0,   0,   0,   0,   0,\n",
              "          0,   0],\n",
              "       [  0,   0,   0,   0,   0,   0,   0,   0,   0,   0,  24, 114, 221,\n",
              "        253, 253, 253, 253, 201,  78,   0,   0,   0,   0,   0,   0,   0,\n",
              "          0,   0],\n",
              "       [  0,   0,   0,   0,   0,   0,   0,   0,  23,  66, 213, 253, 253,\n",
              "        253, 253, 198,  81,   2,   0,   0,   0,   0,   0,   0,   0,   0,\n",
              "          0,   0],\n",
              "       [  0,   0,   0,   0,   0,   0,  18, 171, 219, 253, 253, 253, 253,\n",
              "        195,  80,   9,   0,   0,   0,   0,   0,   0,   0,   0,   0,   0,\n",
              "          0,   0],\n",
              "       [  0,   0,   0,   0,  55, 172, 226, 253, 253, 253, 253, 244, 133,\n",
              "         11,   0,   0,   0,   0,   0,   0,   0,   0,   0,   0,   0,   0,\n",
              "          0,   0],\n",
              "       [  0,   0,   0,   0, 136, 253, 253, 253, 212, 135, 132,  16,   0,\n",
              "          0,   0,   0,   0,   0,   0,   0,   0,   0,   0,   0,   0,   0,\n",
              "          0,   0],\n",
              "       [  0,   0,   0,   0,   0,   0,   0,   0,   0,   0,   0,   0,   0,\n",
              "          0,   0,   0,   0,   0,   0,   0,   0,   0,   0,   0,   0,   0,\n",
              "          0,   0],\n",
              "       [  0,   0,   0,   0,   0,   0,   0,   0,   0,   0,   0,   0,   0,\n",
              "          0,   0,   0,   0,   0,   0,   0,   0,   0,   0,   0,   0,   0,\n",
              "          0,   0],\n",
              "       [  0,   0,   0,   0,   0,   0,   0,   0,   0,   0,   0,   0,   0,\n",
              "          0,   0,   0,   0,   0,   0,   0,   0,   0,   0,   0,   0,   0,\n",
              "          0,   0]], dtype=uint8)"
            ]
          },
          "metadata": {},
          "execution_count": 4
        }
      ]
    },
    {
      "cell_type": "code",
      "source": [
        "# Displaying the item from the training dataset\n",
        "import matplotlib.pyplot as plt\n",
        "\n",
        "digit = train_images[0]\n",
        "plt.imshow(digit, cmap=plt.cm.binary)\n",
        "plt.show()"
      ],
      "metadata": {
        "colab": {
          "base_uri": "https://localhost:8080/",
          "height": 430
        },
        "id": "UWw3Z2sWl2MB",
        "outputId": "66b5f4db-ccb2-4219-c89c-fd16c3519300"
      },
      "id": "UWw3Z2sWl2MB",
      "execution_count": 5,
      "outputs": [
        {
          "output_type": "display_data",
          "data": {
            "text/plain": [
              "<Figure size 640x480 with 1 Axes>"
            ],
            "image/png": "[encoded data removed]"
          },
          "metadata": {}
        }
      ]
    },
    {
      "cell_type": "code",
      "source": [
        "type(train_images[0])"
      ],
      "metadata": {
        "colab": {
          "base_uri": "https://localhost:8080/"
        },
        "id": "fxP3unEQldMz",
        "outputId": "6f65f738-2556-4b51-c726-61d4306b1adb"
      },
      "id": "fxP3unEQldMz",
      "execution_count": 6,
      "outputs": [
        {
          "output_type": "execute_result",
          "data": {
            "text/plain": [
              "numpy.ndarray"
            ]
          },
          "metadata": {},
          "execution_count": 6
        }
      ]
    },
    {
      "cell_type": "code",
      "source": [
        "train_images[0].shape"
      ],
      "metadata": {
        "colab": {
          "base_uri": "https://localhost:8080/"
        },
        "id": "QJH1gsWslgNy",
        "outputId": "ea5ca3c9-673e-4911-cc98-6ea5fdd08797"
      },
      "id": "QJH1gsWslgNy",
      "execution_count": 7,
      "outputs": [
        {
          "output_type": "execute_result",
          "data": {
            "text/plain": [
              "(28, 28)"
            ]
          },
          "metadata": {},
          "execution_count": 7
        }
      ]
    },
    {
      "cell_type": "markdown",
      "source": [
        "## Simple densely connected NN"
      ],
      "metadata": {
        "id": "BLhb5MI9gBzN"
      },
      "id": "BLhb5MI9gBzN"
    },
    {
      "cell_type": "code",
      "source": [
        "# NN Architecture\n",
        "from tensorflow import keras\n",
        "from tensorflow.keras import layers\n",
        "\n",
        "model = keras.Sequential([\n",
        " layers.Dense(512, activation=\"relu\"),\n",
        " layers.Dense(10, activation=\"softmax\")\n",
        "])"
      ],
      "metadata": {
        "id": "lDefjhGxkczw"
      },
      "id": "lDefjhGxkczw",
      "execution_count": 8,
      "outputs": []
    },
    {
      "cell_type": "code",
      "source": [
        "# Compilation step\n",
        "model.compile(optimizer=\"rmsprop\", loss=\"sparse_categorical_crossentropy\", metrics=[\"accuracy\"])"
      ],
      "metadata": {
        "id": "COmOUcsHknfA"
      },
      "id": "COmOUcsHknfA",
      "execution_count": 9,
      "outputs": []
    },
    {
      "cell_type": "code",
      "source": [
        "# Preparing the image data\n",
        "train_images = train_images.reshape((60000, 28 * 28))\n",
        "train_images = train_images.astype(\"float32\") / 255\n",
        "\n",
        "test_images = test_images.reshape((10000, 28 * 28))\n",
        "test_images = test_images.astype(\"float32\") / 255"
      ],
      "metadata": {
        "id": "Y0_SOV7WkzUX"
      },
      "id": "Y0_SOV7WkzUX",
      "execution_count": 10,
      "outputs": []
    },
    {
      "cell_type": "code",
      "source": [
        "# Fitting the model\n",
        "model.fit(train_images, train_labels, epochs=5, batch_size=128)"
      ],
      "metadata": {
        "colab": {
          "base_uri": "https://localhost:8080/"
        },
        "id": "Vt-VKpAKk498",
        "outputId": "0bd4aa75-580d-490f-9725-f33ddda6b48b"
      },
      "id": "Vt-VKpAKk498",
      "execution_count": 11,
      "outputs": [
        {
          "output_type": "stream",
          "name": "stdout",
          "text": [
            "Epoch 1/5\n",
            "469/469 [==============================] - 8s 3ms/step - loss: 0.2619 - accuracy: 0.9231\n",
            "Epoch 2/5\n",
            "469/469 [==============================] - 1s 3ms/step - loss: 0.1071 - accuracy: 0.9688\n",
            "Epoch 3/5\n",
            "469/469 [==============================] - 2s 4ms/step - loss: 0.0713 - accuracy: 0.9788\n",
            "Epoch 4/5\n",
            "469/469 [==============================] - 2s 3ms/step - loss: 0.0522 - accuracy: 0.9840\n",
            "Epoch 5/5\n",
            "469/469 [==============================] - 1s 3ms/step - loss: 0.0387 - accuracy: 0.9883\n"
          ]
        },
        {
          "output_type": "execute_result",
          "data": {
            "text/plain": [
              "<keras.callbacks.History at 0x7facf5342530>"
            ]
          },
          "metadata": {},
          "execution_count": 11
        }
      ]
    },
    {
      "cell_type": "code",
      "source": [
        "model.summary()"
      ],
      "metadata": {
        "colab": {
          "base_uri": "https://localhost:8080/"
        },
        "id": "v_QE57d9nT3q",
        "outputId": "85dd2031-dda3-4707-9e39-147e33a3110b"
      },
      "id": "v_QE57d9nT3q",
      "execution_count": 12,
      "outputs": [
        {
          "output_type": "stream",
          "name": "stdout",
          "text": [
            "Model: \"sequential\"\n",
            "_________________________________________________________________\n",
            " Layer (type)                Output Shape              Param #   \n",
            "=================================================================\n",
            " dense (Dense)               (None, 512)               401920    \n",
            "                                                                 \n",
            " dense_1 (Dense)             (None, 10)                5130      \n",
            "                                                                 \n",
            "=================================================================\n",
            "Total params: 407,050\n",
            "Trainable params: 407,050\n",
            "Non-trainable params: 0\n",
            "_________________________________________________________________\n"
          ]
        }
      ]
    },
    {
      "cell_type": "code",
      "source": [
        "# Using the model to make predictions\n",
        "test_digits = test_images[0:10]\n",
        "predictions = model.predict(test_digits)\n",
        "predictions[0]"
      ],
      "metadata": {
        "colab": {
          "base_uri": "https://localhost:8080/"
        },
        "id": "p2-svjNjk9uF",
        "outputId": "0d9fe7e6-8b0c-43fd-9722-99a6c5a4d485"
      },
      "id": "p2-svjNjk9uF",
      "execution_count": 13,
      "outputs": [
        {
          "output_type": "stream",
          "name": "stdout",
          "text": [
            "1/1 [==============================] - 0s 80ms/step\n"
          ]
        },
        {
          "output_type": "execute_result",
          "data": {
            "text/plain": [
              "array([1.7069247e-07, 3.0831249e-09, 7.9083547e-06, 1.5067487e-04,\n",
              "       4.5979578e-11, 7.3762138e-08, 1.4133252e-12, 9.9983621e-01,\n",
              "       1.5311400e-07, 4.7630324e-06], dtype=float32)"
            ]
          },
          "metadata": {},
          "execution_count": 13
        }
      ]
    },
    {
      "cell_type": "code",
      "source": [
        "predictions[0].argmax() "
      ],
      "metadata": {
        "colab": {
          "base_uri": "https://localhost:8080/"
        },
        "id": "GPolDeXflN3R",
        "outputId": "e5487144-b12c-4b4b-97a0-d010ebbdaf36"
      },
      "id": "GPolDeXflN3R",
      "execution_count": 14,
      "outputs": [
        {
          "output_type": "execute_result",
          "data": {
            "text/plain": [
              "7"
            ]
          },
          "metadata": {},
          "execution_count": 14
        }
      ]
    },
    {
      "cell_type": "code",
      "source": [
        "predictions[0][7] "
      ],
      "metadata": {
        "colab": {
          "base_uri": "https://localhost:8080/"
        },
        "id": "9I0cK6oylSiD",
        "outputId": "0e3a321e-39fa-460b-e513-dacc3744eb0c"
      },
      "id": "9I0cK6oylSiD",
      "execution_count": 15,
      "outputs": [
        {
          "output_type": "execute_result",
          "data": {
            "text/plain": [
              "0.9998362"
            ]
          },
          "metadata": {},
          "execution_count": 15
        }
      ]
    },
    {
      "cell_type": "code",
      "source": [
        "test_labels[0] "
      ],
      "metadata": {
        "colab": {
          "base_uri": "https://localhost:8080/"
        },
        "id": "un2I8ERJlV_p",
        "outputId": "860d444d-3401-479e-880b-637272745ca5"
      },
      "id": "un2I8ERJlV_p",
      "execution_count": 16,
      "outputs": [
        {
          "output_type": "execute_result",
          "data": {
            "text/plain": [
              "7"
            ]
          },
          "metadata": {},
          "execution_count": 16
        }
      ]
    },
    {
      "cell_type": "code",
      "source": [
        "# Evaluating the model on new (test) data\n",
        "test_loss, test_acc = model.evaluate(test_images, test_labels)\n",
        "print(f\"test_acc: {test_acc}\")"
      ],
      "metadata": {
        "colab": {
          "base_uri": "https://localhost:8080/"
        },
        "id": "Si6ZyYSzla_b",
        "outputId": "848bbc38-c27a-4ce2-a6c3-93c0c9eb7a32"
      },
      "id": "Si6ZyYSzla_b",
      "execution_count": 17,
      "outputs": [
        {
          "output_type": "stream",
          "name": "stdout",
          "text": [
            "313/313 [==============================] - 1s 3ms/step - loss: 0.0694 - accuracy: 0.9768\n",
            "test_acc: 0.9768000245094299\n"
          ]
        }
      ]
    },
    {
      "cell_type": "code",
      "source": [
        "# To see the weights of a trained model, let's use the get_weights() method:\n",
        "weights = model.get_weights()\n",
        "\n",
        "# 'weights' is a list containing weight tensors\n",
        "for layer_weights in weights:\n",
        "    print(layer_weights)"
      ],
      "metadata": {
        "colab": {
          "base_uri": "https://localhost:8080/"
        },
        "id": "sd-ZtRgYoX14",
        "outputId": "47979993-8736-4e36-adff-86afe380f01f"
      },
      "id": "sd-ZtRgYoX14",
      "execution_count": 18,
      "outputs": [
        {
          "output_type": "stream",
          "name": "stdout",
          "text": [
            "[[ 0.03587952 -0.00362469  0.02091341 ... -0.00901843  0.01362648\n",
            "   0.00875164]\n",
            " [-0.0147942  -0.02194086  0.0590809  ... -0.04883853  0.06384765\n",
            "  -0.02655179]\n",
            " [-0.06337323  0.02399576 -0.04203157 ...  0.01991557 -0.04318376\n",
            "   0.03430109]\n",
            " ...\n",
            " [-0.0521175  -0.01573206  0.0460867  ... -0.02402354 -0.00543524\n",
            "   0.00348108]\n",
            " [-0.06510957  0.02349769 -0.0244628  ...  0.02149772 -0.01598698\n",
            "   0.05155427]\n",
            " [-0.02014465 -0.04020101  0.02088866 ... -0.06003716  0.05068101\n",
            "  -0.04586726]]\n",
            "[ 8.89288541e-03 -4.42157201e-02  4.88767251e-02  1.20507441e-02\n",
            " -4.48934687e-03 -1.55019416e-02 -1.78101957e-02 -6.81556538e-02\n",
            "  3.22814286e-02 -6.63735718e-02  5.31691220e-03 -5.24854958e-02\n",
            "  3.17891911e-02 -7.07996935e-02  6.41133487e-02 -6.11342769e-03\n",
            " -1.45729864e-02 -1.06952647e-02  1.05693191e-03 -5.63536491e-03\n",
            " -3.70364562e-02  4.37656492e-02 -3.59745063e-02  7.42084160e-03\n",
            "  5.71650034e-03  6.33335337e-02  5.57270572e-02  3.65501121e-02\n",
            "  3.79367657e-02  1.16163576e-02 -1.16813667e-02 -1.37246856e-02\n",
            "  5.89222065e-04  3.34661677e-02 -3.68659123e-04  2.32631862e-02\n",
            "  3.67420055e-02 -4.03104536e-02  2.88561452e-02  2.48221681e-02\n",
            "  1.89323314e-02  1.24056404e-02 -1.20055703e-02  3.51032652e-02\n",
            "  9.09071881e-03 -5.00653833e-02 -1.39637552e-02 -1.96549366e-03\n",
            " -3.96836083e-03 -3.32137523e-03 -3.82293873e-02  1.37425456e-02\n",
            " -4.86109965e-03  2.12105270e-02 -1.89766046e-02  1.25338063e-02\n",
            "  1.45909367e-02  2.12649759e-02  3.07646170e-02  6.27628854e-03\n",
            "  1.09295882e-02  8.94162431e-03 -3.14650498e-02 -8.46154056e-03\n",
            " -8.66606133e-04  7.79299513e-02  5.87427579e-02  3.27603370e-02\n",
            "  4.47929129e-02 -5.59093319e-02 -7.85080483e-04  5.87941371e-02\n",
            "  4.06094082e-02  1.68133993e-02  2.86770589e-03 -7.27342367e-02\n",
            " -1.37282303e-02  2.32189838e-02 -1.88614856e-02  1.66903771e-02\n",
            "  1.53376982e-02  1.15896147e-02  2.84447148e-02  4.66329828e-02\n",
            "  1.59183368e-02  1.67681240e-02  1.44989630e-02  2.68597677e-02\n",
            "  7.14901090e-03 -6.68440014e-03  5.57433665e-02  2.32966039e-02\n",
            "  1.47485491e-02  2.91210674e-02  3.55850458e-02  6.85430244e-02\n",
            "  2.63037905e-03  3.20147425e-02 -4.06976044e-03  3.15578505e-02\n",
            " -1.43538667e-02  4.02531847e-02  3.10722981e-02 -2.11732481e-02\n",
            "  2.83243861e-02  4.67981538e-03  2.47522593e-02  2.35722400e-05\n",
            "  1.47158355e-02  7.63687268e-02  3.95635590e-02  1.18051553e-02\n",
            " -1.41527122e-02  1.52996294e-02 -1.48008987e-02 -5.37079349e-02\n",
            "  9.15857870e-03 -4.83045653e-02 -2.25548390e-02 -6.36964589e-02\n",
            "  2.17898749e-03  7.47653991e-02  4.13961150e-03 -2.33861730e-02\n",
            " -1.31794307e-02  7.62625877e-03 -1.31329633e-02 -1.25968968e-02\n",
            " -4.68254462e-03 -2.89020538e-02  4.82258685e-02  8.61068293e-02\n",
            " -1.46883894e-02 -4.50860523e-03  2.93774027e-02  4.63174209e-02\n",
            " -1.30695701e-02  4.39863931e-03 -7.60118430e-03 -1.13082360e-02\n",
            " -2.05192231e-02  2.67083291e-02 -1.23193432e-02 -2.20095664e-02\n",
            "  1.79838482e-02 -5.11168055e-02  2.05780473e-02  4.99097398e-03\n",
            "  3.89752313e-02  1.60018839e-02  6.28493074e-03 -2.72919685e-02\n",
            " -2.84452923e-02  1.23678287e-02  9.14738886e-03  3.06185335e-02\n",
            " -1.65968842e-03 -6.12442335e-03 -4.56906445e-02 -1.86274834e-02\n",
            " -9.94721893e-03 -6.42830925e-03 -1.46812508e-02 -3.33618149e-02\n",
            "  2.30176300e-02  4.97436225e-02 -2.20393911e-02  5.02533689e-02\n",
            " -1.83288998e-03  9.78299305e-02  3.43973748e-02  1.68431699e-02\n",
            " -1.49628688e-02  6.90774247e-03 -4.95246314e-02 -1.94462929e-02\n",
            "  1.54795032e-02  1.98613834e-02  4.75022793e-02 -4.41315509e-02\n",
            "  1.00604715e-02  6.29911385e-03  5.36043756e-02 -2.97927950e-02\n",
            "  4.73461337e-02  1.20227160e-02  1.75913610e-02  5.92050441e-02\n",
            "  5.67280874e-02 -7.30665550e-02  1.91610958e-02  7.01161623e-02\n",
            "  2.14266218e-02  1.43119935e-02  3.99170034e-02  1.61563791e-02\n",
            " -1.34543353e-03  9.02670063e-03  5.48909158e-02  2.33815471e-03\n",
            " -7.53281126e-03 -2.86418404e-02  6.06661923e-02 -3.89961936e-02\n",
            "  4.44236286e-02  3.06869335e-02  2.85898279e-02 -1.96905173e-02\n",
            " -2.84112175e-03 -3.54808681e-02 -2.19604839e-03 -2.60191578e-02\n",
            " -1.75480433e-02  2.50148289e-02 -2.32207235e-02  4.81200730e-03\n",
            "  2.05389969e-03 -4.53657359e-02 -2.35703588e-02  1.88379381e-02\n",
            "  4.18991186e-02 -1.03246178e-02  2.11939234e-02  4.69132587e-02\n",
            "  3.59610580e-02 -2.35333573e-02  2.94500813e-02  1.79145727e-02\n",
            " -5.02366349e-02  2.03724522e-02  5.77045269e-02 -7.98667409e-03\n",
            "  1.96962040e-02  1.56744439e-02  3.92674003e-04  1.95656363e-02\n",
            "  3.49060223e-02 -6.19280338e-02  2.55019292e-02  5.52496761e-02\n",
            "  4.53683771e-02  5.85145541e-02  6.61211461e-02  5.93330599e-02\n",
            " -1.68759897e-02 -6.17686808e-02 -7.35925604e-03  7.51199713e-03\n",
            "  5.85401841e-02 -2.09460920e-03 -5.26903160e-02  1.01918681e-02\n",
            " -1.75716169e-02 -9.12691467e-03 -5.08607291e-02  1.42430412e-02\n",
            " -5.46577349e-02  2.14365777e-02 -2.42121313e-02 -5.28091891e-03\n",
            "  3.70748416e-02 -3.64876948e-02  4.06210162e-02  2.06961054e-02\n",
            " -1.88733963e-03  3.58848237e-02  6.73045870e-04  2.99782027e-02\n",
            "  4.63319831e-02  5.42963147e-02 -1.15433875e-02  3.39160603e-03\n",
            "  2.83246171e-02  4.28857207e-02 -2.34272070e-02 -1.36783700e-02\n",
            " -7.77423196e-03  1.20098650e-01 -7.62038026e-03  7.71248294e-03\n",
            "  9.98911858e-02 -2.08153874e-02  3.49686220e-02  1.97657682e-02\n",
            " -7.22536305e-03 -5.72508499e-02  1.58616807e-02  3.98302898e-02\n",
            "  8.56665429e-03  3.66425812e-02 -2.80762482e-02 -4.60085124e-02\n",
            " -7.79585820e-03  1.41669270e-02 -7.63024716e-03 -4.68669236e-02\n",
            "  3.23094875e-02 -1.39557058e-02 -1.23172114e-03  2.35241540e-02\n",
            "  9.79720280e-02 -2.62907855e-02 -1.62526257e-02  5.39231300e-02\n",
            " -4.87204082e-03  5.59011102e-03 -2.71186559e-03  1.15154544e-02\n",
            " -2.91744657e-02 -2.22114343e-02 -5.99914417e-03 -2.39485465e-02\n",
            "  2.76073869e-02  4.88933027e-02  8.27725232e-02  9.26325396e-02\n",
            "  1.16913375e-02 -2.86660921e-02  3.54863293e-02 -1.90839935e-02\n",
            " -2.43130047e-03 -7.03676865e-02 -1.46058351e-02 -4.28550038e-03\n",
            "  6.38075322e-02  4.63834628e-02 -2.15000231e-02 -5.81712872e-02\n",
            "  2.83443742e-02  2.01580878e-02  1.20575335e-02 -1.92093924e-02\n",
            " -1.22905876e-02  2.94691157e-02  8.26258678e-03  1.46200545e-02\n",
            " -5.00445906e-03 -2.74935104e-02 -1.44005511e-02  4.88786064e-02\n",
            "  1.04314787e-02 -2.29713600e-02  9.98360384e-03 -1.89953502e-02\n",
            "  2.03846768e-02 -3.17411087e-02  2.35131327e-02  5.09567373e-02\n",
            "  3.60995345e-02  1.03282081e-02  1.69089213e-02  3.04793417e-02\n",
            " -6.19080896e-03  2.06052680e-02  7.40782777e-03  1.70084797e-02\n",
            "  5.20447679e-02 -2.48889010e-02 -1.40891718e-02 -7.56320544e-03\n",
            "  1.06942775e-02 -2.36513112e-02 -3.06722112e-02  3.75998393e-02\n",
            "  4.82867798e-03 -3.41809765e-02  1.45287383e-02  8.59930664e-02\n",
            "  4.06780429e-02  1.30251367e-02 -7.71611780e-02  3.67460921e-02\n",
            " -1.68997645e-02 -2.96188082e-04  2.60951165e-02  7.18386620e-02\n",
            " -5.26633598e-02 -1.46644320e-02  5.61826415e-02 -4.44798581e-02\n",
            "  2.82373298e-02  3.26951640e-03 -5.01164384e-02  2.55358480e-02\n",
            "  9.47754551e-03 -4.14822809e-02 -4.02043806e-03  1.59903690e-02\n",
            " -5.62666245e-02 -4.47537610e-03 -1.45648327e-02  1.47327213e-02\n",
            "  2.33151093e-02  2.78690569e-02 -1.35891456e-02 -3.05785164e-02\n",
            " -2.05222666e-02 -7.25622335e-03  5.14484867e-02  1.83881428e-02\n",
            "  2.02369015e-03 -1.29830278e-03 -2.86344457e-02  8.03996436e-03\n",
            "  2.60856189e-02  3.47207859e-02  2.58124899e-03  2.68953033e-02\n",
            " -4.19026911e-02  1.34467361e-02 -1.40481312e-02 -1.94505565e-02\n",
            " -2.91134957e-02 -2.03267857e-02  4.94790357e-03  9.88684371e-02\n",
            "  3.20741683e-02 -4.78146635e-02  4.45443690e-02 -1.59568693e-02\n",
            " -5.62083460e-02  7.58816972e-02  2.05727369e-02 -1.79276261e-02\n",
            " -5.53800352e-03  4.20184135e-02 -1.44365765e-02 -5.21260372e-04\n",
            "  1.39264194e-02  3.79076004e-02  5.50878868e-02 -1.53898504e-02\n",
            "  4.05672863e-02  2.60509625e-02  4.31013666e-02  3.58190350e-02\n",
            " -3.46903456e-03 -2.01861169e-02 -8.88435263e-03  3.15823965e-02\n",
            " -3.73612493e-02  4.41977866e-02  2.44607008e-03  4.56388183e-02\n",
            "  1.66830025e-03 -7.64705893e-03  3.54537577e-03  3.11040822e-02\n",
            "  2.79981922e-02  4.14298847e-02  2.63737887e-02  9.06960631e-04\n",
            " -4.34217751e-02  3.05402232e-03 -2.86037140e-02 -5.84574696e-03\n",
            " -1.80808138e-02  1.29453726e-02 -2.11096816e-02  7.73980282e-03\n",
            "  9.16422829e-02  5.75282937e-03  3.82693186e-02  4.93391827e-02\n",
            " -2.56318171e-02 -8.53372067e-02 -2.80743861e-03 -1.98423490e-02\n",
            " -1.13566266e-03 -2.58239056e-03  5.42492494e-02  1.33514758e-02\n",
            "  4.08908613e-02 -4.09227163e-02  6.40875148e-03 -8.01224913e-03\n",
            " -3.55143212e-02 -2.86360122e-02  3.88703793e-02  1.61663685e-02\n",
            "  4.13700566e-03 -3.09728533e-02  3.00360136e-02  4.58343104e-02\n",
            "  4.92721461e-02  1.44060366e-02 -2.94189900e-02  1.67138837e-02\n",
            " -2.21348386e-02  4.37807105e-02 -2.09385846e-02 -4.73183692e-02\n",
            " -7.57295564e-02 -3.83215025e-02  4.93958965e-02  1.00461721e-01\n",
            "  3.67345149e-03  2.77198646e-02  2.02463288e-02 -4.02510688e-02\n",
            "  7.14222156e-03 -8.38150363e-03  8.92853364e-02  2.23692767e-02\n",
            "  3.23841274e-02 -1.81167591e-02  8.77335444e-02 -3.38999517e-02\n",
            "  4.73082066e-02  2.46049138e-03 -1.59871839e-02  3.51859699e-03]\n",
            "[[ 0.05230726 -0.1800013  -0.32603535 ... -0.15474048 -0.03945794\n",
            "  -0.13522679]\n",
            " [ 0.0844461  -0.26723582 -0.17470253 ... -0.30033088  0.11553473\n",
            "  -0.00964053]\n",
            " [ 0.05292808 -0.228156   -0.1132823  ... -0.22919074 -0.27873388\n",
            "  -0.19030924]\n",
            " ...\n",
            " [ 0.11177102 -0.05700356 -0.07582159 ... -0.11698989  0.00774774\n",
            "   0.0283606 ]\n",
            " [-0.08611371 -0.14026152 -0.08228239 ... -0.22934769  0.10134029\n",
            "   0.07668979]\n",
            " [-0.07741862  0.0325599  -0.02394242 ... -0.19963601  0.14733163\n",
            "   0.00424979]]\n",
            "[-0.07824711 -0.03306098  0.00701363 -0.01416692  0.00981401  0.03706766\n",
            " -0.0162131  -0.02624794  0.07253902 -0.01225188]\n"
          ]
        }
      ]
    },
    {
      "cell_type": "code",
      "source": [
        "len(weights)"
      ],
      "metadata": {
        "colab": {
          "base_uri": "https://localhost:8080/"
        },
        "id": "E7W7L8oXpud8",
        "outputId": "abf5d7b9-9723-4e7f-aafb-c2cf37571601"
      },
      "id": "E7W7L8oXpud8",
      "execution_count": 19,
      "outputs": [
        {
          "output_type": "execute_result",
          "data": {
            "text/plain": [
              "4"
            ]
          },
          "metadata": {},
          "execution_count": 19
        }
      ]
    },
    {
      "cell_type": "code",
      "source": [
        "for layer_weights in weights:\n",
        "    print(layer_weights.shape)"
      ],
      "metadata": {
        "colab": {
          "base_uri": "https://localhost:8080/"
        },
        "id": "hbR7WTN9oj_g",
        "outputId": "c4c14482-4358-4065-ca0e-1f09b7bfd2d0"
      },
      "id": "hbR7WTN9oj_g",
      "execution_count": 20,
      "outputs": [
        {
          "output_type": "stream",
          "name": "stdout",
          "text": [
            "(784, 512)\n",
            "(512,)\n",
            "(512, 10)\n",
            "(10,)\n"
          ]
        }
      ]
    },
    {
      "cell_type": "markdown",
      "source": [
        "## Initializing random weights and creating NN with those weights"
      ],
      "metadata": {
        "id": "eVTKFFrRte34"
      },
      "id": "eVTKFFrRte34"
    },
    {
      "cell_type": "code",
      "source": [
        "import numpy as np\n",
        "\n",
        "# Set the random seed for reproducibility\n",
        "np.random.seed(42)\n",
        "\n",
        "input = 28*28\n",
        "hidden = 512\n",
        "output = 10"
      ],
      "metadata": {
        "id": "Qy3Wzye_UOIV"
      },
      "id": "Qy3Wzye_UOIV",
      "execution_count": 21,
      "outputs": []
    },
    {
      "cell_type": "code",
      "source": [
        "size = input*hidden + hidden + hidden*output + output\n",
        "size"
      ],
      "metadata": {
        "id": "hauXqEBjURyr",
        "outputId": "3f5b84a9-a3d3-436c-fc17-eb0a22ec1196",
        "colab": {
          "base_uri": "https://localhost:8080/"
        }
      },
      "id": "hauXqEBjURyr",
      "execution_count": 22,
      "outputs": [
        {
          "output_type": "execute_result",
          "data": {
            "text/plain": [
              "407050"
            ]
          },
          "metadata": {},
          "execution_count": 22
        }
      ]
    },
    {
      "cell_type": "code",
      "source": [
        "random_weights = np.random.rand(size)\n",
        "random_weights"
      ],
      "metadata": {
        "id": "zJSwBlG4VIKP",
        "outputId": "2e2b50e4-61bc-4293-81f9-2d55b3c527ae",
        "colab": {
          "base_uri": "https://localhost:8080/"
        }
      },
      "id": "zJSwBlG4VIKP",
      "execution_count": 23,
      "outputs": [
        {
          "output_type": "execute_result",
          "data": {
            "text/plain": [
              "array([0.37454012, 0.95071431, 0.73199394, ..., 0.83274859, 0.66486982,\n",
              "       0.5787854 ])"
            ]
          },
          "metadata": {},
          "execution_count": 23
        }
      ]
    },
    {
      "cell_type": "code",
      "source": [
        "weights_1 = random_weights[:input*hidden].reshape(input, hidden)\n",
        "biases_1 = random_weights[input*hidden:input*hidden+hidden].reshape(hidden,)\n",
        "weights_2 = random_weights[input*hidden+hidden:input*hidden+hidden+hidden*output].reshape(hidden, output)\n",
        "biases_2 = random_weights[input*hidden+hidden+hidden*output:].reshape(output,)\n",
        "\n",
        "weights_list = [weights_1, biases_1, weights_2, biases_2]\n",
        "\n",
        "# Print the shapes of the weight arrays\n",
        "for weights in weights_list:\n",
        "    print(weights.shape)"
      ],
      "metadata": {
        "id": "YnEUrh4kVXuF",
        "outputId": "f261ede2-8bb5-443b-83f2-f95a7b1deb79",
        "colab": {
          "base_uri": "https://localhost:8080/"
        }
      },
      "id": "YnEUrh4kVXuF",
      "execution_count": 24,
      "outputs": [
        {
          "output_type": "stream",
          "name": "stdout",
          "text": [
            "(784, 512)\n",
            "(512,)\n",
            "(512, 10)\n",
            "(10,)\n"
          ]
        }
      ]
    },
    {
      "cell_type": "code",
      "source": [
        "# Defining the architecture of a neural network\n",
        "new_network = keras.Sequential([\n",
        "    layers.Dense(512, activation=\"relu\", input_shape=(784,)),\n",
        "    layers.Dense(10, activation=\"softmax\")\n",
        "])"
      ],
      "metadata": {
        "id": "e-Ikiv7eyziS"
      },
      "id": "e-Ikiv7eyziS",
      "execution_count": 25,
      "outputs": []
    },
    {
      "cell_type": "code",
      "source": [
        "# Setting the weights of the model \n",
        "new_network.set_weights(weights_list)\n",
        "\n",
        "# Compiling the model \n",
        "new_network.compile(loss=\"sparse_categorical_crossentropy\",\n",
        "                    metrics=[\"accuracy\"])"
      ],
      "metadata": {
        "id": "_-IGua0jKjOY"
      },
      "id": "_-IGua0jKjOY",
      "execution_count": 26,
      "outputs": []
    },
    {
      "cell_type": "code",
      "source": [
        "new_network.summary()"
      ],
      "metadata": {
        "colab": {
          "base_uri": "https://localhost:8080/"
        },
        "id": "MJf6pDd318ie",
        "outputId": "343f96c7-55cb-4344-f858-4c9f1c10ca43"
      },
      "id": "MJf6pDd318ie",
      "execution_count": 27,
      "outputs": [
        {
          "output_type": "stream",
          "name": "stdout",
          "text": [
            "Model: \"sequential_1\"\n",
            "_________________________________________________________________\n",
            " Layer (type)                Output Shape              Param #   \n",
            "=================================================================\n",
            " dense_2 (Dense)             (None, 512)               401920    \n",
            "                                                                 \n",
            " dense_3 (Dense)             (None, 10)                5130      \n",
            "                                                                 \n",
            "=================================================================\n",
            "Total params: 407,050\n",
            "Trainable params: 407,050\n",
            "Non-trainable params: 0\n",
            "_________________________________________________________________\n"
          ]
        }
      ]
    },
    {
      "cell_type": "code",
      "source": [
        "# Evaluating the model on train data\n",
        "train_loss, train_acc = new_network.evaluate(train_images, train_labels)"
      ],
      "metadata": {
        "colab": {
          "base_uri": "https://localhost:8080/"
        },
        "id": "j150y3J77e54",
        "outputId": "f4264821-4a5d-49a1-ba76-66fb8d190f1c"
      },
      "id": "j150y3J77e54",
      "execution_count": 28,
      "outputs": [
        {
          "output_type": "stream",
          "name": "stdout",
          "text": [
            "1875/1875 [==============================] - 4s 2ms/step - loss: 795.9622 - accuracy: 0.0904\n"
          ]
        }
      ]
    },
    {
      "cell_type": "code",
      "source": [
        "# Evaluating the model on new (test) data\n",
        "test_loss, test_acc = new_network.evaluate(test_images, test_labels)\n",
        "print(f\"test_acc: {test_acc}\")"
      ],
      "metadata": {
        "colab": {
          "base_uri": "https://localhost:8080/"
        },
        "id": "3UJH-D8K7Rjj",
        "outputId": "26ad575b-ace3-41e1-c492-baad3f30a99a"
      },
      "id": "3UJH-D8K7Rjj",
      "execution_count": 29,
      "outputs": [
        {
          "output_type": "stream",
          "name": "stdout",
          "text": [
            "313/313 [==============================] - 1s 2ms/step - loss: 805.0311 - accuracy: 0.0892\n",
            "test_acc: 0.08919999748468399\n"
          ]
        }
      ]
    }
  ],
  "metadata": {
    "kernelspec": {
      "display_name": "Python 3 (ipykernel)",
      "language": "python",
      "name": "python3"
    },
    "language_info": {
      "codemirror_mode": {
        "name": "ipython",
        "version": 3
      },
      "file_extension": ".py",
      "mimetype": "text/x-python",
      "name": "python",
      "nbconvert_exporter": "python",
      "pygments_lexer": "ipython3",
      "version": "3.9.13"
    },
    "colab": {
      "provenance": []
    },
    "accelerator": "GPU",
    "gpuClass": "standard"
  },
  "nbformat": 4,
  "nbformat_minor": 5
}