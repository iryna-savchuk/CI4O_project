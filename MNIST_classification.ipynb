{
  "cells": [
    {
      "cell_type": "markdown",
      "id": "8b0cb6fd-1bb3-4839-86d6-cc048bf42ecb",
      "metadata": {
        "id": "8b0cb6fd-1bb3-4839-86d6-cc048bf42ecb"
      },
      "source": [
        "## Loading MNIST dataset\n",
        "The MNIST dataset (a classic in the Machine Learning community) has been around almost as long as the field itself and has been intensively studied. \n",
        "\n",
        "It’s a set of 60,000 training images, plus 10,000 test images, assembled by the National Institute of Standards and Technology (the NIST in MNIST) in the 1980s. \n"
      ]
    },
    {
      "cell_type": "code",
      "execution_count": 1,
      "id": "e35f565f-f068-4adb-8101-c971c15e5164",
      "metadata": {
        "id": "e35f565f-f068-4adb-8101-c971c15e5164"
      },
      "outputs": [],
      "source": [
        "# Loading the MNIST dataset in Keras\n",
        "from tensorflow.keras.datasets import mnist\n",
        "\n",
        "(train_images, train_labels), (test_images, test_labels) = mnist.load_data()"
      ]
    },
    {
      "cell_type": "code",
      "source": [
        "# Having a look at Training Data\n",
        "print(train_images.shape)\n",
        "print(len(train_labels))\n",
        "print(train_labels)"
      ],
      "metadata": {
        "colab": {
          "base_uri": "https://localhost:8080/"
        },
        "id": "9i-6_PyymPZD",
        "outputId": "7f983c74-0a8d-42b2-c399-d5bf36e12ed7"
      },
      "id": "9i-6_PyymPZD",
      "execution_count": 2,
      "outputs": [
        {
          "output_type": "stream",
          "name": "stdout",
          "text": [
            "(60000, 28, 28)\n",
            "60000\n",
            "[5 0 4 ... 5 6 8]\n"
          ]
        }
      ]
    },
    {
      "cell_type": "code",
      "source": [
        "# Having a look at Test Data\n",
        "print(test_images.shape)\n",
        "print(len(test_labels))\n",
        "print(test_labels)"
      ],
      "metadata": {
        "colab": {
          "base_uri": "https://localhost:8080/"
        },
        "id": "bSje3XfnkU3i",
        "outputId": "dc937794-70e9-4c87-f81d-669361402ff9"
      },
      "id": "bSje3XfnkU3i",
      "execution_count": 3,
      "outputs": [
        {
          "output_type": "stream",
          "name": "stdout",
          "text": [
            "(10000, 28, 28)\n",
            "10000\n",
            "[7 2 1 ... 4 5 6]\n"
          ]
        }
      ]
    },
    {
      "cell_type": "code",
      "source": [
        "# Exemining one specific image\n",
        "train_images[0]"
      ],
      "metadata": {
        "colab": {
          "base_uri": "https://localhost:8080/"
        },
        "id": "e2UTk4TknPyG",
        "outputId": "5b2e373c-a969-4b3b-8e32-be6cffffede5"
      },
      "id": "e2UTk4TknPyG",
      "execution_count": 4,
      "outputs": [
        {
          "output_type": "execute_result",
          "data": {
            "text/plain": [
              "array([[  0,   0,   0,   0,   0,   0,   0,   0,   0,   0,   0,   0,   0,\n",
              "          0,   0,   0,   0,   0,   0,   0,   0,   0,   0,   0,   0,   0,\n",
              "          0,   0],\n",
              "       [  0,   0,   0,   0,   0,   0,   0,   0,   0,   0,   0,   0,   0,\n",
              "          0,   0,   0,   0,   0,   0,   0,   0,   0,   0,   0,   0,   0,\n",
              "          0,   0],\n",
              "       [  0,   0,   0,   0,   0,   0,   0,   0,   0,   0,   0,   0,   0,\n",
              "          0,   0,   0,   0,   0,   0,   0,   0,   0,   0,   0,   0,   0,\n",
              "          0,   0],\n",
              "       [  0,   0,   0,   0,   0,   0,   0,   0,   0,   0,   0,   0,   0,\n",
              "          0,   0,   0,   0,   0,   0,   0,   0,   0,   0,   0,   0,   0,\n",
              "          0,   0],\n",
              "       [  0,   0,   0,   0,   0,   0,   0,   0,   0,   0,   0,   0,   0,\n",
              "          0,   0,   0,   0,   0,   0,   0,   0,   0,   0,   0,   0,   0,\n",
              "          0,   0],\n",
              "       [  0,   0,   0,   0,   0,   0,   0,   0,   0,   0,   0,   0,   3,\n",
              "         18,  18,  18, 126, 136, 175,  26, 166, 255, 247, 127,   0,   0,\n",
              "          0,   0],\n",
              "       [  0,   0,   0,   0,   0,   0,   0,   0,  30,  36,  94, 154, 170,\n",
              "        253, 253, 253, 253, 253, 225, 172, 253, 242, 195,  64,   0,   0,\n",
              "          0,   0],\n",
              "       [  0,   0,   0,   0,   0,   0,   0,  49, 238, 253, 253, 253, 253,\n",
              "        253, 253, 253, 253, 251,  93,  82,  82,  56,  39,   0,   0,   0,\n",
              "          0,   0],\n",
              "       [  0,   0,   0,   0,   0,   0,   0,  18, 219, 253, 253, 253, 253,\n",
              "        253, 198, 182, 247, 241,   0,   0,   0,   0,   0,   0,   0,   0,\n",
              "          0,   0],\n",
              "       [  0,   0,   0,   0,   0,   0,   0,   0,  80, 156, 107, 253, 253,\n",
              "        205,  11,   0,  43, 154,   0,   0,   0,   0,   0,   0,   0,   0,\n",
              "          0,   0],\n",
              "       [  0,   0,   0,   0,   0,   0,   0,   0,   0,  14,   1, 154, 253,\n",
              "         90,   0,   0,   0,   0,   0,   0,   0,   0,   0,   0,   0,   0,\n",
              "          0,   0],\n",
              "       [  0,   0,   0,   0,   0,   0,   0,   0,   0,   0,   0, 139, 253,\n",
              "        190,   2,   0,   0,   0,   0,   0,   0,   0,   0,   0,   0,   0,\n",
              "          0,   0],\n",
              "       [  0,   0,   0,   0,   0,   0,   0,   0,   0,   0,   0,  11, 190,\n",
              "        253,  70,   0,   0,   0,   0,   0,   0,   0,   0,   0,   0,   0,\n",
              "          0,   0],\n",
              "       [  0,   0,   0,   0,   0,   0,   0,   0,   0,   0,   0,   0,  35,\n",
              "        241, 225, 160, 108,   1,   0,   0,   0,   0,   0,   0,   0,   0,\n",
              "          0,   0],\n",
              "       [  0,   0,   0,   0,   0,   0,   0,   0,   0,   0,   0,   0,   0,\n",
              "         81, 240, 253, 253, 119,  25,   0,   0,   0,   0,   0,   0,   0,\n",
              "          0,   0],\n",
              "       [  0,   0,   0,   0,   0,   0,   0,   0,   0,   0,   0,   0,   0,\n",
              "          0,  45, 186, 253, 253, 150,  27,   0,   0,   0,   0,   0,   0,\n",
              "          0,   0],\n",
              "       [  0,   0,   0,   0,   0,   0,   0,   0,   0,   0,   0,   0,   0,\n",
              "          0,   0,  16,  93, 252, 253, 187,   0,   0,   0,   0,   0,   0,\n",
              "          0,   0],\n",
              "       [  0,   0,   0,   0,   0,   0,   0,   0,   0,   0,   0,   0,   0,\n",
              "          0,   0,   0,   0, 249, 253, 249,  64,   0,   0,   0,   0,   0,\n",
              "          0,   0],\n",
              "       [  0,   0,   0,   0,   0,   0,   0,   0,   0,   0,   0,   0,   0,\n",
              "          0,  46, 130, 183, 253, 253, 207,   2,   0,   0,   0,   0,   0,\n",
              "          0,   0],\n",
              "       [  0,   0,   0,   0,   0,   0,   0,   0,   0,   0,   0,   0,  39,\n",
              "        148, 229, 253, 253, 253, 250, 182,   0,   0,   0,   0,   0,   0,\n",
              "          0,   0],\n",
              "       [  0,   0,   0,   0,   0,   0,   0,   0,   0,   0,  24, 114, 221,\n",
              "        253, 253, 253, 253, 201,  78,   0,   0,   0,   0,   0,   0,   0,\n",
              "          0,   0],\n",
              "       [  0,   0,   0,   0,   0,   0,   0,   0,  23,  66, 213, 253, 253,\n",
              "        253, 253, 198,  81,   2,   0,   0,   0,   0,   0,   0,   0,   0,\n",
              "          0,   0],\n",
              "       [  0,   0,   0,   0,   0,   0,  18, 171, 219, 253, 253, 253, 253,\n",
              "        195,  80,   9,   0,   0,   0,   0,   0,   0,   0,   0,   0,   0,\n",
              "          0,   0],\n",
              "       [  0,   0,   0,   0,  55, 172, 226, 253, 253, 253, 253, 244, 133,\n",
              "         11,   0,   0,   0,   0,   0,   0,   0,   0,   0,   0,   0,   0,\n",
              "          0,   0],\n",
              "       [  0,   0,   0,   0, 136, 253, 253, 253, 212, 135, 132,  16,   0,\n",
              "          0,   0,   0,   0,   0,   0,   0,   0,   0,   0,   0,   0,   0,\n",
              "          0,   0],\n",
              "       [  0,   0,   0,   0,   0,   0,   0,   0,   0,   0,   0,   0,   0,\n",
              "          0,   0,   0,   0,   0,   0,   0,   0,   0,   0,   0,   0,   0,\n",
              "          0,   0],\n",
              "       [  0,   0,   0,   0,   0,   0,   0,   0,   0,   0,   0,   0,   0,\n",
              "          0,   0,   0,   0,   0,   0,   0,   0,   0,   0,   0,   0,   0,\n",
              "          0,   0],\n",
              "       [  0,   0,   0,   0,   0,   0,   0,   0,   0,   0,   0,   0,   0,\n",
              "          0,   0,   0,   0,   0,   0,   0,   0,   0,   0,   0,   0,   0,\n",
              "          0,   0]], dtype=uint8)"
            ]
          },
          "metadata": {},
          "execution_count": 4
        }
      ]
    },
    {
      "cell_type": "code",
      "source": [
        "# Displaying the item from the training dataset\n",
        "import matplotlib.pyplot as plt\n",
        "\n",
        "digit = train_images[0]\n",
        "plt.imshow(digit, cmap=plt.cm.binary)\n",
        "plt.show()"
      ],
      "metadata": {
        "colab": {
          "base_uri": "https://localhost:8080/",
          "height": 430
        },
        "id": "UWw3Z2sWl2MB",
        "outputId": "3d07bdf1-0f5e-4182-cc21-e341d3417914"
      },
      "id": "UWw3Z2sWl2MB",
      "execution_count": 5,
      "outputs": [
        {
          "output_type": "display_data",
          "data": {
            "text/plain": [
              "<Figure size 640x480 with 1 Axes>"
            ],
            "image/png": "[encoded data removed]"
          },
          "metadata": {}
        }
      ]
    },
    {
      "cell_type": "code",
      "source": [
        "type(train_images[0])"
      ],
      "metadata": {
        "colab": {
          "base_uri": "https://localhost:8080/"
        },
        "id": "fxP3unEQldMz",
        "outputId": "268207dc-2c8c-4398-d3b7-3ca56a9fd66f"
      },
      "id": "fxP3unEQldMz",
      "execution_count": 6,
      "outputs": [
        {
          "output_type": "execute_result",
          "data": {
            "text/plain": [
              "numpy.ndarray"
            ]
          },
          "metadata": {},
          "execution_count": 6
        }
      ]
    },
    {
      "cell_type": "code",
      "source": [
        "train_images[0].shape"
      ],
      "metadata": {
        "colab": {
          "base_uri": "https://localhost:8080/"
        },
        "id": "QJH1gsWslgNy",
        "outputId": "a6c0b161-d656-42f2-8f6f-99b87886de7d"
      },
      "id": "QJH1gsWslgNy",
      "execution_count": 7,
      "outputs": [
        {
          "output_type": "execute_result",
          "data": {
            "text/plain": [
              "(28, 28)"
            ]
          },
          "metadata": {},
          "execution_count": 7
        }
      ]
    },
    {
      "cell_type": "markdown",
      "source": [
        "## Simple densely connected NN"
      ],
      "metadata": {
        "id": "BLhb5MI9gBzN"
      },
      "id": "BLhb5MI9gBzN"
    },
    {
      "cell_type": "code",
      "source": [
        "# NN Architecture\n",
        "from tensorflow import keras\n",
        "from tensorflow.keras import layers\n",
        "\n",
        "model = keras.Sequential([\n",
        " layers.Dense(512, activation=\"relu\"),\n",
        " layers.Dense(10, activation=\"softmax\")\n",
        "])"
      ],
      "metadata": {
        "id": "lDefjhGxkczw"
      },
      "id": "lDefjhGxkczw",
      "execution_count": 8,
      "outputs": []
    },
    {
      "cell_type": "code",
      "source": [
        "# Compilation step\n",
        "model.compile(optimizer=\"rmsprop\",\n",
        " loss=\"sparse_categorical_crossentropy\",\n",
        " metrics=[\"accuracy\"])"
      ],
      "metadata": {
        "id": "COmOUcsHknfA"
      },
      "id": "COmOUcsHknfA",
      "execution_count": 9,
      "outputs": []
    },
    {
      "cell_type": "code",
      "source": [
        "# Preparing the image data\n",
        "train_images = train_images.reshape((60000, 28 * 28))\n",
        "train_images = train_images.astype(\"float32\") / 255\n",
        "\n",
        "test_images = test_images.reshape((10000, 28 * 28))\n",
        "test_images = test_images.astype(\"float32\") / 255"
      ],
      "metadata": {
        "id": "Y0_SOV7WkzUX"
      },
      "id": "Y0_SOV7WkzUX",
      "execution_count": 10,
      "outputs": []
    },
    {
      "cell_type": "code",
      "source": [
        "# Fitting the model\n",
        "model.fit(train_images, train_labels, epochs=5, batch_size=128)"
      ],
      "metadata": {
        "colab": {
          "base_uri": "https://localhost:8080/"
        },
        "id": "Vt-VKpAKk498",
        "outputId": "dd074934-48f4-4627-f6d5-6c00bf854f7a"
      },
      "id": "Vt-VKpAKk498",
      "execution_count": 11,
      "outputs": [
        {
          "output_type": "stream",
          "name": "stdout",
          "text": [
            "Epoch 1/5\n",
            "469/469 [==============================] - 5s 4ms/step - loss: 0.2625 - accuracy: 0.9240\n",
            "Epoch 2/5\n",
            "469/469 [==============================] - 2s 4ms/step - loss: 0.1046 - accuracy: 0.9685\n",
            "Epoch 3/5\n",
            "469/469 [==============================] - 2s 3ms/step - loss: 0.0693 - accuracy: 0.9793\n",
            "Epoch 4/5\n",
            "469/469 [==============================] - 1s 3ms/step - loss: 0.0502 - accuracy: 0.9847\n",
            "Epoch 5/5\n",
            "469/469 [==============================] - 1s 3ms/step - loss: 0.0378 - accuracy: 0.9888\n"
          ]
        },
        {
          "output_type": "execute_result",
          "data": {
            "text/plain": [
              "<keras.callbacks.History at 0x7fb2204f7d60>"
            ]
          },
          "metadata": {},
          "execution_count": 11
        }
      ]
    },
    {
      "cell_type": "code",
      "source": [
        "model.summary()"
      ],
      "metadata": {
        "colab": {
          "base_uri": "https://localhost:8080/"
        },
        "id": "v_QE57d9nT3q",
        "outputId": "162fce99-3525-4f51-ebf8-517135e85f80"
      },
      "id": "v_QE57d9nT3q",
      "execution_count": 12,
      "outputs": [
        {
          "output_type": "stream",
          "name": "stdout",
          "text": [
            "Model: \"sequential\"\n",
            "_________________________________________________________________\n",
            " Layer (type)                Output Shape              Param #   \n",
            "=================================================================\n",
            " dense (Dense)               (None, 512)               401920    \n",
            "                                                                 \n",
            " dense_1 (Dense)             (None, 10)                5130      \n",
            "                                                                 \n",
            "=================================================================\n",
            "Total params: 407,050\n",
            "Trainable params: 407,050\n",
            "Non-trainable params: 0\n",
            "_________________________________________________________________\n"
          ]
        }
      ]
    },
    {
      "cell_type": "code",
      "source": [
        "# Using the model to make predictions\n",
        "test_digits = test_images[0:10]\n",
        "predictions = model.predict(test_digits)\n",
        "predictions[0]"
      ],
      "metadata": {
        "colab": {
          "base_uri": "https://localhost:8080/"
        },
        "id": "p2-svjNjk9uF",
        "outputId": "e2deef4b-d698-4603-c285-6538b8221802"
      },
      "id": "p2-svjNjk9uF",
      "execution_count": 13,
      "outputs": [
        {
          "output_type": "stream",
          "name": "stdout",
          "text": [
            "1/1 [==============================] - 0s 66ms/step\n"
          ]
        },
        {
          "output_type": "execute_result",
          "data": {
            "text/plain": [
              "array([7.2859955e-08, 1.3443788e-09, 7.8926814e-06, 6.0861545e-05,\n",
              "       1.0489487e-12, 8.7023345e-08, 9.3435394e-13, 9.9992192e-01,\n",
              "       4.6996007e-08, 9.1317606e-06], dtype=float32)"
            ]
          },
          "metadata": {},
          "execution_count": 13
        }
      ]
    },
    {
      "cell_type": "code",
      "source": [
        "predictions[0].argmax() "
      ],
      "metadata": {
        "colab": {
          "base_uri": "https://localhost:8080/"
        },
        "id": "GPolDeXflN3R",
        "outputId": "5753fda3-d573-4020-a1fd-123874339f2b"
      },
      "id": "GPolDeXflN3R",
      "execution_count": 14,
      "outputs": [
        {
          "output_type": "execute_result",
          "data": {
            "text/plain": [
              "7"
            ]
          },
          "metadata": {},
          "execution_count": 14
        }
      ]
    },
    {
      "cell_type": "code",
      "source": [
        "predictions[0][7] "
      ],
      "metadata": {
        "colab": {
          "base_uri": "https://localhost:8080/"
        },
        "id": "9I0cK6oylSiD",
        "outputId": "8e50f472-7f7a-499f-85f4-41303b610d83"
      },
      "id": "9I0cK6oylSiD",
      "execution_count": 15,
      "outputs": [
        {
          "output_type": "execute_result",
          "data": {
            "text/plain": [
              "0.9999219"
            ]
          },
          "metadata": {},
          "execution_count": 15
        }
      ]
    },
    {
      "cell_type": "code",
      "source": [
        "test_labels[0] "
      ],
      "metadata": {
        "colab": {
          "base_uri": "https://localhost:8080/"
        },
        "id": "un2I8ERJlV_p",
        "outputId": "460c0bdc-97d8-41f7-8eee-6cf0e55eeb1f"
      },
      "id": "un2I8ERJlV_p",
      "execution_count": 16,
      "outputs": [
        {
          "output_type": "execute_result",
          "data": {
            "text/plain": [
              "7"
            ]
          },
          "metadata": {},
          "execution_count": 16
        }
      ]
    },
    {
      "cell_type": "code",
      "source": [
        "# Evaluating the model on new (test) data\n",
        "test_loss, test_acc = model.evaluate(test_images, test_labels)\n",
        "print(f\"test_acc: {test_acc}\")"
      ],
      "metadata": {
        "colab": {
          "base_uri": "https://localhost:8080/"
        },
        "id": "Si6ZyYSzla_b",
        "outputId": "d1982745-f2be-4241-d727-0cd12ac75214"
      },
      "id": "Si6ZyYSzla_b",
      "execution_count": 17,
      "outputs": [
        {
          "output_type": "stream",
          "name": "stdout",
          "text": [
            "313/313 [==============================] - 1s 2ms/step - loss: 0.0599 - accuracy: 0.9823\n",
            "test_acc: 0.9822999835014343\n"
          ]
        }
      ]
    },
    {
      "cell_type": "code",
      "source": [
        "# To see the weights of a trained model, let's use the get_weights() method:\n",
        "weights = model.get_weights()\n",
        "\n",
        "# 'weights' is a list containing weight tensors\n",
        "for layer_weights in weights:\n",
        "    print(layer_weights)"
      ],
      "metadata": {
        "colab": {
          "base_uri": "https://localhost:8080/"
        },
        "id": "sd-ZtRgYoX14",
        "outputId": "8285e17e-23a5-4a55-d1b8-3add01ddd846"
      },
      "id": "sd-ZtRgYoX14",
      "execution_count": 18,
      "outputs": [
        {
          "output_type": "stream",
          "name": "stdout",
          "text": [
            "[[-0.04862154 -0.01787297 -0.01278308 ...  0.062282    0.02317104\n",
            "   0.05233382]\n",
            " [-0.06365855  0.00677675  0.03951988 ...  0.0314947   0.05200911\n",
            "   0.0360027 ]\n",
            " [-0.03289864 -0.02920125  0.04170632 ... -0.02821276  0.03631988\n",
            "  -0.0062012 ]\n",
            " ...\n",
            " [-0.02485764  0.03258973 -0.06292836 ... -0.04105919 -0.00731029\n",
            "  -0.02920138]\n",
            " [ 0.02530164  0.02926534  0.06348133 ... -0.0659215   0.0674682\n",
            "   0.06073225]\n",
            " [ 0.05021491  0.02981909  0.04063243 ...  0.0270023  -0.03977605\n",
            "   0.0489298 ]]\n",
            "[-9.34440456e-03 -3.67840379e-02  6.74244389e-02 -1.28318947e-02\n",
            " -1.14939297e-02  3.22440714e-02 -3.08896601e-02  8.51458833e-02\n",
            "  1.09756999e-01  1.08644128e-01  6.67547621e-03 -2.96570212e-02\n",
            " -2.73044705e-02  1.96413808e-02 -2.42756940e-02  1.31691098e-02\n",
            "  1.33226002e-02  2.08701026e-02  2.23330837e-02 -2.68539507e-02\n",
            "  6.92823250e-03 -9.88644664e-04  3.46632898e-02  5.65266982e-02\n",
            " -3.52797508e-02  3.85520887e-03 -1.26063805e-02  2.79741175e-03\n",
            "  8.76378559e-04 -8.71551782e-03  5.06091341e-02  1.22224754e-02\n",
            " -2.91200913e-03  5.90050071e-02 -2.74909828e-02 -3.20657194e-02\n",
            "  1.04615814e-03  1.51743283e-02  1.90645214e-02 -2.24315412e-02\n",
            " -1.96502320e-02 -3.77041735e-02  5.05566746e-02 -1.01853833e-02\n",
            "  3.50364707e-02  1.26387980e-02  2.70062126e-02  1.13388570e-02\n",
            "  1.18574938e-02  2.17680838e-02 -9.60388314e-03 -7.59051600e-03\n",
            "  1.79975927e-02  9.71287722e-04 -2.95816157e-02  2.43834872e-02\n",
            " -7.94224069e-03 -2.21902058e-02 -8.49957671e-03  2.43112948e-02\n",
            " -7.01849442e-03  3.60629670e-02  1.82958916e-02  3.34946555e-03\n",
            "  1.40190413e-02  3.90155502e-02  1.53878611e-02  1.43812662e-02\n",
            "  3.25901643e-03 -3.48588899e-02 -6.87969383e-03 -1.09925820e-02\n",
            " -2.10340973e-02  1.01764705e-02  4.15365808e-02  7.44879991e-02\n",
            "  9.41580534e-03  5.71855828e-02 -6.83874637e-03 -5.62875858e-03\n",
            "  1.19801192e-02 -1.18461167e-02  1.31952055e-02 -1.41240172e-02\n",
            " -3.26608904e-02  3.15500051e-02 -1.89358667e-02  8.93220827e-02\n",
            "  3.33688445e-02  7.57351145e-02 -2.67422618e-03  8.29615369e-02\n",
            "  2.26133615e-02  8.33997354e-02  2.75080521e-02  2.31477572e-03\n",
            "  2.98606791e-03  2.78338101e-02 -2.14449819e-02  4.47090045e-02\n",
            "  1.45223876e-02  3.48923951e-02 -1.12703992e-02  2.65758578e-02\n",
            " -2.99690687e-03  3.52271348e-02  3.05029303e-02  1.01402998e-02\n",
            "  7.24948347e-02  2.74095815e-02  4.14749235e-02  2.36978065e-02\n",
            "  3.74559537e-02  1.02668724e-04 -3.92643623e-02  3.13834734e-02\n",
            "  4.74974811e-02  4.37023900e-02  1.34390115e-03  8.38101376e-04\n",
            " -3.68370898e-02 -5.72300190e-03  2.08234452e-02  1.72512215e-02\n",
            "  6.76591042e-03  5.75006641e-02  1.41922487e-02 -3.13501358e-02\n",
            "  8.08865391e-03  1.99525896e-02 -2.02226788e-02  1.27177285e-02\n",
            "  6.89070225e-02 -1.16982926e-02 -3.28081287e-02 -4.27685678e-02\n",
            "  2.73421519e-02 -3.37297618e-02 -9.61003173e-03 -3.50021608e-02\n",
            "  2.15874445e-02  9.50964093e-02  7.80949276e-03  1.71904750e-02\n",
            "  5.35540767e-02 -9.22189280e-03 -1.32140843e-02  2.23870091e-02\n",
            " -2.59155110e-02  4.88963863e-03 -1.32681699e-02  1.83172561e-02\n",
            "  2.84146145e-03  1.43426061e-02 -6.87434152e-02 -3.88062671e-02\n",
            "  2.27426179e-03 -4.88805491e-03 -3.51360664e-02  4.23364202e-03\n",
            " -3.57846506e-02  4.66895150e-03  8.18983093e-02  8.36522318e-03\n",
            "  1.62245594e-02 -2.42830068e-02 -1.70463771e-02  2.27506720e-02\n",
            "  2.81673614e-02  3.55228723e-04 -1.12406490e-03 -3.09095788e-03\n",
            " -6.63796589e-02 -6.97899610e-02  4.22476716e-02 -8.05669464e-03\n",
            " -2.14107037e-02  4.85019721e-02 -2.91256569e-02  7.27360044e-03\n",
            "  8.48723575e-03  3.39903794e-02 -1.41608752e-02  1.01978416e-02\n",
            "  8.56384169e-03  5.27227065e-03 -3.84666212e-02 -5.32125263e-03\n",
            "  2.46680360e-02  4.69897650e-02  3.14317830e-02 -1.52620487e-02\n",
            " -3.55060250e-02 -3.35128456e-02  3.43896337e-02 -1.08186249e-02\n",
            " -4.36208509e-02 -2.29442231e-02  2.15893388e-02  6.24282425e-03\n",
            "  2.78307926e-02  1.91181768e-02  3.58948745e-02 -2.97065377e-02\n",
            "  6.05352558e-02 -3.02470811e-02 -8.10567942e-03 -3.90268629e-03\n",
            "  3.10850274e-02  3.90391089e-02 -4.61376552e-03  2.80996878e-03\n",
            "  6.21300712e-02 -4.28392775e-02  5.44816628e-02  5.44606559e-02\n",
            "  4.03470732e-03  6.72076717e-02  2.85614934e-02  4.13825549e-02\n",
            "  2.07508449e-02  2.80677751e-02  1.22351926e-02  3.50726470e-02\n",
            "  8.05298612e-02  3.58014164e-04  6.39000302e-03 -5.97624201e-03\n",
            "  3.31731550e-02 -1.23932566e-02 -1.28350565e-02 -1.28882807e-02\n",
            "  4.39575389e-02  5.37060872e-02  4.36165519e-02  3.29310261e-02\n",
            "  1.86303165e-02 -6.22821739e-03  5.12996055e-02 -6.06860034e-03\n",
            "  1.31347656e-01  1.72584970e-02 -3.22753401e-03  3.15155871e-02\n",
            "  3.78072374e-02 -8.81371647e-03  2.40681656e-02 -1.25338743e-02\n",
            "  1.95214320e-02  1.65010896e-02 -6.44176230e-02 -1.80855710e-02\n",
            "  2.66046766e-02 -4.49519493e-02  1.02894753e-02 -3.01577616e-02\n",
            "  2.13257633e-02  1.40189864e-02  1.05083967e-02  2.36417186e-02\n",
            " -5.10370452e-03  1.96242034e-02 -6.29899977e-03 -4.95730639e-02\n",
            "  4.42971364e-02  1.93562228e-02  2.57537011e-02 -9.30000562e-03\n",
            "  1.11246603e-02  1.72219388e-02  4.87268195e-02  5.90908760e-03\n",
            " -5.21523971e-03  8.47539771e-03  5.18000238e-02 -2.91354880e-02\n",
            " -1.89839974e-02  1.74372736e-02 -3.44378166e-02 -3.75585370e-02\n",
            "  2.20248159e-02 -2.13788711e-02  1.14213480e-02  3.68847847e-02\n",
            "  9.31386184e-03 -7.26958318e-03 -3.58646153e-03 -1.14146998e-04\n",
            "  1.58704259e-02 -4.42082658e-02 -6.27167663e-03  5.15011810e-02\n",
            " -1.96538493e-02  1.18170315e-02  3.40159386e-02  2.57597957e-02\n",
            "  4.82153781e-02 -5.60479797e-02  7.13820532e-02  9.78680253e-02\n",
            " -1.95257943e-02 -4.17842045e-02 -1.04802083e-02  6.34880643e-03\n",
            "  1.61318742e-02 -2.20782720e-02 -9.05839428e-02 -9.21436772e-03\n",
            "  1.19992672e-02 -7.48366266e-02  8.30221269e-03  5.44141629e-04\n",
            " -8.82148277e-03 -8.63179844e-03  1.41359018e-02 -1.08164037e-02\n",
            " -4.04621810e-02 -2.01858557e-03  2.99876723e-02  5.54272570e-02\n",
            "  1.41698390e-03 -2.28481479e-02 -2.68051326e-02  3.56616117e-02\n",
            " -7.22093368e-03  5.24277724e-02  2.52844226e-02 -6.84493557e-02\n",
            " -5.86635899e-03  8.15345943e-02 -2.35892776e-02 -4.70287502e-02\n",
            "  5.24337441e-02  8.09802674e-03 -4.61563817e-04  1.48902172e-02\n",
            " -2.57204305e-02 -1.78212449e-02  2.34428830e-02 -9.37679689e-03\n",
            " -1.33103728e-02 -3.72573510e-02 -1.06028533e-02 -1.32417707e-02\n",
            " -2.08934955e-02 -2.11762562e-02 -8.27827863e-03 -1.16892147e-03\n",
            "  2.27285810e-02 -3.87618598e-03  3.36854123e-02  4.96706646e-03\n",
            "  5.93919232e-02 -3.68239805e-02 -3.60376784e-03  4.31467826e-03\n",
            " -2.89122257e-02  2.06247461e-03  1.00157531e-02 -7.71846548e-02\n",
            "  2.70526931e-02  3.42751145e-02  6.60312548e-02 -4.52883504e-02\n",
            " -2.15092972e-02  9.18755773e-04  5.70331998e-02  2.41632592e-02\n",
            " -6.75777644e-02  4.28503901e-02  4.12830636e-02  8.25843439e-02\n",
            " -2.98185460e-03  4.66702366e-03  1.21969888e-02 -3.15044411e-02\n",
            "  1.77424978e-02 -1.71849225e-02  1.03354845e-02  3.99516113e-02\n",
            "  5.51892677e-03  1.32141989e-02  3.72298919e-02  6.66843494e-03\n",
            "  1.88592691e-02 -1.88598838e-02 -3.37171294e-02 -2.60030795e-02\n",
            " -1.21929049e-02  1.08814882e-02  1.60971377e-02  2.58143945e-03\n",
            "  9.37476754e-03  2.71708854e-02  2.01152219e-03  1.63289700e-02\n",
            " -2.39257347e-02  2.91055348e-02  9.69273970e-03  4.16157320e-02\n",
            "  1.09668588e-02  1.01202941e-02  4.27256376e-02  5.41649619e-03\n",
            "  1.77352391e-02  2.82101259e-02 -2.58121584e-02  1.91263501e-02\n",
            "  8.82995203e-02 -4.20979038e-02 -1.72529332e-02  2.09224280e-02\n",
            " -5.87763311e-03 -1.97632611e-02  4.04419862e-02  2.40568724e-02\n",
            " -4.65639587e-03  3.80890742e-02  4.88244854e-02 -1.80731677e-02\n",
            "  3.79923433e-02 -2.15592571e-02  3.56410965e-02 -5.95441740e-03\n",
            " -2.30540447e-02  1.42994570e-02  1.19466539e-02 -6.61073206e-03\n",
            "  6.04748130e-02  6.03700355e-02  3.08954287e-02  2.03327183e-02\n",
            " -2.97941808e-02  1.84353371e-03 -4.35196012e-02 -9.59091354e-03\n",
            " -9.72323213e-03  4.06699162e-03  1.55705195e-02  1.13559887e-02\n",
            "  7.62638031e-03  1.09543968e-02 -2.25378461e-02 -4.97317407e-03\n",
            "  3.16990502e-02  5.22981137e-02 -1.84404366e-02 -9.59708076e-03\n",
            "  2.30051428e-02  1.91069432e-02  5.82322367e-02  6.56519979e-02\n",
            "  2.36282079e-03  8.36772025e-02 -4.42354307e-02  2.38685925e-02\n",
            " -2.18188316e-02  8.10233934e-04 -1.51193142e-02 -1.31850149e-02\n",
            " -9.96521022e-03  2.76826005e-02 -1.53582562e-02  1.66999921e-02\n",
            "  6.35326058e-02 -3.50724757e-02  6.45404169e-03  3.46215218e-02\n",
            " -2.51039695e-02  3.37791368e-02  1.06145449e-01  4.77930158e-02\n",
            " -1.99373625e-02 -6.74018357e-03 -2.68272427e-03 -1.03924200e-02\n",
            " -1.68227237e-02 -3.24620083e-02 -1.78881437e-02  3.33531275e-02\n",
            " -3.44106108e-02  8.97017401e-03 -1.05991419e-02  1.48874549e-02\n",
            " -2.80595664e-03 -1.59102473e-02 -3.40212099e-02  8.11291393e-03\n",
            "  1.00356741e-02 -7.37809096e-05 -2.23997817e-03 -1.97503306e-02\n",
            "  7.20069185e-02  1.37525219e-02  6.71184761e-03  1.45181222e-02\n",
            "  7.59562943e-03 -1.28415506e-02  3.09927315e-02  3.21660861e-02\n",
            "  5.81850670e-03 -1.76480263e-02 -9.33358166e-03  4.82237972e-02\n",
            " -2.17889268e-02 -2.24486943e-02 -8.18241574e-03  2.24620793e-02\n",
            "  2.82754023e-02 -1.79245379e-02 -8.45398009e-03  5.07701328e-03]\n",
            "[[ 0.11993256 -0.00303786  0.19705276 ... -0.06516609 -0.21071537\n",
            "  -0.29167566]\n",
            " [-0.12884313 -0.1113584   0.05248553 ...  0.08758407  0.07842473\n",
            "  -0.22371355]\n",
            " [-0.37917456 -0.30020374 -0.22055551 ... -0.2643818  -0.14946328\n",
            "   0.00194632]\n",
            " ...\n",
            " [ 0.03662254 -0.07585705  0.02900046 ...  0.19829969 -0.11486146\n",
            "  -0.29984766]\n",
            " [-0.100439   -0.12985137  0.02536004 ...  0.01670671  0.15333721\n",
            "  -0.06729619]\n",
            " [-0.02245247 -0.14555117 -0.08409479 ... -0.13537952  0.06489006\n",
            "  -0.2727943 ]]\n",
            "[-0.0513292  -0.0047541  -0.00701882 -0.01903238  0.0016803   0.03482874\n",
            " -0.04824338 -0.01114886  0.05219322  0.01182411]\n"
          ]
        }
      ]
    },
    {
      "cell_type": "code",
      "source": [
        "len(weights)"
      ],
      "metadata": {
        "colab": {
          "base_uri": "https://localhost:8080/"
        },
        "id": "E7W7L8oXpud8",
        "outputId": "da59f374-5d79-4b1d-d3ea-d014e4ad61c9"
      },
      "id": "E7W7L8oXpud8",
      "execution_count": 19,
      "outputs": [
        {
          "output_type": "execute_result",
          "data": {
            "text/plain": [
              "4"
            ]
          },
          "metadata": {},
          "execution_count": 19
        }
      ]
    },
    {
      "cell_type": "code",
      "source": [
        "for layer_weights in weights:\n",
        "    print(layer_weights.shape)"
      ],
      "metadata": {
        "colab": {
          "base_uri": "https://localhost:8080/"
        },
        "id": "hbR7WTN9oj_g",
        "outputId": "2855b54b-2465-45b8-f05d-0ab11d72499c"
      },
      "id": "hbR7WTN9oj_g",
      "execution_count": 20,
      "outputs": [
        {
          "output_type": "stream",
          "name": "stdout",
          "text": [
            "(784, 512)\n",
            "(512,)\n",
            "(512, 10)\n",
            "(10,)\n"
          ]
        }
      ]
    },
    {
      "cell_type": "markdown",
      "source": [
        "## Initializing random weights and creating NN with those weights"
      ],
      "metadata": {
        "id": "eVTKFFrRte34"
      },
      "id": "eVTKFFrRte34"
    },
    {
      "cell_type": "code",
      "source": [
        "import numpy as np\n",
        "\n",
        "# Set the random seed for reproducibility\n",
        "np.random.seed(42)\n",
        "\n",
        "# Create the weights array of length 407,050 with random values between 0 and 1\n",
        "random_weights = np.random.rand(407050)\n",
        "\n",
        "print(random_weights)"
      ],
      "metadata": {
        "id": "MPIl1F-5tS7M",
        "outputId": "d8ac9ddd-9159-45ff-a1ef-fac20335d1ee",
        "colab": {
          "base_uri": "https://localhost:8080/"
        }
      },
      "id": "MPIl1F-5tS7M",
      "execution_count": 21,
      "outputs": [
        {
          "output_type": "stream",
          "name": "stdout",
          "text": [
            "[0.37454012 0.95071431 0.73199394 ... 0.83274859 0.66486982 0.5787854 ]\n"
          ]
        }
      ]
    },
    {
      "cell_type": "code",
      "source": [
        "input = 28*28\n",
        "hidden = 512\n",
        "output = 10\n",
        "\n",
        "# Create a list of the reshaped weight arrays\n",
        "reshaped_weights_list = [\n",
        "    random_weights[: input*hidden].reshape(input, hidden),\n",
        "    random_weights[input*hidden : input*hidden+hidden].reshape(hidden,), \n",
        "    random_weights[input*hidden+hidden : input*hidden+hidden+hidden*output].reshape(hidden, output), \n",
        "    random_weights[input*hidden+hidden+hidden*output :].reshape(output,)\n",
        "]\n",
        "\n",
        "# Print the shapes of the weight arrays (optional)\n",
        "for weights in reshaped_weights_list:\n",
        "    print(weights.shape)"
      ],
      "metadata": {
        "id": "B6aYxXGptkF_",
        "outputId": "9f822271-1ab9-419b-a531-b182cb5f7895",
        "colab": {
          "base_uri": "https://localhost:8080/"
        }
      },
      "id": "B6aYxXGptkF_",
      "execution_count": 22,
      "outputs": [
        {
          "output_type": "stream",
          "name": "stdout",
          "text": [
            "(784, 512)\n",
            "(512,)\n",
            "(512, 10)\n",
            "(10,)\n"
          ]
        }
      ]
    },
    {
      "cell_type": "code",
      "source": [
        "# Defining the architecture of a neural network (individual)\n",
        "individual = keras.Sequential([\n",
        " layers.Dense(512, activation=\"relu\", input_shape=(784,)),\n",
        " layers.Dense(10, activation=\"softmax\")\n",
        "])\n",
        "\n",
        "# Setting the weights of the model \n",
        "individual.set_weights(reshaped_weights_list)\n",
        "\n",
        "# Compiling the model \n",
        "individual.compile(optimizer=\"rmsprop\",\n",
        "                   loss=\"sparse_categorical_crossentropy\",\n",
        "                   metrics=[\"accuracy\"])"
      ],
      "metadata": {
        "id": "e-Ikiv7eyziS"
      },
      "id": "e-Ikiv7eyziS",
      "execution_count": 23,
      "outputs": []
    },
    {
      "cell_type": "code",
      "source": [
        "individual.summary()"
      ],
      "metadata": {
        "id": "MJf6pDd318ie",
        "outputId": "fb1c9b3e-6133-4799-afe9-4d31b4c20e3b",
        "colab": {
          "base_uri": "https://localhost:8080/"
        }
      },
      "id": "MJf6pDd318ie",
      "execution_count": 24,
      "outputs": [
        {
          "output_type": "stream",
          "name": "stdout",
          "text": [
            "Model: \"sequential_1\"\n",
            "_________________________________________________________________\n",
            " Layer (type)                Output Shape              Param #   \n",
            "=================================================================\n",
            " dense_2 (Dense)             (None, 512)               401920    \n",
            "                                                                 \n",
            " dense_3 (Dense)             (None, 10)                5130      \n",
            "                                                                 \n",
            "=================================================================\n",
            "Total params: 407,050\n",
            "Trainable params: 407,050\n",
            "Non-trainable params: 0\n",
            "_________________________________________________________________\n"
          ]
        }
      ]
    },
    {
      "cell_type": "code",
      "source": [
        "# Evaluating the model on train data\n",
        "test_loss, test_acc = individual.evaluate(train_images, train_labels)"
      ],
      "metadata": {
        "id": "j150y3J77e54",
        "outputId": "3f673be1-2f45-4677-e4f4-e00f25caf6b5",
        "colab": {
          "base_uri": "https://localhost:8080/"
        }
      },
      "id": "j150y3J77e54",
      "execution_count": 25,
      "outputs": [
        {
          "output_type": "stream",
          "name": "stdout",
          "text": [
            "1875/1875 [==============================] - 4s 2ms/step - loss: 795.9622 - accuracy: 0.0904\n"
          ]
        }
      ]
    },
    {
      "cell_type": "code",
      "source": [
        "# Evaluating the model on new (test) data\n",
        "test_loss, test_acc = individual.evaluate(test_images, test_labels)\n",
        "print(f\"test_acc: {test_acc}\")"
      ],
      "metadata": {
        "id": "3UJH-D8K7Rjj",
        "outputId": "cad46aab-024d-4057-d806-81a2f8216875",
        "colab": {
          "base_uri": "https://localhost:8080/"
        }
      },
      "id": "3UJH-D8K7Rjj",
      "execution_count": 26,
      "outputs": [
        {
          "output_type": "stream",
          "name": "stdout",
          "text": [
            "313/313 [==============================] - 1s 2ms/step - loss: 805.0311 - accuracy: 0.0892\n",
            "test_acc: 0.08919999748468399\n"
          ]
        }
      ]
    }
  ],
  "metadata": {
    "kernelspec": {
      "display_name": "Python 3 (ipykernel)",
      "language": "python",
      "name": "python3"
    },
    "language_info": {
      "codemirror_mode": {
        "name": "ipython",
        "version": 3
      },
      "file_extension": ".py",
      "mimetype": "text/x-python",
      "name": "python",
      "nbconvert_exporter": "python",
      "pygments_lexer": "ipython3",
      "version": "3.9.13"
    },
    "colab": {
      "provenance": []
    },
    "accelerator": "GPU",
    "gpuClass": "standard"
  },
  "nbformat": 4,
  "nbformat_minor": 5
}