{
  "nbformat": 4,
  "nbformat_minor": 0,
  "metadata": {
    "colab": {
      "provenance": [],
      "machine_shape": "hm",
      "gpuType": "A100",
      "authorship_tag": "ABX9TyO661QUyGd6Q5+6kS4Yc5Xm",
      "include_colab_link": true
    },
    "kernelspec": {
      "name": "python3",
      "display_name": "Python 3"
    },
    "language_info": {
      "name": "python"
    },
    "accelerator": "GPU",
    "gpuClass": "standard"
  },
  "cells": [
    {
      "cell_type": "markdown",
      "metadata": {
        "id": "view-in-github",
        "colab_type": "text"
      },
      "source": [
        "<a href=\"https://colab.research.google.com/github/iryna-savchuk/CI4O_project/blob/catiaparrinha/CIFO_Project_y_categorical.ipynb\" target=\"_parent\"><img src=\"https://colab.research.google.com/assets/colab-badge.svg\" alt=\"Open In Colab\"/></a>"
      ]
    },
    {
      "cell_type": "code",
      "source": [
        "# Append Charles Library, we can do this by cloning the gitbug\n",
        "# !git clone https://github.com/iryna-savchuk/CI4O_project.git\n",
        "\n",
        "#import sys\n",
        "#sys.path.append('/content/CI4O_project')"
      ],
      "metadata": {
        "id": "h18QOYVUsewH"
      },
      "execution_count": 1,
      "outputs": []
    },
    {
      "cell_type": "code",
      "execution_count": 2,
      "metadata": {
        "colab": {
          "base_uri": "https://localhost:8080/"
        },
        "id": "4gfSBVkhq57B",
        "outputId": "5657399a-2595-4714-89c7-abad95c03d23"
      },
      "outputs": [
        {
          "output_type": "stream",
          "name": "stdout",
          "text": [
            "Mounted at /content/gdrive/\n"
          ]
        }
      ],
      "source": [
        "# Append Charles Library\n",
        "from google.colab import drive\n",
        "drive.mount('/content/gdrive/')"
      ]
    },
    {
      "cell_type": "code",
      "source": [
        "import sys\n",
        "sys.path.append('/content/gdrive/MyDrive/CIFO_Project')"
      ],
      "metadata": {
        "id": "eo4Sd3hVq9Ww"
      },
      "execution_count": 3,
      "outputs": []
    },
    {
      "cell_type": "code",
      "source": [
        "# Import charles library\n",
        "from charles.charles import Population, Individual\n",
        "from charles.selection import tournament_sel, fps\n",
        "from charles.crossover import cycle_xo, pmx, arithmetic_xo\n",
        "from charles.mutation import swap_mutation, inversion_mutation"
      ],
      "metadata": {
        "id": "QVstw8PNsE2B"
      },
      "execution_count": 4,
      "outputs": []
    },
    {
      "cell_type": "code",
      "source": [
        "# Import others libraries\n",
        "from copy import deepcopy\n",
        "import numpy as np\n",
        "import pandas as pd\n",
        "\n",
        "from tensorflow import keras\n",
        "from tensorflow.keras import layers\n",
        "from tensorflow.keras.datasets import mnist\n",
        "from keras.utils import np_utils"
      ],
      "metadata": {
        "id": "QifIl9litDrJ"
      },
      "execution_count": 14,
      "outputs": []
    },
    {
      "cell_type": "code",
      "source": [
        "# Import data\n",
        "(train_images, train_labels), (test_images, test_labels) = mnist.load_data()\n",
        "\n",
        "# Reshape and normalize the input images\n",
        "train_images = train_images.reshape(-1, 784) / 255.0\n",
        "test_images = test_images.reshape(-1, 784) / 255.0"
      ],
      "metadata": {
        "colab": {
          "base_uri": "https://localhost:8080/"
        },
        "id": "qP7rGSeytOkb",
        "outputId": "9d37260d-3050-4258-e04c-1f1f6bc94df9"
      },
      "execution_count": 6,
      "outputs": [
        {
          "output_type": "stream",
          "name": "stdout",
          "text": [
            "Downloading data from https://storage.googleapis.com/tensorflow/tf-keras-datasets/mnist.npz\n",
            "11490434/11490434 [==============================] - 0s 0us/step\n"
          ]
        }
      ]
    },
    {
      "cell_type": "code",
      "source": [
        "#Define the model and fitness function:\n",
        "\n",
        "def get_fitness(self):\n",
        "    # Defining the architecture of a neural network\n",
        "    nn = keras.Sequential([\n",
        "        layers.Dense(512, activation=\"relu\", input_shape=(784,)),\n",
        "        layers.Dense(10, activation=\"softmax\")\n",
        "    ])\n",
        "\n",
        "    # Setting the weights of the model\n",
        "    nn.set_weights(self.representation)\n",
        "\n",
        "    # Compiling the model\n",
        "    nn.compile(optimizer=\"Adam\",\n",
        "               loss=\"categorical_crossentropy\",\n",
        "               metrics=[\"accuracy\"])\n",
        "    # Train model\n",
        "    nn.fit(train_images, train_labels, epochs=1, verbose=0)\n",
        "\n",
        "    test_loss, test_acc = nn.evaluate(test_images, test_labels)\n",
        "\n",
        "    return test_loss"
      ],
      "metadata": {
        "id": "z088BeWGteO5"
      },
      "execution_count": 7,
      "outputs": []
    },
    {
      "cell_type": "code",
      "source": [
        "# Monkey patching\n",
        "Individual.get_fitness = get_fitness"
      ],
      "metadata": {
        "id": "47l6SFGytofG"
      },
      "execution_count": 8,
      "outputs": []
    },
    {
      "cell_type": "code",
      "source": [
        "all_runs_best_fitness = []\n",
        "\n",
        "for i in range(4):\n",
        "    print(f\"Running GA iteration: {i + 1}\")\n",
        "    # Create a population\n",
        "    pop = Population(size=4, optim='min')\n",
        "    # Reset best_fitness_list for each run\n",
        "    best_fitness_list = []\n",
        "    # Train the population\n",
        "    pop.evolve(gens=4,\n",
        "               select=tournament_sel,\n",
        "               mutate=swap_mutation,\n",
        "               crossover=arithmetic_xo,\n",
        "               mut_prob=0.01,\n",
        "               xo_prob=0.9,\n",
        "               elitism=True)\n",
        "    all_runs_best_fitness.append(pop.best_fitnesses)\n",
        "\n",
        "# Calculate the mean fitness for each generation across all runs\n",
        "swap_mean_fitness_per_generation = [np.mean([run[i] for run in all_runs_best_fitness]) for i in range(len(all_runs_best_fitness[0]))]\n",
        "swap_median_fitness_per_generation = [np.median([run[i] for run in all_runs_best_fitness]) for i in range(len(all_runs_best_fitness[0]))]"
      ],
      "metadata": {
        "colab": {
          "base_uri": "https://localhost:8080/"
        },
        "id": "lGbnREe9tsUl",
        "outputId": "b5b5ffec-436c-4578-e309-a0914edde708"
      },
      "execution_count": 11,
      "outputs": [
        {
          "output_type": "stream",
          "name": "stdout",
          "text": [
            "Running GA iteration: 1\n",
            "313/313 [==============================] - 1s 2ms/step - loss: 3.0412 - accuracy: 0.8389\n",
            "313/313 [==============================] - 1s 2ms/step - loss: 3.0140 - accuracy: 0.8599\n",
            "313/313 [==============================] - 1s 2ms/step - loss: 2.2709 - accuracy: 0.8765\n",
            "313/313 [==============================] - 1s 2ms/step - loss: 3.3811 - accuracy: 0.8432\n",
            "313/313 [==============================] - 1s 2ms/step - loss: 2.1685 - accuracy: 0.8765\n",
            "313/313 [==============================] - 1s 2ms/step - loss: 2.1424 - accuracy: 0.8811\n",
            "313/313 [==============================] - 1s 2ms/step - loss: 2.6635 - accuracy: 0.8401\n",
            "313/313 [==============================] - 1s 2ms/step - loss: 2.0583 - accuracy: 0.8548\n",
            "Gen 1, Best Individual: Individual:  (784, 512) (512,) (512, 10) (10,); Fitness: 2.058262586593628\n",
            "\n",
            "313/313 [==============================] - 1s 2ms/step - loss: 1.9186 - accuracy: 0.8755\n",
            "313/313 [==============================] - 1s 2ms/step - loss: 4.0097 - accuracy: 0.7870\n",
            "313/313 [==============================] - 1s 2ms/step - loss: 2.8416 - accuracy: 0.8499\n",
            "313/313 [==============================] - 1s 2ms/step - loss: 3.1782 - accuracy: 0.7899\n",
            "Gen 2, Best Individual: Individual:  (784, 512) (512,) (512, 10) (10,); Fitness: 1.9186203479766846\n",
            "\n",
            "313/313 [==============================] - 1s 2ms/step - loss: 1.6756 - accuracy: 0.8882\n",
            "313/313 [==============================] - 1s 2ms/step - loss: 3.1899 - accuracy: 0.7928\n",
            "313/313 [==============================] - 1s 2ms/step - loss: 2.4351 - accuracy: 0.8430\n",
            "313/313 [==============================] - 1s 2ms/step - loss: 1.8362 - accuracy: 0.8758\n",
            "Gen 3, Best Individual: Individual:  (784, 512) (512,) (512, 10) (10,); Fitness: 1.6756255626678467\n",
            "\n",
            "313/313 [==============================] - 1s 2ms/step - loss: 2.2967 - accuracy: 0.8351\n",
            "313/313 [==============================] - 1s 2ms/step - loss: 1.8367 - accuracy: 0.8675\n",
            "313/313 [==============================] - 1s 2ms/step - loss: 2.6313 - accuracy: 0.8433\n",
            "313/313 [==============================] - 1s 2ms/step - loss: 2.3665 - accuracy: 0.8403\n",
            "Gen 4, Best Individual: Individual:  (784, 512) (512,) (512, 10) (10,); Fitness: 1.6756255626678467\n",
            "\n",
            "Running GA iteration: 2\n",
            "313/313 [==============================] - 1s 2ms/step - loss: 1.9196 - accuracy: 0.8895\n",
            "313/313 [==============================] - 1s 2ms/step - loss: 3.1709 - accuracy: 0.8352\n",
            "313/313 [==============================] - 1s 2ms/step - loss: 2.4300 - accuracy: 0.8798\n",
            "313/313 [==============================] - 1s 2ms/step - loss: 2.2722 - accuracy: 0.8775\n",
            "313/313 [==============================] - 1s 2ms/step - loss: 8.2371 - accuracy: 0.6979\n",
            "313/313 [==============================] - 1s 2ms/step - loss: 4.0096 - accuracy: 0.8078\n",
            "313/313 [==============================] - 1s 2ms/step - loss: 3.3407 - accuracy: 0.8218\n",
            "313/313 [==============================] - 1s 2ms/step - loss: 3.2489 - accuracy: 0.8375\n",
            "Gen 1, Best Individual: Individual:  (784, 512) (512,) (512, 10) (10,); Fitness: 1.9196232557296753\n",
            "\n",
            "313/313 [==============================] - 1s 2ms/step - loss: 3.1797 - accuracy: 0.8492\n",
            "313/313 [==============================] - 1s 2ms/step - loss: 2.7801 - accuracy: 0.8502\n",
            "313/313 [==============================] - 1s 2ms/step - loss: 2.7942 - accuracy: 0.8601\n",
            "313/313 [==============================] - 1s 2ms/step - loss: 2.9231 - accuracy: 0.8331\n",
            "Gen 2, Best Individual: Individual:  (784, 512) (512,) (512, 10) (10,); Fitness: 1.9196232557296753\n",
            "\n",
            "313/313 [==============================] - 1s 2ms/step - loss: 2.5863 - accuracy: 0.8615\n",
            "313/313 [==============================] - 1s 2ms/step - loss: 2.2834 - accuracy: 0.8709\n",
            "313/313 [==============================] - 1s 2ms/step - loss: 4.0475 - accuracy: 0.8220\n",
            "313/313 [==============================] - 1s 2ms/step - loss: 3.0414 - accuracy: 0.8434\n",
            "Gen 3, Best Individual: Individual:  (784, 512) (512,) (512, 10) (10,); Fitness: 1.9196232557296753\n",
            "\n",
            "313/313 [==============================] - 1s 2ms/step - loss: 2.2094 - accuracy: 0.8888\n",
            "313/313 [==============================] - 1s 2ms/step - loss: 1.6487 - accuracy: 0.9100\n",
            "313/313 [==============================] - 1s 2ms/step - loss: 2.1155 - accuracy: 0.8875\n",
            "313/313 [==============================] - 1s 2ms/step - loss: 5.9479 - accuracy: 0.7362\n",
            "Gen 4, Best Individual: Individual:  (784, 512) (512,) (512, 10) (10,); Fitness: 1.6487284898757935\n",
            "\n",
            "Running GA iteration: 3\n",
            "313/313 [==============================] - 1s 2ms/step - loss: 4.0138 - accuracy: 0.8027\n",
            "313/313 [==============================] - 1s 2ms/step - loss: 2.2030 - accuracy: 0.8742\n",
            "313/313 [==============================] - 1s 2ms/step - loss: 2.5243 - accuracy: 0.8724\n",
            "313/313 [==============================] - 1s 2ms/step - loss: 2.3130 - accuracy: 0.8694\n",
            "313/313 [==============================] - 1s 2ms/step - loss: 2.9075 - accuracy: 0.8508\n",
            "313/313 [==============================] - 1s 2ms/step - loss: 3.8125 - accuracy: 0.8038\n",
            "313/313 [==============================] - 1s 2ms/step - loss: 2.7017 - accuracy: 0.8408\n",
            "313/313 [==============================] - 1s 2ms/step - loss: 2.2293 - accuracy: 0.8481\n",
            "Gen 1, Best Individual: Individual:  (784, 512) (512,) (512, 10) (10,); Fitness: 2.2030484676361084\n",
            "\n",
            "313/313 [==============================] - 1s 2ms/step - loss: 2.3299 - accuracy: 0.8704\n",
            "313/313 [==============================] - 1s 2ms/step - loss: 2.6130 - accuracy: 0.8639\n",
            "313/313 [==============================] - 1s 2ms/step - loss: 1.6176 - accuracy: 0.8879\n",
            "313/313 [==============================] - 1s 2ms/step - loss: 2.6215 - accuracy: 0.8471\n",
            "Gen 2, Best Individual: Individual:  (784, 512) (512,) (512, 10) (10,); Fitness: 1.6175930500030518\n",
            "\n",
            "313/313 [==============================] - 1s 2ms/step - loss: 4.2818 - accuracy: 0.7679\n",
            "313/313 [==============================] - 1s 2ms/step - loss: 2.3539 - accuracy: 0.8641\n",
            "313/313 [==============================] - 1s 2ms/step - loss: 4.0115 - accuracy: 0.7755\n",
            "313/313 [==============================] - 1s 2ms/step - loss: 2.6314 - accuracy: 0.8555\n",
            "Gen 3, Best Individual: Individual:  (784, 512) (512,) (512, 10) (10,); Fitness: 1.6175930500030518\n",
            "\n",
            "313/313 [==============================] - 1s 2ms/step - loss: 3.5275 - accuracy: 0.8274\n",
            "313/313 [==============================] - 1s 2ms/step - loss: 1.5076 - accuracy: 0.8999\n",
            "313/313 [==============================] - 1s 2ms/step - loss: 2.5244 - accuracy: 0.8430\n",
            "313/313 [==============================] - 1s 2ms/step - loss: 1.5520 - accuracy: 0.9055\n",
            "Gen 4, Best Individual: Individual:  (784, 512) (512,) (512, 10) (10,); Fitness: 1.5075931549072266\n",
            "\n",
            "Running GA iteration: 4\n",
            "313/313 [==============================] - 1s 2ms/step - loss: 2.0057 - accuracy: 0.8900\n",
            "313/313 [==============================] - 1s 2ms/step - loss: 3.4612 - accuracy: 0.8431\n",
            "313/313 [==============================] - 1s 2ms/step - loss: 3.7301 - accuracy: 0.8213\n",
            "313/313 [==============================] - 1s 2ms/step - loss: 3.0300 - accuracy: 0.8421\n",
            "313/313 [==============================] - 1s 2ms/step - loss: 3.8618 - accuracy: 0.7943\n",
            "313/313 [==============================] - 1s 2ms/step - loss: 4.9156 - accuracy: 0.7813\n",
            "313/313 [==============================] - 1s 2ms/step - loss: 4.4707 - accuracy: 0.7580\n",
            "313/313 [==============================] - 1s 2ms/step - loss: 1.9272 - accuracy: 0.8796\n",
            "Gen 1, Best Individual: Individual:  (784, 512) (512,) (512, 10) (10,); Fitness: 1.9271962642669678\n",
            "\n",
            "313/313 [==============================] - 1s 2ms/step - loss: 1.6907 - accuracy: 0.8865\n",
            "313/313 [==============================] - 1s 2ms/step - loss: 2.0451 - accuracy: 0.8727\n",
            "313/313 [==============================] - 1s 2ms/step - loss: 2.4951 - accuracy: 0.8478\n",
            "313/313 [==============================] - 1s 2ms/step - loss: 1.9478 - accuracy: 0.8705\n",
            "Gen 2, Best Individual: Individual:  (784, 512) (512,) (512, 10) (10,); Fitness: 1.6907416582107544\n",
            "\n",
            "313/313 [==============================] - 1s 2ms/step - loss: 1.6509 - accuracy: 0.8919\n",
            "313/313 [==============================] - 1s 2ms/step - loss: 1.9845 - accuracy: 0.8707\n",
            "313/313 [==============================] - 1s 2ms/step - loss: 2.2757 - accuracy: 0.8725\n",
            "313/313 [==============================] - 1s 2ms/step - loss: 1.9933 - accuracy: 0.8733\n",
            "Gen 3, Best Individual: Individual:  (784, 512) (512,) (512, 10) (10,); Fitness: 1.650923490524292\n",
            "\n",
            "313/313 [==============================] - 1s 2ms/step - loss: 1.4988 - accuracy: 0.9029\n",
            "313/313 [==============================] - 1s 2ms/step - loss: 2.1858 - accuracy: 0.8720\n",
            "313/313 [==============================] - 1s 2ms/step - loss: 1.8931 - accuracy: 0.8856\n",
            "313/313 [==============================] - 1s 2ms/step - loss: 1.9831 - accuracy: 0.8814\n",
            "Gen 4, Best Individual: Individual:  (784, 512) (512,) (512, 10) (10,); Fitness: 1.4987633228302002\n",
            "\n"
          ]
        }
      ]
    },
    {
      "cell_type": "code",
      "source": [
        "all_runs_best_fitness = []\n",
        "\n",
        "for i in range(4):\n",
        "    print(f\"Running GA iteration: {i + 1}\")\n",
        "    # Create a population\n",
        "    pop = Population(size=4, optim='min')\n",
        "    # Reset best_fitness_list for each run\n",
        "    best_fitness_list = []\n",
        "    # Train the population\n",
        "    pop.evolve(gens=4,\n",
        "               select=tournament_sel,\n",
        "               mutate=inversion_mutation,\n",
        "               crossover=arithmetic_xo,\n",
        "               mut_prob=0.01,\n",
        "               xo_prob=0.9,\n",
        "               elitism=True)\n",
        "    all_runs_best_fitness.append(pop.best_fitnesses)\n",
        "\n",
        "# Calculate the mean fitness for each generation across all runs\n",
        "inversion_mean_fitness_per_generation = [np.mean([run[i] for run in all_runs_best_fitness]) for i in range(len(all_runs_best_fitness[0]))]\n",
        "inversion_median_fitness_per_generation = [np.median([run[i] for run in all_runs_best_fitness]) for i in range(len(all_runs_best_fitness[0]))]"
      ],
      "metadata": {
        "colab": {
          "base_uri": "https://localhost:8080/"
        },
        "id": "wMsW6llst2Xu",
        "outputId": "a0f3479c-aed2-4b57-f308-ea3062e389a0"
      },
      "execution_count": 12,
      "outputs": [
        {
          "output_type": "stream",
          "name": "stdout",
          "text": [
            "Running GA iteration: 1\n",
            "313/313 [==============================] - 1s 2ms/step - loss: 2.3445 - accuracy: 0.8711\n",
            "313/313 [==============================] - 1s 2ms/step - loss: 2.8821 - accuracy: 0.8516\n",
            "313/313 [==============================] - 1s 2ms/step - loss: 4.4363 - accuracy: 0.7952\n",
            "313/313 [==============================] - 1s 2ms/step - loss: 2.9281 - accuracy: 0.8428\n",
            "313/313 [==============================] - 1s 2ms/step - loss: 2.1774 - accuracy: 0.8750\n",
            "313/313 [==============================] - 1s 2ms/step - loss: 3.6744 - accuracy: 0.8104\n",
            "313/313 [==============================] - 1s 2ms/step - loss: 2.6854 - accuracy: 0.8509\n",
            "313/313 [==============================] - 1s 2ms/step - loss: 2.9975 - accuracy: 0.8246\n",
            "Gen 1, Best Individual: Individual:  (784, 512) (512,) (512, 10) (10,); Fitness: 2.177371025085449\n",
            "\n",
            "313/313 [==============================] - 1s 2ms/step - loss: 3.1371 - accuracy: 0.8338\n",
            "313/313 [==============================] - 1s 2ms/step - loss: 2.9458 - accuracy: 0.8404\n",
            "313/313 [==============================] - 1s 2ms/step - loss: 2.2564 - accuracy: 0.8801\n",
            "313/313 [==============================] - 1s 2ms/step - loss: 3.8088 - accuracy: 0.8135\n",
            "Gen 2, Best Individual: Individual:  (784, 512) (512,) (512, 10) (10,); Fitness: 2.177371025085449\n",
            "\n",
            "313/313 [==============================] - 1s 2ms/step - loss: 2.9503 - accuracy: 0.8430\n",
            "313/313 [==============================] - 1s 2ms/step - loss: 2.2410 - accuracy: 0.8808\n",
            "313/313 [==============================] - 1s 2ms/step - loss: 2.6321 - accuracy: 0.8514\n",
            "313/313 [==============================] - 1s 2ms/step - loss: 2.6233 - accuracy: 0.8583\n",
            "Gen 3, Best Individual: Individual:  (784, 512) (512,) (512, 10) (10,); Fitness: 2.177371025085449\n",
            "\n",
            "313/313 [==============================] - 1s 2ms/step - loss: 3.2163 - accuracy: 0.8029\n",
            "313/313 [==============================] - 1s 2ms/step - loss: 3.1865 - accuracy: 0.8283\n",
            "313/313 [==============================] - 1s 2ms/step - loss: 3.6237 - accuracy: 0.8056\n",
            "313/313 [==============================] - 1s 2ms/step - loss: 2.1630 - accuracy: 0.8787\n",
            "Gen 4, Best Individual: Individual:  (784, 512) (512,) (512, 10) (10,); Fitness: 2.163027048110962\n",
            "\n",
            "Running GA iteration: 2\n",
            "313/313 [==============================] - 1s 2ms/step - loss: 4.3974 - accuracy: 0.7940\n",
            "313/313 [==============================] - 1s 2ms/step - loss: 2.0981 - accuracy: 0.8859\n",
            "313/313 [==============================] - 1s 2ms/step - loss: 2.4731 - accuracy: 0.8549\n",
            "313/313 [==============================] - 1s 2ms/step - loss: 2.8263 - accuracy: 0.8446\n",
            "313/313 [==============================] - 1s 2ms/step - loss: 3.5928 - accuracy: 0.8092\n",
            "313/313 [==============================] - 1s 2ms/step - loss: 4.5201 - accuracy: 0.7797\n",
            "313/313 [==============================] - 1s 2ms/step - loss: 2.2893 - accuracy: 0.8835\n",
            "313/313 [==============================] - 1s 2ms/step - loss: 2.5902 - accuracy: 0.8591\n",
            "Gen 1, Best Individual: Individual:  (784, 512) (512,) (512, 10) (10,); Fitness: 2.09806227684021\n",
            "\n",
            "313/313 [==============================] - 1s 2ms/step - loss: 7.1563 - accuracy: 0.7350\n",
            "313/313 [==============================] - 1s 2ms/step - loss: 2.7665 - accuracy: 0.8680\n",
            "313/313 [==============================] - 1s 2ms/step - loss: 2.9473 - accuracy: 0.8588\n",
            "313/313 [==============================] - 1s 2ms/step - loss: 6.4135 - accuracy: 0.7365\n",
            "Gen 2, Best Individual: Individual:  (784, 512) (512,) (512, 10) (10,); Fitness: 2.09806227684021\n",
            "\n",
            "313/313 [==============================] - 1s 2ms/step - loss: 2.9442 - accuracy: 0.8502\n",
            "313/313 [==============================] - 1s 2ms/step - loss: 3.2367 - accuracy: 0.8268\n",
            "313/313 [==============================] - 1s 2ms/step - loss: 2.2713 - accuracy: 0.8730\n",
            "313/313 [==============================] - 1s 2ms/step - loss: 3.3724 - accuracy: 0.8295\n",
            "Gen 3, Best Individual: Individual:  (784, 512) (512,) (512, 10) (10,); Fitness: 2.09806227684021\n",
            "\n",
            "313/313 [==============================] - 1s 2ms/step - loss: 1.9488 - accuracy: 0.9042\n",
            "313/313 [==============================] - 1s 2ms/step - loss: 2.5773 - accuracy: 0.8644\n",
            "313/313 [==============================] - 1s 2ms/step - loss: 2.7144 - accuracy: 0.8580\n",
            "313/313 [==============================] - 1s 2ms/step - loss: 2.6773 - accuracy: 0.8679\n",
            "Gen 4, Best Individual: Individual:  (784, 512) (512,) (512, 10) (10,); Fitness: 1.9487833976745605\n",
            "\n",
            "Running GA iteration: 3\n",
            "313/313 [==============================] - 1s 2ms/step - loss: 4.1159 - accuracy: 0.7934\n",
            "313/313 [==============================] - 1s 2ms/step - loss: 2.6481 - accuracy: 0.8613\n",
            "313/313 [==============================] - 1s 2ms/step - loss: 2.9257 - accuracy: 0.8491\n",
            "313/313 [==============================] - 1s 2ms/step - loss: 2.3282 - accuracy: 0.8756\n",
            "313/313 [==============================] - 1s 2ms/step - loss: 2.5556 - accuracy: 0.8547\n",
            "313/313 [==============================] - 1s 2ms/step - loss: 3.1404 - accuracy: 0.8257\n",
            "313/313 [==============================] - 1s 2ms/step - loss: 3.0815 - accuracy: 0.8112\n",
            "313/313 [==============================] - 1s 2ms/step - loss: 1.7408 - accuracy: 0.8807\n",
            "Gen 1, Best Individual: Individual:  (784, 512) (512,) (512, 10) (10,); Fitness: 1.7408238649368286\n",
            "\n",
            "313/313 [==============================] - 1s 2ms/step - loss: 3.1615 - accuracy: 0.8232\n",
            "313/313 [==============================] - 1s 2ms/step - loss: 1.7128 - accuracy: 0.8819\n",
            "313/313 [==============================] - 1s 2ms/step - loss: 3.0783 - accuracy: 0.8319\n",
            "313/313 [==============================] - 1s 2ms/step - loss: 1.5066 - accuracy: 0.8888\n",
            "Gen 2, Best Individual: Individual:  (784, 512) (512,) (512, 10) (10,); Fitness: 1.5066126585006714\n",
            "\n",
            "313/313 [==============================] - 1s 2ms/step - loss: 1.9668 - accuracy: 0.8591\n",
            "313/313 [==============================] - 1s 2ms/step - loss: 2.1589 - accuracy: 0.8492\n",
            "313/313 [==============================] - 1s 2ms/step - loss: 2.1541 - accuracy: 0.8686\n",
            "313/313 [==============================] - 1s 2ms/step - loss: 2.8836 - accuracy: 0.8270\n",
            "Gen 3, Best Individual: Individual:  (784, 512) (512,) (512, 10) (10,); Fitness: 1.5066126585006714\n",
            "\n",
            "313/313 [==============================] - 1s 2ms/step - loss: 2.5755 - accuracy: 0.8177\n",
            "313/313 [==============================] - 1s 2ms/step - loss: 1.6806 - accuracy: 0.8875\n",
            "313/313 [==============================] - 1s 2ms/step - loss: 1.9327 - accuracy: 0.8646\n",
            "313/313 [==============================] - 1s 2ms/step - loss: 1.8785 - accuracy: 0.8762\n",
            "Gen 4, Best Individual: Individual:  (784, 512) (512,) (512, 10) (10,); Fitness: 1.5066126585006714\n",
            "\n",
            "Running GA iteration: 4\n",
            "313/313 [==============================] - 1s 2ms/step - loss: 3.0125 - accuracy: 0.8277\n",
            "313/313 [==============================] - 1s 2ms/step - loss: 2.5453 - accuracy: 0.8722\n",
            "313/313 [==============================] - 1s 2ms/step - loss: 1.8911 - accuracy: 0.8957\n",
            "313/313 [==============================] - 1s 2ms/step - loss: 4.3923 - accuracy: 0.8108\n",
            "313/313 [==============================] - 1s 2ms/step - loss: 1.9749 - accuracy: 0.8879\n",
            "313/313 [==============================] - 1s 2ms/step - loss: 3.1527 - accuracy: 0.8470\n",
            "313/313 [==============================] - 1s 2ms/step - loss: 1.9919 - accuracy: 0.8897\n",
            "313/313 [==============================] - 1s 2ms/step - loss: 2.7287 - accuracy: 0.8599\n",
            "Gen 1, Best Individual: Individual:  (784, 512) (512,) (512, 10) (10,); Fitness: 1.8911141157150269\n",
            "\n",
            "313/313 [==============================] - 1s 2ms/step - loss: 5.3862 - accuracy: 0.7868\n",
            "313/313 [==============================] - 1s 2ms/step - loss: 3.2700 - accuracy: 0.8556\n",
            "313/313 [==============================] - 1s 2ms/step - loss: 1.9515 - accuracy: 0.8964\n",
            "313/313 [==============================] - 1s 2ms/step - loss: 3.5017 - accuracy: 0.8213\n",
            "Gen 2, Best Individual: Individual:  (784, 512) (512,) (512, 10) (10,); Fitness: 1.8911141157150269\n",
            "\n",
            "313/313 [==============================] - 1s 2ms/step - loss: 2.3291 - accuracy: 0.8808\n",
            "313/313 [==============================] - 1s 2ms/step - loss: 2.2389 - accuracy: 0.8760\n",
            "313/313 [==============================] - 1s 2ms/step - loss: 2.6548 - accuracy: 0.8468\n",
            "313/313 [==============================] - 1s 2ms/step - loss: 2.1045 - accuracy: 0.9000\n",
            "Gen 3, Best Individual: Individual:  (784, 512) (512,) (512, 10) (10,); Fitness: 1.8911141157150269\n",
            "\n",
            "313/313 [==============================] - 1s 2ms/step - loss: 2.9539 - accuracy: 0.8613\n",
            "313/313 [==============================] - 1s 2ms/step - loss: 2.3503 - accuracy: 0.8787\n",
            "313/313 [==============================] - 1s 2ms/step - loss: 2.0777 - accuracy: 0.8892\n",
            "313/313 [==============================] - 1s 2ms/step - loss: 4.2892 - accuracy: 0.8100\n",
            "Gen 4, Best Individual: Individual:  (784, 512) (512,) (512, 10) (10,); Fitness: 1.8911141157150269\n",
            "\n"
          ]
        }
      ]
    },
    {
      "cell_type": "code",
      "source": [
        "data = {\n",
        "    'swap_average': swap_mean_fitness_per_generation,\n",
        "    'inversion_avegare': inversion_mean_fitness_per_generation,\n",
        "    'swap_median': swap_median_fitness_per_generation,\n",
        "    'inversion_median': inversion_median_fitness_per_generation\n",
        "}\n",
        "\n",
        "df = pd.DataFrame(data)\n",
        "\n",
        "print(df)"
      ],
      "metadata": {
        "colab": {
          "base_uri": "https://localhost:8080/"
        },
        "id": "n1xM2rYVu8Dk",
        "outputId": "f371bb7a-d8f1-47c7-f287-b4b08a6f377f"
      },
      "execution_count": 17,
      "outputs": [
        {
          "output_type": "stream",
          "name": "stdout",
          "text": [
            "   swap_average  inversion_avegare  swap_median  inversion_median\n",
            "0      2.027033           1.976843     1.992729          1.994588\n",
            "1      1.786645           1.918290     1.804681          1.994588\n",
            "2      1.715941           1.918290     1.663275          1.994588\n",
            "3      1.582678           1.877384     1.578161          1.919949\n"
          ]
        }
      ]
    }
  ]
}