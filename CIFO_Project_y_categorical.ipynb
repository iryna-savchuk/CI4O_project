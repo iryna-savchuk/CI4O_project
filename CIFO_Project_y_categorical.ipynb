{
  "nbformat": 4,
  "nbformat_minor": 0,
  "metadata": {
    "colab": {
      "provenance": [],
      "machine_shape": "hm",
      "gpuType": "A100",
      "authorship_tag": "ABX9TyN3UkIsj2uVvnYm5y9PV9rD",
      "include_colab_link": true
    },
    "kernelspec": {
      "name": "python3",
      "display_name": "Python 3"
    },
    "language_info": {
      "name": "python"
    },
    "accelerator": "GPU",
    "gpuClass": "standard"
  },
  "cells": [
    {
      "cell_type": "markdown",
      "metadata": {
        "id": "view-in-github",
        "colab_type": "text"
      },
      "source": [
        "<a href=\"https://colab.research.google.com/github/iryna-savchuk/CI4O_project/blob/catiaparrinha/CIFO_Project_y_categorical.ipynb\" target=\"_parent\"><img src=\"https://colab.research.google.com/assets/colab-badge.svg\" alt=\"Open In Colab\"/></a>"
      ]
    },
    {
      "cell_type": "code",
      "source": [
        "# Append Charles Library, we can do this by cloning the gitbug\n",
        "# !git clone https://github.com/iryna-savchuk/CI4O_project.git\n",
        "\n",
        "#import sys\n",
        "#sys.path.append('/content/CI4O_project')"
      ],
      "metadata": {
        "id": "h18QOYVUsewH"
      },
      "execution_count": 1,
      "outputs": []
    },
    {
      "cell_type": "code",
      "execution_count": 2,
      "metadata": {
        "colab": {
          "base_uri": "https://localhost:8080/"
        },
        "id": "4gfSBVkhq57B",
        "outputId": "d3ed2a69-bfc4-4252-c2b8-17117bf38189"
      },
      "outputs": [
        {
          "output_type": "stream",
          "name": "stdout",
          "text": [
            "Drive already mounted at /content/gdrive/; to attempt to forcibly remount, call drive.mount(\"/content/gdrive/\", force_remount=True).\n"
          ]
        }
      ],
      "source": [
        "# Append Charles Library\n",
        "from google.colab import drive\n",
        "drive.mount('/content/gdrive/')"
      ]
    },
    {
      "cell_type": "code",
      "source": [
        "import sys\n",
        "sys.path.append('/content/gdrive/MyDrive/CIFO_Project')"
      ],
      "metadata": {
        "id": "eo4Sd3hVq9Ww"
      },
      "execution_count": 3,
      "outputs": []
    },
    {
      "cell_type": "code",
      "source": [
        "# Import charles library\n",
        "from charles.charles import Population, Individual\n",
        "from charles.selection import tournament_sel, fps\n",
        "from charles.crossover import cycle_xo, pmx, arithmetic_xo\n",
        "from charles.mutation import swap_mutation, inversion_mutation"
      ],
      "metadata": {
        "id": "QVstw8PNsE2B"
      },
      "execution_count": 4,
      "outputs": []
    },
    {
      "cell_type": "code",
      "source": [
        "# Import others libraries\n",
        "from copy import deepcopy\n",
        "import numpy as np\n",
        "import pandas as pd\n",
        "\n",
        "from tensorflow import keras\n",
        "from tensorflow.keras import layers\n",
        "from tensorflow.keras.datasets import mnist\n",
        "from keras.utils import np_utils"
      ],
      "metadata": {
        "id": "QifIl9litDrJ"
      },
      "execution_count": 5,
      "outputs": []
    },
    {
      "cell_type": "code",
      "source": [
        "# Import data\n",
        "(train_images, train_labels), (test_images, test_labels) = mnist.load_data()\n",
        "\n",
        "# Reshape and normalize the input images\n",
        "train_images = train_images.reshape(-1, 784) / 255.0\n",
        "test_images = test_images.reshape(-1, 784) / 255.0"
      ],
      "metadata": {
        "id": "qP7rGSeytOkb"
      },
      "execution_count": 6,
      "outputs": []
    },
    {
      "cell_type": "code",
      "source": [
        "#Define the model and fitness function:\n",
        "\n",
        "def get_fitness(self):\n",
        "    # Defining the architecture of a neural network\n",
        "    nn = keras.Sequential([\n",
        "        layers.Dense(512, activation=\"relu\", input_shape=(784,)),\n",
        "        layers.Dense(10, activation=\"softmax\")\n",
        "    ])\n",
        "\n",
        "    # Setting the weights of the model\n",
        "    nn.set_weights(self.representation)\n",
        "\n",
        "    # Compiling the model\n",
        "    nn.compile(optimizer=\"rmsprop\",\n",
        "               loss=\"sparse_categorical_crossentropy\",\n",
        "               metrics=[\"accuracy\"])\n",
        "\n",
        "    # Train model\n",
        "    nn.fit(train_images, train_labels, epochs=1, verbose=0)\n",
        "\n",
        "    test_loss, test_acc = nn.evaluate(test_images, test_labels)\n",
        "\n",
        "    return test_loss"
      ],
      "metadata": {
        "id": "z088BeWGteO5"
      },
      "execution_count": 13,
      "outputs": []
    },
    {
      "cell_type": "code",
      "source": [
        "# Monkey patching\n",
        "Individual.get_fitness = get_fitness"
      ],
      "metadata": {
        "id": "47l6SFGytofG"
      },
      "execution_count": 14,
      "outputs": []
    },
    {
      "cell_type": "code",
      "source": [
        "all_runs_best_fitness = []\n",
        "\n",
        "for i in range(4):\n",
        "    print(f\"Running GA iteration: {i + 1}\")\n",
        "    # Create a population\n",
        "    pop = Population(size=4, optim='min')\n",
        "    # Reset best_fitness_list for each run\n",
        "    best_fitness_list = []\n",
        "    # Train the population\n",
        "    pop.evolve(gens=4,\n",
        "               select=tournament_sel,\n",
        "               mutate=swap_mutation,\n",
        "               crossover=arithmetic_xo,\n",
        "               mut_prob=0.01,\n",
        "               xo_prob=0.9,\n",
        "               elitism=True)\n",
        "    all_runs_best_fitness.append(pop.best_fitnesses)\n",
        "\n",
        "# Calculate the mean fitness for each generation across all runs\n",
        "swap_mean_fitness_per_generation = [np.mean([run[i] for run in all_runs_best_fitness]) for i in range(len(all_runs_best_fitness[0]))]\n",
        "swap_median_fitness_per_generation = [np.median([run[i] for run in all_runs_best_fitness]) for i in range(len(all_runs_best_fitness[0]))]"
      ],
      "metadata": {
        "colab": {
          "base_uri": "https://localhost:8080/"
        },
        "id": "lGbnREe9tsUl",
        "outputId": "ecbd7dc8-23cb-4ce2-892f-e59bb1b2ef41"
      },
      "execution_count": 16,
      "outputs": [
        {
          "output_type": "stream",
          "name": "stdout",
          "text": [
            "Running GA iteration: 1\n",
            "313/313 [==============================] - 1s 2ms/step - loss: 7.0389 - accuracy: 0.8112\n",
            "313/313 [==============================] - 1s 2ms/step - loss: 4.6858 - accuracy: 0.8526\n",
            "313/313 [==============================] - 1s 2ms/step - loss: 5.6840 - accuracy: 0.8288\n",
            "313/313 [==============================] - 1s 2ms/step - loss: 3.6851 - accuracy: 0.8782\n",
            "313/313 [==============================] - 1s 2ms/step - loss: 4.8391 - accuracy: 0.8195\n",
            "313/313 [==============================] - 1s 2ms/step - loss: 6.8869 - accuracy: 0.7893\n",
            "313/313 [==============================] - 1s 2ms/step - loss: 2.7717 - accuracy: 0.9038\n",
            "313/313 [==============================] - 1s 2ms/step - loss: 2.9432 - accuracy: 0.9001\n",
            "Gen 1, Best Individual: Individual:  (784, 512) (512,) (512, 10) (10,); Fitness: 2.771655797958374\n",
            "\n",
            "313/313 [==============================] - 1s 2ms/step - loss: 3.6189 - accuracy: 0.8706\n",
            "313/313 [==============================] - 1s 2ms/step - loss: 4.1191 - accuracy: 0.8672\n",
            "313/313 [==============================] - 1s 2ms/step - loss: 3.0679 - accuracy: 0.8927\n",
            "313/313 [==============================] - 1s 2ms/step - loss: 6.6093 - accuracy: 0.8084\n",
            "Gen 2, Best Individual: Individual:  (784, 512) (512,) (512, 10) (10,); Fitness: 2.771655797958374\n",
            "\n",
            "313/313 [==============================] - 1s 2ms/step - loss: 5.3504 - accuracy: 0.8081\n",
            "313/313 [==============================] - 1s 2ms/step - loss: 6.5070 - accuracy: 0.8049\n",
            "313/313 [==============================] - 1s 2ms/step - loss: 3.7931 - accuracy: 0.8831\n",
            "313/313 [==============================] - 1s 2ms/step - loss: 2.8072 - accuracy: 0.8991\n",
            "Gen 3, Best Individual: Individual:  (784, 512) (512,) (512, 10) (10,); Fitness: 2.771655797958374\n",
            "\n",
            "313/313 [==============================] - 1s 2ms/step - loss: 5.8117 - accuracy: 0.8192\n",
            "313/313 [==============================] - 1s 2ms/step - loss: 3.3173 - accuracy: 0.8888\n",
            "313/313 [==============================] - 1s 2ms/step - loss: 3.4181 - accuracy: 0.8866\n",
            "313/313 [==============================] - 1s 2ms/step - loss: 4.0546 - accuracy: 0.8669\n",
            "Gen 4, Best Individual: Individual:  (784, 512) (512,) (512, 10) (10,); Fitness: 2.771655797958374\n",
            "\n",
            "Running GA iteration: 2\n",
            "313/313 [==============================] - 1s 2ms/step - loss: 10.6345 - accuracy: 0.7930\n",
            "313/313 [==============================] - 1s 2ms/step - loss: 3.2443 - accuracy: 0.8890\n",
            "313/313 [==============================] - 1s 2ms/step - loss: 3.3193 - accuracy: 0.8896\n",
            "313/313 [==============================] - 1s 2ms/step - loss: 5.2538 - accuracy: 0.8339\n",
            "313/313 [==============================] - 1s 2ms/step - loss: 4.1182 - accuracy: 0.8573\n",
            "313/313 [==============================] - 1s 2ms/step - loss: 2.8006 - accuracy: 0.9034\n",
            "313/313 [==============================] - 1s 2ms/step - loss: 4.0335 - accuracy: 0.8563\n",
            "313/313 [==============================] - 1s 2ms/step - loss: 4.7005 - accuracy: 0.8490\n",
            "Gen 1, Best Individual: Individual:  (784, 512) (512,) (512, 10) (10,); Fitness: 2.8006114959716797\n",
            "\n",
            "313/313 [==============================] - 1s 2ms/step - loss: 6.4862 - accuracy: 0.7933\n",
            "313/313 [==============================] - 1s 2ms/step - loss: 6.1530 - accuracy: 0.8209\n",
            "313/313 [==============================] - 1s 2ms/step - loss: 3.6712 - accuracy: 0.8800\n",
            "313/313 [==============================] - 1s 2ms/step - loss: 7.2389 - accuracy: 0.7889\n",
            "Gen 2, Best Individual: Individual:  (784, 512) (512,) (512, 10) (10,); Fitness: 2.8006114959716797\n",
            "\n",
            "313/313 [==============================] - 1s 2ms/step - loss: 7.4616 - accuracy: 0.7800\n",
            "313/313 [==============================] - 1s 2ms/step - loss: 4.7377 - accuracy: 0.8492\n",
            "313/313 [==============================] - 1s 2ms/step - loss: 2.9873 - accuracy: 0.8999\n",
            "313/313 [==============================] - 1s 2ms/step - loss: 3.7372 - accuracy: 0.8748\n",
            "Gen 3, Best Individual: Individual:  (784, 512) (512,) (512, 10) (10,); Fitness: 2.8006114959716797\n",
            "\n",
            "313/313 [==============================] - 1s 2ms/step - loss: 4.3732 - accuracy: 0.8584\n",
            "313/313 [==============================] - 1s 2ms/step - loss: 5.1994 - accuracy: 0.8377\n",
            "313/313 [==============================] - 1s 2ms/step - loss: 4.3892 - accuracy: 0.8490\n",
            "313/313 [==============================] - 1s 2ms/step - loss: 4.8742 - accuracy: 0.8376\n",
            "Gen 4, Best Individual: Individual:  (784, 512) (512,) (512, 10) (10,); Fitness: 2.8006114959716797\n",
            "\n",
            "Running GA iteration: 3\n",
            "313/313 [==============================] - 1s 2ms/step - loss: 3.7475 - accuracy: 0.8666\n",
            "313/313 [==============================] - 1s 2ms/step - loss: 4.8761 - accuracy: 0.8450\n",
            "313/313 [==============================] - 1s 2ms/step - loss: 3.2096 - accuracy: 0.8934\n",
            "313/313 [==============================] - 1s 2ms/step - loss: 10.2394 - accuracy: 0.7318\n",
            "313/313 [==============================] - 1s 2ms/step - loss: 4.7524 - accuracy: 0.8281\n",
            "313/313 [==============================] - 1s 2ms/step - loss: 5.7578 - accuracy: 0.8295\n",
            "313/313 [==============================] - 1s 2ms/step - loss: 3.7856 - accuracy: 0.8744\n",
            "313/313 [==============================] - 1s 2ms/step - loss: 3.2801 - accuracy: 0.8899\n",
            "Gen 1, Best Individual: Individual:  (784, 512) (512,) (512, 10) (10,); Fitness: 3.2095909118652344\n",
            "\n",
            "313/313 [==============================] - 1s 2ms/step - loss: 4.4340 - accuracy: 0.8429\n",
            "313/313 [==============================] - 1s 2ms/step - loss: 3.4637 - accuracy: 0.8792\n",
            "313/313 [==============================] - 1s 2ms/step - loss: 3.0442 - accuracy: 0.8976\n",
            "313/313 [==============================] - 1s 2ms/step - loss: 3.8728 - accuracy: 0.8729\n",
            "Gen 2, Best Individual: Individual:  (784, 512) (512,) (512, 10) (10,); Fitness: 3.0442283153533936\n",
            "\n",
            "313/313 [==============================] - 1s 2ms/step - loss: 4.4435 - accuracy: 0.8435\n",
            "313/313 [==============================] - 1s 2ms/step - loss: 3.3693 - accuracy: 0.8884\n",
            "313/313 [==============================] - 1s 2ms/step - loss: 4.7395 - accuracy: 0.8343\n",
            "313/313 [==============================] - 1s 2ms/step - loss: 3.0283 - accuracy: 0.8901\n",
            "Gen 3, Best Individual: Individual:  (784, 512) (512,) (512, 10) (10,); Fitness: 3.028310537338257\n",
            "\n",
            "313/313 [==============================] - 1s 2ms/step - loss: 4.5517 - accuracy: 0.8604\n",
            "313/313 [==============================] - 1s 2ms/step - loss: 4.7845 - accuracy: 0.8586\n",
            "313/313 [==============================] - 1s 2ms/step - loss: 6.7300 - accuracy: 0.8033\n",
            "313/313 [==============================] - 1s 2ms/step - loss: 7.5320 - accuracy: 0.7838\n",
            "Gen 4, Best Individual: Individual:  (784, 512) (512,) (512, 10) (10,); Fitness: 3.028310537338257\n",
            "\n",
            "Running GA iteration: 4\n",
            "313/313 [==============================] - 1s 2ms/step - loss: 6.0809 - accuracy: 0.8278\n",
            "313/313 [==============================] - 1s 2ms/step - loss: 3.9365 - accuracy: 0.8682\n",
            "313/313 [==============================] - 1s 2ms/step - loss: 12.3120 - accuracy: 0.6395\n",
            "313/313 [==============================] - 1s 2ms/step - loss: 6.2386 - accuracy: 0.8083\n",
            "313/313 [==============================] - 1s 2ms/step - loss: 7.5258 - accuracy: 0.7660\n",
            "313/313 [==============================] - 1s 2ms/step - loss: 5.7419 - accuracy: 0.8178\n",
            "313/313 [==============================] - 1s 2ms/step - loss: 7.0582 - accuracy: 0.7924\n",
            "313/313 [==============================] - 1s 2ms/step - loss: 14.3199 - accuracy: 0.6887\n",
            "Gen 1, Best Individual: Individual:  (784, 512) (512,) (512, 10) (10,); Fitness: 3.93648624420166\n",
            "\n",
            "313/313 [==============================] - 1s 2ms/step - loss: 3.0069 - accuracy: 0.8979\n",
            "313/313 [==============================] - 1s 2ms/step - loss: 3.6531 - accuracy: 0.8748\n",
            "313/313 [==============================] - 1s 2ms/step - loss: 8.8939 - accuracy: 0.7519\n",
            "313/313 [==============================] - 1s 2ms/step - loss: 5.5931 - accuracy: 0.8414\n",
            "Gen 2, Best Individual: Individual:  (784, 512) (512,) (512, 10) (10,); Fitness: 3.006880760192871\n",
            "\n",
            "313/313 [==============================] - 1s 2ms/step - loss: 4.5446 - accuracy: 0.8396\n",
            "313/313 [==============================] - 1s 2ms/step - loss: 2.9300 - accuracy: 0.8939\n",
            "313/313 [==============================] - 1s 2ms/step - loss: 5.7327 - accuracy: 0.7978\n",
            "313/313 [==============================] - 1s 2ms/step - loss: 4.2728 - accuracy: 0.8537\n",
            "Gen 3, Best Individual: Individual:  (784, 512) (512,) (512, 10) (10,); Fitness: 2.9299533367156982\n",
            "\n",
            "313/313 [==============================] - 1s 2ms/step - loss: 4.1545 - accuracy: 0.8606\n",
            "313/313 [==============================] - 1s 2ms/step - loss: 3.7160 - accuracy: 0.8795\n",
            "313/313 [==============================] - 1s 2ms/step - loss: 3.6041 - accuracy: 0.8778\n",
            "313/313 [==============================] - 1s 2ms/step - loss: 4.5156 - accuracy: 0.8457\n",
            "Gen 4, Best Individual: Individual:  (784, 512) (512,) (512, 10) (10,); Fitness: 2.9299533367156982\n",
            "\n"
          ]
        }
      ]
    },
    {
      "cell_type": "code",
      "source": [
        "all_runs_best_fitness = []\n",
        "\n",
        "for i in range(4):\n",
        "    print(f\"Running GA iteration: {i + 1}\")\n",
        "    # Create a population\n",
        "    pop = Population(size=4, optim='min')\n",
        "    # Reset best_fitness_list for each run\n",
        "    best_fitness_list = []\n",
        "    # Train the population\n",
        "    pop.evolve(gens=4,\n",
        "               select=tournament_sel,\n",
        "               mutate=inversion_mutation,\n",
        "               crossover=arithmetic_xo,\n",
        "               mut_prob=0.01,\n",
        "               xo_prob=0.9,\n",
        "               elitism=True)\n",
        "    all_runs_best_fitness.append(pop.best_fitnesses)\n",
        "\n",
        "# Calculate the mean fitness for each generation across all runs\n",
        "inversion_mean_fitness_per_generation = [np.mean([run[i] for run in all_runs_best_fitness]) for i in range(len(all_runs_best_fitness[0]))]\n",
        "inversion_median_fitness_per_generation = [np.median([run[i] for run in all_runs_best_fitness]) for i in range(len(all_runs_best_fitness[0]))]"
      ],
      "metadata": {
        "colab": {
          "base_uri": "https://localhost:8080/"
        },
        "id": "wMsW6llst2Xu",
        "outputId": "81a425d2-0406-4e9a-83d0-054a2b2b7a99"
      },
      "execution_count": 18,
      "outputs": [
        {
          "output_type": "stream",
          "name": "stdout",
          "text": [
            "Running GA iteration: 1\n",
            "313/313 [==============================] - 1s 2ms/step - loss: 4.3605 - accuracy: 0.8606\n",
            "313/313 [==============================] - 1s 2ms/step - loss: 5.7439 - accuracy: 0.8298\n",
            "313/313 [==============================] - 1s 2ms/step - loss: 2.7936 - accuracy: 0.9079\n",
            "313/313 [==============================] - 1s 2ms/step - loss: 7.8744 - accuracy: 0.7930\n",
            "313/313 [==============================] - 1s 2ms/step - loss: 6.3122 - accuracy: 0.8104\n",
            "313/313 [==============================] - 1s 2ms/step - loss: 3.8055 - accuracy: 0.8597\n",
            "313/313 [==============================] - 1s 2ms/step - loss: 6.5367 - accuracy: 0.7843\n",
            "313/313 [==============================] - 1s 2ms/step - loss: 7.3016 - accuracy: 0.7796\n",
            "Gen 1, Best Individual: Individual:  (784, 512) (512,) (512, 10) (10,); Fitness: 2.793621301651001\n",
            "\n",
            "313/313 [==============================] - 1s 2ms/step - loss: 6.0808 - accuracy: 0.8093\n",
            "313/313 [==============================] - 1s 2ms/step - loss: 2.6199 - accuracy: 0.9110\n",
            "313/313 [==============================] - 1s 2ms/step - loss: 5.0719 - accuracy: 0.8127\n",
            "313/313 [==============================] - 1s 2ms/step - loss: 7.3152 - accuracy: 0.7887\n",
            "Gen 2, Best Individual: Individual:  (784, 512) (512,) (512, 10) (10,); Fitness: 2.6199393272399902\n",
            "\n",
            "313/313 [==============================] - 1s 2ms/step - loss: 4.0470 - accuracy: 0.8575\n",
            "313/313 [==============================] - 1s 2ms/step - loss: 3.8902 - accuracy: 0.8628\n",
            "313/313 [==============================] - 1s 2ms/step - loss: 4.0073 - accuracy: 0.8642\n",
            "313/313 [==============================] - 1s 2ms/step - loss: 5.0959 - accuracy: 0.8422\n",
            "Gen 3, Best Individual: Individual:  (784, 512) (512,) (512, 10) (10,); Fitness: 2.6199393272399902\n",
            "\n",
            "313/313 [==============================] - 1s 2ms/step - loss: 3.9619 - accuracy: 0.8680\n",
            "313/313 [==============================] - 1s 2ms/step - loss: 3.8452 - accuracy: 0.8630\n",
            "313/313 [==============================] - 1s 2ms/step - loss: 4.9502 - accuracy: 0.8414\n",
            "313/313 [==============================] - 1s 2ms/step - loss: 4.5997 - accuracy: 0.8477\n",
            "Gen 4, Best Individual: Individual:  (784, 512) (512,) (512, 10) (10,); Fitness: 2.6199393272399902\n",
            "\n",
            "Running GA iteration: 2\n",
            "313/313 [==============================] - 1s 2ms/step - loss: 5.2543 - accuracy: 0.8362\n",
            "313/313 [==============================] - 1s 2ms/step - loss: 6.1925 - accuracy: 0.8018\n",
            "313/313 [==============================] - 1s 2ms/step - loss: 8.5215 - accuracy: 0.7704\n",
            "313/313 [==============================] - 1s 2ms/step - loss: 7.5307 - accuracy: 0.7910\n",
            "313/313 [==============================] - 1s 2ms/step - loss: 6.5230 - accuracy: 0.7915\n",
            "313/313 [==============================] - 1s 2ms/step - loss: 7.6089 - accuracy: 0.7866\n",
            "313/313 [==============================] - 1s 2ms/step - loss: 5.6051 - accuracy: 0.8262\n",
            "313/313 [==============================] - 1s 2ms/step - loss: 3.6714 - accuracy: 0.8882\n",
            "Gen 1, Best Individual: Individual:  (784, 512) (512,) (512, 10) (10,); Fitness: 3.671436309814453\n",
            "\n",
            "313/313 [==============================] - 1s 2ms/step - loss: 9.8382 - accuracy: 0.7070\n",
            "313/313 [==============================] - 1s 2ms/step - loss: 3.3192 - accuracy: 0.8946\n",
            "313/313 [==============================] - 1s 2ms/step - loss: 8.1756 - accuracy: 0.7577\n",
            "313/313 [==============================] - 1s 2ms/step - loss: 3.1772 - accuracy: 0.8921\n",
            "Gen 2, Best Individual: Individual:  (784, 512) (512,) (512, 10) (10,); Fitness: 3.1771857738494873\n",
            "\n",
            "313/313 [==============================] - 1s 2ms/step - loss: 3.7991 - accuracy: 0.8741\n",
            "313/313 [==============================] - 1s 2ms/step - loss: 3.7793 - accuracy: 0.8798\n",
            "313/313 [==============================] - 1s 2ms/step - loss: 4.3381 - accuracy: 0.8654\n",
            "313/313 [==============================] - 1s 2ms/step - loss: 3.4089 - accuracy: 0.8854\n",
            "Gen 3, Best Individual: Individual:  (784, 512) (512,) (512, 10) (10,); Fitness: 3.1771857738494873\n",
            "\n",
            "313/313 [==============================] - 1s 2ms/step - loss: 5.6054 - accuracy: 0.8367\n",
            "313/313 [==============================] - 1s 2ms/step - loss: 6.1349 - accuracy: 0.7957\n",
            "313/313 [==============================] - 1s 2ms/step - loss: 6.2120 - accuracy: 0.8138\n",
            "313/313 [==============================] - 1s 2ms/step - loss: 3.9222 - accuracy: 0.8640\n",
            "Gen 4, Best Individual: Individual:  (784, 512) (512,) (512, 10) (10,); Fitness: 3.1771857738494873\n",
            "\n",
            "Running GA iteration: 3\n",
            "313/313 [==============================] - 1s 2ms/step - loss: 3.9334 - accuracy: 0.8670\n",
            "313/313 [==============================] - 1s 2ms/step - loss: 7.5113 - accuracy: 0.7821\n",
            "313/313 [==============================] - 1s 2ms/step - loss: 5.5314 - accuracy: 0.8362\n",
            "313/313 [==============================] - 1s 2ms/step - loss: 6.9086 - accuracy: 0.8048\n",
            "313/313 [==============================] - 1s 2ms/step - loss: 13.0411 - accuracy: 0.6406\n",
            "313/313 [==============================] - 1s 2ms/step - loss: 3.3874 - accuracy: 0.8806\n",
            "313/313 [==============================] - 1s 2ms/step - loss: 3.2693 - accuracy: 0.8728\n",
            "313/313 [==============================] - 1s 2ms/step - loss: 5.9198 - accuracy: 0.7958\n",
            "Gen 1, Best Individual: Individual:  (784, 512) (512,) (512, 10) (10,); Fitness: 3.269308090209961\n",
            "\n",
            "313/313 [==============================] - 1s 2ms/step - loss: 4.8129 - accuracy: 0.8297\n",
            "313/313 [==============================] - 1s 2ms/step - loss: 3.8557 - accuracy: 0.8629\n",
            "313/313 [==============================] - 1s 2ms/step - loss: 4.8433 - accuracy: 0.8402\n",
            "313/313 [==============================] - 1s 2ms/step - loss: 5.0446 - accuracy: 0.8350\n",
            "Gen 2, Best Individual: Individual:  (784, 512) (512,) (512, 10) (10,); Fitness: 3.269308090209961\n",
            "\n",
            "313/313 [==============================] - 1s 2ms/step - loss: 3.1260 - accuracy: 0.8894\n",
            "313/313 [==============================] - 1s 2ms/step - loss: 3.4906 - accuracy: 0.8862\n",
            "313/313 [==============================] - 1s 2ms/step - loss: 6.1511 - accuracy: 0.8014\n",
            "313/313 [==============================] - 1s 2ms/step - loss: 17.6508 - accuracy: 0.6117\n",
            "Gen 3, Best Individual: Individual:  (784, 512) (512,) (512, 10) (10,); Fitness: 3.1259846687316895\n",
            "\n",
            "313/313 [==============================] - 1s 2ms/step - loss: 4.1560 - accuracy: 0.8460\n",
            "313/313 [==============================] - 1s 2ms/step - loss: 6.6044 - accuracy: 0.7715\n",
            "313/313 [==============================] - 1s 2ms/step - loss: 6.0965 - accuracy: 0.8060\n",
            "313/313 [==============================] - 1s 2ms/step - loss: 3.2849 - accuracy: 0.8790\n",
            "Gen 4, Best Individual: Individual:  (784, 512) (512,) (512, 10) (10,); Fitness: 3.1259846687316895\n",
            "\n",
            "Running GA iteration: 4\n",
            "313/313 [==============================] - 1s 2ms/step - loss: 3.7931 - accuracy: 0.8674\n",
            "313/313 [==============================] - 1s 2ms/step - loss: 4.9875 - accuracy: 0.8380\n",
            "313/313 [==============================] - 1s 2ms/step - loss: 4.7209 - accuracy: 0.8264\n",
            "313/313 [==============================] - 1s 2ms/step - loss: 4.6403 - accuracy: 0.8476\n",
            "313/313 [==============================] - 1s 2ms/step - loss: 4.2508 - accuracy: 0.8578\n",
            "313/313 [==============================] - 1s 2ms/step - loss: 3.0077 - accuracy: 0.8978\n",
            "313/313 [==============================] - 1s 2ms/step - loss: 5.5938 - accuracy: 0.8311\n",
            "313/313 [==============================] - 1s 2ms/step - loss: 3.9175 - accuracy: 0.8684\n",
            "Gen 1, Best Individual: Individual:  (784, 512) (512,) (512, 10) (10,); Fitness: 3.00770902633667\n",
            "\n",
            "313/313 [==============================] - 1s 2ms/step - loss: 3.2963 - accuracy: 0.8846\n",
            "313/313 [==============================] - 1s 2ms/step - loss: 6.2105 - accuracy: 0.8131\n",
            "313/313 [==============================] - 1s 2ms/step - loss: 3.2047 - accuracy: 0.8935\n",
            "313/313 [==============================] - 1s 2ms/step - loss: 4.1740 - accuracy: 0.8591\n",
            "Gen 2, Best Individual: Individual:  (784, 512) (512,) (512, 10) (10,); Fitness: 3.00770902633667\n",
            "\n",
            "313/313 [==============================] - 1s 2ms/step - loss: 5.8313 - accuracy: 0.8218\n",
            "313/313 [==============================] - 1s 2ms/step - loss: 4.4143 - accuracy: 0.8575\n",
            "313/313 [==============================] - 1s 2ms/step - loss: 5.4893 - accuracy: 0.8411\n",
            "313/313 [==============================] - 1s 2ms/step - loss: 3.7907 - accuracy: 0.8785\n",
            "Gen 3, Best Individual: Individual:  (784, 512) (512,) (512, 10) (10,); Fitness: 3.00770902633667\n",
            "\n",
            "313/313 [==============================] - 1s 2ms/step - loss: 3.4429 - accuracy: 0.8830\n",
            "313/313 [==============================] - 1s 2ms/step - loss: 3.7796 - accuracy: 0.8745\n",
            "313/313 [==============================] - 1s 2ms/step - loss: 4.7895 - accuracy: 0.8367\n",
            "313/313 [==============================] - 1s 2ms/step - loss: 6.5261 - accuracy: 0.8036\n",
            "Gen 4, Best Individual: Individual:  (784, 512) (512,) (512, 10) (10,); Fitness: 3.00770902633667\n",
            "\n"
          ]
        }
      ]
    },
    {
      "cell_type": "code",
      "source": [
        "data = {\n",
        "    'swap_average': swap_mean_fitness_per_generation,\n",
        "    'inversion_avegare': inversion_mean_fitness_per_generation,\n",
        "    'swap_median': swap_median_fitness_per_generation,\n",
        "    'inversion_median': inversion_median_fitness_per_generation\n",
        "}\n",
        "\n",
        "df = pd.DataFrame(data)\n",
        "\n",
        "print(df)"
      ],
      "metadata": {
        "colab": {
          "base_uri": "https://localhost:8080/"
        },
        "id": "n1xM2rYVu8Dk",
        "outputId": "50b758ce-9ded-49a2-9582-6d9bbc17765d"
      },
      "execution_count": 19,
      "outputs": [
        {
          "output_type": "stream",
          "name": "stdout",
          "text": [
            "   swap_average  inversion_avegare  swap_median  inversion_median\n",
            "0      3.179586           3.185519     3.005101          3.138509\n",
            "1      2.905844           3.018536     2.903746          3.092447\n",
            "2      2.882633           2.982705     2.865282          3.066847\n",
            "3      2.882633           2.982705     2.865282          3.066847\n"
          ]
        }
      ]
    }
  ]
}