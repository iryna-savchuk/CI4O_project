{
  "nbformat": 4,
  "nbformat_minor": 0,
  "metadata": {
    "colab": {
      "provenance": [],
      "machine_shape": "hm",
      "gpuType": "V100",
      "toc_visible": true,
      "authorship_tag": "ABX9TyMhX+XStKkutoT14zvtimVJ",
      "include_colab_link": true
    },
    "kernelspec": {
      "name": "python3",
      "display_name": "Python 3"
    },
    "language_info": {
      "name": "python"
    },
    "accelerator": "GPU",
    "gpuClass": "standard"
  },
  "cells": [
    {
      "cell_type": "markdown",
      "metadata": {
        "id": "view-in-github",
        "colab_type": "text"
      },
      "source": [
        "<a href=\"https://colab.research.google.com/github/iryna-savchuk/CI4O_project/blob/experiments/CIFO_Project_.ipynb\" target=\"_parent\"><img src=\"https://colab.research.google.com/assets/colab-badge.svg\" alt=\"Open In Colab\"/></a>"
      ]
    },
    {
      "cell_type": "markdown",
      "source": [
        "# Importing Libraries"
      ],
      "metadata": {
        "id": "h70GrLNpKHLo"
      }
    },
    {
      "cell_type": "code",
      "source": [
        "# Append Charles Library, we can do this by cloning the gitbug\n",
        "# !git clone https://github.com/iryna-savchuk/CI4O_project.git\n",
        "\n",
        "#import sys\n",
        "#sys.path.append('/content/CI4O_project')"
      ],
      "metadata": {
        "id": "h18QOYVUsewH"
      },
      "execution_count": null,
      "outputs": []
    },
    {
      "cell_type": "code",
      "execution_count": 1,
      "metadata": {
        "colab": {
          "base_uri": "https://localhost:8080/"
        },
        "id": "4gfSBVkhq57B",
        "outputId": "83c2bef7-62b1-4a03-d53f-e8065b48e7af"
      },
      "outputs": [
        {
          "output_type": "stream",
          "name": "stdout",
          "text": [
            "Mounted at /content/gdrive/\n"
          ]
        }
      ],
      "source": [
        "# Append Charles Library\n",
        "from google.colab import drive\n",
        "drive.mount('/content/gdrive/')"
      ]
    },
    {
      "cell_type": "code",
      "source": [
        "import sys\n",
        "sys.path.append('/content/gdrive/MyDrive/CIFO_Project')"
      ],
      "metadata": {
        "id": "eo4Sd3hVq9Ww"
      },
      "execution_count": 2,
      "outputs": []
    },
    {
      "cell_type": "markdown",
      "source": [
        "# Import Libraries"
      ],
      "metadata": {
        "id": "0zkObgHi6oaG"
      }
    },
    {
      "cell_type": "code",
      "source": [
        "# Import charles library\n",
        "from data.mnist_data import train_images, train_labels\n",
        "from charles.charles import Population, Individual\n",
        "from charles.selection import tournament_sel, fps\n",
        "from charles.crossover import arithmetic_xo\n",
        "from charles.mutation import inversion_mutation, arithmetic_mutation"
      ],
      "metadata": {
        "id": "QVstw8PNsE2B",
        "colab": {
          "base_uri": "https://localhost:8080/"
        },
        "outputId": "f9578f93-c9ae-49df-9a27-ad3ae47968d3"
      },
      "execution_count": 3,
      "outputs": [
        {
          "output_type": "stream",
          "name": "stdout",
          "text": [
            "Downloading data from https://storage.googleapis.com/tensorflow/tf-keras-datasets/mnist.npz\n",
            "11490434/11490434 [==============================] - 1s 0us/step\n"
          ]
        }
      ]
    },
    {
      "cell_type": "code",
      "source": [
        "# Import others libraries\n",
        "import numpy as np\n",
        "from tensorflow.keras import Sequential, layers\n",
        "import csv\n",
        "import sys"
      ],
      "metadata": {
        "id": "QifIl9litDrJ"
      },
      "execution_count": 4,
      "outputs": []
    },
    {
      "cell_type": "markdown",
      "source": [
        "# Define Model and Fitness Function"
      ],
      "metadata": {
        "id": "Jakf592FKXfn"
      }
    },
    {
      "cell_type": "code",
      "source": [
        "def get_fitness(self):\n",
        "    input = self.representation[\"input\"]\n",
        "    hidden = self.representation[\"hidden\"]\n",
        "    output = self.representation[\"output\"]\n",
        "\n",
        "    # Defining the architecture of a neural network\n",
        "    nn = Sequential([\n",
        "        layers.Dense(hidden, activation=\"relu\", input_shape=(input,)),\n",
        "        layers.Dense(output, activation=\"softmax\")\n",
        "    ])\n",
        "    current_weights = np.array(self.representation[\"weights\"])\n",
        "    weights_1 = current_weights[:input * hidden].reshape(input, hidden)\n",
        "    biases_1 = current_weights[input * hidden:input * hidden + hidden].reshape(hidden, )\n",
        "    weights_2 = current_weights[input * hidden + hidden:input * hidden + hidden + hidden * output].reshape(hidden, output)\n",
        "    biases_2 = current_weights[input * hidden + hidden + hidden * output:].reshape(output, )\n",
        "\n",
        "    # Setting the weights of the model\n",
        "    nn.set_weights([weights_1, biases_1, weights_2, biases_2])\n",
        "\n",
        "    # Compiling the model\n",
        "    nn.compile(loss='categorical_crossentropy', metrics=[\"accuracy\"])\n",
        "\n",
        "    train_loss, train_acc = nn.evaluate(train_images, train_labels)\n",
        "    return train_acc"
      ],
      "metadata": {
        "id": "z088BeWGteO5"
      },
      "execution_count": 5,
      "outputs": []
    },
    {
      "cell_type": "code",
      "source": [
        "# Monkey patching\n",
        "Individual.get_fitness = get_fitness"
      ],
      "metadata": {
        "id": "47l6SFGytofG"
      },
      "execution_count": 6,
      "outputs": []
    },
    {
      "cell_type": "markdown",
      "source": [
        "# Define funtion to run the model"
      ],
      "metadata": {
        "id": "BomUM0yD6z2V"
      }
    },
    {
      "cell_type": "code",
      "source": [
        "def run_evolution(run, pop_size, gens, select, crossover, mutate, xo_prob, mut_prob, elitism, tourn_size, filename):\n",
        "    for i in range(run):\n",
        "        print(f\"Running GA iteration: {i + 1}\")\n",
        "        # Generating Population\n",
        "        pop = Population(\n",
        "            size=pop_size,\n",
        "            sol_input=28 * 28,\n",
        "            sol_hidden=512,\n",
        "            sol_output=10,\n",
        "            valid_range=[-1, 1],\n",
        "            optim=\"max\")\n",
        "\n",
        "        print(pop.individuals)\n",
        "        # print(pop.individuals[0].representation)\n",
        "\n",
        "        # Running evolution iterations\n",
        "        print('Evolving...')\n",
        "        pop.evolve(gens=gens,\n",
        "                   select=select, mutate= mutate, crossover=crossover,\n",
        "                   mut_prob=mut_prob, xo_prob=xo_prob,\n",
        "                   elitism=elitism,\n",
        "                   tourn_size=tourn_size)\n",
        "        all_runs_best_fitness.append(pop.best_fitnesses)\n",
        "\n",
        "    # Writing to CSV\n",
        "    with open(filename, 'w', newline='') as csvfile:\n",
        "        writer = csv.writer(csvfile)\n",
        "        writer.writerow(['Best_fitness'])  # header\n",
        "        for fitness in all_runs_best_fitness:\n",
        "            writer.writerow([fitness])\n",
        "\n",
        "    print(f\"All best fitness, from each generation, from each run have been saved to {filename}\")"
      ],
      "metadata": {
        "id": "psY0dtk565IX"
      },
      "execution_count": 7,
      "outputs": []
    },
    {
      "cell_type": "markdown",
      "source": [
        "# Running the models"
      ],
      "metadata": {
        "id": "i4PnBMj5Kfds"
      }
    },
    {
      "cell_type": "markdown",
      "source": [
        "## 1. Tournament Selection"
      ],
      "metadata": {
        "id": "cs8V5CDkKiAY"
      }
    },
    {
      "cell_type": "markdown",
      "source": [
        "## Tournament Size = 4"
      ],
      "metadata": {
        "id": "3ZMm1c0ryz_S"
      }
    },
    {
      "cell_type": "markdown",
      "source": [
        "### Inversion_mutation with xo_prob 90% and mut_prob 30%"
      ],
      "metadata": {
        "id": "hGJHt8DlLG8d"
      }
    },
    {
      "cell_type": "code",
      "source": [
        "all_runs_best_fitness = []\n",
        "run_evolution(run = 4, pop_size = 4, gens = 4, select = tournament_sel, crossover= arithmetic_xo, mutate= inversion_mutation,\n",
        "              xo_prob= 0.9, mut_prob= 0.3, elitism= True, tourn_size= 4, filename = '/content/gdrive/MyDrive/CIFO_Project/toun_4_inversion_90_30.csv')"
      ],
      "metadata": {
        "colab": {
          "base_uri": "https://localhost:8080/"
        },
        "id": "yomX6URJtNKW",
        "outputId": "7b1cc1ef-5f86-4a8d-9a8d-348471f22acb"
      },
      "execution_count": 8,
      "outputs": [
        {
          "output_type": "stream",
          "name": "stdout",
          "text": [
            "Running GA iteration: 1\n",
            "Generating initial population...\n"
          ]
        },
        {
          "output_type": "stream",
          "name": "stderr",
          "text": [
            "\r  0%|          | 0/4 [00:00<?, ?it/s]"
          ]
        },
        {
          "output_type": "stream",
          "name": "stdout",
          "text": [
            "1875/1875 [==============================] - 7s 2ms/step - loss: 76.5112 - accuracy: 0.1050\n"
          ]
        },
        {
          "output_type": "stream",
          "name": "stderr",
          "text": [
            "\r 25%|██▌       | 1/4 [00:10<00:31, 10.43s/it]"
          ]
        },
        {
          "output_type": "stream",
          "name": "stdout",
          "text": [
            "1875/1875 [==============================] - 3s 2ms/step - loss: 85.4879 - accuracy: 0.0835\n"
          ]
        },
        {
          "output_type": "stream",
          "name": "stderr",
          "text": [
            "\r 50%|█████     | 2/4 [00:14<00:13,  6.53s/it]"
          ]
        },
        {
          "output_type": "stream",
          "name": "stdout",
          "text": [
            "1875/1875 [==============================] - 3s 2ms/step - loss: 81.6818 - accuracy: 0.0897\n"
          ]
        },
        {
          "output_type": "stream",
          "name": "stderr",
          "text": [
            "\r 75%|███████▌  | 3/4 [00:18<00:05,  5.29s/it]"
          ]
        },
        {
          "output_type": "stream",
          "name": "stdout",
          "text": [
            "1875/1875 [==============================] - 4s 2ms/step - loss: 77.4629 - accuracy: 0.0593\n"
          ]
        },
        {
          "output_type": "stream",
          "name": "stderr",
          "text": [
            "100%|██████████| 4/4 [00:22<00:00,  5.55s/it]\n"
          ]
        },
        {
          "output_type": "stream",
          "name": "stdout",
          "text": [
            "[\n",
            "Individual: 784, 512, 10; Fitness: 0.10499999672174454, \n",
            "Individual: 784, 512, 10; Fitness: 0.08354999870061874, \n",
            "Individual: 784, 512, 10; Fitness: 0.08971666544675827, \n",
            "Individual: 784, 512, 10; Fitness: 0.059333331882953644]\n",
            "Evolving...\n"
          ]
        },
        {
          "output_type": "stream",
          "name": "stderr",
          "text": [
            "\r  0%|          | 0/4 [00:00<?, ?it/s]"
          ]
        },
        {
          "output_type": "stream",
          "name": "stdout",
          "text": [
            "Starting Generation  1 ...\n",
            "1875/1875 [==============================] - 3s 2ms/step - loss: 59.7073 - accuracy: 0.0834\n",
            "1875/1875 [==============================] - 3s 2ms/step - loss: 54.4548 - accuracy: 0.1111\n",
            "1875/1875 [==============================] - 3s 2ms/step - loss: 52.6057 - accuracy: 0.1022\n",
            "1875/1875 [==============================] - 3s 2ms/step - loss: 65.6288 - accuracy: 0.0840\n"
          ]
        },
        {
          "output_type": "stream",
          "name": "stderr",
          "text": [
            "\r 25%|██▌       | 1/4 [00:17<00:53, 17.71s/it]"
          ]
        },
        {
          "output_type": "stream",
          "name": "stdout",
          "text": [
            "Results for Generation >>>  1\n",
            "Best Individual: \n",
            "Individual: 784, 512, 10; Fitness: 0.11110000312328339\n",
            "Starting Generation  2 ...\n",
            "1875/1875 [==============================] - 3s 2ms/step - loss: 56.2050 - accuracy: 0.1064\n",
            "1875/1875 [==============================] - 3s 2ms/step - loss: 60.9876 - accuracy: 0.1006\n",
            "1875/1875 [==============================] - 3s 2ms/step - loss: 54.4548 - accuracy: 0.1111\n",
            "1875/1875 [==============================] - 3s 2ms/step - loss: 55.6003 - accuracy: 0.0732\n"
          ]
        },
        {
          "output_type": "stream",
          "name": "stderr",
          "text": [
            "\r 50%|█████     | 2/4 [00:35<00:35, 17.89s/it]"
          ]
        },
        {
          "output_type": "stream",
          "name": "stdout",
          "text": [
            "Results for Generation >>>  2\n",
            "Best Individual: \n",
            "Individual: 784, 512, 10; Fitness: 0.11110000312328339\n",
            "Starting Generation  3 ...\n",
            "1875/1875 [==============================] - 3s 2ms/step - loss: 54.4548 - accuracy: 0.1111\n",
            "1875/1875 [==============================] - 3s 2ms/step - loss: 54.4548 - accuracy: 0.1111\n",
            "1875/1875 [==============================] - 4s 2ms/step - loss: 54.4548 - accuracy: 0.1111\n",
            "1875/1875 [==============================] - 3s 2ms/step - loss: 54.4548 - accuracy: 0.1111\n"
          ]
        },
        {
          "output_type": "stream",
          "name": "stderr",
          "text": [
            "\r 75%|███████▌  | 3/4 [00:53<00:17, 17.85s/it]"
          ]
        },
        {
          "output_type": "stream",
          "name": "stdout",
          "text": [
            "Results for Generation >>>  3\n",
            "Best Individual: \n",
            "Individual: 784, 512, 10; Fitness: 0.11110000312328339\n",
            "Starting Generation  4 ...\n",
            "1875/1875 [==============================] - 3s 2ms/step - loss: 54.4548 - accuracy: 0.1111\n",
            "1875/1875 [==============================] - 3s 2ms/step - loss: 54.4548 - accuracy: 0.1111\n",
            "1875/1875 [==============================] - 3s 2ms/step - loss: 54.4548 - accuracy: 0.1111\n",
            "1875/1875 [==============================] - 4s 2ms/step - loss: 54.4548 - accuracy: 0.1111\n"
          ]
        },
        {
          "output_type": "stream",
          "name": "stderr",
          "text": [
            "100%|██████████| 4/4 [01:13<00:00, 18.41s/it]\n"
          ]
        },
        {
          "output_type": "stream",
          "name": "stdout",
          "text": [
            "Results for Generation >>>  4\n",
            "Best Individual: \n",
            "Individual: 784, 512, 10; Fitness: 0.11110000312328339\n",
            "Running GA iteration: 2\n",
            "Generating initial population...\n"
          ]
        },
        {
          "output_type": "stream",
          "name": "stderr",
          "text": [
            "\r  0%|          | 0/4 [00:00<?, ?it/s]"
          ]
        },
        {
          "output_type": "stream",
          "name": "stdout",
          "text": [
            "1875/1875 [==============================] - 3s 2ms/step - loss: 102.1535 - accuracy: 0.0839\n"
          ]
        },
        {
          "output_type": "stream",
          "name": "stderr",
          "text": [
            "\r 25%|██▌       | 1/4 [00:03<00:11,  3.82s/it]"
          ]
        },
        {
          "output_type": "stream",
          "name": "stdout",
          "text": [
            "1875/1875 [==============================] - 3s 2ms/step - loss: 84.7904 - accuracy: 0.1054\n"
          ]
        },
        {
          "output_type": "stream",
          "name": "stderr",
          "text": [
            "\r 50%|█████     | 2/4 [00:07<00:07,  3.90s/it]"
          ]
        },
        {
          "output_type": "stream",
          "name": "stdout",
          "text": [
            "1875/1875 [==============================] - 4s 2ms/step - loss: 63.9233 - accuracy: 0.1239\n"
          ]
        },
        {
          "output_type": "stream",
          "name": "stderr",
          "text": [
            "\r 75%|███████▌  | 3/4 [00:11<00:04,  4.04s/it]"
          ]
        },
        {
          "output_type": "stream",
          "name": "stdout",
          "text": [
            "1875/1875 [==============================] - 3s 2ms/step - loss: 69.2501 - accuracy: 0.0996\n"
          ]
        },
        {
          "output_type": "stream",
          "name": "stderr",
          "text": [
            "100%|██████████| 4/4 [00:15<00:00,  3.96s/it]\n"
          ]
        },
        {
          "output_type": "stream",
          "name": "stdout",
          "text": [
            "[\n",
            "Individual: 784, 512, 10; Fitness: 0.08389999717473984, \n",
            "Individual: 784, 512, 10; Fitness: 0.10535000264644623, \n",
            "Individual: 784, 512, 10; Fitness: 0.1239333301782608, \n",
            "Individual: 784, 512, 10; Fitness: 0.09963333606719971]\n",
            "Evolving...\n"
          ]
        },
        {
          "output_type": "stream",
          "name": "stderr",
          "text": [
            "\r  0%|          | 0/4 [00:00<?, ?it/s]"
          ]
        },
        {
          "output_type": "stream",
          "name": "stdout",
          "text": [
            "Starting Generation  1 ...\n",
            "1875/1875 [==============================] - 3s 2ms/step - loss: 69.2501 - accuracy: 0.0996\n",
            "1875/1875 [==============================] - 4s 2ms/step - loss: 69.2501 - accuracy: 0.0996\n",
            "1875/1875 [==============================] - 3s 2ms/step - loss: 89.2363 - accuracy: 0.0745\n",
            "1875/1875 [==============================] - 3s 2ms/step - loss: 89.2363 - accuracy: 0.0745\n"
          ]
        },
        {
          "output_type": "stream",
          "name": "stderr",
          "text": [
            "\r 25%|██▌       | 1/4 [00:15<00:47, 15.75s/it]"
          ]
        },
        {
          "output_type": "stream",
          "name": "stdout",
          "text": [
            "Results for Generation >>>  1\n",
            "Best Individual: \n",
            "Individual: 784, 512, 10; Fitness: 0.1239333301782608\n",
            "Starting Generation  2 ...\n",
            "1875/1875 [==============================] - 3s 2ms/step - loss: 65.2679 - accuracy: 0.0820\n",
            "1875/1875 [==============================] - 3s 2ms/step - loss: 63.9233 - accuracy: 0.1239\n",
            "1875/1875 [==============================] - 3s 2ms/step - loss: 43.8219 - accuracy: 0.1028\n",
            "1875/1875 [==============================] - 3s 2ms/step - loss: 41.3830 - accuracy: 0.1020\n"
          ]
        },
        {
          "output_type": "stream",
          "name": "stderr",
          "text": [
            "\r 50%|█████     | 2/4 [00:31<00:31, 15.99s/it]"
          ]
        },
        {
          "output_type": "stream",
          "name": "stdout",
          "text": [
            "Results for Generation >>>  2\n",
            "Best Individual: \n",
            "Individual: 784, 512, 10; Fitness: 0.1239333301782608\n",
            "Starting Generation  3 ...\n",
            "1875/1875 [==============================] - 3s 2ms/step - loss: 63.9233 - accuracy: 0.1239\n",
            "1875/1875 [==============================] - 3s 2ms/step - loss: 63.9233 - accuracy: 0.1239\n",
            "1875/1875 [==============================] - 3s 2ms/step - loss: 44.8400 - accuracy: 0.1078\n",
            "1875/1875 [==============================] - 3s 2ms/step - loss: 30.6672 - accuracy: 0.0988\n"
          ]
        },
        {
          "output_type": "stream",
          "name": "stderr",
          "text": [
            "\r 75%|███████▌  | 3/4 [00:47<00:16, 16.01s/it]"
          ]
        },
        {
          "output_type": "stream",
          "name": "stdout",
          "text": [
            "Results for Generation >>>  3\n",
            "Best Individual: \n",
            "Individual: 784, 512, 10; Fitness: 0.1239333301782608\n",
            "Starting Generation  4 ...\n",
            "1875/1875 [==============================] - 3s 2ms/step - loss: 63.9233 - accuracy: 0.1239\n",
            "1875/1875 [==============================] - 4s 2ms/step - loss: 67.7115 - accuracy: 0.1225\n",
            "1875/1875 [==============================] - 3s 2ms/step - loss: 63.4218 - accuracy: 0.0906\n",
            "1875/1875 [==============================] - 3s 2ms/step - loss: 63.4962 - accuracy: 0.1278\n"
          ]
        },
        {
          "output_type": "stream",
          "name": "stderr",
          "text": [
            "100%|██████████| 4/4 [01:08<00:00, 17.10s/it]\n"
          ]
        },
        {
          "output_type": "stream",
          "name": "stdout",
          "text": [
            "Results for Generation >>>  4\n",
            "Best Individual: \n",
            "Individual: 784, 512, 10; Fitness: 0.1277666687965393\n",
            "Running GA iteration: 3\n",
            "Generating initial population...\n"
          ]
        },
        {
          "output_type": "stream",
          "name": "stderr",
          "text": [
            "\r  0%|          | 0/4 [00:00<?, ?it/s]"
          ]
        },
        {
          "output_type": "stream",
          "name": "stdout",
          "text": [
            "1875/1875 [==============================] - 4s 2ms/step - loss: 76.3721 - accuracy: 0.1073\n"
          ]
        },
        {
          "output_type": "stream",
          "name": "stderr",
          "text": [
            "\r 25%|██▌       | 1/4 [00:04<00:12,  4.14s/it]"
          ]
        },
        {
          "output_type": "stream",
          "name": "stdout",
          "text": [
            "1875/1875 [==============================] - 3s 2ms/step - loss: 78.1635 - accuracy: 0.0900\n"
          ]
        },
        {
          "output_type": "stream",
          "name": "stderr",
          "text": [
            "\r 50%|█████     | 2/4 [00:10<00:10,  5.16s/it]"
          ]
        },
        {
          "output_type": "stream",
          "name": "stdout",
          "text": [
            "1875/1875 [==============================] - 3s 2ms/step - loss: 75.4308 - accuracy: 0.0743\n"
          ]
        },
        {
          "output_type": "stream",
          "name": "stderr",
          "text": [
            "\r 75%|███████▌  | 3/4 [00:13<00:04,  4.61s/it]"
          ]
        },
        {
          "output_type": "stream",
          "name": "stdout",
          "text": [
            "1875/1875 [==============================] - 3s 2ms/step - loss: 81.5142 - accuracy: 0.0933\n"
          ]
        },
        {
          "output_type": "stream",
          "name": "stderr",
          "text": [
            "100%|██████████| 4/4 [00:18<00:00,  4.50s/it]\n"
          ]
        },
        {
          "output_type": "stream",
          "name": "stdout",
          "text": [
            "[\n",
            "Individual: 784, 512, 10; Fitness: 0.10726666450500488, \n",
            "Individual: 784, 512, 10; Fitness: 0.08996666967868805, \n",
            "Individual: 784, 512, 10; Fitness: 0.07429999858140945, \n",
            "Individual: 784, 512, 10; Fitness: 0.093299999833107]\n",
            "Evolving...\n"
          ]
        },
        {
          "output_type": "stream",
          "name": "stderr",
          "text": [
            "\r  0%|          | 0/4 [00:00<?, ?it/s]"
          ]
        },
        {
          "output_type": "stream",
          "name": "stdout",
          "text": [
            "Starting Generation  1 ...\n",
            "1875/1875 [==============================] - 3s 2ms/step - loss: 83.2380 - accuracy: 0.1126\n",
            "1875/1875 [==============================] - 4s 2ms/step - loss: 76.3721 - accuracy: 0.1073\n",
            "1875/1875 [==============================] - 3s 2ms/step - loss: 53.5034 - accuracy: 0.0974\n",
            "1875/1875 [==============================] - 3s 2ms/step - loss: 54.6474 - accuracy: 0.1017\n"
          ]
        },
        {
          "output_type": "stream",
          "name": "stderr",
          "text": [
            "\r 25%|██▌       | 1/4 [00:17<00:53, 17.84s/it]"
          ]
        },
        {
          "output_type": "stream",
          "name": "stdout",
          "text": [
            "Results for Generation >>>  1\n",
            "Best Individual: \n",
            "Individual: 784, 512, 10; Fitness: 0.11256666481494904\n",
            "Starting Generation  2 ...\n",
            "1875/1875 [==============================] - 4s 2ms/step - loss: 75.0905 - accuracy: 0.1045\n",
            "1875/1875 [==============================] - 3s 2ms/step - loss: 75.5622 - accuracy: 0.1051\n",
            "1875/1875 [==============================] - 3s 2ms/step - loss: 83.2380 - accuracy: 0.1126\n",
            "1875/1875 [==============================] - 3s 2ms/step - loss: 83.2380 - accuracy: 0.1126\n"
          ]
        },
        {
          "output_type": "stream",
          "name": "stderr",
          "text": [
            "\r 50%|█████     | 2/4 [00:34<00:33, 16.85s/it]"
          ]
        },
        {
          "output_type": "stream",
          "name": "stdout",
          "text": [
            "Results for Generation >>>  2\n",
            "Best Individual: \n",
            "Individual: 784, 512, 10; Fitness: 0.11256666481494904\n",
            "Starting Generation  3 ...\n",
            "1875/1875 [==============================] - 3s 2ms/step - loss: 83.2380 - accuracy: 0.1126\n",
            "1875/1875 [==============================] - 3s 2ms/step - loss: 83.2380 - accuracy: 0.1126\n",
            "1875/1875 [==============================] - 4s 2ms/step - loss: 83.2380 - accuracy: 0.1126\n",
            "1875/1875 [==============================] - 3s 2ms/step - loss: 83.2380 - accuracy: 0.1126\n"
          ]
        },
        {
          "output_type": "stream",
          "name": "stderr",
          "text": [
            "\r 75%|███████▌  | 3/4 [00:51<00:17, 17.35s/it]"
          ]
        },
        {
          "output_type": "stream",
          "name": "stdout",
          "text": [
            "Results for Generation >>>  3\n",
            "Best Individual: \n",
            "Individual: 784, 512, 10; Fitness: 0.11256666481494904\n",
            "Starting Generation  4 ...\n",
            "1875/1875 [==============================] - 3s 2ms/step - loss: 83.2380 - accuracy: 0.1126\n",
            "1875/1875 [==============================] - 3s 2ms/step - loss: 83.2380 - accuracy: 0.1126\n",
            "1875/1875 [==============================] - 3s 2ms/step - loss: 56.5560 - accuracy: 0.1312\n",
            "1875/1875 [==============================] - 4s 2ms/step - loss: 83.2380 - accuracy: 0.1126\n"
          ]
        },
        {
          "output_type": "stream",
          "name": "stderr",
          "text": [
            "100%|██████████| 4/4 [01:11<00:00, 17.97s/it]\n"
          ]
        },
        {
          "output_type": "stream",
          "name": "stdout",
          "text": [
            "Results for Generation >>>  4\n",
            "Best Individual: \n",
            "Individual: 784, 512, 10; Fitness: 0.13120000064373016\n",
            "Running GA iteration: 4\n",
            "Generating initial population...\n"
          ]
        },
        {
          "output_type": "stream",
          "name": "stderr",
          "text": [
            "\r  0%|          | 0/4 [00:00<?, ?it/s]"
          ]
        },
        {
          "output_type": "stream",
          "name": "stdout",
          "text": [
            "1875/1875 [==============================] - 3s 2ms/step - loss: 65.6147 - accuracy: 0.1182\n"
          ]
        },
        {
          "output_type": "stream",
          "name": "stderr",
          "text": [
            "\r 25%|██▌       | 1/4 [00:03<00:11,  3.83s/it]"
          ]
        },
        {
          "output_type": "stream",
          "name": "stdout",
          "text": [
            "1875/1875 [==============================] - 3s 2ms/step - loss: 85.2059 - accuracy: 0.0760\n"
          ]
        },
        {
          "output_type": "stream",
          "name": "stderr",
          "text": [
            "\r 50%|█████     | 2/4 [00:07<00:07,  3.81s/it]"
          ]
        },
        {
          "output_type": "stream",
          "name": "stdout",
          "text": [
            "1875/1875 [==============================] - 3s 2ms/step - loss: 79.0669 - accuracy: 0.1384\n"
          ]
        },
        {
          "output_type": "stream",
          "name": "stderr",
          "text": [
            "\r 75%|███████▌  | 3/4 [00:11<00:03,  3.86s/it]"
          ]
        },
        {
          "output_type": "stream",
          "name": "stdout",
          "text": [
            "1875/1875 [==============================] - 3s 2ms/step - loss: 83.4741 - accuracy: 0.0675\n"
          ]
        },
        {
          "output_type": "stream",
          "name": "stderr",
          "text": [
            "100%|██████████| 4/4 [00:15<00:00,  3.87s/it]\n"
          ]
        },
        {
          "output_type": "stream",
          "name": "stdout",
          "text": [
            "[\n",
            "Individual: 784, 512, 10; Fitness: 0.11818332970142365, \n",
            "Individual: 784, 512, 10; Fitness: 0.07599999755620956, \n",
            "Individual: 784, 512, 10; Fitness: 0.1384499967098236, \n",
            "Individual: 784, 512, 10; Fitness: 0.0674833357334137]\n",
            "Evolving...\n"
          ]
        },
        {
          "output_type": "stream",
          "name": "stderr",
          "text": [
            "\r  0%|          | 0/4 [00:00<?, ?it/s]"
          ]
        },
        {
          "output_type": "stream",
          "name": "stdout",
          "text": [
            "Starting Generation  1 ...\n",
            "1875/1875 [==============================] - 3s 2ms/step - loss: 38.9702 - accuracy: 0.1136\n",
            "1875/1875 [==============================] - 3s 2ms/step - loss: 52.1529 - accuracy: 0.0882\n",
            "1875/1875 [==============================] - 3s 2ms/step - loss: 79.0669 - accuracy: 0.1384\n",
            "1875/1875 [==============================] - 3s 2ms/step - loss: 85.5818 - accuracy: 0.0690\n"
          ]
        },
        {
          "output_type": "stream",
          "name": "stderr",
          "text": [
            "\r 25%|██▌       | 1/4 [00:15<00:47, 15.83s/it]"
          ]
        },
        {
          "output_type": "stream",
          "name": "stdout",
          "text": [
            "Results for Generation >>>  1\n",
            "Best Individual: \n",
            "Individual: 784, 512, 10; Fitness: 0.1384499967098236\n",
            "Starting Generation  2 ...\n",
            "1875/1875 [==============================] - 3s 2ms/step - loss: 79.0669 - accuracy: 0.1384\n",
            "1875/1875 [==============================] - 3s 2ms/step - loss: 78.8573 - accuracy: 0.1312\n",
            "1875/1875 [==============================] - 3s 2ms/step - loss: 79.0669 - accuracy: 0.1384\n",
            "1875/1875 [==============================] - 3s 2ms/step - loss: 79.0669 - accuracy: 0.1384\n"
          ]
        },
        {
          "output_type": "stream",
          "name": "stderr",
          "text": [
            "\r 50%|█████     | 2/4 [00:31<00:31, 15.87s/it]"
          ]
        },
        {
          "output_type": "stream",
          "name": "stdout",
          "text": [
            "Results for Generation >>>  2\n",
            "Best Individual: \n",
            "Individual: 784, 512, 10; Fitness: 0.1384499967098236\n",
            "Starting Generation  3 ...\n",
            "1875/1875 [==============================] - 3s 2ms/step - loss: 79.0669 - accuracy: 0.1384\n",
            "1875/1875 [==============================] - 3s 2ms/step - loss: 79.0669 - accuracy: 0.1384\n",
            "1875/1875 [==============================] - 3s 2ms/step - loss: 79.0669 - accuracy: 0.1384\n",
            "1875/1875 [==============================] - 4s 2ms/step - loss: 79.0669 - accuracy: 0.1384\n"
          ]
        },
        {
          "output_type": "stream",
          "name": "stderr",
          "text": [
            "\r 75%|███████▌  | 3/4 [00:49<00:16, 16.87s/it]"
          ]
        },
        {
          "output_type": "stream",
          "name": "stdout",
          "text": [
            "Results for Generation >>>  3\n",
            "Best Individual: \n",
            "Individual: 784, 512, 10; Fitness: 0.1384499967098236\n",
            "Starting Generation  4 ...\n",
            "1875/1875 [==============================] - 3s 2ms/step - loss: 79.0669 - accuracy: 0.1384\n",
            "1875/1875 [==============================] - 3s 2ms/step - loss: 71.7793 - accuracy: 0.1330\n",
            "1875/1875 [==============================] - 3s 2ms/step - loss: 79.0669 - accuracy: 0.1384\n",
            "1875/1875 [==============================] - 3s 2ms/step - loss: 79.0669 - accuracy: 0.1384\n"
          ]
        },
        {
          "output_type": "stream",
          "name": "stderr",
          "text": [
            "100%|██████████| 4/4 [01:05<00:00, 16.39s/it]"
          ]
        },
        {
          "output_type": "stream",
          "name": "stdout",
          "text": [
            "Results for Generation >>>  4\n",
            "Best Individual: \n",
            "Individual: 784, 512, 10; Fitness: 0.1384499967098236\n",
            "All best fitness, from each generation, from each run have been saved to /content/gdrive/MyDrive/CIFO_Project/toun_4_inversion_90_30.csv\n"
          ]
        },
        {
          "output_type": "stream",
          "name": "stderr",
          "text": [
            "\n"
          ]
        }
      ]
    },
    {
      "cell_type": "markdown",
      "source": [
        "### Inversion_mutation with xo_prob 90% and mut_prob 10%"
      ],
      "metadata": {
        "id": "iLHJNevuNs6s"
      }
    },
    {
      "cell_type": "code",
      "source": [
        "all_runs_best_fitness = []\n",
        "run_evolution(run = 4, pop_size = 4, gens = 4, select = tournament_sel, crossover= arithmetic_xo, mutate= inversion_mutation,\n",
        "              xo_prob= 0.9, mut_prob= 0.3, elitism= True, tourn_size= 4, filename = 'toun_4_inversion_90_10.csv')"
      ],
      "metadata": {
        "colab": {
          "base_uri": "https://localhost:8080/"
        },
        "id": "SMlRTf2RNtR8",
        "outputId": "bd31ac34-5757-4980-9263-1189f3831146"
      },
      "execution_count": 8,
      "outputs": [
        {
          "output_type": "stream",
          "name": "stdout",
          "text": [
            "Running GA iteration: 1\n",
            "Generating initial population...\n"
          ]
        },
        {
          "output_type": "stream",
          "name": "stderr",
          "text": [
            "\r  0%|          | 0/4 [00:00<?, ?it/s]"
          ]
        },
        {
          "output_type": "stream",
          "name": "stdout",
          "text": [
            "1875/1875 [==============================] - 7s 2ms/step - loss: 76.5112 - accuracy: 0.1050\n"
          ]
        },
        {
          "output_type": "stream",
          "name": "stderr",
          "text": [
            "\r 25%|██▌       | 1/4 [00:10<00:31, 10.62s/it]"
          ]
        },
        {
          "output_type": "stream",
          "name": "stdout",
          "text": [
            "1875/1875 [==============================] - 3s 2ms/step - loss: 85.4879 - accuracy: 0.0835\n"
          ]
        },
        {
          "output_type": "stream",
          "name": "stderr",
          "text": [
            "\r 50%|█████     | 2/4 [00:14<00:13,  6.57s/it]"
          ]
        },
        {
          "output_type": "stream",
          "name": "stdout",
          "text": [
            "1875/1875 [==============================] - 3s 2ms/step - loss: 81.6818 - accuracy: 0.0897\n"
          ]
        },
        {
          "output_type": "stream",
          "name": "stderr",
          "text": [
            "\r 75%|███████▌  | 3/4 [00:18<00:05,  5.26s/it]"
          ]
        },
        {
          "output_type": "stream",
          "name": "stdout",
          "text": [
            "1875/1875 [==============================] - 3s 2ms/step - loss: 77.4629 - accuracy: 0.0593\n"
          ]
        },
        {
          "output_type": "stream",
          "name": "stderr",
          "text": [
            "100%|██████████| 4/4 [00:21<00:00,  5.49s/it]\n"
          ]
        },
        {
          "output_type": "stream",
          "name": "stdout",
          "text": [
            "[\n",
            "Individual: 784, 512, 10; Fitness: 0.10499999672174454, \n",
            "Individual: 784, 512, 10; Fitness: 0.08354999870061874, \n",
            "Individual: 784, 512, 10; Fitness: 0.08971666544675827, \n",
            "Individual: 784, 512, 10; Fitness: 0.059333331882953644]\n",
            "Evolving...\n"
          ]
        },
        {
          "output_type": "stream",
          "name": "stderr",
          "text": [
            "\r  0%|          | 0/4 [00:00<?, ?it/s]"
          ]
        },
        {
          "output_type": "stream",
          "name": "stdout",
          "text": [
            "Starting Generation  1 ...\n",
            "1875/1875 [==============================] - 3s 2ms/step - loss: 59.7073 - accuracy: 0.0834\n",
            "1875/1875 [==============================] - 3s 2ms/step - loss: 54.4548 - accuracy: 0.1111\n",
            "1875/1875 [==============================] - 3s 2ms/step - loss: 52.6057 - accuracy: 0.1022\n",
            "1875/1875 [==============================] - 3s 2ms/step - loss: 65.6288 - accuracy: 0.0840\n"
          ]
        },
        {
          "output_type": "stream",
          "name": "stderr",
          "text": [
            "\r 25%|██▌       | 1/4 [00:15<00:46, 15.37s/it]"
          ]
        },
        {
          "output_type": "stream",
          "name": "stdout",
          "text": [
            "Results for Generation >>>  1\n",
            "Best Individual: \n",
            "Individual: 784, 512, 10; Fitness: 0.11110000312328339\n",
            "Starting Generation  2 ...\n",
            "1875/1875 [==============================] - 3s 2ms/step - loss: 56.2050 - accuracy: 0.1064\n",
            "1875/1875 [==============================] - 3s 2ms/step - loss: 60.9876 - accuracy: 0.1006\n",
            "1875/1875 [==============================] - 3s 2ms/step - loss: 54.4548 - accuracy: 0.1111\n",
            "1875/1875 [==============================] - 3s 2ms/step - loss: 55.6003 - accuracy: 0.0732\n"
          ]
        },
        {
          "output_type": "stream",
          "name": "stderr",
          "text": [
            "\r 50%|█████     | 2/4 [00:30<00:30, 15.34s/it]"
          ]
        },
        {
          "output_type": "stream",
          "name": "stdout",
          "text": [
            "Results for Generation >>>  2\n",
            "Best Individual: \n",
            "Individual: 784, 512, 10; Fitness: 0.11110000312328339\n",
            "Starting Generation  3 ...\n",
            "1875/1875 [==============================] - 3s 2ms/step - loss: 54.4548 - accuracy: 0.1111\n",
            "1875/1875 [==============================] - 3s 2ms/step - loss: 54.4548 - accuracy: 0.1111\n",
            "1875/1875 [==============================] - 3s 2ms/step - loss: 54.4548 - accuracy: 0.1111\n",
            "1875/1875 [==============================] - 3s 2ms/step - loss: 54.4548 - accuracy: 0.1111\n"
          ]
        },
        {
          "output_type": "stream",
          "name": "stderr",
          "text": [
            "\r 75%|███████▌  | 3/4 [00:45<00:15, 15.32s/it]"
          ]
        },
        {
          "output_type": "stream",
          "name": "stdout",
          "text": [
            "Results for Generation >>>  3\n",
            "Best Individual: \n",
            "Individual: 784, 512, 10; Fitness: 0.11110000312328339\n",
            "Starting Generation  4 ...\n",
            "1875/1875 [==============================] - 3s 2ms/step - loss: 54.4548 - accuracy: 0.1111\n",
            "1875/1875 [==============================] - 3s 2ms/step - loss: 54.4548 - accuracy: 0.1111\n",
            "1875/1875 [==============================] - 3s 2ms/step - loss: 54.4548 - accuracy: 0.1111\n",
            "1875/1875 [==============================] - 3s 2ms/step - loss: 54.4548 - accuracy: 0.1111\n"
          ]
        },
        {
          "output_type": "stream",
          "name": "stderr",
          "text": [
            "\r100%|██████████| 4/4 [01:01<00:00, 15.31s/it]"
          ]
        },
        {
          "output_type": "stream",
          "name": "stdout",
          "text": [
            "Results for Generation >>>  4\n",
            "Best Individual: \n",
            "Individual: 784, 512, 10; Fitness: 0.11110000312328339\n"
          ]
        },
        {
          "output_type": "stream",
          "name": "stderr",
          "text": [
            "\r100%|██████████| 4/4 [01:01<00:00, 15.32s/it]\n"
          ]
        },
        {
          "output_type": "stream",
          "name": "stdout",
          "text": [
            "Running GA iteration: 2\n",
            "Generating initial population...\n"
          ]
        },
        {
          "output_type": "stream",
          "name": "stderr",
          "text": [
            "\r  0%|          | 0/4 [00:00<?, ?it/s]"
          ]
        },
        {
          "output_type": "stream",
          "name": "stdout",
          "text": [
            "1875/1875 [==============================] - 3s 2ms/step - loss: 102.1535 - accuracy: 0.0839\n"
          ]
        },
        {
          "output_type": "stream",
          "name": "stderr",
          "text": [
            "\r 25%|██▌       | 1/4 [00:03<00:11,  3.67s/it]"
          ]
        },
        {
          "output_type": "stream",
          "name": "stdout",
          "text": [
            "1875/1875 [==============================] - 3s 2ms/step - loss: 84.7904 - accuracy: 0.1054\n"
          ]
        },
        {
          "output_type": "stream",
          "name": "stderr",
          "text": [
            "\r 50%|█████     | 2/4 [00:07<00:07,  3.71s/it]"
          ]
        },
        {
          "output_type": "stream",
          "name": "stdout",
          "text": [
            "1875/1875 [==============================] - 3s 2ms/step - loss: 63.9233 - accuracy: 0.1239\n"
          ]
        },
        {
          "output_type": "stream",
          "name": "stderr",
          "text": [
            "\r 75%|███████▌  | 3/4 [00:11<00:03,  3.76s/it]"
          ]
        },
        {
          "output_type": "stream",
          "name": "stdout",
          "text": [
            "1875/1875 [==============================] - 3s 2ms/step - loss: 69.2501 - accuracy: 0.0996\n"
          ]
        },
        {
          "output_type": "stream",
          "name": "stderr",
          "text": [
            "100%|██████████| 4/4 [00:14<00:00,  3.74s/it]\n"
          ]
        },
        {
          "output_type": "stream",
          "name": "stdout",
          "text": [
            "[\n",
            "Individual: 784, 512, 10; Fitness: 0.08389999717473984, \n",
            "Individual: 784, 512, 10; Fitness: 0.10535000264644623, \n",
            "Individual: 784, 512, 10; Fitness: 0.1239333301782608, \n",
            "Individual: 784, 512, 10; Fitness: 0.09963333606719971]\n",
            "Evolving...\n"
          ]
        },
        {
          "output_type": "stream",
          "name": "stderr",
          "text": [
            "\r  0%|          | 0/4 [00:00<?, ?it/s]"
          ]
        },
        {
          "output_type": "stream",
          "name": "stdout",
          "text": [
            "Starting Generation  1 ...\n",
            "1875/1875 [==============================] - 3s 2ms/step - loss: 69.2501 - accuracy: 0.0996\n",
            "1875/1875 [==============================] - 3s 2ms/step - loss: 69.2501 - accuracy: 0.0996\n",
            "1875/1875 [==============================] - 3s 2ms/step - loss: 89.2363 - accuracy: 0.0745\n",
            "1875/1875 [==============================] - 3s 2ms/step - loss: 89.2363 - accuracy: 0.0745\n"
          ]
        },
        {
          "output_type": "stream",
          "name": "stderr",
          "text": [
            "\r 25%|██▌       | 1/4 [00:14<00:44, 14.97s/it]"
          ]
        },
        {
          "output_type": "stream",
          "name": "stdout",
          "text": [
            "Results for Generation >>>  1\n",
            "Best Individual: \n",
            "Individual: 784, 512, 10; Fitness: 0.1239333301782608\n",
            "Starting Generation  2 ...\n",
            "1875/1875 [==============================] - 3s 2ms/step - loss: 65.2679 - accuracy: 0.0820\n",
            "1875/1875 [==============================] - 3s 2ms/step - loss: 63.9233 - accuracy: 0.1239\n",
            "1875/1875 [==============================] - 3s 2ms/step - loss: 43.8219 - accuracy: 0.1028\n",
            "1875/1875 [==============================] - 3s 2ms/step - loss: 41.3830 - accuracy: 0.1020\n"
          ]
        },
        {
          "output_type": "stream",
          "name": "stderr",
          "text": [
            "\r 50%|█████     | 2/4 [00:30<00:30, 15.24s/it]"
          ]
        },
        {
          "output_type": "stream",
          "name": "stdout",
          "text": [
            "Results for Generation >>>  2\n",
            "Best Individual: \n",
            "Individual: 784, 512, 10; Fitness: 0.1239333301782608\n",
            "Starting Generation  3 ...\n",
            "1875/1875 [==============================] - 3s 2ms/step - loss: 63.9233 - accuracy: 0.1239\n",
            "1875/1875 [==============================] - 3s 2ms/step - loss: 63.9233 - accuracy: 0.1239\n",
            "1875/1875 [==============================] - 3s 2ms/step - loss: 44.8400 - accuracy: 0.1078\n",
            "1875/1875 [==============================] - 3s 2ms/step - loss: 30.6672 - accuracy: 0.0988\n"
          ]
        },
        {
          "output_type": "stream",
          "name": "stderr",
          "text": [
            "\r 75%|███████▌  | 3/4 [00:45<00:15, 15.26s/it]"
          ]
        },
        {
          "output_type": "stream",
          "name": "stdout",
          "text": [
            "Results for Generation >>>  3\n",
            "Best Individual: \n",
            "Individual: 784, 512, 10; Fitness: 0.1239333301782608\n",
            "Starting Generation  4 ...\n",
            "1875/1875 [==============================] - 3s 2ms/step - loss: 63.9233 - accuracy: 0.1239\n",
            "1875/1875 [==============================] - 4s 2ms/step - loss: 67.7115 - accuracy: 0.1225\n",
            "1875/1875 [==============================] - 3s 2ms/step - loss: 63.4218 - accuracy: 0.0906\n",
            "1875/1875 [==============================] - 3s 2ms/step - loss: 63.4962 - accuracy: 0.1278\n"
          ]
        },
        {
          "output_type": "stream",
          "name": "stderr",
          "text": [
            "100%|██████████| 4/4 [01:01<00:00, 15.33s/it]\n"
          ]
        },
        {
          "output_type": "stream",
          "name": "stdout",
          "text": [
            "Results for Generation >>>  4\n",
            "Best Individual: \n",
            "Individual: 784, 512, 10; Fitness: 0.1277666687965393\n",
            "Running GA iteration: 3\n",
            "Generating initial population...\n"
          ]
        },
        {
          "output_type": "stream",
          "name": "stderr",
          "text": [
            "\r  0%|          | 0/4 [00:00<?, ?it/s]"
          ]
        },
        {
          "output_type": "stream",
          "name": "stdout",
          "text": [
            "1875/1875 [==============================] - 3s 2ms/step - loss: 76.3721 - accuracy: 0.1073\n"
          ]
        },
        {
          "output_type": "stream",
          "name": "stderr",
          "text": [
            "\r 25%|██▌       | 1/4 [00:03<00:11,  3.71s/it]"
          ]
        },
        {
          "output_type": "stream",
          "name": "stdout",
          "text": [
            "1875/1875 [==============================] - 3s 2ms/step - loss: 78.1635 - accuracy: 0.0900\n"
          ]
        },
        {
          "output_type": "stream",
          "name": "stderr",
          "text": [
            "\r 50%|█████     | 2/4 [00:07<00:07,  3.71s/it]"
          ]
        },
        {
          "output_type": "stream",
          "name": "stdout",
          "text": [
            "1875/1875 [==============================] - 3s 2ms/step - loss: 75.4308 - accuracy: 0.0743\n"
          ]
        },
        {
          "output_type": "stream",
          "name": "stderr",
          "text": [
            "\r 75%|███████▌  | 3/4 [00:11<00:03,  3.71s/it]"
          ]
        },
        {
          "output_type": "stream",
          "name": "stdout",
          "text": [
            "1875/1875 [==============================] - 3s 2ms/step - loss: 81.5142 - accuracy: 0.0933\n"
          ]
        },
        {
          "output_type": "stream",
          "name": "stderr",
          "text": [
            "100%|██████████| 4/4 [00:14<00:00,  3.73s/it]\n"
          ]
        },
        {
          "output_type": "stream",
          "name": "stdout",
          "text": [
            "[\n",
            "Individual: 784, 512, 10; Fitness: 0.10726666450500488, \n",
            "Individual: 784, 512, 10; Fitness: 0.08996666967868805, \n",
            "Individual: 784, 512, 10; Fitness: 0.07429999858140945, \n",
            "Individual: 784, 512, 10; Fitness: 0.093299999833107]\n",
            "Evolving...\n"
          ]
        },
        {
          "output_type": "stream",
          "name": "stderr",
          "text": [
            "\r  0%|          | 0/4 [00:00<?, ?it/s]"
          ]
        },
        {
          "output_type": "stream",
          "name": "stdout",
          "text": [
            "Starting Generation  1 ...\n",
            "1875/1875 [==============================] - 3s 2ms/step - loss: 83.2380 - accuracy: 0.1126\n",
            "1875/1875 [==============================] - 3s 2ms/step - loss: 76.3721 - accuracy: 0.1073\n",
            "1875/1875 [==============================] - 3s 2ms/step - loss: 53.5034 - accuracy: 0.0974\n",
            "1875/1875 [==============================] - 3s 2ms/step - loss: 54.6474 - accuracy: 0.1017\n"
          ]
        },
        {
          "output_type": "stream",
          "name": "stderr",
          "text": [
            "\r 25%|██▌       | 1/4 [00:15<00:46, 15.51s/it]"
          ]
        },
        {
          "output_type": "stream",
          "name": "stdout",
          "text": [
            "Results for Generation >>>  1\n",
            "Best Individual: \n",
            "Individual: 784, 512, 10; Fitness: 0.11256666481494904\n",
            "Starting Generation  2 ...\n",
            "1875/1875 [==============================] - 3s 2ms/step - loss: 75.0905 - accuracy: 0.1045\n",
            "1875/1875 [==============================] - 3s 2ms/step - loss: 75.5622 - accuracy: 0.1051\n",
            "1875/1875 [==============================] - 3s 2ms/step - loss: 83.2380 - accuracy: 0.1126\n",
            "1875/1875 [==============================] - 3s 2ms/step - loss: 83.2380 - accuracy: 0.1126\n"
          ]
        },
        {
          "output_type": "stream",
          "name": "stderr",
          "text": [
            "\r 50%|█████     | 2/4 [00:31<00:31, 15.55s/it]"
          ]
        },
        {
          "output_type": "stream",
          "name": "stdout",
          "text": [
            "Results for Generation >>>  2\n",
            "Best Individual: \n",
            "Individual: 784, 512, 10; Fitness: 0.11256666481494904\n",
            "Starting Generation  3 ...\n",
            "1875/1875 [==============================] - 3s 2ms/step - loss: 83.2380 - accuracy: 0.1126\n",
            "1875/1875 [==============================] - 3s 2ms/step - loss: 83.2380 - accuracy: 0.1126\n",
            "1875/1875 [==============================] - 3s 2ms/step - loss: 83.2380 - accuracy: 0.1126\n",
            "1875/1875 [==============================] - 3s 2ms/step - loss: 83.2380 - accuracy: 0.1126\n"
          ]
        },
        {
          "output_type": "stream",
          "name": "stderr",
          "text": [
            "\r 75%|███████▌  | 3/4 [00:46<00:15, 15.53s/it]"
          ]
        },
        {
          "output_type": "stream",
          "name": "stdout",
          "text": [
            "Results for Generation >>>  3\n",
            "Best Individual: \n",
            "Individual: 784, 512, 10; Fitness: 0.11256666481494904\n",
            "Starting Generation  4 ...\n",
            "1875/1875 [==============================] - 3s 2ms/step - loss: 83.2380 - accuracy: 0.1126\n",
            "1875/1875 [==============================] - 3s 2ms/step - loss: 83.2380 - accuracy: 0.1126\n",
            "1875/1875 [==============================] - 3s 2ms/step - loss: 56.5560 - accuracy: 0.1312\n",
            "1875/1875 [==============================] - 3s 2ms/step - loss: 83.2380 - accuracy: 0.1126\n"
          ]
        },
        {
          "output_type": "stream",
          "name": "stderr",
          "text": [
            "100%|██████████| 4/4 [01:01<00:00, 15.47s/it]\n"
          ]
        },
        {
          "output_type": "stream",
          "name": "stdout",
          "text": [
            "Results for Generation >>>  4\n",
            "Best Individual: \n",
            "Individual: 784, 512, 10; Fitness: 0.13120000064373016\n",
            "Running GA iteration: 4\n",
            "Generating initial population...\n"
          ]
        },
        {
          "output_type": "stream",
          "name": "stderr",
          "text": [
            "\r  0%|          | 0/4 [00:00<?, ?it/s]"
          ]
        },
        {
          "output_type": "stream",
          "name": "stdout",
          "text": [
            "1875/1875 [==============================] - 3s 2ms/step - loss: 65.6147 - accuracy: 0.1182\n"
          ]
        },
        {
          "output_type": "stream",
          "name": "stderr",
          "text": [
            "\r 25%|██▌       | 1/4 [00:03<00:11,  3.85s/it]"
          ]
        },
        {
          "output_type": "stream",
          "name": "stdout",
          "text": [
            "1875/1875 [==============================] - 3s 2ms/step - loss: 85.2059 - accuracy: 0.0760\n"
          ]
        },
        {
          "output_type": "stream",
          "name": "stderr",
          "text": [
            "\r 50%|█████     | 2/4 [00:07<00:07,  3.86s/it]"
          ]
        },
        {
          "output_type": "stream",
          "name": "stdout",
          "text": [
            "1875/1875 [==============================] - 3s 2ms/step - loss: 79.0669 - accuracy: 0.1384\n"
          ]
        },
        {
          "output_type": "stream",
          "name": "stderr",
          "text": [
            "\r 75%|███████▌  | 3/4 [00:11<00:03,  3.82s/it]"
          ]
        },
        {
          "output_type": "stream",
          "name": "stdout",
          "text": [
            "1875/1875 [==============================] - 3s 2ms/step - loss: 83.4741 - accuracy: 0.0675\n"
          ]
        },
        {
          "output_type": "stream",
          "name": "stderr",
          "text": [
            "100%|██████████| 4/4 [00:15<00:00,  3.81s/it]\n"
          ]
        },
        {
          "output_type": "stream",
          "name": "stdout",
          "text": [
            "[\n",
            "Individual: 784, 512, 10; Fitness: 0.11818332970142365, \n",
            "Individual: 784, 512, 10; Fitness: 0.07599999755620956, \n",
            "Individual: 784, 512, 10; Fitness: 0.1384499967098236, \n",
            "Individual: 784, 512, 10; Fitness: 0.0674833357334137]\n",
            "Evolving...\n"
          ]
        },
        {
          "output_type": "stream",
          "name": "stderr",
          "text": [
            "\r  0%|          | 0/4 [00:00<?, ?it/s]"
          ]
        },
        {
          "output_type": "stream",
          "name": "stdout",
          "text": [
            "Starting Generation  1 ...\n",
            "1875/1875 [==============================] - 3s 2ms/step - loss: 38.9702 - accuracy: 0.1136\n",
            "1875/1875 [==============================] - 3s 2ms/step - loss: 52.1529 - accuracy: 0.0882\n",
            "1875/1875 [==============================] - 3s 2ms/step - loss: 79.0669 - accuracy: 0.1384\n",
            "1875/1875 [==============================] - 3s 2ms/step - loss: 85.5818 - accuracy: 0.0690\n"
          ]
        },
        {
          "output_type": "stream",
          "name": "stderr",
          "text": [
            "\r 25%|██▌       | 1/4 [00:15<00:46, 15.43s/it]"
          ]
        },
        {
          "output_type": "stream",
          "name": "stdout",
          "text": [
            "Results for Generation >>>  1\n",
            "Best Individual: \n",
            "Individual: 784, 512, 10; Fitness: 0.1384499967098236\n",
            "Starting Generation  2 ...\n",
            "1875/1875 [==============================] - 3s 2ms/step - loss: 79.0669 - accuracy: 0.1384\n",
            "1875/1875 [==============================] - 3s 2ms/step - loss: 78.8573 - accuracy: 0.1312\n",
            "1875/1875 [==============================] - 3s 2ms/step - loss: 79.0669 - accuracy: 0.1384\n",
            "1875/1875 [==============================] - 3s 2ms/step - loss: 79.0669 - accuracy: 0.1384\n"
          ]
        },
        {
          "output_type": "stream",
          "name": "stderr",
          "text": [
            "\r 50%|█████     | 2/4 [00:30<00:31, 15.50s/it]"
          ]
        },
        {
          "output_type": "stream",
          "name": "stdout",
          "text": [
            "Results for Generation >>>  2\n",
            "Best Individual: \n",
            "Individual: 784, 512, 10; Fitness: 0.1384499967098236\n",
            "Starting Generation  3 ...\n",
            "1875/1875 [==============================] - 3s 2ms/step - loss: 79.0669 - accuracy: 0.1384\n",
            "1875/1875 [==============================] - 3s 2ms/step - loss: 79.0669 - accuracy: 0.1384\n",
            "1875/1875 [==============================] - 3s 2ms/step - loss: 79.0669 - accuracy: 0.1384\n",
            "1875/1875 [==============================] - 3s 2ms/step - loss: 79.0669 - accuracy: 0.1384\n"
          ]
        },
        {
          "output_type": "stream",
          "name": "stderr",
          "text": [
            "\r 75%|███████▌  | 3/4 [00:46<00:15, 15.46s/it]"
          ]
        },
        {
          "output_type": "stream",
          "name": "stdout",
          "text": [
            "Results for Generation >>>  3\n",
            "Best Individual: \n",
            "Individual: 784, 512, 10; Fitness: 0.1384499967098236\n",
            "Starting Generation  4 ...\n",
            "1875/1875 [==============================] - 3s 2ms/step - loss: 79.0669 - accuracy: 0.1384\n",
            "1875/1875 [==============================] - 3s 2ms/step - loss: 71.7793 - accuracy: 0.1330\n",
            "1875/1875 [==============================] - 3s 2ms/step - loss: 79.0669 - accuracy: 0.1384\n",
            "1875/1875 [==============================] - 3s 2ms/step - loss: 79.0669 - accuracy: 0.1384\n"
          ]
        },
        {
          "output_type": "stream",
          "name": "stderr",
          "text": [
            "100%|██████████| 4/4 [01:02<00:00, 15.55s/it]"
          ]
        },
        {
          "output_type": "stream",
          "name": "stdout",
          "text": [
            "Results for Generation >>>  4\n",
            "Best Individual: \n",
            "Individual: 784, 512, 10; Fitness: 0.1384499967098236\n",
            "All best fitness, from each generation, from each run have been saved to toun_4_inversion_90_10.csv\n"
          ]
        },
        {
          "output_type": "stream",
          "name": "stderr",
          "text": [
            "\n"
          ]
        }
      ]
    },
    {
      "cell_type": "markdown",
      "source": [
        "### arithmetic_mutation with xo_prob 90% and mut_prob 30%"
      ],
      "metadata": {
        "id": "MWtH0aPyze-L"
      }
    },
    {
      "cell_type": "code",
      "source": [
        "all_runs_best_fitness = []\n",
        "run_evolution(run = 10, pop_size = 20, gens = 20, select = tournament_sel, crossover= arithmetic_xo, mutate= arithmetic_mutation,\n",
        "              xo_prob= 0.9, mut_prob= 0.3, elitism= True, tourn_size= 4, filename = 'toun_4_inversion_90_30.csv')"
      ],
      "metadata": {
        "colab": {
          "base_uri": "https://localhost:8080/"
        },
        "id": "CjEawFoyznHn",
        "outputId": "48264334-4dab-4ff5-e6a3-cbfe2187ebfb"
      },
      "execution_count": null,
      "outputs": [
        {
          "output_type": "stream",
          "name": "stdout",
          "text": [
            "Running GA iteration: 1\n",
            "313/313 [==============================] - 1s 2ms/step - loss: 2.5952 - accuracy: 0.8574\n",
            "313/313 [==============================] - 1s 2ms/step - loss: 4.2737 - accuracy: 0.8122\n",
            "313/313 [==============================] - 1s 2ms/step - loss: 2.1173 - accuracy: 0.8781\n",
            "313/313 [==============================] - 1s 2ms/step - loss: 2.7248 - accuracy: 0.8476\n",
            "313/313 [==============================] - 1s 2ms/step - loss: 4.7667 - accuracy: 0.7882\n",
            "313/313 [==============================] - 1s 2ms/step - loss: 4.4786 - accuracy: 0.8254\n",
            "313/313 [==============================] - 1s 2ms/step - loss: 2.9417 - accuracy: 0.8428\n",
            "313/313 [==============================] - 1s 2ms/step - loss: 2.1047 - accuracy: 0.8932\n",
            "313/313 [==============================] - 1s 2ms/step - loss: 2.5485 - accuracy: 0.8552\n",
            "313/313 [==============================] - 1s 2ms/step - loss: 2.7542 - accuracy: 0.8726\n",
            "313/313 [==============================] - 1s 2ms/step - loss: 2.4091 - accuracy: 0.8608\n",
            "313/313 [==============================] - 1s 2ms/step - loss: 2.5580 - accuracy: 0.8594\n",
            "313/313 [==============================] - 1s 2ms/step - loss: 2.5904 - accuracy: 0.8369\n",
            "313/313 [==============================] - 1s 2ms/step - loss: 3.2623 - accuracy: 0.8320\n",
            "313/313 [==============================] - 1s 2ms/step - loss: 3.2371 - accuracy: 0.8382\n",
            "313/313 [==============================] - 1s 2ms/step - loss: 3.0912 - accuracy: 0.8333\n",
            "313/313 [==============================] - 1s 2ms/step - loss: 2.3297 - accuracy: 0.8770\n",
            "313/313 [==============================] - 1s 2ms/step - loss: 2.6029 - accuracy: 0.8621\n",
            "313/313 [==============================] - 1s 2ms/step - loss: 1.6141 - accuracy: 0.9081\n",
            "313/313 [==============================] - 1s 2ms/step - loss: 2.8114 - accuracy: 0.8555\n",
            "Gen 1, Best Individual: Individual:  (784, 512) (512,) (512, 10) (10,); Fitness: 1.6140621900558472\n",
            "\n",
            "313/313 [==============================] - 1s 2ms/step - loss: 5.1241 - accuracy: 0.7855\n",
            "313/313 [==============================] - 1s 2ms/step - loss: 2.2944 - accuracy: 0.8879\n",
            "313/313 [==============================] - 1s 2ms/step - loss: 2.4360 - accuracy: 0.8724\n",
            "313/313 [==============================] - 1s 2ms/step - loss: 2.1827 - accuracy: 0.8816\n",
            "313/313 [==============================] - 1s 2ms/step - loss: 4.0470 - accuracy: 0.8107\n",
            "313/313 [==============================] - 1s 2ms/step - loss: 2.7402 - accuracy: 0.8343\n",
            "313/313 [==============================] - 1s 2ms/step - loss: 2.6514 - accuracy: 0.8632\n",
            "313/313 [==============================] - 1s 2ms/step - loss: 2.5368 - accuracy: 0.8682\n",
            "313/313 [==============================] - 1s 2ms/step - loss: 2.5163 - accuracy: 0.8654\n",
            "313/313 [==============================] - 1s 2ms/step - loss: 3.2359 - accuracy: 0.8194\n",
            "Gen 2, Best Individual: Individual:  (784, 512) (512,) (512, 10) (10,); Fitness: 1.6140621900558472\n",
            "\n",
            "313/313 [==============================] - 1s 2ms/step - loss: 2.6891 - accuracy: 0.8750\n",
            "313/313 [==============================] - 1s 2ms/step - loss: 2.3349 - accuracy: 0.8717\n",
            "313/313 [==============================] - 1s 2ms/step - loss: 2.8176 - accuracy: 0.8666\n",
            "313/313 [==============================] - 1s 2ms/step - loss: 4.2245 - accuracy: 0.7995\n",
            "313/313 [==============================] - 1s 2ms/step - loss: 1.9915 - accuracy: 0.8926\n",
            "313/313 [==============================] - 1s 2ms/step - loss: 2.2371 - accuracy: 0.8792\n",
            "313/313 [==============================] - 1s 2ms/step - loss: 3.3219 - accuracy: 0.8291\n",
            "313/313 [==============================] - 1s 2ms/step - loss: 2.5711 - accuracy: 0.8581\n",
            "313/313 [==============================] - 1s 2ms/step - loss: 2.3403 - accuracy: 0.8774\n",
            "313/313 [==============================] - 1s 2ms/step - loss: 2.2511 - accuracy: 0.8841\n",
            "Gen 3, Best Individual: Individual:  (784, 512) (512,) (512, 10) (10,); Fitness: 1.6140621900558472\n",
            "\n",
            "313/313 [==============================] - 1s 2ms/step - loss: 2.3629 - accuracy: 0.8821\n",
            "313/313 [==============================] - 1s 2ms/step - loss: 2.1937 - accuracy: 0.8759\n",
            "313/313 [==============================] - 1s 2ms/step - loss: 3.6226 - accuracy: 0.7959\n",
            "313/313 [==============================] - 1s 2ms/step - loss: 1.8859 - accuracy: 0.8874\n",
            "313/313 [==============================] - 1s 2ms/step - loss: 2.6839 - accuracy: 0.8501\n",
            "313/313 [==============================] - 1s 2ms/step - loss: 2.7616 - accuracy: 0.8590\n",
            "313/313 [==============================] - 1s 2ms/step - loss: 3.5580 - accuracy: 0.8242\n",
            "313/313 [==============================] - 1s 2ms/step - loss: 2.6859 - accuracy: 0.8711\n",
            "313/313 [==============================] - 1s 2ms/step - loss: 2.3331 - accuracy: 0.8824\n",
            "313/313 [==============================] - 1s 2ms/step - loss: 1.8008 - accuracy: 0.8968\n",
            "Gen 4, Best Individual: Individual:  (784, 512) (512,) (512, 10) (10,); Fitness: 1.6140621900558472\n",
            "\n",
            "313/313 [==============================] - 1s 2ms/step - loss: 2.3027 - accuracy: 0.8701\n",
            "313/313 [==============================] - 1s 2ms/step - loss: 4.1415 - accuracy: 0.8004\n",
            "313/313 [==============================] - 1s 2ms/step - loss: 2.2062 - accuracy: 0.8871\n",
            "313/313 [==============================] - 1s 2ms/step - loss: 4.5464 - accuracy: 0.7623\n",
            "313/313 [==============================] - 1s 2ms/step - loss: 2.6295 - accuracy: 0.8706\n",
            "313/313 [==============================] - 1s 2ms/step - loss: 2.6656 - accuracy: 0.8489\n",
            "313/313 [==============================] - 1s 2ms/step - loss: 3.8053 - accuracy: 0.8290\n",
            "313/313 [==============================] - 1s 2ms/step - loss: 2.9023 - accuracy: 0.8588\n",
            "313/313 [==============================] - 1s 2ms/step - loss: 4.8324 - accuracy: 0.7870\n",
            "313/313 [==============================] - 1s 2ms/step - loss: 4.2271 - accuracy: 0.8326\n",
            "Gen 5, Best Individual: Individual:  (784, 512) (512,) (512, 10) (10,); Fitness: 1.6140621900558472\n",
            "\n",
            "313/313 [==============================] - 1s 2ms/step - loss: 1.7910 - accuracy: 0.8994\n",
            "313/313 [==============================] - 1s 2ms/step - loss: 2.8191 - accuracy: 0.8408\n",
            "313/313 [==============================] - 1s 2ms/step - loss: 2.2043 - accuracy: 0.8800\n",
            "313/313 [==============================] - 1s 2ms/step - loss: 3.0012 - accuracy: 0.8380\n",
            "313/313 [==============================] - 1s 2ms/step - loss: 3.5584 - accuracy: 0.8208\n",
            "313/313 [==============================] - 1s 2ms/step - loss: 2.3075 - accuracy: 0.8865\n",
            "313/313 [==============================] - 1s 2ms/step - loss: 2.7104 - accuracy: 0.8529\n",
            "313/313 [==============================] - 1s 2ms/step - loss: 1.8104 - accuracy: 0.8970\n",
            "313/313 [==============================] - 1s 2ms/step - loss: 3.2689 - accuracy: 0.8305\n",
            "313/313 [==============================] - 1s 2ms/step - loss: 2.3004 - accuracy: 0.8813\n",
            "Gen 6, Best Individual: Individual:  (784, 512) (512,) (512, 10) (10,); Fitness: 1.6140621900558472\n",
            "\n",
            "313/313 [==============================] - 1s 2ms/step - loss: 3.4716 - accuracy: 0.8358\n",
            "313/313 [==============================] - 1s 2ms/step - loss: 2.9152 - accuracy: 0.8494\n",
            "313/313 [==============================] - 1s 2ms/step - loss: 2.3607 - accuracy: 0.8754\n",
            "313/313 [==============================] - 1s 2ms/step - loss: 3.3707 - accuracy: 0.8015\n",
            "313/313 [==============================] - 1s 2ms/step - loss: 3.5995 - accuracy: 0.8275\n",
            "313/313 [==============================] - 1s 2ms/step - loss: 2.8579 - accuracy: 0.8526\n",
            "313/313 [==============================] - 1s 2ms/step - loss: 2.8217 - accuracy: 0.8428\n",
            "313/313 [==============================] - 1s 2ms/step - loss: 4.2387 - accuracy: 0.8033\n",
            "313/313 [==============================] - 1s 2ms/step - loss: 2.6132 - accuracy: 0.8706\n",
            "313/313 [==============================] - 1s 2ms/step - loss: 2.7799 - accuracy: 0.8533\n",
            "Gen 7, Best Individual: Individual:  (784, 512) (512,) (512, 10) (10,); Fitness: 1.6140621900558472\n",
            "\n",
            "313/313 [==============================] - 1s 2ms/step - loss: 3.5777 - accuracy: 0.8121\n",
            "313/313 [==============================] - 1s 2ms/step - loss: 2.9406 - accuracy: 0.8338\n",
            "313/313 [==============================] - 1s 2ms/step - loss: 2.9917 - accuracy: 0.8379\n",
            "313/313 [==============================] - 1s 2ms/step - loss: 2.7516 - accuracy: 0.8500\n",
            "313/313 [==============================] - 1s 2ms/step - loss: 1.9704 - accuracy: 0.8912\n",
            "313/313 [==============================] - 1s 2ms/step - loss: 2.6517 - accuracy: 0.8513\n",
            "313/313 [==============================] - 1s 2ms/step - loss: 2.4750 - accuracy: 0.8678\n",
            "313/313 [==============================] - 1s 2ms/step - loss: 2.1106 - accuracy: 0.8834\n",
            "313/313 [==============================] - 1s 2ms/step - loss: 2.4949 - accuracy: 0.8707\n",
            "313/313 [==============================] - 1s 2ms/step - loss: 3.0921 - accuracy: 0.8209\n",
            "Gen 8, Best Individual: Individual:  (784, 512) (512,) (512, 10) (10,); Fitness: 1.6140621900558472\n",
            "\n",
            "313/313 [==============================] - 1s 2ms/step - loss: 1.8543 - accuracy: 0.8935\n",
            "313/313 [==============================] - 1s 2ms/step - loss: 3.2263 - accuracy: 0.8289\n",
            "313/313 [==============================] - 1s 2ms/step - loss: 3.0241 - accuracy: 0.8320\n",
            "313/313 [==============================] - 1s 2ms/step - loss: 3.5243 - accuracy: 0.8392\n",
            "313/313 [==============================] - 1s 2ms/step - loss: 2.2350 - accuracy: 0.8814\n",
            "313/313 [==============================] - 1s 2ms/step - loss: 2.2647 - accuracy: 0.8751\n",
            "313/313 [==============================] - 1s 2ms/step - loss: 3.2020 - accuracy: 0.8389\n",
            "313/313 [==============================] - 1s 2ms/step - loss: 2.2439 - accuracy: 0.8808\n",
            "313/313 [==============================] - 1s 2ms/step - loss: 2.0403 - accuracy: 0.8930\n",
            "313/313 [==============================] - 1s 2ms/step - loss: 3.2918 - accuracy: 0.8183\n",
            "Gen 9, Best Individual: Individual:  (784, 512) (512,) (512, 10) (10,); Fitness: 1.6140621900558472\n",
            "\n",
            "313/313 [==============================] - 1s 2ms/step - loss: 4.2166 - accuracy: 0.8063\n",
            "313/313 [==============================] - 1s 2ms/step - loss: 3.7929 - accuracy: 0.8227\n",
            "313/313 [==============================] - 1s 2ms/step - loss: 2.2389 - accuracy: 0.8794\n",
            "313/313 [==============================] - 1s 2ms/step - loss: 5.9327 - accuracy: 0.7726\n",
            "313/313 [==============================] - 1s 2ms/step - loss: 3.1170 - accuracy: 0.8288\n",
            "313/313 [==============================] - 1s 2ms/step - loss: 3.1287 - accuracy: 0.8417\n",
            "313/313 [==============================] - 1s 2ms/step - loss: 2.0018 - accuracy: 0.8913\n",
            "313/313 [==============================] - 1s 2ms/step - loss: 2.4846 - accuracy: 0.8668\n",
            "313/313 [==============================] - 1s 2ms/step - loss: 5.0297 - accuracy: 0.7621\n",
            "313/313 [==============================] - 1s 2ms/step - loss: 3.0279 - accuracy: 0.8305\n",
            "Gen 10, Best Individual: Individual:  (784, 512) (512,) (512, 10) (10,); Fitness: 1.6140621900558472\n",
            "\n",
            "Running GA iteration: 2\n",
            "313/313 [==============================] - 1s 2ms/step - loss: 2.5370 - accuracy: 0.8725\n",
            "313/313 [==============================] - 1s 2ms/step - loss: 2.3947 - accuracy: 0.8644\n",
            "313/313 [==============================] - 1s 2ms/step - loss: 1.9930 - accuracy: 0.8915\n",
            "313/313 [==============================] - 1s 2ms/step - loss: 2.6377 - accuracy: 0.8612\n",
            "313/313 [==============================] - 1s 2ms/step - loss: 2.6537 - accuracy: 0.8584\n",
            "313/313 [==============================] - 1s 2ms/step - loss: 2.5231 - accuracy: 0.8822\n",
            "313/313 [==============================] - 1s 2ms/step - loss: 2.5506 - accuracy: 0.8686\n",
            "313/313 [==============================] - 1s 2ms/step - loss: 2.3603 - accuracy: 0.8663\n",
            "313/313 [==============================] - 1s 2ms/step - loss: 2.6052 - accuracy: 0.8639\n",
            "313/313 [==============================] - 1s 2ms/step - loss: 3.9187 - accuracy: 0.8107\n",
            "313/313 [==============================] - 1s 2ms/step - loss: 2.6282 - accuracy: 0.8772\n",
            "313/313 [==============================] - 1s 2ms/step - loss: 1.9886 - accuracy: 0.8914\n",
            "313/313 [==============================] - 1s 2ms/step - loss: 2.1508 - accuracy: 0.8851\n",
            "313/313 [==============================] - 1s 2ms/step - loss: 2.0133 - accuracy: 0.8839\n",
            "313/313 [==============================] - 1s 2ms/step - loss: 2.6490 - accuracy: 0.8611\n",
            "313/313 [==============================] - 1s 2ms/step - loss: 2.8626 - accuracy: 0.8564\n",
            "313/313 [==============================] - 1s 2ms/step - loss: 1.9830 - accuracy: 0.9009\n",
            "313/313 [==============================] - 1s 2ms/step - loss: 2.6824 - accuracy: 0.8613\n",
            "313/313 [==============================] - 1s 2ms/step - loss: 2.3955 - accuracy: 0.8680\n",
            "313/313 [==============================] - 1s 2ms/step - loss: 3.8433 - accuracy: 0.7979\n",
            "Gen 1, Best Individual: Individual:  (784, 512) (512,) (512, 10) (10,); Fitness: 1.982964038848877\n",
            "\n",
            "313/313 [==============================] - 1s 2ms/step - loss: 4.7471 - accuracy: 0.7972\n",
            "313/313 [==============================] - 1s 2ms/step - loss: 4.2446 - accuracy: 0.7764\n",
            "313/313 [==============================] - 1s 2ms/step - loss: 3.1716 - accuracy: 0.8222\n",
            "313/313 [==============================] - 1s 2ms/step - loss: 2.6752 - accuracy: 0.8606\n",
            "313/313 [==============================] - 1s 2ms/step - loss: 2.7756 - accuracy: 0.8473\n",
            "313/313 [==============================] - 1s 2ms/step - loss: 4.2382 - accuracy: 0.8186\n",
            "313/313 [==============================] - 1s 2ms/step - loss: 2.9421 - accuracy: 0.8136\n",
            "313/313 [==============================] - 1s 2ms/step - loss: 1.6301 - accuracy: 0.8914\n",
            "313/313 [==============================] - 1s 2ms/step - loss: 3.8279 - accuracy: 0.8040\n",
            "313/313 [==============================] - 1s 2ms/step - loss: 2.3436 - accuracy: 0.8683\n",
            "Gen 2, Best Individual: Individual:  (784, 512) (512,) (512, 10) (10,); Fitness: 1.6300956010818481\n",
            "\n",
            "313/313 [==============================] - 1s 2ms/step - loss: 3.3032 - accuracy: 0.8240\n",
            "313/313 [==============================] - 1s 2ms/step - loss: 3.7277 - accuracy: 0.7796\n",
            "313/313 [==============================] - 1s 2ms/step - loss: 2.1604 - accuracy: 0.8961\n",
            "313/313 [==============================] - 1s 2ms/step - loss: 2.0896 - accuracy: 0.8561\n",
            "313/313 [==============================] - 1s 2ms/step - loss: 5.5825 - accuracy: 0.7434\n",
            "313/313 [==============================] - 1s 2ms/step - loss: 2.8322 - accuracy: 0.8509\n",
            "313/313 [==============================] - 1s 2ms/step - loss: 2.6662 - accuracy: 0.8509\n",
            "313/313 [==============================] - 1s 2ms/step - loss: 2.4301 - accuracy: 0.8780\n",
            "313/313 [==============================] - 1s 2ms/step - loss: 2.1825 - accuracy: 0.8751\n",
            "313/313 [==============================] - 1s 2ms/step - loss: 2.7220 - accuracy: 0.8556\n",
            "Gen 3, Best Individual: Individual:  (784, 512) (512,) (512, 10) (10,); Fitness: 1.6300956010818481\n",
            "\n",
            "313/313 [==============================] - 1s 2ms/step - loss: 3.0732 - accuracy: 0.8335\n",
            "313/313 [==============================] - 1s 2ms/step - loss: 2.0213 - accuracy: 0.8637\n",
            "313/313 [==============================] - 1s 2ms/step - loss: 4.5407 - accuracy: 0.8246\n",
            "313/313 [==============================] - 1s 2ms/step - loss: 2.1471 - accuracy: 0.8671\n",
            "313/313 [==============================] - 1s 2ms/step - loss: 3.2790 - accuracy: 0.8343\n",
            "313/313 [==============================] - 1s 2ms/step - loss: 4.6806 - accuracy: 0.8190\n",
            "313/313 [==============================] - 1s 2ms/step - loss: 2.0857 - accuracy: 0.8866\n",
            "313/313 [==============================] - 1s 2ms/step - loss: 2.4284 - accuracy: 0.8490\n",
            "313/313 [==============================] - 1s 2ms/step - loss: 2.3963 - accuracy: 0.8448\n",
            "313/313 [==============================] - 1s 2ms/step - loss: 2.4944 - accuracy: 0.8503\n",
            "Gen 4, Best Individual: Individual:  (784, 512) (512,) (512, 10) (10,); Fitness: 1.6300956010818481\n",
            "\n",
            "313/313 [==============================] - 1s 2ms/step - loss: 3.1997 - accuracy: 0.7993\n",
            "313/313 [==============================] - 1s 2ms/step - loss: 1.7923 - accuracy: 0.8786\n",
            "313/313 [==============================] - 1s 2ms/step - loss: 2.0067 - accuracy: 0.8788\n",
            "313/313 [==============================] - 1s 2ms/step - loss: 2.7967 - accuracy: 0.8284\n",
            "313/313 [==============================] - 1s 2ms/step - loss: 2.5543 - accuracy: 0.8479\n",
            "313/313 [==============================] - 1s 2ms/step - loss: 1.9157 - accuracy: 0.8752\n",
            "313/313 [==============================] - 1s 2ms/step - loss: 2.3122 - accuracy: 0.8496\n",
            "313/313 [==============================] - 1s 2ms/step - loss: 1.9202 - accuracy: 0.8965\n",
            "313/313 [==============================] - 1s 2ms/step - loss: 3.9667 - accuracy: 0.7908\n",
            "313/313 [==============================] - 1s 2ms/step - loss: 3.6949 - accuracy: 0.8158\n",
            "Gen 5, Best Individual: Individual:  (784, 512) (512,) (512, 10) (10,); Fitness: 1.6300956010818481\n",
            "\n",
            "313/313 [==============================] - 1s 2ms/step - loss: 1.9064 - accuracy: 0.8744\n",
            "313/313 [==============================] - 1s 2ms/step - loss: 2.2099 - accuracy: 0.8812\n",
            "313/313 [==============================] - 1s 2ms/step - loss: 1.5296 - accuracy: 0.8952\n",
            "313/313 [==============================] - 1s 2ms/step - loss: 2.0835 - accuracy: 0.8653\n",
            "313/313 [==============================] - 1s 2ms/step - loss: 1.9681 - accuracy: 0.8924\n",
            "313/313 [==============================] - 1s 2ms/step - loss: 1.6335 - accuracy: 0.8875\n",
            "313/313 [==============================] - 1s 2ms/step - loss: 2.4803 - accuracy: 0.8542\n",
            "313/313 [==============================] - 1s 2ms/step - loss: 4.7994 - accuracy: 0.8100\n",
            "313/313 [==============================] - 1s 2ms/step - loss: 2.0953 - accuracy: 0.8886\n",
            "313/313 [==============================] - 1s 2ms/step - loss: 1.4524 - accuracy: 0.8992\n",
            "Gen 6, Best Individual: Individual:  (784, 512) (512,) (512, 10) (10,); Fitness: 1.452370524406433\n",
            "\n",
            "313/313 [==============================] - 1s 2ms/step - loss: 2.7952 - accuracy: 0.8221\n",
            "313/313 [==============================] - 1s 2ms/step - loss: 2.0387 - accuracy: 0.8720\n",
            "313/313 [==============================] - 1s 2ms/step - loss: 3.5452 - accuracy: 0.7987\n",
            "313/313 [==============================] - 1s 2ms/step - loss: 2.2412 - accuracy: 0.8513\n",
            "313/313 [==============================] - 1s 2ms/step - loss: 3.0973 - accuracy: 0.8021\n",
            "313/313 [==============================] - 1s 2ms/step - loss: 2.2316 - accuracy: 0.8497\n",
            "313/313 [==============================] - 1s 2ms/step - loss: 2.2537 - accuracy: 0.8589\n",
            "313/313 [==============================] - 1s 2ms/step - loss: 2.1698 - accuracy: 0.8644\n",
            "313/313 [==============================] - 1s 2ms/step - loss: 2.1906 - accuracy: 0.8663\n",
            "313/313 [==============================] - 1s 2ms/step - loss: 2.8452 - accuracy: 0.8310\n",
            "Gen 7, Best Individual: Individual:  (784, 512) (512,) (512, 10) (10,); Fitness: 1.452370524406433\n",
            "\n",
            "313/313 [==============================] - 1s 2ms/step - loss: 1.6078 - accuracy: 0.8930\n",
            "313/313 [==============================] - 1s 2ms/step - loss: 4.2386 - accuracy: 0.7735\n",
            "313/313 [==============================] - 1s 2ms/step - loss: 1.4698 - accuracy: 0.9093\n",
            "313/313 [==============================] - 1s 2ms/step - loss: 3.5966 - accuracy: 0.8204\n",
            "313/313 [==============================] - 1s 2ms/step - loss: 1.9514 - accuracy: 0.8650\n",
            "313/313 [==============================] - 1s 2ms/step - loss: 2.8730 - accuracy: 0.8253\n",
            "313/313 [==============================] - 1s 2ms/step - loss: 2.4270 - accuracy: 0.8248\n",
            "313/313 [==============================] - 1s 2ms/step - loss: 2.2608 - accuracy: 0.8458\n",
            "313/313 [==============================] - 1s 2ms/step - loss: 1.4790 - accuracy: 0.9031\n",
            "313/313 [==============================] - 1s 2ms/step - loss: 1.8998 - accuracy: 0.8687\n",
            "Gen 8, Best Individual: Individual:  (784, 512) (512,) (512, 10) (10,); Fitness: 1.452370524406433\n",
            "\n",
            "313/313 [==============================] - 1s 2ms/step - loss: 3.6854 - accuracy: 0.7893\n",
            "313/313 [==============================] - 1s 2ms/step - loss: 2.9920 - accuracy: 0.8019\n",
            "313/313 [==============================] - 1s 2ms/step - loss: 2.2504 - accuracy: 0.8360\n",
            "313/313 [==============================] - 1s 2ms/step - loss: 1.5943 - accuracy: 0.8952\n",
            "313/313 [==============================] - 1s 2ms/step - loss: 2.7953 - accuracy: 0.8379\n",
            "313/313 [==============================] - 1s 2ms/step - loss: 3.1141 - accuracy: 0.7939\n",
            "313/313 [==============================] - 1s 2ms/step - loss: 1.9829 - accuracy: 0.8768\n",
            "313/313 [==============================] - 1s 2ms/step - loss: 2.6734 - accuracy: 0.8106\n",
            "313/313 [==============================] - 1s 2ms/step - loss: 3.3594 - accuracy: 0.7716\n",
            "313/313 [==============================] - 1s 2ms/step - loss: 3.6070 - accuracy: 0.7924\n",
            "Gen 9, Best Individual: Individual:  (784, 512) (512,) (512, 10) (10,); Fitness: 1.452370524406433\n",
            "\n",
            "313/313 [==============================] - 1s 2ms/step - loss: 1.8516 - accuracy: 0.8842\n",
            "313/313 [==============================] - 1s 2ms/step - loss: 2.2590 - accuracy: 0.8571\n",
            "313/313 [==============================] - 1s 2ms/step - loss: 1.3525 - accuracy: 0.9061\n",
            "313/313 [==============================] - 1s 2ms/step - loss: 1.7791 - accuracy: 0.8878\n",
            "313/313 [==============================] - 1s 2ms/step - loss: 2.3913 - accuracy: 0.8592\n",
            "313/313 [==============================] - 1s 2ms/step - loss: 2.7461 - accuracy: 0.8266\n",
            "313/313 [==============================] - 1s 2ms/step - loss: 1.6762 - accuracy: 0.8929\n",
            "313/313 [==============================] - 1s 2ms/step - loss: 2.0295 - accuracy: 0.8748\n",
            "313/313 [==============================] - 1s 2ms/step - loss: 1.4275 - accuracy: 0.9067\n",
            "313/313 [==============================] - 1s 2ms/step - loss: 2.7076 - accuracy: 0.8385\n",
            "Gen 10, Best Individual: Individual:  (784, 512) (512,) (512, 10) (10,); Fitness: 1.3525123596191406\n",
            "\n",
            "Running GA iteration: 3\n",
            "313/313 [==============================] - 1s 2ms/step - loss: 2.6248 - accuracy: 0.8591\n",
            "313/313 [==============================] - 1s 2ms/step - loss: 2.2625 - accuracy: 0.8798\n",
            "313/313 [==============================] - 1s 2ms/step - loss: 2.5030 - accuracy: 0.8653\n",
            "313/313 [==============================] - 1s 2ms/step - loss: 2.6422 - accuracy: 0.8593\n",
            "313/313 [==============================] - 1s 2ms/step - loss: 2.3769 - accuracy: 0.8775\n",
            "313/313 [==============================] - 1s 2ms/step - loss: 2.7204 - accuracy: 0.8543\n",
            "313/313 [==============================] - 1s 2ms/step - loss: 2.2124 - accuracy: 0.8674\n",
            "313/313 [==============================] - 1s 2ms/step - loss: 2.9549 - accuracy: 0.8504\n",
            "313/313 [==============================] - 1s 2ms/step - loss: 4.4614 - accuracy: 0.7976\n",
            "313/313 [==============================] - 1s 2ms/step - loss: 2.7348 - accuracy: 0.8608\n",
            "313/313 [==============================] - 1s 2ms/step - loss: 2.0299 - accuracy: 0.8914\n",
            "313/313 [==============================] - 1s 2ms/step - loss: 2.8490 - accuracy: 0.8637\n",
            "313/313 [==============================] - 1s 2ms/step - loss: 1.8801 - accuracy: 0.8998\n",
            "313/313 [==============================] - 1s 2ms/step - loss: 2.8899 - accuracy: 0.8572\n",
            "313/313 [==============================] - 1s 2ms/step - loss: 2.4565 - accuracy: 0.8510\n",
            "313/313 [==============================] - 1s 2ms/step - loss: 3.4419 - accuracy: 0.8210\n",
            "313/313 [==============================] - 1s 2ms/step - loss: 2.7996 - accuracy: 0.8541\n",
            "313/313 [==============================] - 1s 2ms/step - loss: 2.5321 - accuracy: 0.8415\n",
            "313/313 [==============================] - 1s 2ms/step - loss: 5.3094 - accuracy: 0.8025\n",
            "313/313 [==============================] - 1s 2ms/step - loss: 2.3055 - accuracy: 0.8646\n",
            "Gen 1, Best Individual: Individual:  (784, 512) (512,) (512, 10) (10,); Fitness: 1.8801326751708984\n",
            "\n",
            "313/313 [==============================] - 1s 2ms/step - loss: 2.3789 - accuracy: 0.8457\n",
            "313/313 [==============================] - 1s 2ms/step - loss: 2.1838 - accuracy: 0.8481\n",
            "313/313 [==============================] - 1s 2ms/step - loss: 2.3645 - accuracy: 0.8712\n",
            "313/313 [==============================] - 1s 2ms/step - loss: 1.8603 - accuracy: 0.8960\n",
            "313/313 [==============================] - 1s 2ms/step - loss: 4.2073 - accuracy: 0.8295\n",
            "313/313 [==============================] - 1s 2ms/step - loss: 2.9148 - accuracy: 0.8591\n",
            "313/313 [==============================] - 1s 2ms/step - loss: 2.9967 - accuracy: 0.8508\n",
            "313/313 [==============================] - 1s 2ms/step - loss: 5.0281 - accuracy: 0.7212\n",
            "313/313 [==============================] - 1s 2ms/step - loss: 2.3465 - accuracy: 0.8729\n",
            "313/313 [==============================] - 1s 2ms/step - loss: 1.9032 - accuracy: 0.9001\n",
            "Gen 2, Best Individual: Individual:  (784, 512) (512,) (512, 10) (10,); Fitness: 1.860287070274353\n",
            "\n",
            "313/313 [==============================] - 1s 2ms/step - loss: 2.6374 - accuracy: 0.8652\n",
            "313/313 [==============================] - 1s 2ms/step - loss: 2.2901 - accuracy: 0.8709\n",
            "313/313 [==============================] - 1s 2ms/step - loss: 2.6465 - accuracy: 0.8547\n",
            "313/313 [==============================] - 1s 2ms/step - loss: 5.3100 - accuracy: 0.8261\n",
            "313/313 [==============================] - 1s 2ms/step - loss: 2.0731 - accuracy: 0.8906\n",
            "313/313 [==============================] - 1s 2ms/step - loss: 2.8133 - accuracy: 0.8756\n",
            "313/313 [==============================] - 1s 2ms/step - loss: 1.9633 - accuracy: 0.8948\n",
            "313/313 [==============================] - 1s 2ms/step - loss: 2.1079 - accuracy: 0.8842\n",
            "313/313 [==============================] - 1s 2ms/step - loss: 2.8670 - accuracy: 0.8533\n",
            "313/313 [==============================] - 1s 2ms/step - loss: 2.5683 - accuracy: 0.8517\n",
            "Gen 3, Best Individual: Individual:  (784, 512) (512,) (512, 10) (10,); Fitness: 1.860287070274353\n",
            "\n",
            "313/313 [==============================] - 1s 2ms/step - loss: 2.4958 - accuracy: 0.8493\n",
            "313/313 [==============================] - 1s 2ms/step - loss: 2.1525 - accuracy: 0.8798\n",
            "313/313 [==============================] - 1s 2ms/step - loss: 4.0408 - accuracy: 0.8340\n",
            "313/313 [==============================] - 1s 2ms/step - loss: 3.3567 - accuracy: 0.8428\n",
            "313/313 [==============================] - 1s 2ms/step - loss: 3.7192 - accuracy: 0.7997\n",
            "313/313 [==============================] - 1s 2ms/step - loss: 2.9456 - accuracy: 0.8442\n",
            "313/313 [==============================] - 1s 2ms/step - loss: 2.5255 - accuracy: 0.8770\n",
            "313/313 [==============================] - 1s 2ms/step - loss: 4.0628 - accuracy: 0.7899\n",
            "313/313 [==============================] - 1s 2ms/step - loss: 2.8484 - accuracy: 0.7957\n",
            "313/313 [==============================] - 1s 2ms/step - loss: 2.1744 - accuracy: 0.8651\n",
            "Gen 4, Best Individual: Individual:  (784, 512) (512,) (512, 10) (10,); Fitness: 1.860287070274353\n",
            "\n",
            "313/313 [==============================] - 1s 2ms/step - loss: 1.9962 - accuracy: 0.8944\n",
            "313/313 [==============================] - 1s 2ms/step - loss: 1.9170 - accuracy: 0.8885\n",
            "313/313 [==============================] - 1s 2ms/step - loss: 3.0713 - accuracy: 0.8192\n",
            "313/313 [==============================] - 1s 2ms/step - loss: 3.3807 - accuracy: 0.8059\n",
            "313/313 [==============================] - 1s 2ms/step - loss: 1.9848 - accuracy: 0.8890\n",
            "313/313 [==============================] - 1s 2ms/step - loss: 2.8325 - accuracy: 0.8418\n",
            "313/313 [==============================] - 1s 2ms/step - loss: 2.4611 - accuracy: 0.8636\n",
            "313/313 [==============================] - 1s 2ms/step - loss: 4.0664 - accuracy: 0.8039\n",
            "313/313 [==============================] - 1s 2ms/step - loss: 3.4247 - accuracy: 0.8286\n",
            "313/313 [==============================] - 1s 2ms/step - loss: 2.6771 - accuracy: 0.8599\n",
            "Gen 5, Best Individual: Individual:  (784, 512) (512,) (512, 10) (10,); Fitness: 1.860287070274353\n",
            "\n",
            "313/313 [==============================] - 1s 2ms/step - loss: 5.2098 - accuracy: 0.7966\n",
            "313/313 [==============================] - 1s 2ms/step - loss: 4.4791 - accuracy: 0.7926\n",
            "313/313 [==============================] - 1s 2ms/step - loss: 2.3286 - accuracy: 0.8832\n",
            "313/313 [==============================] - 1s 2ms/step - loss: 1.9248 - accuracy: 0.8936\n",
            "313/313 [==============================] - 1s 2ms/step - loss: 2.1312 - accuracy: 0.8794\n",
            "313/313 [==============================] - 1s 2ms/step - loss: 2.7870 - accuracy: 0.8494\n",
            "313/313 [==============================] - 1s 2ms/step - loss: 3.2929 - accuracy: 0.8545\n",
            "313/313 [==============================] - 1s 2ms/step - loss: 1.9868 - accuracy: 0.8854\n",
            "313/313 [==============================] - 1s 2ms/step - loss: 2.3626 - accuracy: 0.8688\n",
            "313/313 [==============================] - 1s 2ms/step - loss: 3.1792 - accuracy: 0.8359\n",
            "Gen 6, Best Individual: Individual:  (784, 512) (512,) (512, 10) (10,); Fitness: 1.860287070274353\n",
            "\n",
            "313/313 [==============================] - 1s 2ms/step - loss: 2.7046 - accuracy: 0.8473\n",
            "313/313 [==============================] - 1s 2ms/step - loss: 2.5967 - accuracy: 0.8607\n",
            "313/313 [==============================] - 1s 2ms/step - loss: 2.2887 - accuracy: 0.8842\n",
            "313/313 [==============================] - 1s 2ms/step - loss: 2.1650 - accuracy: 0.8791\n",
            "313/313 [==============================] - 1s 2ms/step - loss: 3.2513 - accuracy: 0.8245\n",
            "313/313 [==============================] - 1s 2ms/step - loss: 2.9521 - accuracy: 0.8572\n",
            "313/313 [==============================] - 1s 2ms/step - loss: 3.6695 - accuracy: 0.8192\n",
            "313/313 [==============================] - 1s 2ms/step - loss: 2.9526 - accuracy: 0.8470\n",
            "313/313 [==============================] - 1s 2ms/step - loss: 2.6468 - accuracy: 0.8636\n",
            "313/313 [==============================] - 1s 2ms/step - loss: 3.7237 - accuracy: 0.8216\n",
            "Gen 7, Best Individual: Individual:  (784, 512) (512,) (512, 10) (10,); Fitness: 1.860287070274353\n",
            "\n",
            "313/313 [==============================] - 1s 2ms/step - loss: 2.2108 - accuracy: 0.8857\n",
            "313/313 [==============================] - 1s 2ms/step - loss: 2.6523 - accuracy: 0.8642\n",
            "313/313 [==============================] - 1s 2ms/step - loss: 3.1917 - accuracy: 0.8325\n",
            "313/313 [==============================] - 1s 2ms/step - loss: 3.3310 - accuracy: 0.8402\n",
            "313/313 [==============================] - 1s 2ms/step - loss: 5.4784 - accuracy: 0.7435\n",
            "313/313 [==============================] - 1s 2ms/step - loss: 1.9587 - accuracy: 0.8823\n",
            "313/313 [==============================] - 1s 2ms/step - loss: 3.3759 - accuracy: 0.8156\n",
            "313/313 [==============================] - 1s 2ms/step - loss: 3.8580 - accuracy: 0.8148\n",
            "313/313 [==============================] - 1s 2ms/step - loss: 2.5252 - accuracy: 0.8554\n",
            "313/313 [==============================] - 1s 2ms/step - loss: 2.3799 - accuracy: 0.8565\n",
            "Gen 8, Best Individual: Individual:  (784, 512) (512,) (512, 10) (10,); Fitness: 1.860287070274353\n",
            "\n",
            "313/313 [==============================] - 1s 2ms/step - loss: 2.7736 - accuracy: 0.8546\n",
            "313/313 [==============================] - 1s 2ms/step - loss: 2.3424 - accuracy: 0.8737\n",
            "313/313 [==============================] - 1s 2ms/step - loss: 2.8927 - accuracy: 0.8487\n",
            "313/313 [==============================] - 1s 2ms/step - loss: 3.3562 - accuracy: 0.8249\n",
            "313/313 [==============================] - 1s 2ms/step - loss: 2.9967 - accuracy: 0.8448\n",
            "313/313 [==============================] - 1s 2ms/step - loss: 2.1327 - accuracy: 0.8826\n",
            "313/313 [==============================] - 1s 2ms/step - loss: 2.8514 - accuracy: 0.8522\n",
            "313/313 [==============================] - 1s 2ms/step - loss: 2.1529 - accuracy: 0.8728\n",
            "313/313 [==============================] - 1s 2ms/step - loss: 4.0675 - accuracy: 0.8175\n",
            "313/313 [==============================] - 1s 2ms/step - loss: 2.6752 - accuracy: 0.8409\n",
            "Gen 9, Best Individual: Individual:  (784, 512) (512,) (512, 10) (10,); Fitness: 1.860287070274353\n",
            "\n",
            "313/313 [==============================] - 1s 2ms/step - loss: 2.5502 - accuracy: 0.8527\n",
            "313/313 [==============================] - 1s 2ms/step - loss: 3.1847 - accuracy: 0.8443\n",
            "313/313 [==============================] - 1s 2ms/step - loss: 2.6618 - accuracy: 0.8529\n",
            "313/313 [==============================] - 1s 2ms/step - loss: 2.4882 - accuracy: 0.8568\n",
            "313/313 [==============================] - 1s 2ms/step - loss: 2.2692 - accuracy: 0.8650\n",
            "313/313 [==============================] - 1s 2ms/step - loss: 2.8374 - accuracy: 0.8496\n",
            "313/313 [==============================] - 1s 2ms/step - loss: 2.3879 - accuracy: 0.8651\n",
            "313/313 [==============================] - 1s 2ms/step - loss: 2.2187 - accuracy: 0.8751\n",
            "313/313 [==============================] - 1s 2ms/step - loss: 2.2527 - accuracy: 0.8837\n",
            "313/313 [==============================] - 1s 2ms/step - loss: 2.2915 - accuracy: 0.8739\n",
            "Gen 10, Best Individual: Individual:  (784, 512) (512,) (512, 10) (10,); Fitness: 1.860287070274353\n",
            "\n",
            "Running GA iteration: 4\n",
            "313/313 [==============================] - 1s 2ms/step - loss: 3.4605 - accuracy: 0.8432\n",
            "313/313 [==============================] - 1s 2ms/step - loss: 2.3239 - accuracy: 0.8779\n",
            "313/313 [==============================] - 1s 2ms/step - loss: 1.8163 - accuracy: 0.8936\n",
            "313/313 [==============================] - 1s 2ms/step - loss: 2.3399 - accuracy: 0.8799\n",
            "313/313 [==============================] - 1s 2ms/step - loss: 3.4823 - accuracy: 0.8287\n",
            "313/313 [==============================] - 1s 2ms/step - loss: 3.4219 - accuracy: 0.8118\n",
            "313/313 [==============================] - 1s 2ms/step - loss: 2.1341 - accuracy: 0.8834\n",
            "313/313 [==============================] - 1s 2ms/step - loss: 2.5415 - accuracy: 0.8644\n",
            "313/313 [==============================] - 1s 2ms/step - loss: 2.0032 - accuracy: 0.8962\n",
            "313/313 [==============================] - 2s 2ms/step - loss: 2.5465 - accuracy: 0.8695\n",
            "313/313 [==============================] - 1s 2ms/step - loss: 1.8504 - accuracy: 0.8719\n",
            "313/313 [==============================] - 1s 2ms/step - loss: 1.6259 - accuracy: 0.8815\n",
            "313/313 [==============================] - 1s 2ms/step - loss: 3.8819 - accuracy: 0.8035\n",
            "313/313 [==============================] - 1s 2ms/step - loss: 2.0754 - accuracy: 0.8901\n",
            "313/313 [==============================] - 1s 2ms/step - loss: 2.3662 - accuracy: 0.8600\n",
            "313/313 [==============================] - 1s 2ms/step - loss: 3.5669 - accuracy: 0.8112\n",
            "313/313 [==============================] - 1s 2ms/step - loss: 3.6364 - accuracy: 0.8188\n",
            "313/313 [==============================] - 1s 2ms/step - loss: 4.0298 - accuracy: 0.8163\n",
            "313/313 [==============================] - 1s 2ms/step - loss: 2.3645 - accuracy: 0.8735\n",
            "313/313 [==============================] - 1s 2ms/step - loss: 2.6536 - accuracy: 0.8596\n",
            "Gen 1, Best Individual: Individual:  (784, 512) (512,) (512, 10) (10,); Fitness: 1.6258805990219116\n",
            "\n",
            "313/313 [==============================] - 1s 2ms/step - loss: 2.4867 - accuracy: 0.8524\n",
            "313/313 [==============================] - 1s 2ms/step - loss: 3.1842 - accuracy: 0.8383\n",
            "313/313 [==============================] - 1s 2ms/step - loss: 3.8823 - accuracy: 0.8208\n",
            "313/313 [==============================] - 1s 2ms/step - loss: 1.9029 - accuracy: 0.8903\n",
            "313/313 [==============================] - 1s 2ms/step - loss: 1.9604 - accuracy: 0.8659\n",
            "313/313 [==============================] - 1s 2ms/step - loss: 2.9210 - accuracy: 0.8250\n",
            "313/313 [==============================] - 1s 2ms/step - loss: 1.9152 - accuracy: 0.8816\n",
            "313/313 [==============================] - 1s 2ms/step - loss: 4.1373 - accuracy: 0.8156\n",
            "313/313 [==============================] - 1s 2ms/step - loss: 2.2887 - accuracy: 0.8725\n",
            "313/313 [==============================] - 1s 2ms/step - loss: 3.6784 - accuracy: 0.8179\n",
            "Gen 2, Best Individual: Individual:  (784, 512) (512,) (512, 10) (10,); Fitness: 1.6258805990219116\n",
            "\n",
            "313/313 [==============================] - 1s 2ms/step - loss: 2.2275 - accuracy: 0.8550\n",
            "313/313 [==============================] - 1s 2ms/step - loss: 1.7250 - accuracy: 0.8902\n",
            "313/313 [==============================] - 1s 2ms/step - loss: 3.1519 - accuracy: 0.8264\n",
            "313/313 [==============================] - 1s 2ms/step - loss: 2.5803 - accuracy: 0.8653\n",
            "313/313 [==============================] - 1s 2ms/step - loss: 3.0322 - accuracy: 0.8397\n",
            "313/313 [==============================] - 1s 2ms/step - loss: 2.3797 - accuracy: 0.8729\n",
            "313/313 [==============================] - 1s 2ms/step - loss: 1.7533 - accuracy: 0.8835\n",
            "313/313 [==============================] - 1s 2ms/step - loss: 1.9798 - accuracy: 0.8716\n",
            "313/313 [==============================] - 1s 2ms/step - loss: 1.9698 - accuracy: 0.8652\n",
            "313/313 [==============================] - 1s 2ms/step - loss: 2.0883 - accuracy: 0.8540\n",
            "Gen 3, Best Individual: Individual:  (784, 512) (512,) (512, 10) (10,); Fitness: 1.6258805990219116\n",
            "\n",
            "313/313 [==============================] - 1s 2ms/step - loss: 2.3911 - accuracy: 0.8325\n",
            "313/313 [==============================] - 1s 2ms/step - loss: 2.9217 - accuracy: 0.8234\n",
            "313/313 [==============================] - 1s 2ms/step - loss: 2.4238 - accuracy: 0.8403\n",
            "313/313 [==============================] - 1s 2ms/step - loss: 6.3354 - accuracy: 0.7653\n",
            "313/313 [==============================] - 1s 2ms/step - loss: 2.5274 - accuracy: 0.8459\n",
            "313/313 [==============================] - 1s 2ms/step - loss: 1.7947 - accuracy: 0.8729\n",
            "313/313 [==============================] - 1s 2ms/step - loss: 3.0060 - accuracy: 0.8256\n",
            "313/313 [==============================] - 1s 2ms/step - loss: 1.6278 - accuracy: 0.8777\n",
            "313/313 [==============================] - 1s 2ms/step - loss: 1.8839 - accuracy: 0.8596\n",
            "313/313 [==============================] - 1s 2ms/step - loss: 2.1623 - accuracy: 0.8451\n",
            "Gen 4, Best Individual: Individual:  (784, 512) (512,) (512, 10) (10,); Fitness: 1.6258805990219116\n",
            "\n",
            "313/313 [==============================] - 1s 2ms/step - loss: 4.0641 - accuracy: 0.7516\n",
            "313/313 [==============================] - 1s 2ms/step - loss: 2.0679 - accuracy: 0.8636\n",
            "313/313 [==============================] - 1s 2ms/step - loss: 3.9741 - accuracy: 0.7657\n",
            "313/313 [==============================] - 1s 2ms/step - loss: 3.2369 - accuracy: 0.7906\n",
            "313/313 [==============================] - 1s 2ms/step - loss: 3.2010 - accuracy: 0.8155\n",
            "313/313 [==============================] - 1s 2ms/step - loss: 3.0736 - accuracy: 0.8076\n",
            "313/313 [==============================] - 1s 2ms/step - loss: 2.3959 - accuracy: 0.8527\n",
            "313/313 [==============================] - 1s 2ms/step - loss: 1.3926 - accuracy: 0.9070\n",
            "313/313 [==============================] - 1s 2ms/step - loss: 1.6513 - accuracy: 0.8945\n",
            "313/313 [==============================] - 1s 2ms/step - loss: 2.0875 - accuracy: 0.8723\n",
            "Gen 5, Best Individual: Individual:  (784, 512) (512,) (512, 10) (10,); Fitness: 1.3925604820251465\n",
            "\n",
            "313/313 [==============================] - 1s 2ms/step - loss: 1.8892 - accuracy: 0.8752\n",
            "313/313 [==============================] - 1s 2ms/step - loss: 1.7169 - accuracy: 0.8898\n",
            "313/313 [==============================] - 1s 2ms/step - loss: 2.0776 - accuracy: 0.8651\n",
            "313/313 [==============================] - 1s 2ms/step - loss: 2.2728 - accuracy: 0.8530\n",
            "313/313 [==============================] - 1s 2ms/step - loss: 1.5441 - accuracy: 0.9003\n",
            "313/313 [==============================] - 1s 2ms/step - loss: 2.7953 - accuracy: 0.8111\n",
            "313/313 [==============================] - 1s 2ms/step - loss: 2.2801 - accuracy: 0.8528\n",
            "313/313 [==============================] - 1s 2ms/step - loss: 2.9786 - accuracy: 0.8545\n",
            "313/313 [==============================] - 1s 2ms/step - loss: 2.2666 - accuracy: 0.8445\n",
            "313/313 [==============================] - 1s 2ms/step - loss: 2.0684 - accuracy: 0.8553\n",
            "Gen 6, Best Individual: Individual:  (784, 512) (512,) (512, 10) (10,); Fitness: 1.3925604820251465\n",
            "\n",
            "313/313 [==============================] - 1s 2ms/step - loss: 1.5593 - accuracy: 0.8933\n",
            "313/313 [==============================] - 1s 2ms/step - loss: 1.9919 - accuracy: 0.8754\n",
            "313/313 [==============================] - 2s 2ms/step - loss: 2.5738 - accuracy: 0.8291\n",
            "313/313 [==============================] - 1s 2ms/step - loss: 2.0195 - accuracy: 0.8604\n",
            "313/313 [==============================] - 1s 2ms/step - loss: 1.6016 - accuracy: 0.8946\n",
            "313/313 [==============================] - 1s 2ms/step - loss: 2.4607 - accuracy: 0.8394\n",
            "313/313 [==============================] - 1s 2ms/step - loss: 2.8358 - accuracy: 0.8398\n",
            "313/313 [==============================] - 1s 2ms/step - loss: 1.9169 - accuracy: 0.8698\n",
            "313/313 [==============================] - 1s 2ms/step - loss: 2.1552 - accuracy: 0.8612\n",
            "313/313 [==============================] - 1s 2ms/step - loss: 2.1078 - accuracy: 0.8646\n",
            "Gen 7, Best Individual: Individual:  (784, 512) (512,) (512, 10) (10,); Fitness: 1.3925604820251465\n",
            "\n",
            "313/313 [==============================] - 1s 2ms/step - loss: 1.8197 - accuracy: 0.8902\n",
            "313/313 [==============================] - 1s 2ms/step - loss: 2.4929 - accuracy: 0.8603\n",
            "313/313 [==============================] - 1s 2ms/step - loss: 2.3737 - accuracy: 0.8483\n",
            "313/313 [==============================] - 1s 2ms/step - loss: 3.2693 - accuracy: 0.8017\n",
            "313/313 [==============================] - 1s 2ms/step - loss: 2.0317 - accuracy: 0.8574\n",
            "313/313 [==============================] - 1s 2ms/step - loss: 2.3573 - accuracy: 0.8290\n",
            "313/313 [==============================] - 1s 2ms/step - loss: 1.8357 - accuracy: 0.8774\n",
            "313/313 [==============================] - 1s 2ms/step - loss: 1.4851 - accuracy: 0.9057\n",
            "313/313 [==============================] - 1s 2ms/step - loss: 1.6726 - accuracy: 0.8834\n",
            "313/313 [==============================] - 1s 2ms/step - loss: 2.1322 - accuracy: 0.8798\n",
            "Gen 8, Best Individual: Individual:  (784, 512) (512,) (512, 10) (10,); Fitness: 1.3925604820251465\n",
            "\n",
            "313/313 [==============================] - 1s 2ms/step - loss: 2.4953 - accuracy: 0.8373\n",
            "313/313 [==============================] - 1s 2ms/step - loss: 1.6711 - accuracy: 0.8767\n",
            "313/313 [==============================] - 1s 2ms/step - loss: 2.6773 - accuracy: 0.8323\n",
            "313/313 [==============================] - 1s 2ms/step - loss: 2.0620 - accuracy: 0.8694\n",
            "313/313 [==============================] - 1s 2ms/step - loss: 1.7227 - accuracy: 0.8834\n",
            "313/313 [==============================] - 1s 2ms/step - loss: 3.8920 - accuracy: 0.8067\n",
            "313/313 [==============================] - 1s 2ms/step - loss: 3.3648 - accuracy: 0.8217\n",
            "313/313 [==============================] - 1s 2ms/step - loss: 1.3478 - accuracy: 0.9007\n",
            "313/313 [==============================] - 1s 2ms/step - loss: 2.6726 - accuracy: 0.8434\n",
            "313/313 [==============================] - 1s 2ms/step - loss: 3.2397 - accuracy: 0.8057\n",
            "Gen 9, Best Individual: Individual:  (784, 512) (512,) (512, 10) (10,); Fitness: 1.3478401899337769\n",
            "\n",
            "313/313 [==============================] - 1s 2ms/step - loss: 3.8758 - accuracy: 0.8001\n",
            "313/313 [==============================] - 1s 2ms/step - loss: 2.6667 - accuracy: 0.8185\n",
            "313/313 [==============================] - 1s 2ms/step - loss: 1.7149 - accuracy: 0.8765\n",
            "313/313 [==============================] - 1s 2ms/step - loss: 2.7563 - accuracy: 0.8323\n",
            "313/313 [==============================] - 1s 2ms/step - loss: 2.0922 - accuracy: 0.8595\n",
            "313/313 [==============================] - 1s 2ms/step - loss: 4.3826 - accuracy: 0.7431\n",
            "313/313 [==============================] - 1s 2ms/step - loss: 1.8208 - accuracy: 0.8719\n",
            "313/313 [==============================] - 1s 2ms/step - loss: 2.3548 - accuracy: 0.8421\n",
            "313/313 [==============================] - 1s 2ms/step - loss: 4.0463 - accuracy: 0.7866\n",
            "313/313 [==============================] - 1s 2ms/step - loss: 2.0391 - accuracy: 0.8661\n",
            "Gen 10, Best Individual: Individual:  (784, 512) (512,) (512, 10) (10,); Fitness: 1.3478401899337769\n",
            "\n",
            "Running GA iteration: 5\n",
            "313/313 [==============================] - 1s 2ms/step - loss: 2.3806 - accuracy: 0.8778\n",
            "313/313 [==============================] - 1s 2ms/step - loss: 3.6337 - accuracy: 0.8450\n",
            "313/313 [==============================] - 1s 2ms/step - loss: 2.1222 - accuracy: 0.8861\n",
            "313/313 [==============================] - 1s 2ms/step - loss: 2.3056 - accuracy: 0.8797\n",
            "313/313 [==============================] - 1s 2ms/step - loss: 5.0265 - accuracy: 0.7729\n",
            "313/313 [==============================] - 1s 2ms/step - loss: 3.5361 - accuracy: 0.8299\n",
            "313/313 [==============================] - 1s 2ms/step - loss: 3.1307 - accuracy: 0.8482\n",
            "313/313 [==============================] - 1s 2ms/step - loss: 2.1594 - accuracy: 0.8872\n",
            "313/313 [==============================] - 1s 2ms/step - loss: 2.7176 - accuracy: 0.8534\n",
            "313/313 [==============================] - 1s 2ms/step - loss: 2.5595 - accuracy: 0.8711\n",
            "313/313 [==============================] - 1s 2ms/step - loss: 5.4506 - accuracy: 0.7934\n",
            "313/313 [==============================] - 1s 2ms/step - loss: 2.2201 - accuracy: 0.8750\n",
            "313/313 [==============================] - 1s 2ms/step - loss: 3.6678 - accuracy: 0.8205\n",
            "313/313 [==============================] - 1s 2ms/step - loss: 2.5085 - accuracy: 0.8722\n",
            "313/313 [==============================] - 1s 2ms/step - loss: 2.4671 - accuracy: 0.8680\n",
            "313/313 [==============================] - 1s 2ms/step - loss: 2.5853 - accuracy: 0.8656\n",
            "313/313 [==============================] - 1s 2ms/step - loss: 3.1028 - accuracy: 0.8473\n",
            "313/313 [==============================] - 1s 2ms/step - loss: 3.1304 - accuracy: 0.8462\n",
            "313/313 [==============================] - 1s 2ms/step - loss: 2.5773 - accuracy: 0.8637\n",
            "313/313 [==============================] - 1s 2ms/step - loss: 2.1529 - accuracy: 0.8896\n",
            "Gen 1, Best Individual: Individual:  (784, 512) (512,) (512, 10) (10,); Fitness: 2.122241497039795\n",
            "\n",
            "313/313 [==============================] - 1s 2ms/step - loss: 3.4889 - accuracy: 0.8326\n",
            "313/313 [==============================] - 1s 2ms/step - loss: 2.2110 - accuracy: 0.8830\n",
            "313/313 [==============================] - 1s 2ms/step - loss: 2.2345 - accuracy: 0.8924\n",
            "313/313 [==============================] - 1s 2ms/step - loss: 3.0580 - accuracy: 0.8599\n",
            "313/313 [==============================] - 1s 2ms/step - loss: 2.4828 - accuracy: 0.8456\n",
            "313/313 [==============================] - 2s 2ms/step - loss: 4.7458 - accuracy: 0.7807\n",
            "313/313 [==============================] - 1s 2ms/step - loss: 2.2290 - accuracy: 0.8731\n",
            "313/313 [==============================] - 1s 2ms/step - loss: 2.6239 - accuracy: 0.8695\n",
            "313/313 [==============================] - 1s 2ms/step - loss: 2.4199 - accuracy: 0.8669\n",
            "313/313 [==============================] - 1s 2ms/step - loss: 1.8265 - accuracy: 0.9052\n",
            "Gen 2, Best Individual: Individual:  (784, 512) (512,) (512, 10) (10,); Fitness: 1.8264557123184204\n",
            "\n",
            "313/313 [==============================] - 1s 2ms/step - loss: 3.1842 - accuracy: 0.8212\n",
            "313/313 [==============================] - 1s 2ms/step - loss: 2.7735 - accuracy: 0.8623\n",
            "313/313 [==============================] - 1s 2ms/step - loss: 2.0662 - accuracy: 0.8838\n",
            "313/313 [==============================] - 1s 2ms/step - loss: 4.9045 - accuracy: 0.8253\n",
            "313/313 [==============================] - 1s 2ms/step - loss: 1.7311 - accuracy: 0.9098\n",
            "313/313 [==============================] - 1s 2ms/step - loss: 2.4311 - accuracy: 0.8656\n",
            "313/313 [==============================] - 1s 2ms/step - loss: 2.8750 - accuracy: 0.8540\n",
            "313/313 [==============================] - 1s 2ms/step - loss: 2.8803 - accuracy: 0.8556\n",
            "313/313 [==============================] - 1s 2ms/step - loss: 4.0526 - accuracy: 0.8143\n",
            "313/313 [==============================] - 1s 2ms/step - loss: 2.8884 - accuracy: 0.8589\n",
            "Gen 3, Best Individual: Individual:  (784, 512) (512,) (512, 10) (10,); Fitness: 1.7310638427734375\n",
            "\n",
            "313/313 [==============================] - 1s 2ms/step - loss: 2.9395 - accuracy: 0.8222\n",
            "313/313 [==============================] - 1s 2ms/step - loss: 2.3081 - accuracy: 0.8797\n",
            "313/313 [==============================] - 1s 2ms/step - loss: 2.3282 - accuracy: 0.8787\n",
            "313/313 [==============================] - 1s 2ms/step - loss: 2.6782 - accuracy: 0.8664\n",
            "313/313 [==============================] - 1s 2ms/step - loss: 2.0661 - accuracy: 0.8895\n",
            "313/313 [==============================] - 1s 2ms/step - loss: 4.0623 - accuracy: 0.8091\n",
            "313/313 [==============================] - 1s 2ms/step - loss: 3.1031 - accuracy: 0.8431\n",
            "313/313 [==============================] - 1s 2ms/step - loss: 2.1005 - accuracy: 0.8960\n",
            "313/313 [==============================] - 1s 2ms/step - loss: 2.6459 - accuracy: 0.8446\n",
            "313/313 [==============================] - 1s 2ms/step - loss: 2.2038 - accuracy: 0.8807\n",
            "Gen 4, Best Individual: Individual:  (784, 512) (512,) (512, 10) (10,); Fitness: 1.7310638427734375\n",
            "\n",
            "313/313 [==============================] - 1s 2ms/step - loss: 2.5168 - accuracy: 0.8687\n",
            "313/313 [==============================] - 1s 2ms/step - loss: 2.1677 - accuracy: 0.8773\n",
            "313/313 [==============================] - 1s 2ms/step - loss: 3.0165 - accuracy: 0.8387\n",
            "313/313 [==============================] - 1s 2ms/step - loss: 3.2733 - accuracy: 0.8403\n",
            "313/313 [==============================] - 1s 2ms/step - loss: 2.9276 - accuracy: 0.8660\n",
            "313/313 [==============================] - 1s 2ms/step - loss: 2.8057 - accuracy: 0.8606\n",
            "313/313 [==============================] - 1s 2ms/step - loss: 2.2330 - accuracy: 0.8897\n",
            "313/313 [==============================] - 1s 2ms/step - loss: 3.0203 - accuracy: 0.8353\n",
            "313/313 [==============================] - 1s 2ms/step - loss: 2.5009 - accuracy: 0.8688\n",
            "313/313 [==============================] - 1s 2ms/step - loss: 4.3678 - accuracy: 0.8095\n",
            "Gen 5, Best Individual: Individual:  (784, 512) (512,) (512, 10) (10,); Fitness: 1.7310638427734375\n",
            "\n",
            "313/313 [==============================] - 1s 2ms/step - loss: 4.1635 - accuracy: 0.8146\n",
            "313/313 [==============================] - 1s 2ms/step - loss: 2.2700 - accuracy: 0.8732\n",
            "313/313 [==============================] - 1s 2ms/step - loss: 2.6109 - accuracy: 0.8630\n",
            "313/313 [==============================] - 1s 2ms/step - loss: 6.1956 - accuracy: 0.7835\n",
            "313/313 [==============================] - 1s 2ms/step - loss: 2.6109 - accuracy: 0.8556\n",
            "313/313 [==============================] - 1s 2ms/step - loss: 2.8361 - accuracy: 0.8534\n",
            "313/313 [==============================] - 1s 2ms/step - loss: 3.2492 - accuracy: 0.8447\n",
            "313/313 [==============================] - 1s 2ms/step - loss: 2.1950 - accuracy: 0.8913\n",
            "313/313 [==============================] - 1s 2ms/step - loss: 2.1568 - accuracy: 0.8878\n",
            "313/313 [==============================] - 1s 2ms/step - loss: 2.3385 - accuracy: 0.8760\n",
            "Gen 6, Best Individual: Individual:  (784, 512) (512,) (512, 10) (10,); Fitness: 1.7310638427734375\n",
            "\n",
            "313/313 [==============================] - 1s 2ms/step - loss: 3.2000 - accuracy: 0.8347\n",
            "313/313 [==============================] - 1s 2ms/step - loss: 2.2619 - accuracy: 0.8622\n",
            "313/313 [==============================] - 1s 2ms/step - loss: 2.4353 - accuracy: 0.8597\n",
            "313/313 [==============================] - 1s 2ms/step - loss: 3.4167 - accuracy: 0.8133\n",
            "313/313 [==============================] - 1s 2ms/step - loss: 2.6492 - accuracy: 0.8747\n",
            "313/313 [==============================] - 1s 2ms/step - loss: 2.7738 - accuracy: 0.8628\n",
            "313/313 [==============================] - 1s 2ms/step - loss: 1.9822 - accuracy: 0.8901\n",
            "313/313 [==============================] - 1s 2ms/step - loss: 3.1504 - accuracy: 0.8368\n",
            "313/313 [==============================] - 1s 2ms/step - loss: 3.3412 - accuracy: 0.8265\n",
            "313/313 [==============================] - 1s 2ms/step - loss: 3.2011 - accuracy: 0.8276\n",
            "Gen 7, Best Individual: Individual:  (784, 512) (512,) (512, 10) (10,); Fitness: 1.7310638427734375\n",
            "\n",
            "313/313 [==============================] - 1s 2ms/step - loss: 1.9478 - accuracy: 0.8910\n",
            "313/313 [==============================] - 1s 2ms/step - loss: 2.3478 - accuracy: 0.8705\n",
            "313/313 [==============================] - 1s 2ms/step - loss: 2.5082 - accuracy: 0.8539\n",
            "313/313 [==============================] - 1s 2ms/step - loss: 4.4820 - accuracy: 0.7749\n",
            "313/313 [==============================] - 1s 2ms/step - loss: 3.2619 - accuracy: 0.8083\n",
            "313/313 [==============================] - 1s 2ms/step - loss: 2.9508 - accuracy: 0.8508\n",
            "313/313 [==============================] - 1s 2ms/step - loss: 3.7918 - accuracy: 0.8121\n",
            "313/313 [==============================] - 1s 2ms/step - loss: 2.2172 - accuracy: 0.8822\n",
            "313/313 [==============================] - 1s 2ms/step - loss: 1.6732 - accuracy: 0.9001\n",
            "313/313 [==============================] - 1s 2ms/step - loss: 1.8882 - accuracy: 0.8916\n",
            "Gen 8, Best Individual: Individual:  (784, 512) (512,) (512, 10) (10,); Fitness: 1.6732441186904907\n",
            "\n",
            "313/313 [==============================] - 1s 2ms/step - loss: 2.6121 - accuracy: 0.8695\n",
            "313/313 [==============================] - 1s 3ms/step - loss: 2.4274 - accuracy: 0.8730\n",
            "313/313 [==============================] - 1s 2ms/step - loss: 2.4606 - accuracy: 0.8568\n",
            "313/313 [==============================] - 1s 2ms/step - loss: 3.5349 - accuracy: 0.8278\n",
            "313/313 [==============================] - 1s 2ms/step - loss: 3.8261 - accuracy: 0.8201\n",
            "313/313 [==============================] - 1s 2ms/step - loss: 2.4608 - accuracy: 0.8842\n",
            "313/313 [==============================] - 1s 2ms/step - loss: 1.7620 - accuracy: 0.8966\n",
            "313/313 [==============================] - 1s 2ms/step - loss: 3.6907 - accuracy: 0.8436\n",
            "313/313 [==============================] - 1s 2ms/step - loss: 2.5074 - accuracy: 0.8532\n",
            "313/313 [==============================] - 1s 2ms/step - loss: 1.8165 - accuracy: 0.8964\n",
            "Gen 9, Best Individual: Individual:  (784, 512) (512,) (512, 10) (10,); Fitness: 1.6732441186904907\n",
            "\n",
            "313/313 [==============================] - 1s 2ms/step - loss: 3.1575 - accuracy: 0.8224\n",
            "313/313 [==============================] - 1s 2ms/step - loss: 2.0614 - accuracy: 0.8861\n",
            "313/313 [==============================] - 1s 2ms/step - loss: 4.0111 - accuracy: 0.8043\n",
            "313/313 [==============================] - 1s 2ms/step - loss: 2.5290 - accuracy: 0.8510\n",
            "313/313 [==============================] - 1s 2ms/step - loss: 2.2763 - accuracy: 0.8653\n",
            "313/313 [==============================] - 1s 2ms/step - loss: 3.0794 - accuracy: 0.8265\n",
            "313/313 [==============================] - 1s 2ms/step - loss: 2.0131 - accuracy: 0.8747\n",
            "313/313 [==============================] - 1s 2ms/step - loss: 2.0968 - accuracy: 0.8860\n",
            "313/313 [==============================] - 1s 2ms/step - loss: 1.9510 - accuracy: 0.8845\n",
            "313/313 [==============================] - 1s 2ms/step - loss: 2.2145 - accuracy: 0.8882\n",
            "Gen 10, Best Individual: Individual:  (784, 512) (512,) (512, 10) (10,); Fitness: 1.6732441186904907\n",
            "\n",
            "Running GA iteration: 6\n",
            "313/313 [==============================] - 1s 2ms/step - loss: 2.8148 - accuracy: 0.8612\n",
            "313/313 [==============================] - 1s 2ms/step - loss: 4.7531 - accuracy: 0.7866\n",
            "313/313 [==============================] - 1s 2ms/step - loss: 2.8537 - accuracy: 0.8425\n",
            "313/313 [==============================] - 1s 2ms/step - loss: 2.2916 - accuracy: 0.8840\n",
            "313/313 [==============================] - 1s 2ms/step - loss: 3.3473 - accuracy: 0.8328\n",
            "313/313 [==============================] - 1s 2ms/step - loss: 2.1632 - accuracy: 0.8856\n",
            "313/313 [==============================] - 1s 2ms/step - loss: 4.3305 - accuracy: 0.8022\n",
            "313/313 [==============================] - 1s 2ms/step - loss: 2.4086 - accuracy: 0.8777\n",
            "313/313 [==============================] - 1s 2ms/step - loss: 2.6312 - accuracy: 0.8571\n",
            "313/313 [==============================] - 1s 2ms/step - loss: 2.2997 - accuracy: 0.8815\n",
            "313/313 [==============================] - 1s 2ms/step - loss: 3.5951 - accuracy: 0.8255\n",
            "313/313 [==============================] - 1s 2ms/step - loss: 1.7891 - accuracy: 0.9086\n",
            "313/313 [==============================] - 1s 2ms/step - loss: 2.4868 - accuracy: 0.8578\n",
            "313/313 [==============================] - 1s 2ms/step - loss: 4.2978 - accuracy: 0.7935\n",
            "313/313 [==============================] - 1s 2ms/step - loss: 3.4789 - accuracy: 0.8453\n",
            "313/313 [==============================] - 1s 2ms/step - loss: 2.3032 - accuracy: 0.8675\n",
            "313/313 [==============================] - 1s 2ms/step - loss: 2.6703 - accuracy: 0.8732\n",
            "313/313 [==============================] - 1s 2ms/step - loss: 3.1043 - accuracy: 0.8524\n",
            "313/313 [==============================] - 1s 2ms/step - loss: 2.4521 - accuracy: 0.8673\n",
            "313/313 [==============================] - 1s 2ms/step - loss: 2.3587 - accuracy: 0.8763\n",
            "Gen 1, Best Individual: Individual:  (784, 512) (512,) (512, 10) (10,); Fitness: 1.7891016006469727\n",
            "\n",
            "313/313 [==============================] - 1s 2ms/step - loss: 2.4784 - accuracy: 0.8614\n",
            "313/313 [==============================] - 1s 2ms/step - loss: 3.1533 - accuracy: 0.8300\n",
            "313/313 [==============================] - 1s 2ms/step - loss: 2.3911 - accuracy: 0.8652\n",
            "313/313 [==============================] - 1s 2ms/step - loss: 2.4536 - accuracy: 0.8680\n",
            "313/313 [==============================] - 1s 2ms/step - loss: 3.9643 - accuracy: 0.7938\n",
            "313/313 [==============================] - 1s 2ms/step - loss: 2.4101 - accuracy: 0.8673\n",
            "313/313 [==============================] - 1s 2ms/step - loss: 3.4831 - accuracy: 0.8495\n",
            "313/313 [==============================] - 1s 2ms/step - loss: 2.2418 - accuracy: 0.8899\n",
            "313/313 [==============================] - 1s 2ms/step - loss: 3.6833 - accuracy: 0.8143\n",
            "313/313 [==============================] - 1s 2ms/step - loss: 2.2447 - accuracy: 0.8836\n",
            "Gen 2, Best Individual: Individual:  (784, 512) (512,) (512, 10) (10,); Fitness: 1.7891016006469727\n",
            "\n",
            "313/313 [==============================] - 1s 3ms/step - loss: 2.1484 - accuracy: 0.8836\n",
            "313/313 [==============================] - 1s 2ms/step - loss: 2.6595 - accuracy: 0.8658\n",
            "313/313 [==============================] - 1s 2ms/step - loss: 2.1130 - accuracy: 0.8887\n",
            "313/313 [==============================] - 1s 2ms/step - loss: 2.7478 - accuracy: 0.8610\n",
            "313/313 [==============================] - 1s 2ms/step - loss: 2.9462 - accuracy: 0.8527\n",
            "313/313 [==============================] - 1s 2ms/step - loss: 2.7347 - accuracy: 0.8465\n",
            "313/313 [==============================] - 1s 2ms/step - loss: 2.6829 - accuracy: 0.8563\n",
            "313/313 [==============================] - 1s 2ms/step - loss: 3.0391 - accuracy: 0.8386\n",
            "313/313 [==============================] - 1s 2ms/step - loss: 2.1394 - accuracy: 0.8903\n",
            "313/313 [==============================] - 1s 2ms/step - loss: 2.9733 - accuracy: 0.8376\n",
            "Gen 3, Best Individual: Individual:  (784, 512) (512,) (512, 10) (10,); Fitness: 1.7891016006469727\n",
            "\n",
            "313/313 [==============================] - 1s 2ms/step - loss: 2.3870 - accuracy: 0.8804\n",
            "313/313 [==============================] - 1s 3ms/step - loss: 2.4949 - accuracy: 0.8661\n",
            "313/313 [==============================] - 1s 2ms/step - loss: 1.9760 - accuracy: 0.8936\n",
            "313/313 [==============================] - 1s 3ms/step - loss: 2.2176 - accuracy: 0.8840\n",
            "313/313 [==============================] - 1s 2ms/step - loss: 2.2052 - accuracy: 0.8873\n",
            "313/313 [==============================] - 1s 2ms/step - loss: 3.1341 - accuracy: 0.8455\n",
            "313/313 [==============================] - 1s 2ms/step - loss: 2.5535 - accuracy: 0.8773\n",
            "313/313 [==============================] - 1s 2ms/step - loss: 2.2392 - accuracy: 0.8757\n",
            "313/313 [==============================] - 1s 2ms/step - loss: 2.1033 - accuracy: 0.8848\n",
            "313/313 [==============================] - 1s 2ms/step - loss: 3.7667 - accuracy: 0.8317\n",
            "Gen 4, Best Individual: Individual:  (784, 512) (512,) (512, 10) (10,); Fitness: 1.7891016006469727\n",
            "\n",
            "313/313 [==============================] - 1s 2ms/step - loss: 3.6003 - accuracy: 0.8522\n",
            "313/313 [==============================] - 1s 2ms/step - loss: 1.9464 - accuracy: 0.8934\n",
            "313/313 [==============================] - 1s 2ms/step - loss: 4.3072 - accuracy: 0.8278\n",
            "313/313 [==============================] - 1s 2ms/step - loss: 2.9096 - accuracy: 0.8456\n",
            "313/313 [==============================] - 1s 2ms/step - loss: 2.7063 - accuracy: 0.8547\n",
            "313/313 [==============================] - 1s 2ms/step - loss: 2.2607 - accuracy: 0.8718\n",
            "313/313 [==============================] - 1s 2ms/step - loss: 2.7838 - accuracy: 0.8492\n",
            "313/313 [==============================] - 1s 2ms/step - loss: 2.5848 - accuracy: 0.8575\n",
            "313/313 [==============================] - 1s 2ms/step - loss: 3.1536 - accuracy: 0.8525\n",
            "313/313 [==============================] - 1s 2ms/step - loss: 3.0196 - accuracy: 0.8471\n",
            "Gen 5, Best Individual: Individual:  (784, 512) (512,) (512, 10) (10,); Fitness: 1.7891016006469727\n",
            "\n",
            "313/313 [==============================] - 1s 2ms/step - loss: 2.4961 - accuracy: 0.8746\n",
            "313/313 [==============================] - 1s 2ms/step - loss: 2.8681 - accuracy: 0.8690\n",
            "313/313 [==============================] - 1s 2ms/step - loss: 2.8146 - accuracy: 0.8617\n",
            "313/313 [==============================] - 1s 2ms/step - loss: 2.7039 - accuracy: 0.8641\n",
            "313/313 [==============================] - 2s 2ms/step - loss: 2.5438 - accuracy: 0.8625\n",
            "313/313 [==============================] - 1s 2ms/step - loss: 2.0424 - accuracy: 0.8793\n",
            "313/313 [==============================] - 1s 2ms/step - loss: 2.9882 - accuracy: 0.8416\n",
            "313/313 [==============================] - 1s 2ms/step - loss: 1.8153 - accuracy: 0.9019\n",
            "313/313 [==============================] - 1s 2ms/step - loss: 2.7965 - accuracy: 0.8600\n",
            "313/313 [==============================] - 1s 2ms/step - loss: 2.4447 - accuracy: 0.8643\n",
            "Gen 6, Best Individual: Individual:  (784, 512) (512,) (512, 10) (10,); Fitness: 1.7891016006469727\n",
            "\n",
            "313/313 [==============================] - 1s 2ms/step - loss: 4.5193 - accuracy: 0.7748\n",
            "313/313 [==============================] - 1s 2ms/step - loss: 2.3548 - accuracy: 0.8788\n",
            "313/313 [==============================] - 1s 2ms/step - loss: 2.4061 - accuracy: 0.8715\n",
            "313/313 [==============================] - 1s 2ms/step - loss: 1.9793 - accuracy: 0.8920\n",
            "313/313 [==============================] - 1s 2ms/step - loss: 2.8650 - accuracy: 0.8482\n",
            "313/313 [==============================] - 1s 2ms/step - loss: 2.4020 - accuracy: 0.8743\n",
            "313/313 [==============================] - 1s 2ms/step - loss: 3.0257 - accuracy: 0.8472\n",
            "313/313 [==============================] - 1s 2ms/step - loss: 2.6177 - accuracy: 0.8550\n",
            "313/313 [==============================] - 1s 2ms/step - loss: 4.3298 - accuracy: 0.8073\n",
            "313/313 [==============================] - 1s 2ms/step - loss: 2.9556 - accuracy: 0.8485\n",
            "Gen 7, Best Individual: Individual:  (784, 512) (512,) (512, 10) (10,); Fitness: 1.7891016006469727\n",
            "\n",
            "313/313 [==============================] - 1s 2ms/step - loss: 1.8597 - accuracy: 0.9010\n",
            "313/313 [==============================] - 1s 2ms/step - loss: 2.5720 - accuracy: 0.8665\n",
            "313/313 [==============================] - 1s 2ms/step - loss: 2.3763 - accuracy: 0.8862\n",
            "313/313 [==============================] - 1s 2ms/step - loss: 1.9365 - accuracy: 0.8921\n",
            "313/313 [==============================] - 1s 2ms/step - loss: 3.1263 - accuracy: 0.8488\n",
            "313/313 [==============================] - 1s 2ms/step - loss: 3.1766 - accuracy: 0.8502\n",
            "313/313 [==============================] - 1s 2ms/step - loss: 1.7823 - accuracy: 0.8949\n",
            "313/313 [==============================] - 1s 2ms/step - loss: 4.1422 - accuracy: 0.8043\n",
            "313/313 [==============================] - 1s 2ms/step - loss: 2.3503 - accuracy: 0.8672\n",
            "313/313 [==============================] - 1s 2ms/step - loss: 1.9693 - accuracy: 0.8922\n",
            "Gen 8, Best Individual: Individual:  (784, 512) (512,) (512, 10) (10,); Fitness: 1.7822847366333008\n",
            "\n",
            "313/313 [==============================] - 1s 2ms/step - loss: 2.6247 - accuracy: 0.8620\n",
            "313/313 [==============================] - 1s 2ms/step - loss: 1.6368 - accuracy: 0.9070\n",
            "313/313 [==============================] - 1s 2ms/step - loss: 3.2939 - accuracy: 0.8303\n",
            "313/313 [==============================] - 1s 2ms/step - loss: 2.3919 - accuracy: 0.8719\n",
            "313/313 [==============================] - 1s 2ms/step - loss: 2.5262 - accuracy: 0.8550\n",
            "313/313 [==============================] - 1s 2ms/step - loss: 2.6202 - accuracy: 0.8655\n",
            "313/313 [==============================] - 1s 2ms/step - loss: 2.3539 - accuracy: 0.8803\n",
            "313/313 [==============================] - 1s 2ms/step - loss: 3.4419 - accuracy: 0.8114\n",
            "313/313 [==============================] - 1s 2ms/step - loss: 2.8213 - accuracy: 0.8544\n",
            "313/313 [==============================] - 1s 2ms/step - loss: 2.1372 - accuracy: 0.8835\n",
            "Gen 9, Best Individual: Individual:  (784, 512) (512,) (512, 10) (10,); Fitness: 1.6368064880371094\n",
            "\n",
            "313/313 [==============================] - 1s 2ms/step - loss: 4.3880 - accuracy: 0.8115\n",
            "313/313 [==============================] - 1s 2ms/step - loss: 2.0090 - accuracy: 0.8877\n",
            "313/313 [==============================] - 1s 2ms/step - loss: 3.0872 - accuracy: 0.8388\n",
            "313/313 [==============================] - 1s 2ms/step - loss: 3.5948 - accuracy: 0.8386\n",
            "313/313 [==============================] - 1s 2ms/step - loss: 2.2059 - accuracy: 0.8843\n",
            "313/313 [==============================] - 1s 2ms/step - loss: 1.8785 - accuracy: 0.9062\n",
            "313/313 [==============================] - 1s 2ms/step - loss: 4.0083 - accuracy: 0.8161\n",
            "313/313 [==============================] - 1s 2ms/step - loss: 2.2030 - accuracy: 0.8766\n",
            "313/313 [==============================] - 1s 2ms/step - loss: 2.9853 - accuracy: 0.8557\n",
            "313/313 [==============================] - 1s 2ms/step - loss: 4.6585 - accuracy: 0.7804\n",
            "Gen 10, Best Individual: Individual:  (784, 512) (512,) (512, 10) (10,); Fitness: 1.6368064880371094\n",
            "\n",
            "Running GA iteration: 7\n",
            "313/313 [==============================] - 1s 2ms/step - loss: 4.4834 - accuracy: 0.8151\n",
            "313/313 [==============================] - 1s 2ms/step - loss: 2.5793 - accuracy: 0.8672\n",
            "313/313 [==============================] - 1s 2ms/step - loss: 1.9940 - accuracy: 0.8912\n",
            "313/313 [==============================] - 1s 2ms/step - loss: 3.0206 - accuracy: 0.8291\n",
            "313/313 [==============================] - 1s 2ms/step - loss: 2.0633 - accuracy: 0.8883\n",
            "313/313 [==============================] - 1s 2ms/step - loss: 2.4443 - accuracy: 0.8570\n",
            "313/313 [==============================] - 1s 2ms/step - loss: 1.9985 - accuracy: 0.8924\n",
            "313/313 [==============================] - 1s 2ms/step - loss: 3.0766 - accuracy: 0.8565\n",
            "313/313 [==============================] - 1s 2ms/step - loss: 2.6541 - accuracy: 0.8486\n",
            "313/313 [==============================] - 1s 2ms/step - loss: 2.7845 - accuracy: 0.8463\n",
            "313/313 [==============================] - 1s 2ms/step - loss: 2.7621 - accuracy: 0.8543\n",
            "313/313 [==============================] - 1s 2ms/step - loss: 2.9338 - accuracy: 0.8508\n",
            "313/313 [==============================] - 1s 2ms/step - loss: 2.5271 - accuracy: 0.8624\n",
            "313/313 [==============================] - 1s 2ms/step - loss: 2.5680 - accuracy: 0.8639\n",
            "313/313 [==============================] - 1s 2ms/step - loss: 2.7692 - accuracy: 0.8604\n",
            "313/313 [==============================] - 1s 2ms/step - loss: 3.2111 - accuracy: 0.8492\n",
            "313/313 [==============================] - 1s 2ms/step - loss: 2.3462 - accuracy: 0.8641\n",
            "313/313 [==============================] - 1s 2ms/step - loss: 2.7392 - accuracy: 0.8525\n",
            "313/313 [==============================] - 1s 2ms/step - loss: 2.1443 - accuracy: 0.8400\n",
            "313/313 [==============================] - 1s 2ms/step - loss: 3.2388 - accuracy: 0.8039\n",
            "Gen 1, Best Individual: Individual:  (784, 512) (512,) (512, 10) (10,); Fitness: 1.993990421295166\n",
            "\n",
            "313/313 [==============================] - 1s 2ms/step - loss: 2.0544 - accuracy: 0.8951\n",
            "313/313 [==============================] - 1s 2ms/step - loss: 4.8774 - accuracy: 0.7992\n",
            "313/313 [==============================] - 1s 2ms/step - loss: 3.2896 - accuracy: 0.8383\n",
            "313/313 [==============================] - 1s 2ms/step - loss: 3.9054 - accuracy: 0.8131\n",
            "313/313 [==============================] - 1s 2ms/step - loss: 2.3953 - accuracy: 0.8813\n",
            "313/313 [==============================] - 1s 2ms/step - loss: 2.1463 - accuracy: 0.8553\n",
            "313/313 [==============================] - 1s 2ms/step - loss: 3.5202 - accuracy: 0.8129\n",
            "313/313 [==============================] - 1s 2ms/step - loss: 1.8337 - accuracy: 0.8923\n",
            "313/313 [==============================] - 1s 2ms/step - loss: 2.6540 - accuracy: 0.8630\n",
            "313/313 [==============================] - 1s 2ms/step - loss: 2.0608 - accuracy: 0.8843\n",
            "Gen 2, Best Individual: Individual:  (784, 512) (512,) (512, 10) (10,); Fitness: 1.8337013721466064\n",
            "\n",
            "313/313 [==============================] - 1s 2ms/step - loss: 2.2892 - accuracy: 0.8645\n",
            "313/313 [==============================] - 1s 2ms/step - loss: 2.7411 - accuracy: 0.8580\n",
            "313/313 [==============================] - 1s 2ms/step - loss: 2.5938 - accuracy: 0.8592\n",
            "313/313 [==============================] - 1s 2ms/step - loss: 2.0156 - accuracy: 0.8798\n",
            "313/313 [==============================] - 1s 2ms/step - loss: 1.9534 - accuracy: 0.8968\n",
            "313/313 [==============================] - 1s 2ms/step - loss: 2.8507 - accuracy: 0.8438\n",
            "313/313 [==============================] - 1s 2ms/step - loss: 2.4125 - accuracy: 0.8669\n",
            "313/313 [==============================] - 1s 2ms/step - loss: 2.4110 - accuracy: 0.8743\n",
            "313/313 [==============================] - 1s 2ms/step - loss: 2.4223 - accuracy: 0.8759\n",
            "313/313 [==============================] - 1s 2ms/step - loss: 2.2668 - accuracy: 0.8717\n",
            "Gen 3, Best Individual: Individual:  (784, 512) (512,) (512, 10) (10,); Fitness: 1.8337013721466064\n",
            "\n",
            "313/313 [==============================] - 1s 2ms/step - loss: 1.9404 - accuracy: 0.8877\n",
            "313/313 [==============================] - 1s 3ms/step - loss: 1.9986 - accuracy: 0.8901\n",
            "313/313 [==============================] - 1s 2ms/step - loss: 3.2334 - accuracy: 0.8422\n",
            "313/313 [==============================] - 1s 2ms/step - loss: 1.9430 - accuracy: 0.8876\n",
            "313/313 [==============================] - 1s 2ms/step - loss: 2.5305 - accuracy: 0.8541\n",
            "313/313 [==============================] - 1s 2ms/step - loss: 2.6694 - accuracy: 0.8439\n",
            "313/313 [==============================] - 1s 2ms/step - loss: 2.3096 - accuracy: 0.8717\n",
            "313/313 [==============================] - 1s 2ms/step - loss: 2.8723 - accuracy: 0.8382\n",
            "313/313 [==============================] - 1s 2ms/step - loss: 3.4593 - accuracy: 0.8105\n",
            "313/313 [==============================] - 1s 2ms/step - loss: 3.2563 - accuracy: 0.8134\n",
            "Gen 4, Best Individual: Individual:  (784, 512) (512,) (512, 10) (10,); Fitness: 1.8337013721466064\n",
            "\n",
            "313/313 [==============================] - 1s 2ms/step - loss: 3.1237 - accuracy: 0.8443\n",
            "313/313 [==============================] - 1s 2ms/step - loss: 3.1961 - accuracy: 0.8082\n",
            "313/313 [==============================] - 1s 2ms/step - loss: 2.9478 - accuracy: 0.8622\n",
            "313/313 [==============================] - 1s 2ms/step - loss: 5.2588 - accuracy: 0.7584\n",
            "313/313 [==============================] - 1s 2ms/step - loss: 1.6753 - accuracy: 0.8971\n",
            "313/313 [==============================] - 1s 2ms/step - loss: 5.4314 - accuracy: 0.7509\n",
            "313/313 [==============================] - 1s 2ms/step - loss: 2.7725 - accuracy: 0.8464\n",
            "313/313 [==============================] - 1s 2ms/step - loss: 2.0310 - accuracy: 0.8781\n",
            "313/313 [==============================] - 1s 2ms/step - loss: 2.6946 - accuracy: 0.8531\n",
            "313/313 [==============================] - 1s 2ms/step - loss: 3.2288 - accuracy: 0.8261\n",
            "Gen 5, Best Individual: Individual:  (784, 512) (512,) (512, 10) (10,); Fitness: 1.675316572189331\n",
            "\n",
            "313/313 [==============================] - 1s 2ms/step - loss: 2.0825 - accuracy: 0.8756\n",
            "313/313 [==============================] - 1s 2ms/step - loss: 2.3990 - accuracy: 0.8468\n",
            "313/313 [==============================] - 1s 2ms/step - loss: 2.8291 - accuracy: 0.8472\n",
            "313/313 [==============================] - 1s 2ms/step - loss: 1.8291 - accuracy: 0.8943\n",
            "313/313 [==============================] - 1s 2ms/step - loss: 2.2352 - accuracy: 0.8744\n",
            "313/313 [==============================] - 1s 2ms/step - loss: 2.9090 - accuracy: 0.8341\n",
            "313/313 [==============================] - 1s 2ms/step - loss: 2.2462 - accuracy: 0.8645\n",
            "313/313 [==============================] - 1s 2ms/step - loss: 2.7760 - accuracy: 0.8571\n",
            "313/313 [==============================] - 1s 2ms/step - loss: 2.8959 - accuracy: 0.8445\n",
            "313/313 [==============================] - 1s 2ms/step - loss: 1.9305 - accuracy: 0.8978\n",
            "Gen 6, Best Individual: Individual:  (784, 512) (512,) (512, 10) (10,); Fitness: 1.675316572189331\n",
            "\n",
            "313/313 [==============================] - 1s 2ms/step - loss: 2.2872 - accuracy: 0.8669\n",
            "313/313 [==============================] - 1s 2ms/step - loss: 2.6313 - accuracy: 0.8501\n",
            "313/313 [==============================] - 1s 2ms/step - loss: 2.9053 - accuracy: 0.8412\n",
            "313/313 [==============================] - 1s 2ms/step - loss: 2.4535 - accuracy: 0.8740\n",
            "313/313 [==============================] - 1s 3ms/step - loss: 1.7488 - accuracy: 0.9000\n",
            "313/313 [==============================] - 1s 2ms/step - loss: 2.7003 - accuracy: 0.8405\n",
            "313/313 [==============================] - 1s 2ms/step - loss: 3.4316 - accuracy: 0.8103\n",
            "313/313 [==============================] - 1s 2ms/step - loss: 6.6843 - accuracy: 0.6486\n",
            "313/313 [==============================] - 1s 2ms/step - loss: 2.2554 - accuracy: 0.8749\n",
            "313/313 [==============================] - 1s 2ms/step - loss: 2.6864 - accuracy: 0.8639\n",
            "Gen 7, Best Individual: Individual:  (784, 512) (512,) (512, 10) (10,); Fitness: 1.675316572189331\n",
            "\n",
            "313/313 [==============================] - 1s 2ms/step - loss: 2.1191 - accuracy: 0.8844\n",
            "313/313 [==============================] - 1s 2ms/step - loss: 2.6339 - accuracy: 0.8684\n",
            "313/313 [==============================] - 1s 2ms/step - loss: 3.1103 - accuracy: 0.8374\n",
            "313/313 [==============================] - 1s 2ms/step - loss: 4.9129 - accuracy: 0.7851\n",
            "313/313 [==============================] - 1s 2ms/step - loss: 2.0192 - accuracy: 0.8754\n",
            "313/313 [==============================] - 1s 2ms/step - loss: 4.1916 - accuracy: 0.7955\n",
            "313/313 [==============================] - 1s 2ms/step - loss: 1.9867 - accuracy: 0.8782\n",
            "313/313 [==============================] - 1s 3ms/step - loss: 2.1503 - accuracy: 0.8677\n",
            "313/313 [==============================] - 1s 2ms/step - loss: 2.8816 - accuracy: 0.8346\n",
            "313/313 [==============================] - 1s 3ms/step - loss: 3.5122 - accuracy: 0.8237\n",
            "Gen 8, Best Individual: Individual:  (784, 512) (512,) (512, 10) (10,); Fitness: 1.675316572189331\n",
            "\n",
            "313/313 [==============================] - 1s 2ms/step - loss: 2.9568 - accuracy: 0.8304\n",
            "313/313 [==============================] - 1s 2ms/step - loss: 2.7202 - accuracy: 0.8312\n",
            "313/313 [==============================] - 1s 2ms/step - loss: 2.1682 - accuracy: 0.8789\n",
            "313/313 [==============================] - 1s 2ms/step - loss: 2.0190 - accuracy: 0.8765\n",
            "313/313 [==============================] - 1s 2ms/step - loss: 1.8670 - accuracy: 0.8955\n",
            "313/313 [==============================] - 1s 2ms/step - loss: 2.4169 - accuracy: 0.8596\n",
            "313/313 [==============================] - 1s 2ms/step - loss: 2.4492 - accuracy: 0.8440\n",
            "313/313 [==============================] - 1s 2ms/step - loss: 2.1166 - accuracy: 0.8894\n",
            "313/313 [==============================] - 1s 2ms/step - loss: 2.5094 - accuracy: 0.8555\n",
            "313/313 [==============================] - 1s 2ms/step - loss: 3.3291 - accuracy: 0.8141\n",
            "Gen 9, Best Individual: Individual:  (784, 512) (512,) (512, 10) (10,); Fitness: 1.675316572189331\n",
            "\n",
            "313/313 [==============================] - 1s 2ms/step - loss: 3.5053 - accuracy: 0.8055\n",
            "313/313 [==============================] - 1s 2ms/step - loss: 2.5612 - accuracy: 0.8527\n",
            "313/313 [==============================] - 1s 2ms/step - loss: 1.8578 - accuracy: 0.8854\n",
            "313/313 [==============================] - 1s 2ms/step - loss: 3.1281 - accuracy: 0.8273\n",
            "313/313 [==============================] - 1s 2ms/step - loss: 2.9103 - accuracy: 0.8427\n",
            "313/313 [==============================] - 1s 2ms/step - loss: 1.6833 - accuracy: 0.9069\n",
            "313/313 [==============================] - 1s 2ms/step - loss: 2.0990 - accuracy: 0.8843\n",
            "313/313 [==============================] - 1s 2ms/step - loss: 3.1713 - accuracy: 0.8459\n",
            "313/313 [==============================] - 1s 2ms/step - loss: 2.2312 - accuracy: 0.8752\n",
            "313/313 [==============================] - 1s 2ms/step - loss: 2.2301 - accuracy: 0.8704\n",
            "Gen 10, Best Individual: Individual:  (784, 512) (512,) (512, 10) (10,); Fitness: 1.675316572189331\n",
            "\n",
            "Running GA iteration: 8\n",
            "313/313 [==============================] - 1s 2ms/step - loss: 2.1976 - accuracy: 0.8830\n",
            "313/313 [==============================] - 1s 2ms/step - loss: 2.2481 - accuracy: 0.8780\n",
            "313/313 [==============================] - 1s 2ms/step - loss: 4.1806 - accuracy: 0.7997\n",
            "313/313 [==============================] - 1s 2ms/step - loss: 2.6174 - accuracy: 0.8774\n",
            "313/313 [==============================] - 1s 2ms/step - loss: 2.9144 - accuracy: 0.8479\n",
            "313/313 [==============================] - 1s 2ms/step - loss: 3.8469 - accuracy: 0.8188\n",
            "313/313 [==============================] - 1s 2ms/step - loss: 3.1407 - accuracy: 0.8293\n",
            "313/313 [==============================] - 1s 3ms/step - loss: 2.2758 - accuracy: 0.8668\n",
            "313/313 [==============================] - 1s 2ms/step - loss: 2.5671 - accuracy: 0.8658\n",
            "313/313 [==============================] - 1s 2ms/step - loss: 1.8141 - accuracy: 0.9003\n",
            "313/313 [==============================] - 1s 2ms/step - loss: 4.4817 - accuracy: 0.7857\n",
            "313/313 [==============================] - 1s 2ms/step - loss: 2.1580 - accuracy: 0.8680\n",
            "313/313 [==============================] - 1s 2ms/step - loss: 3.2172 - accuracy: 0.8324\n",
            "313/313 [==============================] - 1s 2ms/step - loss: 3.4719 - accuracy: 0.8160\n",
            "313/313 [==============================] - 1s 2ms/step - loss: 2.0464 - accuracy: 0.8935\n",
            "313/313 [==============================] - 1s 2ms/step - loss: 3.0758 - accuracy: 0.8368\n",
            "313/313 [==============================] - 1s 2ms/step - loss: 3.1062 - accuracy: 0.8483\n",
            "313/313 [==============================] - 1s 2ms/step - loss: 3.0234 - accuracy: 0.8543\n",
            "313/313 [==============================] - 1s 2ms/step - loss: 3.6065 - accuracy: 0.8099\n",
            "313/313 [==============================] - 1s 2ms/step - loss: 1.9414 - accuracy: 0.8974\n",
            "Gen 1, Best Individual: Individual:  (784, 512) (512,) (512, 10) (10,); Fitness: 1.8141276836395264\n",
            "\n",
            "313/313 [==============================] - 1s 2ms/step - loss: 3.7956 - accuracy: 0.8205\n",
            "313/313 [==============================] - 1s 2ms/step - loss: 1.7361 - accuracy: 0.9055\n",
            "313/313 [==============================] - 1s 2ms/step - loss: 1.9806 - accuracy: 0.8921\n",
            "313/313 [==============================] - 1s 2ms/step - loss: 2.1081 - accuracy: 0.8835\n",
            "313/313 [==============================] - 1s 3ms/step - loss: 4.0450 - accuracy: 0.8313\n",
            "313/313 [==============================] - 1s 2ms/step - loss: 2.6602 - accuracy: 0.8661\n",
            "313/313 [==============================] - 1s 2ms/step - loss: 3.1628 - accuracy: 0.8367\n",
            "313/313 [==============================] - 1s 2ms/step - loss: 3.8451 - accuracy: 0.8225\n",
            "313/313 [==============================] - 1s 2ms/step - loss: 2.3518 - accuracy: 0.8728\n",
            "313/313 [==============================] - 1s 2ms/step - loss: 1.9718 - accuracy: 0.8901\n",
            "Gen 2, Best Individual: Individual:  (784, 512) (512,) (512, 10) (10,); Fitness: 1.7360765933990479\n",
            "\n",
            "313/313 [==============================] - 1s 2ms/step - loss: 2.8086 - accuracy: 0.8470\n",
            "313/313 [==============================] - 1s 2ms/step - loss: 5.8660 - accuracy: 0.7519\n",
            "313/313 [==============================] - 1s 2ms/step - loss: 2.6068 - accuracy: 0.8563\n",
            "313/313 [==============================] - 1s 2ms/step - loss: 2.7331 - accuracy: 0.8525\n",
            "313/313 [==============================] - 1s 2ms/step - loss: 2.5405 - accuracy: 0.8596\n",
            "313/313 [==============================] - 1s 2ms/step - loss: 2.5629 - accuracy: 0.8700\n",
            "313/313 [==============================] - 1s 2ms/step - loss: 3.5873 - accuracy: 0.8214\n",
            "313/313 [==============================] - 1s 2ms/step - loss: 2.0177 - accuracy: 0.8954\n",
            "313/313 [==============================] - 1s 2ms/step - loss: 2.7713 - accuracy: 0.8571\n",
            "313/313 [==============================] - 1s 2ms/step - loss: 3.6498 - accuracy: 0.8253\n",
            "Gen 3, Best Individual: Individual:  (784, 512) (512,) (512, 10) (10,); Fitness: 1.7360765933990479\n",
            "\n",
            "313/313 [==============================] - 1s 2ms/step - loss: 5.5891 - accuracy: 0.7590\n",
            "313/313 [==============================] - 1s 2ms/step - loss: 2.4368 - accuracy: 0.8768\n",
            "313/313 [==============================] - 1s 2ms/step - loss: 2.2922 - accuracy: 0.8723\n",
            "313/313 [==============================] - 1s 2ms/step - loss: 2.6396 - accuracy: 0.8549\n",
            "313/313 [==============================] - 1s 2ms/step - loss: 3.1959 - accuracy: 0.8367\n",
            "313/313 [==============================] - 1s 2ms/step - loss: 2.9995 - accuracy: 0.8562\n",
            "313/313 [==============================] - 1s 2ms/step - loss: 4.0057 - accuracy: 0.8023\n",
            "313/313 [==============================] - 1s 2ms/step - loss: 3.8337 - accuracy: 0.8119\n",
            "313/313 [==============================] - 1s 2ms/step - loss: 2.7264 - accuracy: 0.8695\n",
            "313/313 [==============================] - 1s 2ms/step - loss: 2.6771 - accuracy: 0.8562\n",
            "Gen 4, Best Individual: Individual:  (784, 512) (512,) (512, 10) (10,); Fitness: 1.7360765933990479\n",
            "\n",
            "313/313 [==============================] - 1s 2ms/step - loss: 2.1606 - accuracy: 0.8831\n",
            "313/313 [==============================] - 1s 2ms/step - loss: 3.6359 - accuracy: 0.8288\n",
            "313/313 [==============================] - 1s 2ms/step - loss: 2.5927 - accuracy: 0.8494\n",
            "313/313 [==============================] - 1s 2ms/step - loss: 1.5880 - accuracy: 0.9102\n",
            "313/313 [==============================] - 1s 2ms/step - loss: 3.1298 - accuracy: 0.8447\n",
            "313/313 [==============================] - 1s 2ms/step - loss: 2.0295 - accuracy: 0.8865\n",
            "313/313 [==============================] - 1s 2ms/step - loss: 3.5833 - accuracy: 0.8214\n",
            "313/313 [==============================] - 1s 2ms/step - loss: 2.3678 - accuracy: 0.8737\n",
            "313/313 [==============================] - 1s 2ms/step - loss: 4.0729 - accuracy: 0.8018\n",
            "313/313 [==============================] - 1s 2ms/step - loss: 2.4665 - accuracy: 0.8723\n",
            "Gen 5, Best Individual: Individual:  (784, 512) (512,) (512, 10) (10,); Fitness: 1.5880393981933594\n",
            "\n",
            "313/313 [==============================] - 1s 2ms/step - loss: 4.2818 - accuracy: 0.8144\n",
            "313/313 [==============================] - 1s 2ms/step - loss: 3.0084 - accuracy: 0.8670\n",
            "313/313 [==============================] - 1s 2ms/step - loss: 2.5417 - accuracy: 0.8681\n",
            "313/313 [==============================] - 1s 2ms/step - loss: 2.4772 - accuracy: 0.8573\n",
            "313/313 [==============================] - 1s 2ms/step - loss: 2.4205 - accuracy: 0.8751\n",
            "313/313 [==============================] - 1s 2ms/step - loss: 2.3435 - accuracy: 0.8855\n",
            "313/313 [==============================] - 1s 2ms/step - loss: 2.0999 - accuracy: 0.8969\n",
            "313/313 [==============================] - 1s 2ms/step - loss: 2.2240 - accuracy: 0.8768\n",
            "313/313 [==============================] - 1s 2ms/step - loss: 2.8076 - accuracy: 0.8546\n",
            "313/313 [==============================] - 1s 2ms/step - loss: 2.7563 - accuracy: 0.8590\n",
            "Gen 6, Best Individual: Individual:  (784, 512) (512,) (512, 10) (10,); Fitness: 1.5880393981933594\n",
            "\n",
            "313/313 [==============================] - 1s 2ms/step - loss: 3.7354 - accuracy: 0.8040\n",
            "313/313 [==============================] - 1s 2ms/step - loss: 2.8650 - accuracy: 0.8532\n",
            "313/313 [==============================] - 1s 2ms/step - loss: 3.6193 - accuracy: 0.8045\n",
            "313/313 [==============================] - 1s 2ms/step - loss: 2.3047 - accuracy: 0.8778\n",
            "313/313 [==============================] - 1s 2ms/step - loss: 2.3384 - accuracy: 0.8729\n",
            "313/313 [==============================] - 1s 2ms/step - loss: 2.5695 - accuracy: 0.8661\n",
            "313/313 [==============================] - 1s 2ms/step - loss: 2.0545 - accuracy: 0.8834\n",
            "313/313 [==============================] - 1s 2ms/step - loss: 2.5058 - accuracy: 0.8628\n",
            "313/313 [==============================] - 1s 2ms/step - loss: 2.5371 - accuracy: 0.8624\n",
            "313/313 [==============================] - 1s 2ms/step - loss: 2.2994 - accuracy: 0.8760\n",
            "Gen 7, Best Individual: Individual:  (784, 512) (512,) (512, 10) (10,); Fitness: 1.5880393981933594\n",
            "\n",
            "313/313 [==============================] - 1s 3ms/step - loss: 2.0119 - accuracy: 0.8888\n",
            "313/313 [==============================] - 1s 2ms/step - loss: 1.9375 - accuracy: 0.8950\n",
            "313/313 [==============================] - 1s 2ms/step - loss: 2.2610 - accuracy: 0.8798\n",
            "313/313 [==============================] - 1s 2ms/step - loss: 3.2650 - accuracy: 0.8332\n",
            "313/313 [==============================] - 1s 2ms/step - loss: 3.0016 - accuracy: 0.8508\n",
            "313/313 [==============================] - 1s 2ms/step - loss: 2.3973 - accuracy: 0.8709\n",
            "313/313 [==============================] - 1s 2ms/step - loss: 2.7854 - accuracy: 0.8577\n",
            "313/313 [==============================] - 1s 2ms/step - loss: 2.4452 - accuracy: 0.8677\n",
            "313/313 [==============================] - 1s 2ms/step - loss: 2.4160 - accuracy: 0.8596\n",
            "313/313 [==============================] - 1s 2ms/step - loss: 2.0331 - accuracy: 0.8940\n",
            "Gen 8, Best Individual: Individual:  (784, 512) (512,) (512, 10) (10,); Fitness: 1.5880393981933594\n",
            "\n",
            "313/313 [==============================] - 1s 2ms/step - loss: 2.3685 - accuracy: 0.8688\n",
            "313/313 [==============================] - 1s 2ms/step - loss: 4.4318 - accuracy: 0.7807\n",
            "313/313 [==============================] - 1s 2ms/step - loss: 3.4202 - accuracy: 0.8216\n",
            "313/313 [==============================] - 1s 2ms/step - loss: 3.6555 - accuracy: 0.8128\n",
            "313/313 [==============================] - 1s 2ms/step - loss: 2.2469 - accuracy: 0.8842\n",
            "313/313 [==============================] - 1s 2ms/step - loss: 2.3267 - accuracy: 0.8730\n",
            "313/313 [==============================] - 1s 2ms/step - loss: 3.1440 - accuracy: 0.8493\n",
            "313/313 [==============================] - 1s 2ms/step - loss: 1.9941 - accuracy: 0.8888\n",
            "313/313 [==============================] - 1s 2ms/step - loss: 2.8025 - accuracy: 0.8651\n",
            "313/313 [==============================] - 1s 2ms/step - loss: 2.0199 - accuracy: 0.8882\n",
            "Gen 9, Best Individual: Individual:  (784, 512) (512,) (512, 10) (10,); Fitness: 1.5880393981933594\n",
            "\n",
            "313/313 [==============================] - 1s 2ms/step - loss: 3.3824 - accuracy: 0.8262\n",
            "313/313 [==============================] - 1s 2ms/step - loss: 2.1908 - accuracy: 0.8759\n",
            "313/313 [==============================] - 1s 2ms/step - loss: 2.9702 - accuracy: 0.8502\n",
            "313/313 [==============================] - 1s 2ms/step - loss: 2.3338 - accuracy: 0.8729\n",
            "313/313 [==============================] - 1s 2ms/step - loss: 3.2135 - accuracy: 0.8419\n",
            "313/313 [==============================] - 1s 2ms/step - loss: 2.9138 - accuracy: 0.8365\n",
            "313/313 [==============================] - 1s 2ms/step - loss: 2.1942 - accuracy: 0.8798\n",
            "313/313 [==============================] - 1s 2ms/step - loss: 3.8449 - accuracy: 0.8218\n",
            "313/313 [==============================] - 1s 2ms/step - loss: 2.5922 - accuracy: 0.8655\n",
            "313/313 [==============================] - 1s 2ms/step - loss: 3.7165 - accuracy: 0.8259\n",
            "Gen 10, Best Individual: Individual:  (784, 512) (512,) (512, 10) (10,); Fitness: 1.5880393981933594\n",
            "\n",
            "Running GA iteration: 9\n",
            "313/313 [==============================] - 1s 2ms/step - loss: 2.5247 - accuracy: 0.8597\n",
            "313/313 [==============================] - 1s 2ms/step - loss: 3.9924 - accuracy: 0.8332\n",
            "313/313 [==============================] - 1s 2ms/step - loss: 2.5493 - accuracy: 0.8789\n",
            "313/313 [==============================] - 1s 2ms/step - loss: 2.6327 - accuracy: 0.8570\n",
            "313/313 [==============================] - 1s 2ms/step - loss: 1.8516 - accuracy: 0.8920\n",
            "313/313 [==============================] - 1s 2ms/step - loss: 2.8559 - accuracy: 0.8485\n",
            "313/313 [==============================] - 1s 2ms/step - loss: 3.1982 - accuracy: 0.8255\n",
            "313/313 [==============================] - 1s 3ms/step - loss: 2.6810 - accuracy: 0.8590\n",
            "313/313 [==============================] - 1s 2ms/step - loss: 4.2580 - accuracy: 0.7893\n",
            "313/313 [==============================] - 1s 3ms/step - loss: 6.0997 - accuracy: 0.7433\n",
            "313/313 [==============================] - 1s 2ms/step - loss: 2.5735 - accuracy: 0.8632\n",
            "313/313 [==============================] - 1s 2ms/step - loss: 2.1894 - accuracy: 0.8760\n",
            "313/313 [==============================] - 1s 2ms/step - loss: 1.8629 - accuracy: 0.8696\n",
            "313/313 [==============================] - 1s 2ms/step - loss: 1.6933 - accuracy: 0.8812\n",
            "313/313 [==============================] - 1s 2ms/step - loss: 4.2256 - accuracy: 0.7865\n",
            "313/313 [==============================] - 1s 2ms/step - loss: 1.8978 - accuracy: 0.8990\n",
            "313/313 [==============================] - 1s 2ms/step - loss: 6.1779 - accuracy: 0.7750\n",
            "313/313 [==============================] - 1s 2ms/step - loss: 2.8626 - accuracy: 0.8428\n",
            "313/313 [==============================] - 1s 2ms/step - loss: 2.4187 - accuracy: 0.8578\n",
            "313/313 [==============================] - 1s 2ms/step - loss: 1.9539 - accuracy: 0.8846\n",
            "Gen 1, Best Individual: Individual:  (784, 512) (512,) (512, 10) (10,); Fitness: 1.693328857421875\n",
            "\n",
            "313/313 [==============================] - 1s 2ms/step - loss: 2.4373 - accuracy: 0.8460\n",
            "313/313 [==============================] - 1s 2ms/step - loss: 1.8746 - accuracy: 0.8799\n",
            "313/313 [==============================] - 1s 2ms/step - loss: 2.1694 - accuracy: 0.8802\n",
            "313/313 [==============================] - 1s 2ms/step - loss: 2.4924 - accuracy: 0.8313\n",
            "313/313 [==============================] - 1s 2ms/step - loss: 2.1615 - accuracy: 0.8451\n",
            "313/313 [==============================] - 1s 2ms/step - loss: 2.2714 - accuracy: 0.8457\n",
            "313/313 [==============================] - 1s 2ms/step - loss: 2.9932 - accuracy: 0.8199\n",
            "313/313 [==============================] - 1s 2ms/step - loss: 4.2873 - accuracy: 0.8021\n",
            "313/313 [==============================] - 1s 2ms/step - loss: 2.2558 - accuracy: 0.8547\n",
            "313/313 [==============================] - 1s 2ms/step - loss: 2.5114 - accuracy: 0.8711\n",
            "Gen 2, Best Individual: Individual:  (784, 512) (512,) (512, 10) (10,); Fitness: 1.693328857421875\n",
            "\n",
            "313/313 [==============================] - 1s 2ms/step - loss: 2.5325 - accuracy: 0.8667\n",
            "313/313 [==============================] - 1s 2ms/step - loss: 2.0018 - accuracy: 0.8666\n",
            "313/313 [==============================] - 1s 2ms/step - loss: 4.7064 - accuracy: 0.6945\n",
            "313/313 [==============================] - 1s 2ms/step - loss: 2.4821 - accuracy: 0.8145\n",
            "313/313 [==============================] - 1s 2ms/step - loss: 3.0742 - accuracy: 0.7984\n",
            "313/313 [==============================] - 1s 2ms/step - loss: 1.9523 - accuracy: 0.8716\n",
            "313/313 [==============================] - 1s 2ms/step - loss: 2.4955 - accuracy: 0.8513\n",
            "313/313 [==============================] - 1s 2ms/step - loss: 2.0034 - accuracy: 0.8809\n",
            "313/313 [==============================] - 1s 2ms/step - loss: 1.4536 - accuracy: 0.8916\n",
            "313/313 [==============================] - 1s 2ms/step - loss: 2.1727 - accuracy: 0.8581\n",
            "Gen 3, Best Individual: Individual:  (784, 512) (512,) (512, 10) (10,); Fitness: 1.4536378383636475\n",
            "\n",
            "313/313 [==============================] - 1s 2ms/step - loss: 3.2687 - accuracy: 0.8063\n",
            "313/313 [==============================] - 1s 2ms/step - loss: 4.0262 - accuracy: 0.7889\n",
            "313/313 [==============================] - 1s 2ms/step - loss: 2.7284 - accuracy: 0.8425\n",
            "313/313 [==============================] - 1s 2ms/step - loss: 1.4868 - accuracy: 0.8923\n",
            "313/313 [==============================] - 1s 2ms/step - loss: 1.5958 - accuracy: 0.8934\n",
            "313/313 [==============================] - 1s 2ms/step - loss: 7.1670 - accuracy: 0.6840\n",
            "313/313 [==============================] - 1s 2ms/step - loss: 1.5187 - accuracy: 0.8927\n",
            "313/313 [==============================] - 1s 2ms/step - loss: 3.3098 - accuracy: 0.8199\n",
            "313/313 [==============================] - 1s 2ms/step - loss: 2.4324 - accuracy: 0.8570\n",
            "313/313 [==============================] - 1s 2ms/step - loss: 2.0445 - accuracy: 0.8609\n",
            "Gen 4, Best Individual: Individual:  (784, 512) (512,) (512, 10) (10,); Fitness: 1.4536378383636475\n",
            "\n",
            "313/313 [==============================] - 1s 3ms/step - loss: 3.7140 - accuracy: 0.8090\n",
            "313/313 [==============================] - 1s 2ms/step - loss: 2.4958 - accuracy: 0.8590\n",
            "313/313 [==============================] - 1s 2ms/step - loss: 2.1403 - accuracy: 0.8554\n",
            "313/313 [==============================] - 1s 2ms/step - loss: 1.5736 - accuracy: 0.8920\n",
            "313/313 [==============================] - 1s 2ms/step - loss: 4.0731 - accuracy: 0.7706\n",
            "313/313 [==============================] - 1s 2ms/step - loss: 2.0218 - accuracy: 0.8641\n",
            "313/313 [==============================] - 1s 2ms/step - loss: 2.0704 - accuracy: 0.8636\n",
            "313/313 [==============================] - 1s 2ms/step - loss: 1.7764 - accuracy: 0.8806\n",
            "313/313 [==============================] - 1s 2ms/step - loss: 4.7445 - accuracy: 0.7497\n",
            "313/313 [==============================] - 1s 2ms/step - loss: 2.2821 - accuracy: 0.8601\n",
            "Gen 5, Best Individual: Individual:  (784, 512) (512,) (512, 10) (10,); Fitness: 1.4536378383636475\n",
            "\n",
            "313/313 [==============================] - 1s 2ms/step - loss: 2.5098 - accuracy: 0.8461\n",
            "313/313 [==============================] - 1s 2ms/step - loss: 2.3172 - accuracy: 0.8599\n",
            "313/313 [==============================] - 1s 2ms/step - loss: 2.3343 - accuracy: 0.8350\n",
            "313/313 [==============================] - 1s 2ms/step - loss: 1.6115 - accuracy: 0.8778\n",
            "313/313 [==============================] - 1s 2ms/step - loss: 5.2018 - accuracy: 0.7813\n",
            "313/313 [==============================] - 1s 2ms/step - loss: 1.5395 - accuracy: 0.8930\n",
            "313/313 [==============================] - 1s 2ms/step - loss: 2.9859 - accuracy: 0.8186\n",
            "313/313 [==============================] - 1s 2ms/step - loss: 1.9549 - accuracy: 0.8708\n",
            "313/313 [==============================] - 1s 2ms/step - loss: 2.7517 - accuracy: 0.8341\n",
            "313/313 [==============================] - 1s 2ms/step - loss: 1.4994 - accuracy: 0.9000\n",
            "Gen 6, Best Individual: Individual:  (784, 512) (512,) (512, 10) (10,); Fitness: 1.4536378383636475\n",
            "\n",
            "313/313 [==============================] - 1s 2ms/step - loss: 2.0458 - accuracy: 0.8710\n",
            "313/313 [==============================] - 1s 2ms/step - loss: 1.9271 - accuracy: 0.8687\n",
            "313/313 [==============================] - 1s 2ms/step - loss: 1.7575 - accuracy: 0.8825\n",
            "313/313 [==============================] - 1s 2ms/step - loss: 1.9422 - accuracy: 0.8737\n",
            "313/313 [==============================] - 1s 2ms/step - loss: 2.0691 - accuracy: 0.8597\n",
            "313/313 [==============================] - 1s 2ms/step - loss: 2.2683 - accuracy: 0.8516\n",
            "313/313 [==============================] - 1s 2ms/step - loss: 2.1143 - accuracy: 0.8713\n",
            "313/313 [==============================] - 1s 2ms/step - loss: 2.3899 - accuracy: 0.8555\n",
            "313/313 [==============================] - 1s 2ms/step - loss: 2.0661 - accuracy: 0.8588\n",
            "313/313 [==============================] - 1s 2ms/step - loss: 2.4846 - accuracy: 0.8310\n",
            "Gen 7, Best Individual: Individual:  (784, 512) (512,) (512, 10) (10,); Fitness: 1.4536378383636475\n",
            "\n",
            "313/313 [==============================] - 1s 2ms/step - loss: 2.1025 - accuracy: 0.8655\n",
            "313/313 [==============================] - 1s 2ms/step - loss: 2.8061 - accuracy: 0.8346\n",
            "313/313 [==============================] - 1s 2ms/step - loss: 2.5941 - accuracy: 0.8340\n",
            "313/313 [==============================] - 1s 2ms/step - loss: 2.1312 - accuracy: 0.8698\n",
            "313/313 [==============================] - 1s 2ms/step - loss: 3.4373 - accuracy: 0.8223\n",
            "313/313 [==============================] - 1s 2ms/step - loss: 1.8843 - accuracy: 0.8641\n",
            "313/313 [==============================] - 1s 2ms/step - loss: 1.9806 - accuracy: 0.8845\n",
            "313/313 [==============================] - 1s 2ms/step - loss: 1.8913 - accuracy: 0.8707\n",
            "313/313 [==============================] - 1s 2ms/step - loss: 1.6628 - accuracy: 0.8930\n",
            "313/313 [==============================] - 1s 3ms/step - loss: 2.4210 - accuracy: 0.8465\n",
            "Gen 8, Best Individual: Individual:  (784, 512) (512,) (512, 10) (10,); Fitness: 1.4536378383636475\n",
            "\n",
            "313/313 [==============================] - 1s 2ms/step - loss: 2.2588 - accuracy: 0.8585\n",
            "313/313 [==============================] - 1s 2ms/step - loss: 2.1880 - accuracy: 0.8644\n",
            "313/313 [==============================] - 1s 2ms/step - loss: 2.6824 - accuracy: 0.8416\n",
            "313/313 [==============================] - 1s 2ms/step - loss: 1.7888 - accuracy: 0.8833\n",
            "313/313 [==============================] - 1s 2ms/step - loss: 2.3334 - accuracy: 0.8583\n",
            "313/313 [==============================] - 1s 2ms/step - loss: 2.1684 - accuracy: 0.8575\n",
            "313/313 [==============================] - 1s 2ms/step - loss: 2.2219 - accuracy: 0.8667\n",
            "313/313 [==============================] - 1s 2ms/step - loss: 2.9350 - accuracy: 0.8114\n",
            "313/313 [==============================] - 1s 2ms/step - loss: 1.6978 - accuracy: 0.8880\n",
            "313/313 [==============================] - 1s 2ms/step - loss: 2.2545 - accuracy: 0.8491\n",
            "Gen 9, Best Individual: Individual:  (784, 512) (512,) (512, 10) (10,); Fitness: 1.4536378383636475\n",
            "\n",
            "313/313 [==============================] - 1s 2ms/step - loss: 1.6285 - accuracy: 0.8837\n",
            "313/313 [==============================] - 1s 2ms/step - loss: 2.4019 - accuracy: 0.8492\n",
            "313/313 [==============================] - 1s 3ms/step - loss: 1.8042 - accuracy: 0.8826\n",
            "313/313 [==============================] - 1s 2ms/step - loss: 3.4417 - accuracy: 0.8022\n",
            "313/313 [==============================] - 1s 2ms/step - loss: 2.0260 - accuracy: 0.8750\n",
            "313/313 [==============================] - 1s 2ms/step - loss: 2.7452 - accuracy: 0.8294\n",
            "313/313 [==============================] - 1s 2ms/step - loss: 1.8677 - accuracy: 0.8665\n",
            "313/313 [==============================] - 1s 2ms/step - loss: 2.9570 - accuracy: 0.8161\n",
            "313/313 [==============================] - 1s 2ms/step - loss: 1.3732 - accuracy: 0.9092\n",
            "313/313 [==============================] - 1s 2ms/step - loss: 1.7398 - accuracy: 0.8894\n",
            "Gen 10, Best Individual: Individual:  (784, 512) (512,) (512, 10) (10,); Fitness: 1.3731932640075684\n",
            "\n",
            "Running GA iteration: 10\n",
            "313/313 [==============================] - 1s 2ms/step - loss: 2.1114 - accuracy: 0.8827\n",
            "313/313 [==============================] - 1s 2ms/step - loss: 2.7901 - accuracy: 0.8704\n",
            "313/313 [==============================] - 1s 2ms/step - loss: 2.9149 - accuracy: 0.8491\n",
            "313/313 [==============================] - 1s 2ms/step - loss: 1.9647 - accuracy: 0.8980\n",
            "313/313 [==============================] - 1s 2ms/step - loss: 2.3518 - accuracy: 0.8760\n",
            "313/313 [==============================] - 1s 2ms/step - loss: 2.2351 - accuracy: 0.8752\n",
            "313/313 [==============================] - 1s 2ms/step - loss: 2.0420 - accuracy: 0.8856\n",
            "313/313 [==============================] - 1s 2ms/step - loss: 3.4505 - accuracy: 0.8334\n",
            "313/313 [==============================] - 1s 2ms/step - loss: 5.2041 - accuracy: 0.7633\n",
            "313/313 [==============================] - 1s 3ms/step - loss: 1.8500 - accuracy: 0.8973\n",
            "313/313 [==============================] - 1s 2ms/step - loss: 2.7304 - accuracy: 0.8578\n",
            "313/313 [==============================] - 1s 2ms/step - loss: 5.1240 - accuracy: 0.7765\n",
            "313/313 [==============================] - 1s 2ms/step - loss: 2.3861 - accuracy: 0.8741\n",
            "313/313 [==============================] - 1s 2ms/step - loss: 2.2972 - accuracy: 0.8757\n",
            "313/313 [==============================] - 1s 2ms/step - loss: 2.6590 - accuracy: 0.8589\n",
            "313/313 [==============================] - 1s 2ms/step - loss: 2.1329 - accuracy: 0.8905\n",
            "313/313 [==============================] - 1s 2ms/step - loss: 2.3378 - accuracy: 0.8794\n",
            "313/313 [==============================] - 1s 2ms/step - loss: 2.3667 - accuracy: 0.8748\n",
            "313/313 [==============================] - 1s 2ms/step - loss: 2.1092 - accuracy: 0.8891\n",
            "313/313 [==============================] - 1s 2ms/step - loss: 2.8529 - accuracy: 0.8410\n",
            "Gen 1, Best Individual: Individual:  (784, 512) (512,) (512, 10) (10,); Fitness: 1.8499832153320312\n",
            "\n",
            "313/313 [==============================] - 1s 2ms/step - loss: 2.3026 - accuracy: 0.8621\n",
            "313/313 [==============================] - 1s 2ms/step - loss: 2.2703 - accuracy: 0.8641\n",
            "313/313 [==============================] - 1s 3ms/step - loss: 2.7538 - accuracy: 0.8555\n",
            "313/313 [==============================] - 1s 2ms/step - loss: 3.1543 - accuracy: 0.8435\n",
            "313/313 [==============================] - 1s 3ms/step - loss: 2.8931 - accuracy: 0.8433\n",
            "313/313 [==============================] - 1s 2ms/step - loss: 2.9096 - accuracy: 0.8451\n",
            "313/313 [==============================] - 1s 3ms/step - loss: 1.9766 - accuracy: 0.8876\n",
            "313/313 [==============================] - 1s 2ms/step - loss: 3.7397 - accuracy: 0.7750\n",
            "313/313 [==============================] - 1s 2ms/step - loss: 3.3492 - accuracy: 0.8446\n",
            "313/313 [==============================] - 1s 2ms/step - loss: 3.6786 - accuracy: 0.8348\n",
            "Gen 2, Best Individual: Individual:  (784, 512) (512,) (512, 10) (10,); Fitness: 1.8499832153320312\n",
            "\n",
            "313/313 [==============================] - 1s 2ms/step - loss: 3.1526 - accuracy: 0.8590\n",
            "313/313 [==============================] - 1s 2ms/step - loss: 4.3269 - accuracy: 0.7621\n",
            "313/313 [==============================] - 1s 2ms/step - loss: 2.8392 - accuracy: 0.8483\n",
            "313/313 [==============================] - 1s 2ms/step - loss: 2.2912 - accuracy: 0.8784\n",
            "313/313 [==============================] - 1s 2ms/step - loss: 3.2234 - accuracy: 0.8245\n",
            "313/313 [==============================] - 1s 2ms/step - loss: 3.9366 - accuracy: 0.8001\n",
            "313/313 [==============================] - 1s 2ms/step - loss: 1.8418 - accuracy: 0.9045\n",
            "313/313 [==============================] - 1s 2ms/step - loss: 2.2456 - accuracy: 0.8691\n",
            "313/313 [==============================] - 1s 2ms/step - loss: 2.6749 - accuracy: 0.8572\n",
            "313/313 [==============================] - 1s 2ms/step - loss: 2.8769 - accuracy: 0.8399\n",
            "Gen 3, Best Individual: Individual:  (784, 512) (512,) (512, 10) (10,); Fitness: 1.841765284538269\n",
            "\n",
            "313/313 [==============================] - 1s 2ms/step - loss: 2.6449 - accuracy: 0.8500\n",
            "313/313 [==============================] - 1s 2ms/step - loss: 2.1835 - accuracy: 0.8847\n",
            "313/313 [==============================] - 1s 2ms/step - loss: 2.7119 - accuracy: 0.8551\n",
            "313/313 [==============================] - 1s 2ms/step - loss: 2.6120 - accuracy: 0.8574\n",
            "313/313 [==============================] - 1s 2ms/step - loss: 2.5057 - accuracy: 0.8642\n",
            "313/313 [==============================] - 1s 2ms/step - loss: 2.9076 - accuracy: 0.8451\n",
            "313/313 [==============================] - 1s 2ms/step - loss: 1.9208 - accuracy: 0.8972\n",
            "313/313 [==============================] - 1s 2ms/step - loss: 4.5559 - accuracy: 0.7671\n",
            "313/313 [==============================] - 1s 2ms/step - loss: 3.1598 - accuracy: 0.8325\n",
            "313/313 [==============================] - 1s 2ms/step - loss: 4.2633 - accuracy: 0.7983\n",
            "Gen 4, Best Individual: Individual:  (784, 512) (512,) (512, 10) (10,); Fitness: 1.841765284538269\n",
            "\n",
            "313/313 [==============================] - 1s 2ms/step - loss: 2.4087 - accuracy: 0.8766\n",
            "313/313 [==============================] - 1s 2ms/step - loss: 2.6764 - accuracy: 0.8560\n",
            "313/313 [==============================] - 1s 3ms/step - loss: 3.4465 - accuracy: 0.8117\n",
            "313/313 [==============================] - 1s 2ms/step - loss: 2.3028 - accuracy: 0.8655\n",
            "313/313 [==============================] - 1s 2ms/step - loss: 2.3332 - accuracy: 0.8731\n",
            "313/313 [==============================] - 1s 2ms/step - loss: 1.8825 - accuracy: 0.9021\n",
            "313/313 [==============================] - 1s 2ms/step - loss: 2.0718 - accuracy: 0.8916\n",
            "313/313 [==============================] - 1s 2ms/step - loss: 2.5747 - accuracy: 0.8583\n",
            "313/313 [==============================] - 1s 2ms/step - loss: 2.5688 - accuracy: 0.8700\n",
            "313/313 [==============================] - 1s 2ms/step - loss: 2.6775 - accuracy: 0.8687\n",
            "Gen 5, Best Individual: Individual:  (784, 512) (512,) (512, 10) (10,); Fitness: 1.841765284538269\n",
            "\n",
            "313/313 [==============================] - 1s 2ms/step - loss: 2.3281 - accuracy: 0.8585\n",
            "313/313 [==============================] - 1s 2ms/step - loss: 2.2401 - accuracy: 0.8810\n",
            "313/313 [==============================] - 1s 2ms/step - loss: 1.9621 - accuracy: 0.8976\n",
            "313/313 [==============================] - 1s 2ms/step - loss: 2.4864 - accuracy: 0.8684\n",
            "313/313 [==============================] - 1s 2ms/step - loss: 2.6907 - accuracy: 0.8524\n",
            "313/313 [==============================] - 1s 2ms/step - loss: 2.3294 - accuracy: 0.8832\n",
            "313/313 [==============================] - 1s 2ms/step - loss: 2.7164 - accuracy: 0.8639\n",
            "313/313 [==============================] - 1s 2ms/step - loss: 2.6887 - accuracy: 0.8464\n",
            "313/313 [==============================] - 1s 2ms/step - loss: 2.2492 - accuracy: 0.8688\n",
            "313/313 [==============================] - 1s 3ms/step - loss: 2.5568 - accuracy: 0.8498\n",
            "Gen 6, Best Individual: Individual:  (784, 512) (512,) (512, 10) (10,); Fitness: 1.841765284538269\n",
            "\n",
            "313/313 [==============================] - 1s 2ms/step - loss: 2.1095 - accuracy: 0.8809\n",
            "313/313 [==============================] - 1s 2ms/step - loss: 2.4927 - accuracy: 0.8635\n",
            "313/313 [==============================] - 1s 2ms/step - loss: 2.6337 - accuracy: 0.8615\n",
            "313/313 [==============================] - 1s 2ms/step - loss: 2.3930 - accuracy: 0.8605\n",
            "313/313 [==============================] - 1s 2ms/step - loss: 2.7546 - accuracy: 0.8473\n",
            "313/313 [==============================] - 1s 2ms/step - loss: 2.4349 - accuracy: 0.8680\n",
            "313/313 [==============================] - 1s 2ms/step - loss: 2.8214 - accuracy: 0.8448\n",
            "313/313 [==============================] - 1s 2ms/step - loss: 1.7806 - accuracy: 0.8973\n",
            "313/313 [==============================] - 1s 3ms/step - loss: 1.9503 - accuracy: 0.8825\n",
            "313/313 [==============================] - 1s 2ms/step - loss: 1.8905 - accuracy: 0.8869\n",
            "Gen 7, Best Individual: Individual:  (784, 512) (512,) (512, 10) (10,); Fitness: 1.7806185483932495\n",
            "\n",
            "313/313 [==============================] - 1s 2ms/step - loss: 1.7739 - accuracy: 0.8975\n",
            "313/313 [==============================] - 1s 2ms/step - loss: 2.2991 - accuracy: 0.8667\n",
            "313/313 [==============================] - 1s 2ms/step - loss: 2.7305 - accuracy: 0.8583\n",
            "313/313 [==============================] - 1s 2ms/step - loss: 1.6562 - accuracy: 0.9089\n",
            "313/313 [==============================] - 1s 2ms/step - loss: 5.6978 - accuracy: 0.7257\n",
            "313/313 [==============================] - 1s 2ms/step - loss: 2.6678 - accuracy: 0.8622\n",
            "313/313 [==============================] - 1s 2ms/step - loss: 4.0550 - accuracy: 0.7978\n",
            "313/313 [==============================] - 1s 2ms/step - loss: 2.5293 - accuracy: 0.8590\n",
            "313/313 [==============================] - 1s 2ms/step - loss: 3.3871 - accuracy: 0.8282\n",
            "313/313 [==============================] - 1s 2ms/step - loss: 4.7196 - accuracy: 0.7913\n",
            "Gen 8, Best Individual: Individual:  (784, 512) (512,) (512, 10) (10,); Fitness: 1.656150221824646\n",
            "\n",
            "313/313 [==============================] - 1s 2ms/step - loss: 2.4269 - accuracy: 0.8563\n",
            "313/313 [==============================] - 1s 2ms/step - loss: 2.8787 - accuracy: 0.8380\n",
            "313/313 [==============================] - 1s 2ms/step - loss: 3.8346 - accuracy: 0.8002\n",
            "313/313 [==============================] - 1s 2ms/step - loss: 2.0802 - accuracy: 0.8816\n",
            "313/313 [==============================] - 1s 2ms/step - loss: 2.8046 - accuracy: 0.8506\n",
            "313/313 [==============================] - 1s 2ms/step - loss: 2.9636 - accuracy: 0.8271\n",
            "313/313 [==============================] - 1s 2ms/step - loss: 1.7675 - accuracy: 0.8999\n",
            "313/313 [==============================] - 1s 3ms/step - loss: 2.7558 - accuracy: 0.8532\n",
            "313/313 [==============================] - 1s 2ms/step - loss: 2.5574 - accuracy: 0.8647\n",
            "313/313 [==============================] - 1s 3ms/step - loss: 2.8219 - accuracy: 0.8683\n",
            "Gen 9, Best Individual: Individual:  (784, 512) (512,) (512, 10) (10,); Fitness: 1.656150221824646\n",
            "\n",
            "313/313 [==============================] - 1s 2ms/step - loss: 2.2032 - accuracy: 0.8787\n",
            "313/313 [==============================] - 1s 2ms/step - loss: 4.2089 - accuracy: 0.7877\n",
            "313/313 [==============================] - 1s 2ms/step - loss: 4.3685 - accuracy: 0.8111\n",
            "313/313 [==============================] - 1s 2ms/step - loss: 2.0443 - accuracy: 0.8804\n",
            "313/313 [==============================] - 1s 2ms/step - loss: 1.9124 - accuracy: 0.8952\n",
            "313/313 [==============================] - 1s 2ms/step - loss: 3.6857 - accuracy: 0.8164\n",
            "313/313 [==============================] - 1s 2ms/step - loss: 2.3640 - accuracy: 0.8671\n",
            "313/313 [==============================] - 1s 2ms/step - loss: 2.5011 - accuracy: 0.8446\n",
            "313/313 [==============================] - 1s 2ms/step - loss: 2.3454 - accuracy: 0.8793\n",
            "313/313 [==============================] - 1s 2ms/step - loss: 4.5610 - accuracy: 0.7861\n",
            "Gen 10, Best Individual: Individual:  (784, 512) (512,) (512, 10) (10,); Fitness: 1.656150221824646\n",
            "\n"
          ]
        }
      ]
    },
    {
      "cell_type": "markdown",
      "source": [
        "### arithmetic_mutation with xo_prob 90% and mut_prob 30%"
      ],
      "metadata": {
        "id": "AJYX-1NH8pAN"
      }
    },
    {
      "cell_type": "code",
      "source": [
        "all_runs_best_fitness = []\n",
        "run_evolution(run = 10, pop_size = 20, gens = 20, select = tournament_sel, crossover= arithmetic_xo, mutate= arithmetic_mutation,\n",
        "              xo_prob= 0.9, mut_prob= 0.1, elitism= True, tourn_size= 4, filename = 'toun_4_inversion_90_30.csv')"
      ],
      "metadata": {
        "id": "EqgeHcyo8phR"
      },
      "execution_count": null,
      "outputs": []
    }
  ]
}